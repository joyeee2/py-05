{
  "nbformat": 4,
  "nbformat_minor": 0,
  "metadata": {
    "colab": {
      "name": "wk02_variables.ipynb의 사본",
      "version": "0.3.2",
      "provenance": [],
      "include_colab_link": true
    },
    "kernelspec": {
      "name": "python3",
      "display_name": "Python 3"
    }
  },
  "cells": [
    {
      "cell_type": "markdown",
      "metadata": {
        "id": "view-in-github",
        "colab_type": "text"
      },
      "source": [
        "[View in Colaboratory](https://colab.research.google.com/github/joyeee2/py-05/blob/master/wk02_variables.ipynb)"
      ]
    },
    {
      "metadata": {
        "id": "s9NcdSVu7zVY",
        "colab_type": "toc"
      },
      "cell_type": "markdown",
      "source": [
        ">>[변수(variables)](#updateTitle=true&folderId=1wA7iYrP08zg9JYsUZAXzUHBlhvbPHMHF&scrollTo=dxgmVSWhqZpB)\n",
        "\n",
        ">>[여러 행 문자열(\"\"\" ~~ \"\"\")](#updateTitle=true&folderId=1wA7iYrP08zg9JYsUZAXzUHBlhvbPHMHF&scrollTo=mPUZAhHktbIx)\n",
        "\n",
        ">>[여러 행 수식](#updateTitle=true&folderId=1wA7iYrP08zg9JYsUZAXzUHBlhvbPHMHF&scrollTo=PxM5wU7_t8NI)\n",
        "\n",
        ">>[숫자와 문자열 처리](#updateTitle=true&folderId=1wA7iYrP08zg9JYsUZAXzUHBlhvbPHMHF&scrollTo=l_4p5ctWuLUB)\n",
        "\n",
        ">>[변수 type](#updateTitle=true&folderId=1wA7iYrP08zg9JYsUZAXzUHBlhvbPHMHF&scrollTo=N1uXeAOZvFgQ)\n",
        "\n",
        ">>[문자열을 숫자로 변환 : int(), float() -> 강제적인 형변환](#updateTitle=true&folderId=1wA7iYrP08zg9JYsUZAXzUHBlhvbPHMHF&scrollTo=EkJgAilRwhhI)\n",
        "\n",
        ">>[예약어(keywords)](#updateTitle=true&folderId=1wA7iYrP08zg9JYsUZAXzUHBlhvbPHMHF&scrollTo=vX40z0aK0ktB)\n",
        "\n",
        ">>[User input](#updateTitle=true&folderId=1wA7iYrP08zg9JYsUZAXzUHBlhvbPHMHF&scrollTo=Oi-VoaUx1j_R)\n",
        "\n",
        ">>[Code block & Indentation(들여쓰기)](#updateTitle=true&folderId=1wA7iYrP08zg9JYsUZAXzUHBlhvbPHMHF&scrollTo=82GHYJNR1yMg)\n",
        "\n",
        ">>[Indentaton error](#updateTitle=true&folderId=1wA7iYrP08zg9JYsUZAXzUHBlhvbPHMHF&scrollTo=dnGf7wsm3WJ4)\n",
        "\n",
        ">>[도전 코딩 1. BMI = W(kg)/H(m)^2](#updateTitle=true&folderId=1wA7iYrP08zg9JYsUZAXzUHBlhvbPHMHF&scrollTo=JCP2peV43l_4)\n",
        "\n",
        ">>[도전코딩 2 Burning fat by jogging](#updateTitle=true&folderId=1wA7iYrP08zg9JYsUZAXzUHBlhvbPHMHF&scrollTo=1O8q6KqL5eux)\n",
        "\n"
      ]
    },
    {
      "metadata": {
        "id": "dxgmVSWhqZpB",
        "colab_type": "text"
      },
      "cell_type": "markdown",
      "source": [
        "## 변수(variables)\n"
      ]
    },
    {
      "metadata": {
        "id": "lt52Gdyxp_Dr",
        "colab_type": "code",
        "colab": {
          "base_uri": "https://localhost:8080/",
          "height": 35
        },
        "outputId": "9967edb7-1e9f-4720-feb3-070a36ac7774"
      },
      "cell_type": "code",
      "source": [
        "5-5+1+9"
      ],
      "execution_count": 0,
      "outputs": [
        {
          "output_type": "execute_result",
          "data": {
            "text/plain": [
              "10"
            ]
          },
          "metadata": {
            "tags": []
          },
          "execution_count": 1
        }
      ]
    },
    {
      "metadata": {
        "id": "OdLV-7O4q2g5",
        "colab_type": "code",
        "colab": {
          "base_uri": "https://localhost:8080/",
          "height": 35
        },
        "outputId": "c2fea623-0fe9-434e-9f9c-6ea05f28a6bb"
      },
      "cell_type": "code",
      "source": [
        "5/5/3 + 9"
      ],
      "execution_count": 0,
      "outputs": [
        {
          "output_type": "execute_result",
          "data": {
            "text/plain": [
              "9.333333333333334"
            ]
          },
          "metadata": {
            "tags": []
          },
          "execution_count": 2
        }
      ]
    },
    {
      "metadata": {
        "id": "CNSUCXPdrJ8Y",
        "colab_type": "code",
        "colab": {
          "base_uri": "https://localhost:8080/",
          "height": 35
        },
        "outputId": "780ddea5-d5df-449e-c71d-c04d6f9e860f"
      },
      "cell_type": "code",
      "source": [
        "5/(5/3) + 9"
      ],
      "execution_count": 0,
      "outputs": [
        {
          "output_type": "execute_result",
          "data": {
            "text/plain": [
              "12.0"
            ]
          },
          "metadata": {
            "tags": []
          },
          "execution_count": 5
        }
      ]
    },
    {
      "metadata": {
        "id": "p04tIw-qrMEK",
        "colab_type": "code",
        "colab": {
          "base_uri": "https://localhost:8080/",
          "height": 35
        },
        "outputId": "f96b0ac3-6de9-4fde-acad-2e3350234061"
      },
      "cell_type": "code",
      "source": [
        "5/5*1+9"
      ],
      "execution_count": 0,
      "outputs": [
        {
          "output_type": "execute_result",
          "data": {
            "text/plain": [
              "10.0"
            ]
          },
          "metadata": {
            "tags": []
          },
          "execution_count": 6
        }
      ]
    },
    {
      "metadata": {
        "id": "AXPsRE9ura3S",
        "colab_type": "code",
        "colab": {
          "base_uri": "https://localhost:8080/",
          "height": 35
        },
        "outputId": "00ea8da6-8d98-47c7-a9a7-0c834696578a"
      },
      "cell_type": "code",
      "source": [
        "5/5*(1+9)"
      ],
      "execution_count": 0,
      "outputs": [
        {
          "output_type": "execute_result",
          "data": {
            "text/plain": [
              "10.0"
            ]
          },
          "metadata": {
            "tags": []
          },
          "execution_count": 7
        }
      ]
    },
    {
      "metadata": {
        "id": "bYft5fiorefr",
        "colab_type": "code",
        "colab": {}
      },
      "cell_type": "code",
      "source": [
        "some_var = 100\n",
        "\n",
        "some_var = \"강남스타일\""
      ],
      "execution_count": 0,
      "outputs": []
    },
    {
      "metadata": {
        "id": "hl8rWvrVsZUc",
        "colab_type": "code",
        "colab": {
          "base_uri": "https://localhost:8080/",
          "height": 35
        },
        "outputId": "fa260130-662d-4bb0-af8f-c92d8ffa3400"
      },
      "cell_type": "code",
      "source": [
        "some_var"
      ],
      "execution_count": 0,
      "outputs": [
        {
          "output_type": "execute_result",
          "data": {
            "text/plain": [
              "'강남스타일'"
            ]
          },
          "metadata": {
            "tags": []
          },
          "execution_count": 9
        }
      ]
    },
    {
      "metadata": {
        "id": "mMYPZQaksfRV",
        "colab_type": "code",
        "colab": {}
      },
      "cell_type": "code",
      "source": [
        "psy = \"오빤 강남스타일\" # 문자열을 변수에 할당"
      ],
      "execution_count": 0,
      "outputs": []
    },
    {
      "metadata": {
        "id": "693h8_Nvstvw",
        "colab_type": "code",
        "colab": {
          "base_uri": "https://localhost:8080/",
          "height": 35
        },
        "outputId": "e6edd345-353e-417f-eedf-aca03dd8cce2"
      },
      "cell_type": "code",
      "source": [
        "# 문자열을 연결\n",
        "psy = \"오빤 강남스타일 \"\n",
        "psy = psy+\"오, 강남스타일\"\n",
        "psy   # 연결 문자열을 확인"
      ],
      "execution_count": 0,
      "outputs": [
        {
          "output_type": "execute_result",
          "data": {
            "text/plain": [
              "'오빤 강남스타일 오, 강남스타일'"
            ]
          },
          "metadata": {
            "tags": []
          },
          "execution_count": 13
        }
      ]
    },
    {
      "metadata": {
        "id": "ZdijkJFcs9ab",
        "colab_type": "code",
        "colab": {
          "base_uri": "https://localhost:8080/",
          "height": 35
        },
        "outputId": "71788ae6-a497-43f7-b13a-6ea58ee06fda"
      },
      "cell_type": "code",
      "source": [
        "# 복합 연산자를 사용해 보자\n",
        "psy2 = \"아름다워 사랑스러워 \"\n",
        "psy2 += \"그래 너, 그래 바로 너\"\n",
        "psy2   # 복합 연산자를 사용하여 연결 문자열을 확인"
      ],
      "execution_count": 0,
      "outputs": [
        {
          "output_type": "execute_result",
          "data": {
            "text/plain": [
              "'아름다워 사랑스러워 그래 너, 그래 바로 너'"
            ]
          },
          "metadata": {
            "tags": []
          },
          "execution_count": 12
        }
      ]
    },
    {
      "metadata": {
        "id": "mPUZAhHktbIx",
        "colab_type": "text"
      },
      "cell_type": "markdown",
      "source": [
        "## 여러 행 문자열(\"\"\" ~~ \"\"\")"
      ]
    },
    {
      "metadata": {
        "id": "7ZyWA0I3tHC4",
        "colab_type": "code",
        "colab": {
          "base_uri": "https://localhost:8080/",
          "height": 35
        },
        "outputId": "037a9ae2-3b73-47b1-9709-165c737606c6"
      },
      "cell_type": "code",
      "source": [
        "# 따옴표를 세 개 겹친 삼충 따옴표를 사용하면 줄 바꿈을 포함하는 문자열을 정의할 수 있다.\n",
        "\n",
        "psy = \"\"\"낮에는 따사로운 인간적인 여자 \n",
        "커피 한잔의 여유를 아는 품격있는 여자 \n",
        "밤이 오면 심장이 뜨거워지는 여자 그런 반전 있는 여자 \"\"\"\n",
        "psy"
      ],
      "execution_count": 0,
      "outputs": [
        {
          "output_type": "execute_result",
          "data": {
            "text/plain": [
              "'낮에는 따사로운 인간적인 여자 \\n커피 한잔의 여유를 아는 품격있는 여자 \\n밤이 오면 심장이 뜨거워지는 여자 그런 반전 있는 여자 '"
            ]
          },
          "metadata": {
            "tags": []
          },
          "execution_count": 17
        }
      ]
    },
    {
      "metadata": {
        "id": "niHBpRyUtt-l",
        "colab_type": "code",
        "colab": {
          "base_uri": "https://localhost:8080/",
          "height": 72
        },
        "outputId": "798dae02-00a3-4199-c981-0fe623854f91"
      },
      "cell_type": "code",
      "source": [
        "print(psy)"
      ],
      "execution_count": 0,
      "outputs": [
        {
          "output_type": "stream",
          "text": [
            "낮에는 따사로운 인간적인 여자 \n",
            "커피 한잔의 여유를 아는 품격있는 여자 \n",
            "밤이 오면 심장이 뜨거워지는 여자 그런 반전 있는 여자 \n"
          ],
          "name": "stdout"
        }
      ]
    },
    {
      "metadata": {
        "id": "PxM5wU7_t8NI",
        "colab_type": "text"
      },
      "cell_type": "markdown",
      "source": [
        "## 여러 행 수식"
      ]
    },
    {
      "metadata": {
        "id": "sFiz5QpQt42n",
        "colab_type": "code",
        "colab": {
          "base_uri": "https://localhost:8080/",
          "height": 35
        },
        "outputId": "a0a548d5-bb1f-470d-8e3b-4fdf1e70852a"
      },
      "cell_type": "code",
      "source": [
        "sum = 10 + 20 + \\    # 역슬래시 하고 입력하면 한줄으로 인식\n",
        "30 + 40\n",
        "sum"
      ],
      "execution_count": 0,
      "outputs": [
        {
          "output_type": "execute_result",
          "data": {
            "text/plain": [
              "100"
            ]
          },
          "metadata": {
            "tags": []
          },
          "execution_count": 19
        }
      ]
    },
    {
      "metadata": {
        "id": "l_4p5ctWuLUB",
        "colab_type": "text"
      },
      "cell_type": "markdown",
      "source": [
        "## 숫자와 문자열 처리"
      ]
    },
    {
      "metadata": {
        "id": "qGeF_1NxuFOQ",
        "colab_type": "code",
        "colab": {
          "base_uri": "https://localhost:8080/",
          "height": 227
        },
        "outputId": "06f3f8d8-34b1-4892-ce02-1eb50ff875f9"
      },
      "cell_type": "code",
      "source": [
        "day = 3\n",
        "date = day + \" 일\"\n",
        "print(data)\n",
        "# 숫자와 문자열을 더할 때, 앞의 숫자를 str로 변경해줄것!"
      ],
      "execution_count": 0,
      "outputs": [
        {
          "output_type": "error",
          "ename": "TypeError",
          "evalue": "ignored",
          "traceback": [
            "\u001b[0;31m---------------------------------------------------------------------------\u001b[0m",
            "\u001b[0;31mTypeError\u001b[0m                                 Traceback (most recent call last)",
            "\u001b[0;32m<ipython-input-23-e091f7b6a66d>\u001b[0m in \u001b[0;36m<module>\u001b[0;34m()\u001b[0m\n\u001b[1;32m      1\u001b[0m \u001b[0mday\u001b[0m \u001b[0;34m=\u001b[0m \u001b[0;36m3\u001b[0m\u001b[0;34m\u001b[0m\u001b[0m\n\u001b[0;32m----> 2\u001b[0;31m \u001b[0mdate\u001b[0m \u001b[0;34m=\u001b[0m \u001b[0mday\u001b[0m \u001b[0;34m+\u001b[0m \u001b[0;34m\" 일\"\u001b[0m\u001b[0;34m\u001b[0m\u001b[0m\n\u001b[0m\u001b[1;32m      3\u001b[0m \u001b[0mprint\u001b[0m\u001b[0;34m(\u001b[0m\u001b[0mdata\u001b[0m\u001b[0;34m)\u001b[0m\u001b[0;34m\u001b[0m\u001b[0m\n\u001b[1;32m      4\u001b[0m \u001b[0;31m# 숫자와 문자열을 더할 때, 앞의 숫자를 str로 변경해줄것!\u001b[0m\u001b[0;34m\u001b[0m\u001b[0;34m\u001b[0m\u001b[0m\n",
            "\u001b[0;31mTypeError\u001b[0m: unsupported operand type(s) for +: 'int' and 'str'"
          ]
        }
      ]
    },
    {
      "metadata": {
        "id": "IcBDrRiLuVbX",
        "colab_type": "code",
        "colab": {
          "base_uri": "https://localhost:8080/",
          "height": 35
        },
        "outputId": "d799842f-edbe-4135-bb87-3959a27859bf"
      },
      "cell_type": "code",
      "source": [
        "date = str(day) + \" 일\"\n",
        "print(date)"
      ],
      "execution_count": 0,
      "outputs": [
        {
          "output_type": "stream",
          "text": [
            "3 일\n"
          ],
          "name": "stdout"
        }
      ]
    },
    {
      "metadata": {
        "id": "-PlCaYzgvLSw",
        "colab_type": "code",
        "colab": {
          "base_uri": "https://localhost:8080/",
          "height": 35
        },
        "outputId": "3abdd7e7-9f6a-48ff-cf1f-18582f985c8f"
      },
      "cell_type": "code",
      "source": [
        "day = 3\n",
        "str_day = str(day)\n",
        "date = str_day + \" 일\"\n",
        "print(date)"
      ],
      "execution_count": 0,
      "outputs": [
        {
          "output_type": "stream",
          "text": [
            "3 일\n"
          ],
          "name": "stdout"
        }
      ]
    },
    {
      "metadata": {
        "id": "N1uXeAOZvFgQ",
        "colab_type": "text"
      },
      "cell_type": "markdown",
      "source": [
        "##  변수 type"
      ]
    },
    {
      "metadata": {
        "id": "FLghjhyyu2_U",
        "colab_type": "code",
        "colab": {
          "base_uri": "https://localhost:8080/",
          "height": 35
        },
        "outputId": "54545539-32fe-4146-e32d-0d164d72bf66"
      },
      "cell_type": "code",
      "source": [
        "# 변수 type\n",
        "type(day)"
      ],
      "execution_count": 0,
      "outputs": [
        {
          "output_type": "execute_result",
          "data": {
            "text/plain": [
              "int"
            ]
          },
          "metadata": {
            "tags": []
          },
          "execution_count": 26
        }
      ]
    },
    {
      "metadata": {
        "id": "1T7pEDBEveX9",
        "colab_type": "code",
        "colab": {
          "base_uri": "https://localhost:8080/",
          "height": 35
        },
        "outputId": "073d2a05-0915-48a1-8d0c-ad792734885c"
      },
      "cell_type": "code",
      "source": [
        "type(day),type(str_day),type(date)"
      ],
      "execution_count": 0,
      "outputs": [
        {
          "output_type": "execute_result",
          "data": {
            "text/plain": [
              "(int, str, str)"
            ]
          },
          "metadata": {
            "tags": []
          },
          "execution_count": 27
        }
      ]
    },
    {
      "metadata": {
        "id": "RE6ac64uvh-k",
        "colab_type": "code",
        "colab": {
          "base_uri": "https://localhost:8080/",
          "height": 1545
        },
        "outputId": "6794058d-cf83-4dd3-c291-dd2f47fddbdd"
      },
      "cell_type": "code",
      "source": [
        " dir()  # 현재 코딩하고 있는 파이썬 환경에서 시스템이 하고있는 변수 다 알려줌"
      ],
      "execution_count": 0,
      "outputs": [
        {
          "output_type": "execute_result",
          "data": {
            "text/plain": [
              "['In',\n",
              " 'Out',\n",
              " '_',\n",
              " '_1',\n",
              " '_11',\n",
              " '_12',\n",
              " '_13',\n",
              " '_14',\n",
              " '_15',\n",
              " '_17',\n",
              " '_19',\n",
              " '_2',\n",
              " '_26',\n",
              " '_27',\n",
              " '_28',\n",
              " '_3',\n",
              " '_4',\n",
              " '_5',\n",
              " '_6',\n",
              " '_7',\n",
              " '_9',\n",
              " '_TensorFlowImportHook',\n",
              " '__',\n",
              " '___',\n",
              " '__builtin__',\n",
              " '__builtins__',\n",
              " '__doc__',\n",
              " '__loader__',\n",
              " '__name__',\n",
              " '__package__',\n",
              " '__spec__',\n",
              " '_dh',\n",
              " '_i',\n",
              " '_i1',\n",
              " '_i10',\n",
              " '_i11',\n",
              " '_i12',\n",
              " '_i13',\n",
              " '_i14',\n",
              " '_i15',\n",
              " '_i16',\n",
              " '_i17',\n",
              " '_i18',\n",
              " '_i19',\n",
              " '_i2',\n",
              " '_i20',\n",
              " '_i21',\n",
              " '_i22',\n",
              " '_i23',\n",
              " '_i24',\n",
              " '_i25',\n",
              " '_i26',\n",
              " '_i27',\n",
              " '_i28',\n",
              " '_i29',\n",
              " '_i3',\n",
              " '_i4',\n",
              " '_i5',\n",
              " '_i6',\n",
              " '_i7',\n",
              " '_i8',\n",
              " '_i9',\n",
              " '_ih',\n",
              " '_ii',\n",
              " '_iii',\n",
              " '_oh',\n",
              " '_sh',\n",
              " 'data',\n",
              " 'date',\n",
              " 'datetime',\n",
              " 'day',\n",
              " 'exit',\n",
              " 'get_ipython',\n",
              " 'imp',\n",
              " 'logging',\n",
              " 'os',\n",
              " 'psy',\n",
              " 'psy2',\n",
              " 'quit',\n",
              " 'register_hook',\n",
              " 'some_var',\n",
              " 'str_day',\n",
              " 'sum',\n",
              " 'sys']"
            ]
          },
          "metadata": {
            "tags": []
          },
          "execution_count": 29
        }
      ]
    },
    {
      "metadata": {
        "id": "EkJgAilRwhhI",
        "colab_type": "text"
      },
      "cell_type": "markdown",
      "source": [
        "## 문자열을 숫자로 변환 : int(), float() -> 강제적인 형변환"
      ]
    },
    {
      "metadata": {
        "id": "jeiYHVl0vj0U",
        "colab_type": "code",
        "colab": {}
      },
      "cell_type": "code",
      "source": [
        "num = int(\"31\")         # 큰따옴표 안에있는것은 문자열\n",
        "pi = float('3.141592')"
      ],
      "execution_count": 0,
      "outputs": []
    },
    {
      "metadata": {
        "id": "t3v__ieDwsap",
        "colab_type": "code",
        "colab": {
          "base_uri": "https://localhost:8080/",
          "height": 35
        },
        "outputId": "1670e1b1-81aa-4b7c-f490-15ed21fd8753"
      },
      "cell_type": "code",
      "source": [
        "# num.pi\n",
        "num"
      ],
      "execution_count": 0,
      "outputs": [
        {
          "output_type": "execute_result",
          "data": {
            "text/plain": [
              "31"
            ]
          },
          "metadata": {
            "tags": []
          },
          "execution_count": 31
        }
      ]
    },
    {
      "metadata": {
        "id": "IDy7Zj6Gwt_Z",
        "colab_type": "code",
        "colab": {
          "base_uri": "https://localhost:8080/",
          "height": 35
        },
        "outputId": "cf7c9756-cb34-431d-ab6f-b7369a7acfe6"
      },
      "cell_type": "code",
      "source": [
        "pi"
      ],
      "execution_count": 0,
      "outputs": [
        {
          "output_type": "execute_result",
          "data": {
            "text/plain": [
              "3.141592"
            ]
          },
          "metadata": {
            "tags": []
          },
          "execution_count": 32
        }
      ]
    },
    {
      "metadata": {
        "id": "4sOy7ybVwvpr",
        "colab_type": "code",
        "colab": {
          "base_uri": "https://localhost:8080/",
          "height": 35
        },
        "outputId": "1cb6c797-9571-43fe-9988-e344fdb72ba3"
      },
      "cell_type": "code",
      "source": [
        "pi,type(pi) # ( _) 구조 -> 튜플"
      ],
      "execution_count": 0,
      "outputs": [
        {
          "output_type": "execute_result",
          "data": {
            "text/plain": [
              "(3.141592, float)"
            ]
          },
          "metadata": {
            "tags": []
          },
          "execution_count": 33
        }
      ]
    },
    {
      "metadata": {
        "id": "vTM-ouCXwx0i",
        "colab_type": "code",
        "colab": {
          "base_uri": "https://localhost:8080/",
          "height": 35
        },
        "outputId": "eb721aad-1111-4e56-969b-9e6fbf0bee2f"
      },
      "cell_type": "code",
      "source": [
        "print(\"num = {}, pi = {}\".format(num,pi)) # { }는 객체, [ ]는 배열을 나타냄"
      ],
      "execution_count": 0,
      "outputs": [
        {
          "output_type": "stream",
          "text": [
            "num = 31, pi = 3.141592\n"
          ],
          "name": "stdout"
        }
      ]
    },
    {
      "metadata": {
        "id": "vX40z0aK0ktB",
        "colab_type": "text"
      },
      "cell_type": "markdown",
      "source": [
        "## 예약어(keywords)"
      ]
    },
    {
      "metadata": {
        "id": "N_zoh8L6xOa5",
        "colab_type": "code",
        "colab": {
          "base_uri": "https://localhost:8080/",
          "height": 35
        },
        "outputId": "8b9a033c-140f-4893-c18c-2aab31fcf6c1"
      },
      "cell_type": "code",
      "source": [
        "import keyword # keyword 모듈 import 해야함\n",
        "\n",
        "# 파이썬의 예약어 수\n",
        "\n",
        "len(keyword.kwlist)"
      ],
      "execution_count": 0,
      "outputs": [
        {
          "output_type": "execute_result",
          "data": {
            "text/plain": [
              "33"
            ]
          },
          "metadata": {
            "tags": []
          },
          "execution_count": 37
        }
      ]
    },
    {
      "metadata": {
        "id": "9SUOpPZe0uQE",
        "colab_type": "code",
        "colab": {
          "base_uri": "https://localhost:8080/",
          "height": 617
        },
        "outputId": "59a7985b-2d3e-4029-97e3-31bee243f76a"
      },
      "cell_type": "code",
      "source": [
        "# 예약어 목록\n",
        "keyword.kwlist"
      ],
      "execution_count": 0,
      "outputs": [
        {
          "output_type": "execute_result",
          "data": {
            "text/plain": [
              "['False',\n",
              " 'None',\n",
              " 'True',\n",
              " 'and',\n",
              " 'as',\n",
              " 'assert',\n",
              " 'break',\n",
              " 'class',\n",
              " 'continue',\n",
              " 'def',\n",
              " 'del',\n",
              " 'elif',\n",
              " 'else',\n",
              " 'except',\n",
              " 'finally',\n",
              " 'for',\n",
              " 'from',\n",
              " 'global',\n",
              " 'if',\n",
              " 'import',\n",
              " 'in',\n",
              " 'is',\n",
              " 'lambda',\n",
              " 'nonlocal',\n",
              " 'not',\n",
              " 'or',\n",
              " 'pass',\n",
              " 'raise',\n",
              " 'return',\n",
              " 'try',\n",
              " 'while',\n",
              " 'with',\n",
              " 'yield']"
            ]
          },
          "metadata": {
            "tags": []
          },
          "execution_count": 38
        }
      ]
    },
    {
      "metadata": {
        "id": "eGC5hChx0xCr",
        "colab_type": "code",
        "colab": {
          "base_uri": "https://localhost:8080/",
          "height": 35
        },
        "outputId": "13987436-f55c-4dc3-8879-6a2aaf88dbf6"
      },
      "cell_type": "code",
      "source": [
        "keyword"
      ],
      "execution_count": 0,
      "outputs": [
        {
          "output_type": "execute_result",
          "data": {
            "text/plain": [
              "<module 'keyword' from '/usr/lib/python3.6/keyword.py'>"
            ]
          },
          "metadata": {
            "tags": []
          },
          "execution_count": 39
        }
      ]
    },
    {
      "metadata": {
        "id": "TfABD5Za03Z0",
        "colab_type": "code",
        "colab": {}
      },
      "cell_type": "code",
      "source": [
        "as = \"inje\" # as는 키워드인데 변수로 사용해서 에러가 뜸"
      ],
      "execution_count": 0,
      "outputs": []
    },
    {
      "metadata": {
        "id": "aPokSqkx072p",
        "colab_type": "code",
        "colab": {
          "base_uri": "https://localhost:8080/",
          "height": 35
        },
        "outputId": "0e2c5895-c03c-4637-f85e-c392afb8b99e"
      },
      "cell_type": "code",
      "source": [
        "_as = \"inje\"   # 위의 상황을 해결하기 위해 키워드이름을 가진 변수앞에 \"_\"사용\n",
        "_as"
      ],
      "execution_count": 0,
      "outputs": [
        {
          "output_type": "execute_result",
          "data": {
            "text/plain": [
              "'inje'"
            ]
          },
          "metadata": {
            "tags": []
          },
          "execution_count": 42
        }
      ]
    },
    {
      "metadata": {
        "id": "Oi-VoaUx1j_R",
        "colab_type": "text"
      },
      "cell_type": "markdown",
      "source": [
        "## User input"
      ]
    },
    {
      "metadata": {
        "id": "OOOfsPCP1eUG",
        "colab_type": "code",
        "colab": {
          "base_uri": "https://localhost:8080/",
          "height": 35
        },
        "outputId": "a2f76a1b-728d-47bd-f15e-ddb42913da03"
      },
      "cell_type": "code",
      "source": [
        "name = input(\"Please write down your name here! \")"
      ],
      "execution_count": 0,
      "outputs": [
        {
          "output_type": "stream",
          "text": [
            "Please write down your name here! juhyeon\n"
          ],
          "name": "stdout"
        }
      ]
    },
    {
      "metadata": {
        "id": "pHzPUlbe1oOs",
        "colab_type": "code",
        "colab": {
          "base_uri": "https://localhost:8080/",
          "height": 35
        },
        "outputId": "9e3ad274-1a04-4f39-d40a-982f8fc1c067"
      },
      "cell_type": "code",
      "source": [
        "name"
      ],
      "execution_count": 0,
      "outputs": [
        {
          "output_type": "execute_result",
          "data": {
            "text/plain": [
              "'juhyeon'"
            ]
          },
          "metadata": {
            "tags": []
          },
          "execution_count": 46
        }
      ]
    },
    {
      "metadata": {
        "id": "82GHYJNR1yMg",
        "colab_type": "text"
      },
      "cell_type": "markdown",
      "source": [
        "## Code block & Indentation(들여쓰기)"
      ]
    },
    {
      "metadata": {
        "id": "Z6XFFZT21s0v",
        "colab_type": "code",
        "colab": {
          "base_uri": "https://localhost:8080/",
          "height": 72
        },
        "outputId": "9ff2a66b-170d-432c-878b-aa6dee290f6f"
      },
      "cell_type": "code",
      "source": [
        "if(10>3):\n",
        "  print('inside if block')\n",
        "  print('still inside if block')\n",
        "  \n",
        "print('outside if block!')"
      ],
      "execution_count": 0,
      "outputs": [
        {
          "output_type": "stream",
          "text": [
            "inside if block\n",
            "still inside if block\n",
            "outside if block!\n"
          ],
          "name": "stdout"
        }
      ]
    },
    {
      "metadata": {
        "id": "dUTTBp9W2Tyb",
        "colab_type": "code",
        "colab": {
          "base_uri": "https://localhost:8080/",
          "height": 54
        },
        "outputId": "35d6c05b-3141-4bf0-f8cb-335e070a908b"
      },
      "cell_type": "code",
      "source": [
        "if(10<3):\n",
        "  print('inside if block')   # 여기까지 if문 안!\n",
        "print('still inside if block')\n",
        "  \n",
        "print('outside if block!')"
      ],
      "execution_count": 0,
      "outputs": [
        {
          "output_type": "stream",
          "text": [
            "still inside if block\n",
            "outside if block!\n"
          ],
          "name": "stdout"
        }
      ]
    },
    {
      "metadata": {
        "id": "dnGf7wsm3WJ4",
        "colab_type": "text"
      },
      "cell_type": "markdown",
      "source": [
        "## Indentaton error"
      ]
    },
    {
      "metadata": {
        "id": "ayV9ZSEc2k8V",
        "colab_type": "code",
        "colab": {}
      },
      "cell_type": "code",
      "source": [
        "if(10>3):\n",
        "  print('inside if block!)\n",
        "    print('still inside if block')\n",
        "        \n",
        "print('outside if block!')"
      ],
      "execution_count": 0,
      "outputs": []
    },
    {
      "metadata": {
        "id": "JCP2peV43l_4",
        "colab_type": "text"
      },
      "cell_type": "markdown",
      "source": [
        "## 도전 코딩 1. BMI = W(kg)/H(m)^2\n",
        "\n"
      ]
    },
    {
      "metadata": {
        "id": "XnkpMXam3hwA",
        "colab_type": "code",
        "colab": {
          "base_uri": "https://localhost:8080/",
          "height": 73
        },
        "outputId": "42e716d5-0319-464a-e8f9-d5f3bbad9fe5"
      },
      "cell_type": "code",
      "source": [
        "h = float(input(\"Your height in meters:\"))\n",
        "w = float(input(\"Your weight in kg:\"))\n",
        "bmi = round(w / (h * h),1)\n",
        "bmi"
      ],
      "execution_count": 0,
      "outputs": [
        {
          "output_type": "stream",
          "text": [
            "Your height in meters:1.5\n",
            "Your weight in kg:42\n"
          ],
          "name": "stdout"
        },
        {
          "output_type": "execute_result",
          "data": {
            "text/plain": [
              "18.7"
            ]
          },
          "metadata": {
            "tags": []
          },
          "execution_count": 59
        }
      ]
    },
    {
      "metadata": {
        "id": "1O8q6KqL5eux",
        "colab_type": "text"
      },
      "cell_type": "markdown",
      "source": [
        "## 도전코딩 2 Burning fat by jogging\n"
      ]
    },
    {
      "metadata": {
        "id": "arG2Xa1T4Psq",
        "colab_type": "code",
        "colab": {}
      },
      "cell_type": "code",
      "source": [
        "# 조깅에서 1kg 지방을 태우는 데 몇 시간 걸리는지를 계산\n",
        "cal_per_1kg_fat = 7200 # 지방 1kg 연소에 필요한 열량\n",
        "cal_per_1min_jog = 7.76 # 조깅 1 분에 의한 소비 칼로리"
      ],
      "execution_count": 0,
      "outputs": []
    },
    {
      "metadata": {
        "id": "FPxO4zvx5k8W",
        "colab_type": "code",
        "colab": {
          "base_uri": "https://localhost:8080/",
          "height": 36
        },
        "outputId": "1c09ac8e-236b-4db9-bc33-9f95680c5e9b"
      },
      "cell_type": "code",
      "source": [
        "# 조깅에서 1kg 체중 감소하는데 몇 분이 필요할까?\n",
        "min_to_lose1kg = cal_per_1kg_fat/cal_per_1min_jog\n",
        "hours_to_lose1kg = min_to_lose1kg/60 # 분을 시간으로 환산\n",
        "#print(round(hours_to_lose1kg))\n",
        "print(str(round(hours_to_lose1kg, 1)) + \" 시간\") # 변수의 내용을 표시"
      ],
      "execution_count": 0,
      "outputs": [
        {
          "output_type": "stream",
          "text": [
            "15.5 시간\n"
          ],
          "name": "stdout"
        }
      ]
    },
    {
      "metadata": {
        "id": "s55Dq9y36H6g",
        "colab_type": "code",
        "colab": {
          "base_uri": "https://localhost:8080/",
          "height": 36
        },
        "outputId": "37c7b1bc-132f-4274-b410-81e610972aef"
      },
      "cell_type": "code",
      "source": [
        "print(\"{} 시간\".format(round(hours_to_lose1kg,1)))"
      ],
      "execution_count": 0,
      "outputs": [
        {
          "output_type": "stream",
          "text": [
            "15.5 시간\n"
          ],
          "name": "stdout"
        }
      ]
    },
    {
      "metadata": {
        "id": "ZJvPVIoq7SmB",
        "colab_type": "code",
        "colab": {}
      },
      "cell_type": "code",
      "source": [
        ""
      ],
      "execution_count": 0,
      "outputs": []
    }
  ]
}