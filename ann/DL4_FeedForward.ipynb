{
  "nbformat": 4,
  "nbformat_minor": 0,
  "metadata": {
    "colab": {
      "name": "DL4_FeedForward",
      "version": "0.3.2",
      "provenance": [],
      "collapsed_sections": [
        "uqHN1rPhYAMG",
        "DfyR-JIoYANX",
        "ln7zZtnmYANt"
      ],
      "toc_visible": true,
      "include_colab_link": true
    },
    "kernelspec": {
      "display_name": "Python 3",
      "language": "python",
      "name": "python3"
    }
  },
  "cells": [
    {
      "cell_type": "markdown",
      "metadata": {
        "id": "view-in-github",
        "colab_type": "text"
      },
      "source": [
        "<a href=\"https://colab.research.google.com/github/joyeee2/py-05/blob/master/ann/DL4_FeedForward.ipynb\" target=\"_parent\"><img src=\"https://colab.research.google.com/assets/colab-badge.svg\" alt=\"Open In Colab\"/></a>"
      ]
    },
    {
      "metadata": {
        "id": "SCPnWXv7YAFW",
        "colab_type": "text"
      },
      "cell_type": "markdown",
      "source": [
        "[original link: DL-FeedForward](https://github.com/alfredessa/lasi2018/blob/master/notebooks/slideversion/deeplearning/DL-FeedForward.ipynb)"
      ]
    },
    {
      "metadata": {
        "id": "lwLsJ0nkYAFZ",
        "colab_type": "code",
        "outputId": "9eab00cc-29c4-42b5-93da-472a6add77b7",
        "colab": {
          "base_uri": "https://localhost:8080/",
          "height": 17
        }
      },
      "cell_type": "code",
      "source": [
        "from IPython.core.display import HTML, Image\n",
        "css_file = 'style.css'\n",
        "HTML(open(css_file, 'r').read())"
      ],
      "execution_count": 0,
      "outputs": [
        {
          "output_type": "execute_result",
          "data": {
            "text/html": [
              "<link href='http://fonts.googleapis.com/css?family=Alegreya+Sans:100,300,400,500,700,800,900,100italic,300italic,400italic,500italic,700italic,800italic,900italic' rel='stylesheet' type='text/css'>\n",
              "<link href='http://fonts.googleapis.com/css?family=Arvo:400,700,400italic' rel='stylesheet' type='text/css'>\n",
              "<link href='http://fonts.googleapis.com/css?family=PT+Mono' rel='stylesheet' type='text/css'>\n",
              "<link href='http://fonts.googleapis.com/css?family=Shadows+Into+Light' rel='stylesheet' type='text/css'>\n",
              "<link href='http://fonts.googleapis.com/css?family=Philosopher:400,700,400italic,700italic' rel='stylesheet' type='text/css'>\n",
              "\n",
              "<style>\n",
              "\n",
              "@font-face {\n",
              "    font-family: \"Computer Modern\";\n",
              "    src: url('http://mirrors.ctan.org/fonts/cm-unicode/fonts/otf/cmunss.otf');\n",
              "}\n",
              "\n",
              "#notebook_panel { /* main background */\n",
              "    background: #ddd;\n",
              "    color: #000000;\n",
              "}\n",
              "\n",
              "\n",
              "\n",
              "/* Formatting for header cells */\n",
              ".text_cell_render h1 {\n",
              "    font-family: 'Philosopher', sans-serif;\n",
              "    font-weight: 400;\n",
              "    font-size: 2.2em;\n",
              "    line-height: 100%;\n",
              "    color: rgb(0, 80, 120);\n",
              "    margin-bottom: 0.1em;\n",
              "    margin-top: 0.1em;\n",
              "    display: block;\n",
              "}\t\n",
              ".text_cell_render h2 {\n",
              "    font-family: 'Philosopher', serif;\n",
              "    font-weight: 400;\n",
              "    font-size: 1.9em;\n",
              "    line-height: 100%;\n",
              "    color: rgb(200,100,0);\n",
              "    margin-bottom: 0.1em;\n",
              "    margin-top: 0.1em;\n",
              "    display: block;\n",
              "}\t\n",
              "\n",
              ".text_cell_render h3 {\n",
              "    font-family: 'Philosopher', serif;\n",
              "    margin-top:12px;\n",
              "    margin-bottom: 3px;\n",
              "    font-style: italic;\n",
              "    color: rgb(94,127,192);\n",
              "}\n",
              "\n",
              ".text_cell_render h4 {\n",
              "    font-family: 'Philosopher', serif;\n",
              "}\n",
              "\n",
              ".text_cell_render h5 {\n",
              "    font-family: 'Alegreya Sans', sans-serif;\n",
              "    font-weight: 300;\n",
              "    font-size: 16pt;\n",
              "    color: grey;\n",
              "    font-style: italic;\n",
              "    margin-bottom: .1em;\n",
              "    margin-top: 0.1em;\n",
              "    display: block;\n",
              "}\n",
              "\n",
              ".text_cell_render h6 {\n",
              "    font-family: 'PT Mono', sans-serif;\n",
              "    font-weight: 300;\n",
              "    font-size: 10pt;\n",
              "    color: grey;\n",
              "    margin-bottom: 1px;\n",
              "    margin-top: 1px;\n",
              "}\n",
              "\n",
              ".CodeMirror{\n",
              "        font-family: \"PT Mono\";\n",
              "        font-size: 100%;\n",
              "}\n",
              "\n",
              "</style>\n",
              "\n"
            ],
            "text/plain": [
              "<IPython.core.display.HTML object>"
            ]
          },
          "metadata": {
            "tags": []
          },
          "execution_count": 2
        }
      ]
    },
    {
      "metadata": {
        "id": "TqdrvDNmn9Ev",
        "colab_type": "toc"
      },
      "cell_type": "markdown",
      "source": [
        ">[Deep Learning](#scrollTo=lje3cygaYAFj)\n",
        "\n",
        ">>[Feed Forward](#scrollTo=lje3cygaYAFj)\n",
        "\n",
        ">[Forward Propagation](#scrollTo=iW6lahopYAFl)\n",
        "\n",
        ">[Feedforward Networks](#scrollTo=UpXRkkSKYAFt)\n",
        "\n",
        ">[Forward Propagation Computation](#scrollTo=aKI5F90aYAFz)\n",
        "\n",
        ">>>[Network Class](#scrollTo=h5Rf-27oYAF7)\n",
        "\n",
        ">>[Network class 점검](#scrollTo=35BEaBxSYAGL)\n",
        "\n",
        ">>>[Hidden layer](#scrollTo=genHXesvYAG3)\n",
        "\n",
        ">>>[행벡터와 열벡터의 합에서 발생하는 문제 해결](#scrollTo=BPlRBiVeYAG9)\n",
        "\n",
        ">>>[Output layer](#scrollTo=g2kQtDXFYAHU)\n",
        "\n",
        ">>>[Checking feedforward operation](#scrollTo=BAtTmPpzYAH4)\n",
        "\n",
        ">>>[heaviside activation](#scrollTo=lQF7iPHjYAIE)\n",
        "\n",
        ">>>[relu activation](#scrollTo=7DprevEAYAIM)\n",
        "\n",
        ">>>[sigmoid activation](#scrollTo=H2Z8RVxpYAIW)\n",
        "\n",
        ">>>[Well done! Great!](#scrollTo=g54aYHLDYAIl)\n",
        "\n",
        ">>>[Neural network 1: single layer (3 -> 2 -> 1)](#scrollTo=BGy-2RPKYAIo)\n",
        "\n",
        ">>>[Neural network 2: single layer (5 -> 3 -> 2)](#scrollTo=-SPngHpSYAJv)\n",
        "\n",
        ">>>[Neural network 3: deep layers (5 -> [3, 3] -> 1)](#scrollTo=uqHN1rPhYAMG)\n",
        "\n",
        ">>>[[도전] 10개의 입력을 받아서 두 개의 딥 레이어로 처리해서 두개의 최종 출력을 구하는 과정을 만드시오.](#scrollTo=DfyR-JIoYANX)\n",
        "\n",
        ">>>[Input data: X](#scrollTo=ln7zZtnmYANt)\n",
        "\n",
        ">>>[[도전2] 764개의 입력을 받아서 4 개의 딥 레이어로 처리해서 두개의 최종 출력을 구하는 과정을 만드시오.](#scrollTo=1uaBEbEJYAOI)\n",
        "\n",
        ">>>[Input data: X](#scrollTo=HUu9aQG6YAOc)\n",
        "\n",
        ">>>[Data Representation ((1,n) input, a layer with k neurons)](#scrollTo=TGzvsmbyYAOq)\n",
        "\n",
        ">>[Data Representation ((1,n) input, deep layer with [k,s,t] neurons, and (1,r) output)](#scrollTo=klEtc1_LYAOt)\n",
        "\n"
      ]
    },
    {
      "metadata": {
        "id": "lje3cygaYAFj",
        "colab_type": "text"
      },
      "cell_type": "markdown",
      "source": [
        "# Deep Learning \n",
        "\n",
        "## Feed Forward\n",
        "\n",
        "Alfred Essa, Ani Aghababyan, Shirin Mojarad"
      ]
    },
    {
      "metadata": {
        "id": "iW6lahopYAFl",
        "colab_type": "text"
      },
      "cell_type": "markdown",
      "source": [
        "# Forward Propagation"
      ]
    },
    {
      "metadata": {
        "id": "aPG0bmJXYAFm",
        "colab_type": "text"
      },
      "cell_type": "markdown",
      "source": [
        "**1:** State the definition of a *feedforward* network"
      ]
    },
    {
      "metadata": {
        "id": "sViAEP_uYAFo",
        "colab_type": "text"
      },
      "cell_type": "markdown",
      "source": [
        "**2:**: Describe the data structures, in terms of *matrix algebra*, for representing a feedforward network "
      ]
    },
    {
      "metadata": {
        "id": "o4kUBFa_YAFq",
        "colab_type": "text"
      },
      "cell_type": "markdown",
      "source": [
        "**3:**: Understand the end-to-end *computation* or forward propagation for a feedforward network"
      ]
    },
    {
      "metadata": {
        "id": "HkiaIR5jYAFr",
        "colab_type": "text"
      },
      "cell_type": "markdown",
      "source": [
        "**4:**: Write a Python class to compute the forward propagation steps resulting in the final output"
      ]
    },
    {
      "metadata": {
        "id": "UpXRkkSKYAFt",
        "colab_type": "text"
      },
      "cell_type": "markdown",
      "source": [
        "# Feedforward Networks"
      ]
    },
    {
      "metadata": {
        "id": "-KKDS_5iYAFw",
        "colab_type": "text"
      },
      "cell_type": "markdown",
      "source": [
        "<img src=\"https://github.com/alfredessa/lasi2018/raw/8140f2ad8d9998a02d7ec559d0ddceb5f41c6a18/notebooks/slideversion/deeplearning/images/feedforward1.png\" width=\"60%\" height=\"60%\" />\n"
      ]
    },
    {
      "metadata": {
        "id": "rHA3rQt8YAFx",
        "colab_type": "text"
      },
      "cell_type": "markdown",
      "source": [
        "> Feedforward networks are the quintessential neural network. They are referred to as feedforward because information flows sequentially through each layer without feedback or loops.\n",
        "\n",
        "- Feedforward networks은 입력이 한 방향으로 레이어들을 통과하면서 최종 출력값을 결정한다."
      ]
    },
    {
      "metadata": {
        "id": "aKI5F90aYAFz",
        "colab_type": "text"
      },
      "cell_type": "markdown",
      "source": [
        "# Forward Propagation Computation"
      ]
    },
    {
      "metadata": {
        "id": "v3ubshfvYAF0",
        "colab_type": "text"
      },
      "cell_type": "markdown",
      "source": [
        "<img src=\"https://github.com/alfredessa/lasi2018/raw/8140f2ad8d9998a02d7ec559d0ddceb5f41c6a18/notebooks/slideversion/deeplearning/images/feedforward2.png\" width=\"75%\" height=\"75%\" />"
      ]
    },
    {
      "metadata": {
        "id": "MQtWWDd1YAF2",
        "colab_type": "text"
      },
      "cell_type": "markdown",
      "source": [
        "- A feedforward neural network composes together a series of functions: $f(x) = f^{(3)}(f^{(2)}(f^{(1)}(x)))$"
      ]
    },
    {
      "metadata": {
        "id": "WPYeV1lJYAF5",
        "colab_type": "text"
      },
      "cell_type": "markdown",
      "source": [
        "- $f^{(1)}$ is the first layer of the network, $f^{(2)}$ is the second layer, and so on"
      ]
    },
    {
      "metadata": {
        "id": "EQ5AvrJ-YAF6",
        "colab_type": "text"
      },
      "cell_type": "markdown",
      "source": [
        "- 각 레이어는 입력 (x)을 처리해서 구한 출력을 새로운 입력으로 다음 레이어를 보낸다."
      ]
    },
    {
      "metadata": {
        "id": "XDfQl0jGnwcv",
        "colab_type": "text"
      },
      "cell_type": "markdown",
      "source": [
        "\n",
        "\n",
        "---\n",
        "\n"
      ]
    },
    {
      "metadata": {
        "id": "h5Rf-27oYAF7",
        "colab_type": "text"
      },
      "cell_type": "markdown",
      "source": [
        "### Network Class"
      ]
    },
    {
      "metadata": {
        "id": "U43iuH-AYAF9",
        "colab_type": "code",
        "colab": {}
      },
      "cell_type": "code",
      "source": [
        "import numpy as np"
      ],
      "execution_count": 0,
      "outputs": []
    },
    {
      "metadata": {
        "id": "mpNl1ENlYAGC",
        "colab_type": "code",
        "colab": {}
      },
      "cell_type": "code",
      "source": [
        "# activation function\n",
        "def relu(z):\n",
        "    return np.maximum(0,z)\n",
        "\n",
        "def sigmoid(z):\n",
        "        return 1.0/(1.0+np.exp(-z))\n",
        "    \n",
        "def heaviside(z):\n",
        "#     if z<0:  #.any()<0:  # update at 181119\n",
        "#         return 0\n",
        "#     else:\n",
        "#         return 1\n",
        "    return np.heaviside(z,0) # updated by Redwoods Yi, 181120\n",
        "\n",
        "# use np.heaviside(z,0) instead of heaviside(z)"
      ],
      "execution_count": 0,
      "outputs": []
    },
    {
      "metadata": {
        "id": "nmIj6-maYAGG",
        "colab_type": "code",
        "colab": {}
      },
      "cell_type": "code",
      "source": [
        "class Network(object):\n",
        "    def __init__(self,sizes):\n",
        "        self.num_layers = len(sizes)\n",
        "        self.sizes = sizes\n",
        "        self.biases = [np.random.randn(y,1) for y in sizes[1:]]\n",
        "        self.weights = [np.random.randn(y,x) \n",
        "                        for x,y in zip(sizes[:-1], sizes[1:])]\n",
        "        \n",
        "    def feedforward(self,a,phi):\n",
        "        for b,w in zip(self.biases, self.weights):\n",
        "            z = np.dot(w,a) + b   # b[0].T\n",
        "#             print(z)\n",
        "            z=np.diag(z)  # update by Redwoods Yi, 181123\n",
        "            print(z)\n",
        "            a = phi(z)  # new input to next layer\n",
        "#         print(z)\n",
        "        print(a)\n",
        "        return a\n",
        "        \n",
        "    def set_biases(self,newbiases):\n",
        "        self.biases = [np.array(newbiases)]\n",
        "        \n",
        "    def set_weights(self,newweights):\n",
        "        self.weights = [np.array([newweights])]\n",
        "        \n",
        "    def show_parameters(self):\n",
        "        print(\"biases: =\", self.biases)\n",
        "        print(\"weights: =\", self.weights)"
      ],
      "execution_count": 0,
      "outputs": []
    },
    {
      "metadata": {
        "id": "35BEaBxSYAGL",
        "colab_type": "text"
      },
      "cell_type": "markdown",
      "source": [
        "## Network class 점검"
      ]
    },
    {
      "metadata": {
        "id": "2aVe-qPeYAGN",
        "colab_type": "code",
        "colab": {}
      },
      "cell_type": "code",
      "source": [
        "# Set a seed for randomnumber generation\n",
        "np.random.seed(0)"
      ],
      "execution_count": 0,
      "outputs": []
    },
    {
      "metadata": {
        "id": "cUCQd6yrYAGR",
        "colab_type": "code",
        "outputId": "82e2661b-0c9e-446b-e4b4-e3857a27cbc5",
        "colab": {
          "base_uri": "https://localhost:8080/",
          "height": 89
        }
      },
      "cell_type": "code",
      "source": [
        "# test\n",
        "sizes=[5,3,2]  # input, layer1, output\n",
        "b1 = [np.random.randn(y,1) for y in sizes[1:]]\n",
        "b1"
      ],
      "execution_count": 5,
      "outputs": [
        {
          "output_type": "execute_result",
          "data": {
            "text/plain": [
              "[array([[1.76405235],\n",
              "        [0.40015721],\n",
              "        [0.97873798]]), array([[2.2408932 ],\n",
              "        [1.86755799]])]"
            ]
          },
          "metadata": {
            "tags": []
          },
          "execution_count": 5
        }
      ]
    },
    {
      "metadata": {
        "id": "O9g4t6S9YAGa",
        "colab_type": "code",
        "outputId": "0b977ff4-4493-417f-f9e5-00430c9f49d6",
        "colab": {
          "base_uri": "https://localhost:8080/",
          "height": 89
        }
      },
      "cell_type": "code",
      "source": [
        "b1[0],b1[1]"
      ],
      "execution_count": 6,
      "outputs": [
        {
          "output_type": "execute_result",
          "data": {
            "text/plain": [
              "(array([[1.76405235],\n",
              "        [0.40015721],\n",
              "        [0.97873798]]), array([[2.2408932 ],\n",
              "        [1.86755799]]))"
            ]
          },
          "metadata": {
            "tags": []
          },
          "execution_count": 6
        }
      ]
    },
    {
      "metadata": {
        "id": "9SJauJ8EYAGe",
        "colab_type": "code",
        "outputId": "8f64de04-dc13-41a4-daf5-213bccf7713b",
        "colab": {
          "base_uri": "https://localhost:8080/",
          "height": 107
        }
      },
      "cell_type": "code",
      "source": [
        "w1 = [np.random.randn(y,x) for x,y in zip(sizes[:-1], sizes[1:])]\n",
        "w1 "
      ],
      "execution_count": 7,
      "outputs": [
        {
          "output_type": "execute_result",
          "data": {
            "text/plain": [
              "[array([[-0.97727788,  0.95008842, -0.15135721, -0.10321885,  0.4105985 ],\n",
              "        [ 0.14404357,  1.45427351,  0.76103773,  0.12167502,  0.44386323],\n",
              "        [ 0.33367433,  1.49407907, -0.20515826,  0.3130677 , -0.85409574]]),\n",
              " array([[-2.55298982,  0.6536186 ,  0.8644362 ],\n",
              "        [-0.74216502,  2.26975462, -1.45436567]])]"
            ]
          },
          "metadata": {
            "tags": []
          },
          "execution_count": 7
        }
      ]
    },
    {
      "metadata": {
        "id": "yd0gQxyLYAGk",
        "colab_type": "code",
        "outputId": "6f9b776a-43fd-4449-b025-94788c73de21",
        "colab": {
          "base_uri": "https://localhost:8080/",
          "height": 71
        }
      },
      "cell_type": "code",
      "source": [
        "w1[0]"
      ],
      "execution_count": 8,
      "outputs": [
        {
          "output_type": "execute_result",
          "data": {
            "text/plain": [
              "array([[-0.97727788,  0.95008842, -0.15135721, -0.10321885,  0.4105985 ],\n",
              "       [ 0.14404357,  1.45427351,  0.76103773,  0.12167502,  0.44386323],\n",
              "       [ 0.33367433,  1.49407907, -0.20515826,  0.3130677 , -0.85409574]])"
            ]
          },
          "metadata": {
            "tags": []
          },
          "execution_count": 8
        }
      ]
    },
    {
      "metadata": {
        "id": "sUVsqVzXYAGq",
        "colab_type": "code",
        "outputId": "3275821d-0e21-4c87-a16d-e776ece27ee4",
        "colab": {
          "base_uri": "https://localhost:8080/",
          "height": 53
        }
      },
      "cell_type": "code",
      "source": [
        "w1[1]"
      ],
      "execution_count": 9,
      "outputs": [
        {
          "output_type": "execute_result",
          "data": {
            "text/plain": [
              "array([[-2.55298982,  0.6536186 ,  0.8644362 ],\n",
              "       [-0.74216502,  2.26975462, -1.45436567]])"
            ]
          },
          "metadata": {
            "tags": []
          },
          "execution_count": 9
        }
      ]
    },
    {
      "metadata": {
        "id": "nUKzNQSdYAGw",
        "colab_type": "code",
        "outputId": "b88d3935-97de-409b-d663-38ba741dd139",
        "colab": {
          "base_uri": "https://localhost:8080/",
          "height": 35
        }
      },
      "cell_type": "code",
      "source": [
        "# input\n",
        "x0 = np.arange(5)\n",
        "x0,x0.shape"
      ],
      "execution_count": 10,
      "outputs": [
        {
          "output_type": "execute_result",
          "data": {
            "text/plain": [
              "(array([0, 1, 2, 3, 4]), (5,))"
            ]
          },
          "metadata": {
            "tags": []
          },
          "execution_count": 10
        }
      ]
    },
    {
      "metadata": {
        "id": "genHXesvYAG3",
        "colab_type": "text"
      },
      "cell_type": "markdown",
      "source": [
        "### Hidden layer"
      ]
    },
    {
      "metadata": {
        "id": "vtH_kfWLYAG4",
        "colab_type": "code",
        "outputId": "565d0ecc-244e-484c-b0b6-f3ed4b3bd45c",
        "colab": {
          "base_uri": "https://localhost:8080/",
          "height": 71
        }
      },
      "cell_type": "code",
      "source": [
        "# hidden layer: transfer function : linear sum + bias\n",
        "z0 = np.dot(w1[0], x0)  # linear sum  (3x5) x 5=(5x1) = (3x1)\n",
        "z0,b1[0],z0+b1[0].T"
      ],
      "execution_count": 12,
      "outputs": [
        {
          "output_type": "execute_result",
          "data": {
            "text/plain": [
              "(array([ 1.98011145,  5.11682694, -1.39341731]), array([[1.76405235],\n",
              "        [0.40015721],\n",
              "        [0.97873798]]), array([[ 3.7441638 ,  5.51698415, -0.41467932]]))"
            ]
          },
          "metadata": {
            "tags": []
          },
          "execution_count": 12
        }
      ]
    },
    {
      "metadata": {
        "id": "BPlRBiVeYAG9",
        "colab_type": "text"
      },
      "cell_type": "markdown",
      "source": [
        "### 행벡터와 열벡터의 합에서 발생하는 문제 해결"
      ]
    },
    {
      "metadata": {
        "id": "wAJro58AYAG9",
        "colab_type": "code",
        "outputId": "2c50846b-95e5-486f-86a0-afd592814aa9",
        "colab": {
          "base_uri": "https://localhost:8080/",
          "height": 71
        }
      },
      "cell_type": "code",
      "source": [
        "t1=np.array([ 1.98011145,  5.11682694, -1.39341731])\n",
        "t2=np.array([[1.76405235],[0.40015721],[0.97873798]])\n",
        "t1+t2"
      ],
      "execution_count": 13,
      "outputs": [
        {
          "output_type": "execute_result",
          "data": {
            "text/plain": [
              "array([[ 3.7441638 ,  6.88087929,  0.37063504],\n",
              "       [ 2.38026866,  5.51698415, -0.9932601 ],\n",
              "       [ 2.95884943,  6.09556492, -0.41467933]])"
            ]
          },
          "metadata": {
            "tags": []
          },
          "execution_count": 13
        }
      ]
    },
    {
      "metadata": {
        "id": "Yqh7NnJ0YAHC",
        "colab_type": "code",
        "outputId": "7eef776c-401c-47f1-d83a-480bfe7244c8",
        "colab": {
          "base_uri": "https://localhost:8080/",
          "height": 35
        }
      },
      "cell_type": "code",
      "source": [
        "np.diag(t1+t2)"
      ],
      "execution_count": 14,
      "outputs": [
        {
          "output_type": "execute_result",
          "data": {
            "text/plain": [
              "array([ 3.7441638 ,  5.51698415, -0.41467933])"
            ]
          },
          "metadata": {
            "tags": []
          },
          "execution_count": 14
        }
      ]
    },
    {
      "metadata": {
        "id": "NClaszNfYAHG",
        "colab_type": "code",
        "outputId": "7922f24b-63bd-4b69-df90-d16c59a0db7c",
        "colab": {
          "base_uri": "https://localhost:8080/",
          "height": 35
        }
      },
      "cell_type": "code",
      "source": [
        "t1+t2.T  # correct result!"
      ],
      "execution_count": 15,
      "outputs": [
        {
          "output_type": "execute_result",
          "data": {
            "text/plain": [
              "array([[ 3.7441638 ,  5.51698415, -0.41467933]])"
            ]
          },
          "metadata": {
            "tags": []
          },
          "execution_count": 15
        }
      ]
    },
    {
      "metadata": {
        "id": "1LqkuMcXYAHL",
        "colab_type": "code",
        "outputId": "3f0faa66-3c27-4cae-cbec-1e2ad1ade4d5",
        "colab": {
          "base_uri": "https://localhost:8080/",
          "height": 35
        }
      },
      "cell_type": "code",
      "source": [
        "# in the layer\n",
        "z0+b1[0].T   # [3.7441638  6.88087928 0.37063504] -> wrong"
      ],
      "execution_count": 16,
      "outputs": [
        {
          "output_type": "execute_result",
          "data": {
            "text/plain": [
              "array([[ 3.7441638 ,  5.51698415, -0.41467932]])"
            ]
          },
          "metadata": {
            "tags": []
          },
          "execution_count": 16
        }
      ]
    },
    {
      "metadata": {
        "id": "HDblT01PYAHQ",
        "colab_type": "code",
        "outputId": "ca592808-a551-433c-d153-675c5aff5473",
        "colab": {
          "base_uri": "https://localhost:8080/",
          "height": 71
        }
      },
      "cell_type": "code",
      "source": [
        "# output from the hidden layer\n",
        "heaviside(z0+b1[0].T),relu(z0+b1[0].T),sigmoid(z0+b1[0].T)  # output"
      ],
      "execution_count": 17,
      "outputs": [
        {
          "output_type": "execute_result",
          "data": {
            "text/plain": [
              "(array([[1., 1., 0.]]),\n",
              " array([[3.7441638 , 5.51698415, 0.        ]]),\n",
              " array([[0.97689125, 0.99599813, 0.39779064]]))"
            ]
          },
          "metadata": {
            "tags": []
          },
          "execution_count": 17
        }
      ]
    },
    {
      "metadata": {
        "id": "g2kQtDXFYAHU",
        "colab_type": "text"
      },
      "cell_type": "markdown",
      "source": [
        "### Output layer\n",
        "> The output from the hidden layer becomes the input to the output layer."
      ]
    },
    {
      "metadata": {
        "id": "A4InJHY1YAHW",
        "colab_type": "code",
        "outputId": "f135b0aa-07b6-4b40-bf6f-f226da244389",
        "colab": {
          "base_uri": "https://localhost:8080/",
          "height": 89
        }
      },
      "cell_type": "code",
      "source": [
        "# output layer: transfer function : linear sum + bias\n",
        "z1 = np.dot(w1[1], heaviside(z0+b1[0].T).T)  #+ b1[0].T #+ N1.biases\n",
        "z1,b1[1],z1+b1[1]"
      ],
      "execution_count": 18,
      "outputs": [
        {
          "output_type": "execute_result",
          "data": {
            "text/plain": [
              "(array([[-1.89937122],\n",
              "        [ 1.5275896 ]]), array([[2.2408932 ],\n",
              "        [1.86755799]]), array([[0.34152198],\n",
              "        [3.39514759]]))"
            ]
          },
          "metadata": {
            "tags": []
          },
          "execution_count": 18
        }
      ]
    },
    {
      "metadata": {
        "id": "_sbCREj5YAHc",
        "colab_type": "code",
        "colab": {}
      },
      "cell_type": "code",
      "source": [
        "# (linear sum + bias) in output layer\n",
        "z1h=z1+b1[1]"
      ],
      "execution_count": 0,
      "outputs": []
    },
    {
      "metadata": {
        "id": "UNASXityYAHh",
        "colab_type": "code",
        "outputId": "4590cf1a-3fba-4fec-8b55-732047ac2eec",
        "colab": {
          "base_uri": "https://localhost:8080/",
          "height": 53
        }
      },
      "cell_type": "code",
      "source": [
        "# output layer: heaviside activation\n",
        "heaviside(z1h+b1[1])"
      ],
      "execution_count": 20,
      "outputs": [
        {
          "output_type": "execute_result",
          "data": {
            "text/plain": [
              "array([[1.],\n",
              "       [1.]])"
            ]
          },
          "metadata": {
            "tags": []
          },
          "execution_count": 20
        }
      ]
    },
    {
      "metadata": {
        "id": "Lj45O88IYAHl",
        "colab_type": "code",
        "colab": {}
      },
      "cell_type": "code",
      "source": [
        "# (linear sum + bias) in output layer\n",
        "z1r = np.dot(w1[1], relu(z0+b1[0].T).T)  + b1[1]"
      ],
      "execution_count": 0,
      "outputs": []
    },
    {
      "metadata": {
        "id": "DLW6rZmVYAHp",
        "colab_type": "code",
        "outputId": "b3e45cb1-d629-4d50-b948-032dd9aee8a5",
        "colab": {
          "base_uri": "https://localhost:8080/",
          "height": 53
        }
      },
      "cell_type": "code",
      "source": [
        "# output layer: relu activation\n",
        "relu(z1r)"
      ],
      "execution_count": 22,
      "outputs": [
        {
          "output_type": "execute_result",
          "data": {
            "text/plain": [
              "array([[ 0.        ],\n",
              "       [11.61097086]])"
            ]
          },
          "metadata": {
            "tags": []
          },
          "execution_count": 22
        }
      ]
    },
    {
      "metadata": {
        "id": "86aSomYFYAHt",
        "colab_type": "code",
        "colab": {}
      },
      "cell_type": "code",
      "source": [
        "# (linear sum + bias) in output layer\n",
        "z1s = np.dot(w1[1], sigmoid(z0+b1[0].T).T)  + b1[1]"
      ],
      "execution_count": 0,
      "outputs": []
    },
    {
      "metadata": {
        "id": "QmwI9WjmYAHz",
        "colab_type": "code",
        "outputId": "86902ba6-aa48-42fc-b0aa-88f644a787a0",
        "colab": {
          "base_uri": "https://localhost:8080/",
          "height": 53
        }
      },
      "cell_type": "code",
      "source": [
        "# output layer: sigmoid activation\n",
        "sigmoid(z1s)"
      ],
      "execution_count": 24,
      "outputs": [
        {
          "output_type": "execute_result",
          "data": {
            "text/plain": [
              "array([[0.6773822],\n",
              "       [0.9439951]])"
            ]
          },
          "metadata": {
            "tags": []
          },
          "execution_count": 24
        }
      ]
    },
    {
      "metadata": {
        "id": "BAtTmPpzYAH4",
        "colab_type": "text"
      },
      "cell_type": "markdown",
      "source": [
        "### Checking feedforward operation\n",
        "> N0 network with sizes=[5,3,2]  # input, layer1, output"
      ]
    },
    {
      "metadata": {
        "id": "c2A2T3VxYAH4",
        "colab_type": "code",
        "outputId": "71fce2af-cd31-4ba2-9cb2-4e6315930944",
        "colab": {
          "base_uri": "https://localhost:8080/",
          "height": 35
        }
      },
      "cell_type": "code",
      "source": [
        "np.random.seed(0)\n",
        "N0=Network(sizes)\n",
        "sizes  # inputvalue 5개 hiddenlayer output 3개 "
      ],
      "execution_count": 25,
      "outputs": [
        {
          "output_type": "execute_result",
          "data": {
            "text/plain": [
              "[5, 3, 2]"
            ]
          },
          "metadata": {
            "tags": []
          },
          "execution_count": 25
        }
      ]
    },
    {
      "metadata": {
        "id": "SiXyvjDiYAH8",
        "colab_type": "code",
        "outputId": "5244653e-d380-4769-be7a-9f9aebbe0817",
        "colab": {
          "base_uri": "https://localhost:8080/",
          "height": 161
        }
      },
      "cell_type": "code",
      "source": [
        "N0.show_parameters()"
      ],
      "execution_count": 26,
      "outputs": [
        {
          "output_type": "stream",
          "text": [
            "biases: = [array([[1.76405235],\n",
            "       [0.40015721],\n",
            "       [0.97873798]]), array([[2.2408932 ],\n",
            "       [1.86755799]])]\n",
            "weights: = [array([[-0.97727788,  0.95008842, -0.15135721, -0.10321885,  0.4105985 ],\n",
            "       [ 0.14404357,  1.45427351,  0.76103773,  0.12167502,  0.44386323],\n",
            "       [ 0.33367433,  1.49407907, -0.20515826,  0.3130677 , -0.85409574]]), array([[-2.55298982,  0.6536186 ,  0.8644362 ],\n",
            "       [-0.74216502,  2.26975462, -1.45436567]])]\n"
          ],
          "name": "stdout"
        }
      ]
    },
    {
      "metadata": {
        "id": "lQF7iPHjYAIE",
        "colab_type": "text"
      },
      "cell_type": "markdown",
      "source": [
        "### heaviside activation"
      ]
    },
    {
      "metadata": {
        "id": "yKvOXu9nYAIF",
        "colab_type": "code",
        "outputId": "c9181fff-a26e-4f91-f6c6-c1dddd114462",
        "colab": {
          "base_uri": "https://localhost:8080/",
          "height": 89
        }
      },
      "cell_type": "code",
      "source": [
        "N0.feedforward(x0, heaviside)"
      ],
      "execution_count": 27,
      "outputs": [
        {
          "output_type": "stream",
          "text": [
            "[ 3.7441638   5.51698415 -0.41467932]\n",
            "[0.34152198 3.39514759]\n",
            "[1. 1.]\n"
          ],
          "name": "stdout"
        },
        {
          "output_type": "execute_result",
          "data": {
            "text/plain": [
              "array([1., 1.])"
            ]
          },
          "metadata": {
            "tags": []
          },
          "execution_count": 27
        }
      ]
    },
    {
      "metadata": {
        "id": "7e_r3MMDYAIJ",
        "colab_type": "code",
        "outputId": "d2c74152-6d81-4661-d5f6-735e292e9db4",
        "colab": {
          "base_uri": "https://localhost:8080/",
          "height": 89
        }
      },
      "cell_type": "code",
      "source": [
        "N0.feedforward(x0, heaviside)==heaviside(z1h).T"
      ],
      "execution_count": 28,
      "outputs": [
        {
          "output_type": "stream",
          "text": [
            "[ 3.7441638   5.51698415 -0.41467932]\n",
            "[0.34152198 3.39514759]\n",
            "[1. 1.]\n"
          ],
          "name": "stdout"
        },
        {
          "output_type": "execute_result",
          "data": {
            "text/plain": [
              "array([[ True,  True]])"
            ]
          },
          "metadata": {
            "tags": []
          },
          "execution_count": 28
        }
      ]
    },
    {
      "metadata": {
        "id": "7DprevEAYAIM",
        "colab_type": "text"
      },
      "cell_type": "markdown",
      "source": [
        "### relu activation"
      ]
    },
    {
      "metadata": {
        "id": "8p18DixSYAIO",
        "colab_type": "code",
        "outputId": "bdf2022a-cfa1-4824-9b8a-50d1e69a290f",
        "colab": {
          "base_uri": "https://localhost:8080/",
          "height": 89
        }
      },
      "cell_type": "code",
      "source": [
        "N0.feedforward(x0, relu)"
      ],
      "execution_count": 29,
      "outputs": [
        {
          "output_type": "stream",
          "text": [
            "[ 3.7441638   5.51698415 -0.41467932]\n",
            "[-3.71191542 11.61097086]\n",
            "[ 0.         11.61097086]\n"
          ],
          "name": "stdout"
        },
        {
          "output_type": "execute_result",
          "data": {
            "text/plain": [
              "array([ 0.        , 11.61097086])"
            ]
          },
          "metadata": {
            "tags": []
          },
          "execution_count": 29
        }
      ]
    },
    {
      "metadata": {
        "id": "p90kbboMYAIR",
        "colab_type": "code",
        "outputId": "339de971-512a-49b0-f190-7d5e0f65c5cf",
        "colab": {
          "base_uri": "https://localhost:8080/",
          "height": 89
        }
      },
      "cell_type": "code",
      "source": [
        "N0.feedforward(x0, relu) == relu(z1r).T"
      ],
      "execution_count": 30,
      "outputs": [
        {
          "output_type": "stream",
          "text": [
            "[ 3.7441638   5.51698415 -0.41467932]\n",
            "[-3.71191542 11.61097086]\n",
            "[ 0.         11.61097086]\n"
          ],
          "name": "stdout"
        },
        {
          "output_type": "execute_result",
          "data": {
            "text/plain": [
              "array([[ True,  True]])"
            ]
          },
          "metadata": {
            "tags": []
          },
          "execution_count": 30
        }
      ]
    },
    {
      "metadata": {
        "id": "H2Z8RVxpYAIW",
        "colab_type": "text"
      },
      "cell_type": "markdown",
      "source": [
        "### sigmoid activation"
      ]
    },
    {
      "metadata": {
        "id": "XzqEEUYLYAIX",
        "colab_type": "code",
        "outputId": "cb5ae388-917a-463e-d069-38cc8cd6a25c",
        "colab": {
          "base_uri": "https://localhost:8080/",
          "height": 89
        }
      },
      "cell_type": "code",
      "source": [
        "N0.feedforward(x0, sigmoid)"
      ],
      "execution_count": 31,
      "outputs": [
        {
          "output_type": "stream",
          "text": [
            "[ 3.7441638   5.51698415 -0.41467932]\n",
            "[0.74176733 2.82468179]\n",
            "[0.6773822 0.9439951]\n"
          ],
          "name": "stdout"
        },
        {
          "output_type": "execute_result",
          "data": {
            "text/plain": [
              "array([0.6773822, 0.9439951])"
            ]
          },
          "metadata": {
            "tags": []
          },
          "execution_count": 31
        }
      ]
    },
    {
      "metadata": {
        "id": "Uxx0Aj5rYAIh",
        "colab_type": "code",
        "outputId": "6af5953d-ed4d-4378-d8b5-5d0dd282ed18",
        "colab": {
          "base_uri": "https://localhost:8080/",
          "height": 89
        }
      },
      "cell_type": "code",
      "source": [
        "N0.feedforward(x0, sigmoid)==sigmoid(z1s).T"
      ],
      "execution_count": 32,
      "outputs": [
        {
          "output_type": "stream",
          "text": [
            "[ 3.7441638   5.51698415 -0.41467932]\n",
            "[0.74176733 2.82468179]\n",
            "[0.6773822 0.9439951]\n"
          ],
          "name": "stdout"
        },
        {
          "output_type": "execute_result",
          "data": {
            "text/plain": [
              "array([[ True,  True]])"
            ]
          },
          "metadata": {
            "tags": []
          },
          "execution_count": 32
        }
      ]
    },
    {
      "metadata": {
        "id": "g54aYHLDYAIl",
        "colab_type": "text"
      },
      "cell_type": "markdown",
      "source": [
        "### Well done! Great!"
      ]
    },
    {
      "metadata": {
        "id": "cKAlczOaYAIm",
        "colab_type": "text"
      },
      "cell_type": "markdown",
      "source": [
        "***"
      ]
    },
    {
      "metadata": {
        "id": "BGy-2RPKYAIo",
        "colab_type": "text"
      },
      "cell_type": "markdown",
      "source": [
        "### Neural network 1: single layer (3 -> 2 -> 1)\n",
        "\n",
        "> input (3), layer (2) , and output (1) "
      ]
    },
    {
      "metadata": {
        "id": "c2pUxbp9YAIp",
        "colab_type": "code",
        "outputId": "47f04940-f16c-4b19-de6f-77671d8f1d13",
        "colab": {
          "base_uri": "https://localhost:8080/",
          "height": 35
        }
      },
      "cell_type": "code",
      "source": [
        "# inputs (should be numpy array)\n",
        "x1 = np.array([2.3,4.5,1.3])\n",
        "x2 = np.array([1.3,2.5,4.3])\n",
        "x1,x2"
      ],
      "execution_count": 33,
      "outputs": [
        {
          "output_type": "execute_result",
          "data": {
            "text/plain": [
              "(array([2.3, 4.5, 1.3]), array([1.3, 2.5, 4.3]))"
            ]
          },
          "metadata": {
            "tags": []
          },
          "execution_count": 33
        }
      ]
    },
    {
      "metadata": {
        "id": "s2BZHOd5YAIt",
        "colab_type": "code",
        "outputId": "e4978148-5658-45ed-897b-1108590a3f75",
        "colab": {
          "base_uri": "https://localhost:8080/",
          "height": 35
        }
      },
      "cell_type": "code",
      "source": [
        "np.random.seed(0)\n",
        "N1 = Network([3,2,1])  # 3X2X1 NN\n",
        "N1.num_layers # input (3), layer (2) , and output (1) "
      ],
      "execution_count": 34,
      "outputs": [
        {
          "output_type": "execute_result",
          "data": {
            "text/plain": [
              "3"
            ]
          },
          "metadata": {
            "tags": []
          },
          "execution_count": 34
        }
      ]
    },
    {
      "metadata": {
        "id": "4hO3adRoYAIz",
        "colab_type": "code",
        "outputId": "6076137f-9572-4535-c8c5-4227e7f50918",
        "colab": {
          "base_uri": "https://localhost:8080/",
          "height": 35
        }
      },
      "cell_type": "code",
      "source": [
        "N1.num_layers,N1.sizes"
      ],
      "execution_count": 35,
      "outputs": [
        {
          "output_type": "execute_result",
          "data": {
            "text/plain": [
              "(3, [3, 2, 1])"
            ]
          },
          "metadata": {
            "tags": []
          },
          "execution_count": 35
        }
      ]
    },
    {
      "metadata": {
        "id": "yWxQluB2YAI2",
        "colab_type": "code",
        "outputId": "dbb12031-dbb8-4ccb-e247-e29b94a17437",
        "colab": {
          "base_uri": "https://localhost:8080/",
          "height": 89
        }
      },
      "cell_type": "code",
      "source": [
        "N1.show_parameters()"
      ],
      "execution_count": 36,
      "outputs": [
        {
          "output_type": "stream",
          "text": [
            "biases: = [array([[1.76405235],\n",
            "       [0.40015721]]), array([[0.97873798]])]\n",
            "weights: = [array([[ 2.2408932 ,  1.86755799, -0.97727788],\n",
            "       [ 0.95008842, -0.15135721, -0.10321885]]), array([[0.4105985 , 0.14404357]])]\n"
          ],
          "name": "stdout"
        }
      ]
    },
    {
      "metadata": {
        "id": "wh7ygEW5YAI7",
        "colab_type": "code",
        "outputId": "b72ddf62-4f3b-4fbe-fc1c-f416161de4d7",
        "colab": {
          "base_uri": "https://localhost:8080/",
          "height": 125
        }
      },
      "cell_type": "code",
      "source": [
        "N1.weights,N1.biases,x1"
      ],
      "execution_count": 37,
      "outputs": [
        {
          "output_type": "execute_result",
          "data": {
            "text/plain": [
              "([array([[ 2.2408932 ,  1.86755799, -0.97727788],\n",
              "         [ 0.95008842, -0.15135721, -0.10321885]]),\n",
              "  array([[0.4105985 , 0.14404357]])],\n",
              " [array([[1.76405235],\n",
              "         [0.40015721]]), array([[0.97873798]])],\n",
              " array([2.3, 4.5, 1.3]))"
            ]
          },
          "metadata": {
            "tags": []
          },
          "execution_count": 37
        }
      ]
    },
    {
      "metadata": {
        "id": "o6eo9yjlYAI_",
        "colab_type": "code",
        "outputId": "7ce6b567-aebb-4ba1-d9d8-693477069272",
        "colab": {
          "base_uri": "https://localhost:8080/",
          "height": 53
        }
      },
      "cell_type": "code",
      "source": [
        "# z = np.dot(w,a)+b\n",
        "z0 = np.dot(N1.weights[0], x1) # + N1.biases\n",
        "z0,N1.biases[0],z0+N1.biases[0].T"
      ],
      "execution_count": 38,
      "outputs": [
        {
          "output_type": "execute_result",
          "data": {
            "text/plain": [
              "(array([12.28760407,  1.36991142]), array([[1.76405235],\n",
              "        [0.40015721]]), array([[14.05165642,  1.77006862]]))"
            ]
          },
          "metadata": {
            "tags": []
          },
          "execution_count": 38
        }
      ]
    },
    {
      "metadata": {
        "id": "lcrsNBUWYAJC",
        "colab_type": "code",
        "outputId": "863675cb-8fc2-479b-c0bd-ac00abaffa08",
        "colab": {
          "base_uri": "https://localhost:8080/",
          "height": 53
        }
      },
      "cell_type": "code",
      "source": [
        "N1.biases[0],N1.biases[0].T"
      ],
      "execution_count": 39,
      "outputs": [
        {
          "output_type": "execute_result",
          "data": {
            "text/plain": [
              "(array([[1.76405235],\n",
              "        [0.40015721]]), array([[1.76405235, 0.40015721]]))"
            ]
          },
          "metadata": {
            "tags": []
          },
          "execution_count": 39
        }
      ]
    },
    {
      "metadata": {
        "id": "SCSVZnzAYAJF",
        "colab_type": "code",
        "outputId": "8a41774d-3c61-4e56-9b6a-f066db658238",
        "colab": {
          "base_uri": "https://localhost:8080/",
          "height": 35
        }
      },
      "cell_type": "code",
      "source": [
        "z0 = np.dot(N1.weights[0], x1)  + N1.biases[0].T\n",
        "z0"
      ],
      "execution_count": 40,
      "outputs": [
        {
          "output_type": "execute_result",
          "data": {
            "text/plain": [
              "array([[14.05165642,  1.77006862]])"
            ]
          },
          "metadata": {
            "tags": []
          },
          "execution_count": 40
        }
      ]
    },
    {
      "metadata": {
        "id": "XYWb4xOJYAJJ",
        "colab_type": "code",
        "outputId": "a8e932ac-1ec0-4bde-c0c9-4366d839f078",
        "colab": {
          "base_uri": "https://localhost:8080/",
          "height": 71
        }
      },
      "cell_type": "code",
      "source": [
        "heaviside(z0),relu(z0),sigmoid(z0)"
      ],
      "execution_count": 41,
      "outputs": [
        {
          "output_type": "execute_result",
          "data": {
            "text/plain": [
              "(array([[1., 1.]]),\n",
              " array([[14.05165642,  1.77006862]]),\n",
              " array([[0.99999921, 0.8544662 ]]))"
            ]
          },
          "metadata": {
            "tags": []
          },
          "execution_count": 41
        }
      ]
    },
    {
      "metadata": {
        "id": "VaXHwh4GYAJN",
        "colab_type": "code",
        "outputId": "8afb7f85-0bdd-4f8c-e053-5ec4514f55df",
        "colab": {
          "base_uri": "https://localhost:8080/",
          "height": 35
        }
      },
      "cell_type": "code",
      "source": [
        "N1.weights[1],np.dot(N1.weights[1], heaviside(z0).T) "
      ],
      "execution_count": 42,
      "outputs": [
        {
          "output_type": "execute_result",
          "data": {
            "text/plain": [
              "(array([[0.4105985 , 0.14404357]]), array([[0.55464207]]))"
            ]
          },
          "metadata": {
            "tags": []
          },
          "execution_count": 42
        }
      ]
    },
    {
      "metadata": {
        "id": "Xd1cQJEdYAJR",
        "colab_type": "code",
        "outputId": "48da3584-790e-4d77-9589-498e0224b37b",
        "colab": {
          "base_uri": "https://localhost:8080/",
          "height": 35
        }
      },
      "cell_type": "code",
      "source": [
        "z1h = np.dot(N1.weights[1], heaviside(z0).T)  + N1.biases[1].T\n",
        "z1h"
      ],
      "execution_count": 43,
      "outputs": [
        {
          "output_type": "execute_result",
          "data": {
            "text/plain": [
              "array([[1.53338006]])"
            ]
          },
          "metadata": {
            "tags": []
          },
          "execution_count": 43
        }
      ]
    },
    {
      "metadata": {
        "id": "lqKIJ1EoYAJU",
        "colab_type": "code",
        "outputId": "f93da030-3fc1-445a-e352-4a9fee66f792",
        "colab": {
          "base_uri": "https://localhost:8080/",
          "height": 35
        }
      },
      "cell_type": "code",
      "source": [
        "z1r = np.dot(N1.weights[1], relu(z0).T)  + N1.biases[1].T\n",
        "z1r"
      ],
      "execution_count": 44,
      "outputs": [
        {
          "output_type": "execute_result",
          "data": {
            "text/plain": [
              "array([[7.00329406]])"
            ]
          },
          "metadata": {
            "tags": []
          },
          "execution_count": 44
        }
      ]
    },
    {
      "metadata": {
        "id": "IKAnPmlLYAJY",
        "colab_type": "code",
        "outputId": "3f53de4e-b1ee-4390-e18b-c6cf149eb5bd",
        "colab": {
          "base_uri": "https://localhost:8080/",
          "height": 35
        }
      },
      "cell_type": "code",
      "source": [
        "z1s = np.dot(N1.weights[1], sigmoid(z0).T)  + N1.biases[1].T\n",
        "z1s"
      ],
      "execution_count": 45,
      "outputs": [
        {
          "output_type": "execute_result",
          "data": {
            "text/plain": [
              "array([[1.51241653]])"
            ]
          },
          "metadata": {
            "tags": []
          },
          "execution_count": 45
        }
      ]
    },
    {
      "metadata": {
        "id": "vzqJieOrYAJd",
        "colab_type": "code",
        "outputId": "52d72279-a5ba-4550-bb85-7f5fc583a945",
        "colab": {
          "base_uri": "https://localhost:8080/",
          "height": 35
        }
      },
      "cell_type": "code",
      "source": [
        "heaviside(z1h),relu(z1r),sigmoid(z1s)"
      ],
      "execution_count": 46,
      "outputs": [
        {
          "output_type": "execute_result",
          "data": {
            "text/plain": [
              "(array([[1.]]), array([[7.00329406]]), array([[0.81941906]]))"
            ]
          },
          "metadata": {
            "tags": []
          },
          "execution_count": 46
        }
      ]
    },
    {
      "metadata": {
        "id": "rKP6vGDMYAJf",
        "colab_type": "code",
        "outputId": "0466f291-55d8-4ca8-f122-e5cdbbe1ea02",
        "colab": {
          "base_uri": "https://localhost:8080/",
          "height": 197
        }
      },
      "cell_type": "code",
      "source": [
        "N1.feedforward(x1, heaviside),N1.feedforward(x1, relu),N1.feedforward(x1, sigmoid)"
      ],
      "execution_count": 47,
      "outputs": [
        {
          "output_type": "stream",
          "text": [
            "[14.05165642  1.77006862]\n",
            "[1.53338006]\n",
            "[1.]\n",
            "[14.05165642  1.77006862]\n",
            "[7.00329406]\n",
            "[7.00329406]\n",
            "[14.05165642  1.77006862]\n",
            "[1.51241653]\n",
            "[0.81941906]\n"
          ],
          "name": "stdout"
        },
        {
          "output_type": "execute_result",
          "data": {
            "text/plain": [
              "(array([1.]), array([7.00329406]), array([0.81941906]))"
            ]
          },
          "metadata": {
            "tags": []
          },
          "execution_count": 47
        }
      ]
    },
    {
      "metadata": {
        "id": "L1vhn5v1YAJo",
        "colab_type": "code",
        "outputId": "e1d3f81e-81c2-4106-c0ef-990d1e75654b",
        "colab": {
          "base_uri": "https://localhost:8080/",
          "height": 197
        }
      },
      "cell_type": "code",
      "source": [
        "N1.feedforward(x2, heaviside),N1.feedforward(x2, relu),N1.feedforward(x2, sigmoid)"
      ],
      "execution_count": 48,
      "outputs": [
        {
          "output_type": "stream",
          "text": [
            "[5.1438136  0.81303807]\n",
            "[1.53338006]\n",
            "[1.]\n",
            "[5.1438136  0.81303807]\n",
            "[3.20789305]\n",
            "[3.20789305]\n",
            "[5.1438136  0.81303807]\n",
            "[1.48674151]\n",
            "[0.81558869]\n"
          ],
          "name": "stdout"
        },
        {
          "output_type": "execute_result",
          "data": {
            "text/plain": [
              "(array([1.]), array([3.20789305]), array([0.81558869]))"
            ]
          },
          "metadata": {
            "tags": []
          },
          "execution_count": 48
        }
      ]
    },
    {
      "metadata": {
        "id": "H8PztovdYAJt",
        "colab_type": "text"
      },
      "cell_type": "markdown",
      "source": [
        "***"
      ]
    },
    {
      "metadata": {
        "id": "-SPngHpSYAJv",
        "colab_type": "text"
      },
      "cell_type": "markdown",
      "source": [
        "### Neural network 2: single layer (5 -> 3 -> 2)\n",
        "\n",
        "> input (5), layer (3) , and output (2) "
      ]
    },
    {
      "metadata": {
        "id": "EQFdp8fuYAJx",
        "colab_type": "code",
        "outputId": "f08ef1c2-522b-4bd3-a62b-78959b29af39",
        "colab": {
          "base_uri": "https://localhost:8080/",
          "height": 35
        }
      },
      "cell_type": "code",
      "source": [
        "# inputs (should be numpy array)\n",
        "x1 = np.array([2.3,4.5,1.3,0.7,2.8])\n",
        "x2 = np.array([1.3,2.5,4.3,5.1,3.9])\n",
        "x1,x2"
      ],
      "execution_count": 49,
      "outputs": [
        {
          "output_type": "execute_result",
          "data": {
            "text/plain": [
              "(array([2.3, 4.5, 1.3, 0.7, 2.8]), array([1.3, 2.5, 4.3, 5.1, 3.9]))"
            ]
          },
          "metadata": {
            "tags": []
          },
          "execution_count": 49
        }
      ]
    },
    {
      "metadata": {
        "id": "1pEJGVNCYAJ3",
        "colab_type": "code",
        "outputId": "6fe93f5b-5aea-4355-d971-9ae47fa150e3",
        "colab": {}
      },
      "cell_type": "code",
      "source": [
        "np.random.seed(0)\n",
        "N2 = Network([5,3,2])  # 5X3X2 NN\n",
        "N2.num_layers # input (5), layer (3) , and output (2) "
      ],
      "execution_count": 0,
      "outputs": [
        {
          "output_type": "execute_result",
          "data": {
            "text/plain": [
              "3"
            ]
          },
          "metadata": {
            "tags": []
          },
          "execution_count": 628
        }
      ]
    },
    {
      "metadata": {
        "id": "36GRXxK7YAJ8",
        "colab_type": "code",
        "outputId": "d93507b8-29b3-43b9-912b-b4ae03390d8e",
        "colab": {}
      },
      "cell_type": "code",
      "source": [
        "N2.num_layers,N2.sizes"
      ],
      "execution_count": 0,
      "outputs": [
        {
          "output_type": "execute_result",
          "data": {
            "text/plain": [
              "(3, [5, 3, 2])"
            ]
          },
          "metadata": {
            "tags": []
          },
          "execution_count": 629
        }
      ]
    },
    {
      "metadata": {
        "id": "Urrdzt6WYAKC",
        "colab_type": "code",
        "outputId": "33427d7e-9536-4d11-9fcd-b6c9687abc8e",
        "colab": {}
      },
      "cell_type": "code",
      "source": [
        "N2.show_parameters()"
      ],
      "execution_count": 0,
      "outputs": [
        {
          "output_type": "stream",
          "text": [
            "biases: = [array([[1.76405235],\n",
            "       [0.40015721],\n",
            "       [0.97873798]]), array([[2.2408932 ],\n",
            "       [1.86755799]])]\n",
            "weights: = [array([[-0.97727788,  0.95008842, -0.15135721, -0.10321885,  0.4105985 ],\n",
            "       [ 0.14404357,  1.45427351,  0.76103773,  0.12167502,  0.44386323],\n",
            "       [ 0.33367433,  1.49407907, -0.20515826,  0.3130677 , -0.85409574]]), array([[-2.55298982,  0.6536186 ,  0.8644362 ],\n",
            "       [-0.74216502,  2.26975462, -1.45436567]])]\n"
          ],
          "name": "stdout"
        }
      ]
    },
    {
      "metadata": {
        "id": "wZaW13cxYAKJ",
        "colab_type": "code",
        "outputId": "6eaef3b9-8755-40b7-c3d9-069d73f14ed8",
        "colab": {}
      },
      "cell_type": "code",
      "source": [
        "N2.weights,N2.biases,x1"
      ],
      "execution_count": 0,
      "outputs": [
        {
          "output_type": "execute_result",
          "data": {
            "text/plain": [
              "([array([[-0.97727788,  0.95008842, -0.15135721, -0.10321885,  0.4105985 ],\n",
              "         [ 0.14404357,  1.45427351,  0.76103773,  0.12167502,  0.44386323],\n",
              "         [ 0.33367433,  1.49407907, -0.20515826,  0.3130677 , -0.85409574]]),\n",
              "  array([[-2.55298982,  0.6536186 ,  0.8644362 ],\n",
              "         [-0.74216502,  2.26975462, -1.45436567]])],\n",
              " [array([[1.76405235],\n",
              "         [0.40015721],\n",
              "         [0.97873798]]), array([[2.2408932 ],\n",
              "         [1.86755799]])],\n",
              " array([2.3, 4.5, 1.3, 0.7, 2.8]))"
            ]
          },
          "metadata": {
            "tags": []
          },
          "execution_count": 631
        }
      ]
    },
    {
      "metadata": {
        "id": "oT_eZRT7YAKT",
        "colab_type": "code",
        "outputId": "7a0523f2-9093-4860-fecb-42ee6fd8b86c",
        "colab": {}
      },
      "cell_type": "code",
      "source": [
        "N2.weights[0].shape,N2.weights[1].shape,N2.biases[0].shape,N2.biases[1].shape"
      ],
      "execution_count": 0,
      "outputs": [
        {
          "output_type": "execute_result",
          "data": {
            "text/plain": [
              "((3, 5), (2, 3), (3, 1), (2, 1))"
            ]
          },
          "metadata": {
            "tags": []
          },
          "execution_count": 632
        }
      ]
    },
    {
      "metadata": {
        "id": "IjbyZJgaYAKb",
        "colab_type": "code",
        "outputId": "3ded1aca-23e5-443e-ed72-38fa2e632e8e",
        "colab": {}
      },
      "cell_type": "code",
      "source": [
        "# z = np.dot(w,a)+b\n",
        "z0 = np.dot(N2.weights[0], x1) # + N1.biases\n",
        "z0,N2.biases[0],z0+N2.biases[0].T"
      ],
      "execution_count": 0,
      "outputs": [
        {
          "output_type": "execute_result",
          "data": {
            "text/plain": [
              "(array([2.90831699, 9.1928696 , 5.05178036]), array([[1.76405235],\n",
              "        [0.40015721],\n",
              "        [0.97873798]]), array([[4.67236934, 9.59302681, 6.03051834]]))"
            ]
          },
          "metadata": {
            "tags": []
          },
          "execution_count": 633
        }
      ]
    },
    {
      "metadata": {
        "id": "0ObDHpexYAKj",
        "colab_type": "code",
        "outputId": "1447707a-6100-497a-83d6-66975e74b0f2",
        "colab": {}
      },
      "cell_type": "code",
      "source": [
        "N2.biases[0],N2.biases[0].T"
      ],
      "execution_count": 0,
      "outputs": [
        {
          "output_type": "execute_result",
          "data": {
            "text/plain": [
              "(array([[1.76405235],\n",
              "        [0.40015721],\n",
              "        [0.97873798]]), array([[1.76405235, 0.40015721, 0.97873798]]))"
            ]
          },
          "metadata": {
            "tags": []
          },
          "execution_count": 634
        }
      ]
    },
    {
      "metadata": {
        "id": "_uPexJfLYAKs",
        "colab_type": "code",
        "outputId": "db7e15e4-6f67-44ff-c5bd-d53e7e78d9f0",
        "colab": {}
      },
      "cell_type": "code",
      "source": [
        "z0 = np.dot(N2.weights[0], x1)  + N2.biases[0].T\n",
        "z0"
      ],
      "execution_count": 0,
      "outputs": [
        {
          "output_type": "execute_result",
          "data": {
            "text/plain": [
              "array([[4.67236934, 9.59302681, 6.03051834]])"
            ]
          },
          "metadata": {
            "tags": []
          },
          "execution_count": 635
        }
      ]
    },
    {
      "metadata": {
        "id": "xMfshehnYAK4",
        "colab_type": "code",
        "outputId": "822b6b52-e840-40d1-e7d5-afa30116941a",
        "colab": {}
      },
      "cell_type": "code",
      "source": [
        "heaviside(z0),relu(z0),sigmoid(z0)"
      ],
      "execution_count": 0,
      "outputs": [
        {
          "output_type": "execute_result",
          "data": {
            "text/plain": [
              "(array([[1., 1., 1.]]),\n",
              " array([[4.67236934, 9.59302681, 6.03051834]]),\n",
              " array([[0.99073652, 0.9999318 , 0.99760152]]))"
            ]
          },
          "metadata": {
            "tags": []
          },
          "execution_count": 636
        }
      ]
    },
    {
      "metadata": {
        "id": "T_VGuHx_YAK_",
        "colab_type": "code",
        "outputId": "99c4949b-52be-4076-99ad-a56f5002c1fe",
        "colab": {}
      },
      "cell_type": "code",
      "source": [
        "N2.weights[1],np.dot(N2.weights[1], heaviside(z0).T) "
      ],
      "execution_count": 0,
      "outputs": [
        {
          "output_type": "execute_result",
          "data": {
            "text/plain": [
              "(array([[-2.55298982,  0.6536186 ,  0.8644362 ],\n",
              "        [-0.74216502,  2.26975462, -1.45436567]]), array([[-1.03493502],\n",
              "        [ 0.07322393]]))"
            ]
          },
          "metadata": {
            "tags": []
          },
          "execution_count": 637
        }
      ]
    },
    {
      "metadata": {
        "id": "e-Y8qPADYALK",
        "colab_type": "code",
        "outputId": "e408e49d-9ee5-4cd8-c01b-7e5fcd0051f2",
        "colab": {}
      },
      "cell_type": "code",
      "source": [
        "z1h = np.dot(N2.weights[1], heaviside(z0).T)  + N2.biases[1]\n",
        "z1h"
      ],
      "execution_count": 0,
      "outputs": [
        {
          "output_type": "execute_result",
          "data": {
            "text/plain": [
              "array([[1.20595818],\n",
              "       [1.94078192]])"
            ]
          },
          "metadata": {
            "tags": []
          },
          "execution_count": 638
        }
      ]
    },
    {
      "metadata": {
        "id": "90TveA1HYALQ",
        "colab_type": "code",
        "outputId": "060961d6-fa61-47e3-c4fd-1a03817222b1",
        "colab": {}
      },
      "cell_type": "code",
      "source": [
        "z1r = np.dot(N2.weights[1], relu(z0).T)  + N2.biases[1]\n",
        "z1r"
      ],
      "execution_count": 0,
      "outputs": [
        {
          "output_type": "execute_result",
          "data": {
            "text/plain": [
              "array([[ 1.79556092],\n",
              "       [11.40312698]])"
            ]
          },
          "metadata": {
            "tags": []
          },
          "execution_count": 639
        }
      ]
    },
    {
      "metadata": {
        "id": "EihRKTsLYALX",
        "colab_type": "code",
        "outputId": "b762ce02-f98f-4072-cbac-7b0ab4849f75",
        "colab": {}
      },
      "cell_type": "code",
      "source": [
        "z1s = np.dot(N2.weights[1], sigmoid(z0).T)  + N2.biases[1]\n",
        "z1s"
      ],
      "execution_count": 0,
      "outputs": [
        {
          "output_type": "execute_result",
          "data": {
            "text/plain": [
              "array([[1.22748983],\n",
              "       [1.95099042]])"
            ]
          },
          "metadata": {
            "tags": []
          },
          "execution_count": 640
        }
      ]
    },
    {
      "metadata": {
        "id": "PWqcGXDcYALd",
        "colab_type": "code",
        "outputId": "fb324874-bd8f-41fb-efa9-161138e229bd",
        "colab": {}
      },
      "cell_type": "code",
      "source": [
        "heaviside(z1h),relu(z1r),sigmoid(z1s)"
      ],
      "execution_count": 0,
      "outputs": [
        {
          "output_type": "execute_result",
          "data": {
            "text/plain": [
              "(array([[1.],\n",
              "        [1.]]), array([[ 1.79556092],\n",
              "        [11.40312698]]), array([[0.77337893],\n",
              "        [0.8755546 ]]))"
            ]
          },
          "metadata": {
            "tags": []
          },
          "execution_count": 641
        }
      ]
    },
    {
      "metadata": {
        "id": "9awotf-dYAL9",
        "colab_type": "code",
        "outputId": "cf058e58-23ba-4534-8922-c3344712fdb1",
        "colab": {}
      },
      "cell_type": "code",
      "source": [
        "N2.feedforward(x1, heaviside),N2.feedforward(x1, relu),N2.feedforward(x1, sigmoid)"
      ],
      "execution_count": 0,
      "outputs": [
        {
          "output_type": "stream",
          "text": [
            "[4.67236934 9.59302681 6.03051834]\n",
            "[1.20595818 1.94078192]\n",
            "[1. 1.]\n",
            "[4.67236934 9.59302681 6.03051834]\n",
            "[ 1.79556092 11.40312698]\n",
            "[ 1.79556092 11.40312698]\n",
            "[4.67236934 9.59302681 6.03051834]\n",
            "[1.22748983 1.95099042]\n",
            "[0.77337893 0.8755546 ]\n"
          ],
          "name": "stdout"
        },
        {
          "output_type": "execute_result",
          "data": {
            "text/plain": [
              "(array([1., 1.]),\n",
              " array([ 1.79556092, 11.40312698]),\n",
              " array([0.77337893, 0.8755546 ]))"
            ]
          },
          "metadata": {
            "tags": []
          },
          "execution_count": 642
        }
      ]
    },
    {
      "metadata": {
        "id": "No49OBRfYAMB",
        "colab_type": "code",
        "outputId": "271d7858-c214-4975-f22e-230b6999c17d",
        "colab": {}
      },
      "cell_type": "code",
      "source": [
        "N2.feedforward(x2, heaviside),N2.feedforward(x2, relu),N2.feedforward(x2, sigmoid)"
      ],
      "execution_count": 0,
      "outputs": [
        {
          "output_type": "stream",
          "text": [
            "[3.29289416 9.84716903 2.53120365]\n",
            "[1.20595818 1.94078192]\n",
            "[1. 1.]\n",
            "[3.29289416 9.84716903 2.53120365]\n",
            "[ 2.45852479 18.09304885]\n",
            "[ 2.45852479 18.09304885]\n",
            "[3.29289416 9.84716903 2.53120365]\n",
            "[1.23365244 2.074429  ]\n",
            "[0.7744572  0.88839286]\n"
          ],
          "name": "stdout"
        },
        {
          "output_type": "execute_result",
          "data": {
            "text/plain": [
              "(array([1., 1.]),\n",
              " array([ 2.45852479, 18.09304885]),\n",
              " array([0.7744572 , 0.88839286]))"
            ]
          },
          "metadata": {
            "tags": []
          },
          "execution_count": 643
        }
      ]
    },
    {
      "metadata": {
        "id": "rrNsHTSqYAMF",
        "colab_type": "text"
      },
      "cell_type": "markdown",
      "source": [
        "***"
      ]
    },
    {
      "metadata": {
        "id": "uqHN1rPhYAMG",
        "colab_type": "text"
      },
      "cell_type": "markdown",
      "source": [
        "### Neural network 3: deep layers (5 -> [3, 3] -> 1)\n",
        "\n",
        "> input (5), layer (3,3) , and output (1) "
      ]
    },
    {
      "metadata": {
        "id": "gO_ZXBANYAMI",
        "colab_type": "code",
        "outputId": "d81b9889-06ea-40b7-e1c4-4e4afdedbd7c",
        "colab": {}
      },
      "cell_type": "code",
      "source": [
        "# inputs (should be numpy array)\n",
        "x1 = np.array([2.3,4.5,1.3,0.7,2.8])\n",
        "x2 = np.array([1.3,2.5,4.3,5.1,3.9])\n",
        "x1,x2"
      ],
      "execution_count": 0,
      "outputs": [
        {
          "output_type": "execute_result",
          "data": {
            "text/plain": [
              "(array([2.3, 4.5, 1.3, 0.7, 2.8]), array([1.3, 2.5, 4.3, 5.1, 3.9]))"
            ]
          },
          "metadata": {
            "tags": []
          },
          "execution_count": 644
        }
      ]
    },
    {
      "metadata": {
        "id": "dlwQdzVbYAMK",
        "colab_type": "code",
        "outputId": "70b11031-73e7-4b4e-df0e-fd30327814e4",
        "colab": {}
      },
      "cell_type": "code",
      "source": [
        "np.random.seed(0)\n",
        "N3 = Network([5,3,3,1])  # 5X[3X3]X1 NN\n",
        "N3.num_layers # input (5), layer (3,3) , and output (1) "
      ],
      "execution_count": 0,
      "outputs": [
        {
          "output_type": "execute_result",
          "data": {
            "text/plain": [
              "4"
            ]
          },
          "metadata": {
            "tags": []
          },
          "execution_count": 645
        }
      ]
    },
    {
      "metadata": {
        "id": "5kJGVe9oYAMN",
        "colab_type": "code",
        "outputId": "191082c4-1275-4877-ff2c-e36830106b40",
        "colab": {}
      },
      "cell_type": "code",
      "source": [
        "N3.num_layers,N3.sizes"
      ],
      "execution_count": 0,
      "outputs": [
        {
          "output_type": "execute_result",
          "data": {
            "text/plain": [
              "(4, [5, 3, 3, 1])"
            ]
          },
          "metadata": {
            "tags": []
          },
          "execution_count": 646
        }
      ]
    },
    {
      "metadata": {
        "id": "idDzmx0bYAMQ",
        "colab_type": "code",
        "outputId": "fd3fbc2e-e99c-4bf8-fe8d-f02abecda90e",
        "colab": {}
      },
      "cell_type": "code",
      "source": [
        "N3.show_parameters()"
      ],
      "execution_count": 0,
      "outputs": [
        {
          "output_type": "stream",
          "text": [
            "biases: = [array([[1.76405235],\n",
            "       [0.40015721],\n",
            "       [0.97873798]]), array([[ 2.2408932 ],\n",
            "       [ 1.86755799],\n",
            "       [-0.97727788]]), array([[0.95008842]])]\n",
            "weights: = [array([[-0.15135721, -0.10321885,  0.4105985 ,  0.14404357,  1.45427351],\n",
            "       [ 0.76103773,  0.12167502,  0.44386323,  0.33367433,  1.49407907],\n",
            "       [-0.20515826,  0.3130677 , -0.85409574, -2.55298982,  0.6536186 ]]), array([[ 0.8644362 , -0.74216502,  2.26975462],\n",
            "       [-1.45436567,  0.04575852, -0.18718385],\n",
            "       [ 1.53277921,  1.46935877,  0.15494743]]), array([[ 0.37816252, -0.88778575, -1.98079647]])]\n"
          ],
          "name": "stdout"
        }
      ]
    },
    {
      "metadata": {
        "id": "vJoTNt1vYAMV",
        "colab_type": "code",
        "outputId": "4609e664-adcf-4900-f259-e8f5d5d202ba",
        "colab": {}
      },
      "cell_type": "code",
      "source": [
        "N3.weights,N3.biases,x1"
      ],
      "execution_count": 0,
      "outputs": [
        {
          "output_type": "execute_result",
          "data": {
            "text/plain": [
              "([array([[-0.15135721, -0.10321885,  0.4105985 ,  0.14404357,  1.45427351],\n",
              "         [ 0.76103773,  0.12167502,  0.44386323,  0.33367433,  1.49407907],\n",
              "         [-0.20515826,  0.3130677 , -0.85409574, -2.55298982,  0.6536186 ]]),\n",
              "  array([[ 0.8644362 , -0.74216502,  2.26975462],\n",
              "         [-1.45436567,  0.04575852, -0.18718385],\n",
              "         [ 1.53277921,  1.46935877,  0.15494743]]),\n",
              "  array([[ 0.37816252, -0.88778575, -1.98079647]])],\n",
              " [array([[1.76405235],\n",
              "         [0.40015721],\n",
              "         [0.97873798]]), array([[ 2.2408932 ],\n",
              "         [ 1.86755799],\n",
              "         [-0.97727788]]), array([[0.95008842]])],\n",
              " array([2.3, 4.5, 1.3, 0.7, 2.8]))"
            ]
          },
          "metadata": {
            "tags": []
          },
          "execution_count": 648
        }
      ]
    },
    {
      "metadata": {
        "id": "uddggpepYAMX",
        "colab_type": "code",
        "outputId": "d7f96d3f-45d0-4482-d205-f1c2c65f829d",
        "colab": {}
      },
      "cell_type": "code",
      "source": [
        "# weights\n",
        "N3.weights[0].shape,N3.weights[1].shape,N3.weights[2].shape"
      ],
      "execution_count": 0,
      "outputs": [
        {
          "output_type": "execute_result",
          "data": {
            "text/plain": [
              "((3, 5), (3, 3), (1, 3))"
            ]
          },
          "metadata": {
            "tags": []
          },
          "execution_count": 649
        }
      ]
    },
    {
      "metadata": {
        "id": "V4EettnLYAMa",
        "colab_type": "code",
        "outputId": "f0512f39-47ba-4b1c-9e98-8aa649293281",
        "colab": {}
      },
      "cell_type": "code",
      "source": [
        "# biases\n",
        "N3.biases[0].shape,N3.biases[1].shape,N3.biases[2].shape"
      ],
      "execution_count": 0,
      "outputs": [
        {
          "output_type": "execute_result",
          "data": {
            "text/plain": [
              "((3, 1), (3, 1), (1, 1))"
            ]
          },
          "metadata": {
            "tags": []
          },
          "execution_count": 650
        }
      ]
    },
    {
      "metadata": {
        "id": "CDHR0ZByYAMg",
        "colab_type": "code",
        "outputId": "d537e83c-13a6-4737-b253-7f698152948c",
        "colab": {}
      },
      "cell_type": "code",
      "source": [
        "# z = np.dot(w,a)+b\n",
        "# z0 = np.dot(N3.weights[0], x1) # + N1.biases\n",
        "# z0,N3.biases[0],z0+N3.biases[0].T\n",
        "z0 = np.dot(N3.weights[0], x1)  + N3.biases[0].T\n",
        "z0"
      ],
      "execution_count": 0,
      "outputs": [
        {
          "output_type": "execute_result",
          "data": {
            "text/plain": [
              "array([[5.65802031, 7.69209719, 0.84839337]])"
            ]
          },
          "metadata": {
            "tags": []
          },
          "execution_count": 651
        }
      ]
    },
    {
      "metadata": {
        "id": "oynjGzMlYAMl",
        "colab_type": "code",
        "outputId": "6cc8d0b0-bbfe-4a0e-a10b-452fe3056f72",
        "colab": {}
      },
      "cell_type": "code",
      "source": [
        "heaviside(z0),relu(z0),sigmoid(z0)"
      ],
      "execution_count": 0,
      "outputs": [
        {
          "output_type": "execute_result",
          "data": {
            "text/plain": [
              "(array([[1., 1., 1.]]),\n",
              " array([[5.65802031, 7.69209719, 0.84839337]]),\n",
              " array([[0.99652272, 0.99954379, 0.70023001]]))"
            ]
          },
          "metadata": {
            "tags": []
          },
          "execution_count": 652
        }
      ]
    },
    {
      "metadata": {
        "id": "du1ocM75YAMs",
        "colab_type": "code",
        "outputId": "0922c694-4e91-49eb-a9f3-5878964c50bd",
        "colab": {}
      },
      "cell_type": "code",
      "source": [
        "N3.weights[1],np.dot(N3.weights[1], heaviside(z0).T) "
      ],
      "execution_count": 0,
      "outputs": [
        {
          "output_type": "execute_result",
          "data": {
            "text/plain": [
              "(array([[ 0.8644362 , -0.74216502,  2.26975462],\n",
              "        [-1.45436567,  0.04575852, -0.18718385],\n",
              "        [ 1.53277921,  1.46935877,  0.15494743]]), array([[ 2.3920258 ],\n",
              "        [-1.59579101],\n",
              "        [ 3.15708541]]))"
            ]
          },
          "metadata": {
            "tags": []
          },
          "execution_count": 653
        }
      ]
    },
    {
      "metadata": {
        "id": "R3jGyT8hYAMz",
        "colab_type": "code",
        "outputId": "68828253-defa-49d3-a992-b70ec71303e3",
        "colab": {}
      },
      "cell_type": "code",
      "source": [
        "z1h = np.dot(N3.weights[1], heaviside(z0).T)  + N3.biases[1]\n",
        "z1h"
      ],
      "execution_count": 0,
      "outputs": [
        {
          "output_type": "execute_result",
          "data": {
            "text/plain": [
              "array([[4.632919  ],\n",
              "       [0.27176698],\n",
              "       [2.17980753]])"
            ]
          },
          "metadata": {
            "tags": []
          },
          "execution_count": 654
        }
      ]
    },
    {
      "metadata": {
        "id": "bIy7A2O1YAM2",
        "colab_type": "code",
        "outputId": "d0f9e3d7-ce11-4210-8d30-c7b6777a4e41",
        "colab": {}
      },
      "cell_type": "code",
      "source": [
        "z1r = np.dot(N3.weights[1], relu(z0).T)  + N3.biases[1]\n",
        "z1r"
      ],
      "execution_count": 0,
      "outputs": [
        {
          "output_type": "execute_result",
          "data": {
            "text/plain": [
              "array([[ 3.34873007],\n",
              "       [-6.1680991 ],\n",
              "       [19.12912487]])"
            ]
          },
          "metadata": {
            "tags": []
          },
          "execution_count": 655
        }
      ]
    },
    {
      "metadata": {
        "id": "ZYeE73ayYAM5",
        "colab_type": "code",
        "outputId": "9bac0ef0-809e-4579-ac37-989128496e7c",
        "colab": {}
      },
      "cell_type": "code",
      "source": [
        "z1s = np.dot(N3.weights[1], sigmoid(z0).T)  + N3.biases[1]\n",
        "z1s"
      ],
      "execution_count": 0,
      "outputs": [
        {
          "output_type": "execute_result",
          "data": {
            "text/plain": [
              "array([[3.94984737],\n",
              "       [0.33291545],\n",
              "       [2.12735869]])"
            ]
          },
          "metadata": {
            "tags": []
          },
          "execution_count": 656
        }
      ]
    },
    {
      "metadata": {
        "id": "Du9aSwfsYAM9",
        "colab_type": "code",
        "outputId": "240e6560-e26a-465f-8c4c-401d937cfece",
        "colab": {}
      },
      "cell_type": "code",
      "source": [
        "z2h = np.dot(N3.weights[2], heaviside(z1h))  + N3.biases[2].T\n",
        "z2h"
      ],
      "execution_count": 0,
      "outputs": [
        {
          "output_type": "execute_result",
          "data": {
            "text/plain": [
              "array([[-1.54033128]])"
            ]
          },
          "metadata": {
            "tags": []
          },
          "execution_count": 657
        }
      ]
    },
    {
      "metadata": {
        "id": "6-CBO-npYANA",
        "colab_type": "code",
        "outputId": "58d43392-28c6-4c10-bde0-e7f7fb9f6419",
        "colab": {}
      },
      "cell_type": "code",
      "source": [
        "z2r = np.dot(N3.weights[2], relu(z1r))  + N3.biases[2].T\n",
        "z2r"
      ],
      "execution_count": 0,
      "outputs": [
        {
          "output_type": "execute_result",
          "data": {
            "text/plain": [
              "array([[-35.67445036]])"
            ]
          },
          "metadata": {
            "tags": []
          },
          "execution_count": 658
        }
      ]
    },
    {
      "metadata": {
        "id": "_dVWzikXYANE",
        "colab_type": "code",
        "outputId": "9f0b0a04-69db-4375-fd3c-6035a8c020a2",
        "colab": {}
      },
      "cell_type": "code",
      "source": [
        "z2s = np.dot(N3.weights[2], sigmoid(z1s))  + N3.biases[2].T\n",
        "z2s"
      ],
      "execution_count": 0,
      "outputs": [
        {
          "output_type": "execute_result",
          "data": {
            "text/plain": [
              "array([[-0.96591028]])"
            ]
          },
          "metadata": {
            "tags": []
          },
          "execution_count": 659
        }
      ]
    },
    {
      "metadata": {
        "id": "bRiWDlMWYANH",
        "colab_type": "code",
        "outputId": "dd22c96e-38fe-47c1-a5ff-8d95fbc41541",
        "colab": {}
      },
      "cell_type": "code",
      "source": [
        "sigmoid(z1s)"
      ],
      "execution_count": 0,
      "outputs": [
        {
          "output_type": "execute_result",
          "data": {
            "text/plain": [
              "array([[0.98110621],\n",
              "       [0.58246858],\n",
              "       [0.893534  ]])"
            ]
          },
          "metadata": {
            "tags": []
          },
          "execution_count": 660
        }
      ]
    },
    {
      "metadata": {
        "id": "lmgsfPNFYANK",
        "colab_type": "code",
        "outputId": "41014134-0be8-42a9-fa7d-91e352e01236",
        "colab": {}
      },
      "cell_type": "code",
      "source": [
        "heaviside(z2h),relu(z2r),sigmoid(z2s)"
      ],
      "execution_count": 0,
      "outputs": [
        {
          "output_type": "execute_result",
          "data": {
            "text/plain": [
              "(array([[0.]]), array([[0.]]), array([[0.27569642]]))"
            ]
          },
          "metadata": {
            "tags": []
          },
          "execution_count": 661
        }
      ]
    },
    {
      "metadata": {
        "id": "rPP_JSfwYANN",
        "colab_type": "code",
        "outputId": "e7fdc6fd-8471-4dee-8649-541886a51844",
        "colab": {}
      },
      "cell_type": "code",
      "source": [
        "N3.feedforward(x1, heaviside),N3.feedforward(x1, relu),N3.feedforward(x1, sigmoid)"
      ],
      "execution_count": 0,
      "outputs": [
        {
          "output_type": "stream",
          "text": [
            "[5.65802031 7.69209719 0.84839337]\n",
            "[4.632919   0.27176698 2.17980753]\n",
            "[-1.54033128]\n",
            "[0.]\n",
            "[5.65802031 7.69209719 0.84839337]\n",
            "[ 3.34873007 -6.1680991  19.12912487]\n",
            "[-35.67445036]\n",
            "[0.]\n",
            "[5.65802031 7.69209719 0.84839337]\n",
            "[3.94984737 0.33291545 2.12735869]\n",
            "[-0.96591028]\n",
            "[0.27569642]\n"
          ],
          "name": "stdout"
        },
        {
          "output_type": "execute_result",
          "data": {
            "text/plain": [
              "(array([0.]), array([0.]), array([0.27569642]))"
            ]
          },
          "metadata": {
            "tags": []
          },
          "execution_count": 662
        }
      ]
    },
    {
      "metadata": {
        "id": "yhZv6aetYANR",
        "colab_type": "code",
        "outputId": "62233045-cd0c-4ca5-95a0-e6bd69fa0e57",
        "colab": {}
      },
      "cell_type": "code",
      "source": [
        "N3.feedforward(x2, heaviside),N3.feedforward(x2, relu),N3.feedforward(x2, sigmoid)"
      ],
      "execution_count": 0,
      "outputs": [
        {
          "output_type": "stream",
          "text": [
            "[  9.48110329  11.13095315 -12.64904572]\n",
            "[2.36316438 0.45895083 2.0248601 ]\n",
            "[-1.54033128]\n",
            "[0.]\n",
            "[  9.48110329  11.13095315 -12.64904572]\n",
            "[  2.17569802 -11.41209729  29.9105238 ]\n",
            "[-57.47380405]\n",
            "[0.]\n",
            "[  9.48110329  11.13095315 -12.64904572]\n",
            "[2.3631166  0.45906049 2.02472216]\n",
            "[-0.99808232]\n",
            "[0.26931863]\n"
          ],
          "name": "stdout"
        },
        {
          "output_type": "execute_result",
          "data": {
            "text/plain": [
              "(array([0.]), array([0.]), array([0.26931863]))"
            ]
          },
          "metadata": {
            "tags": []
          },
          "execution_count": 663
        }
      ]
    },
    {
      "metadata": {
        "id": "bGq4SnX1YANW",
        "colab_type": "text"
      },
      "cell_type": "markdown",
      "source": [
        "***"
      ]
    },
    {
      "metadata": {
        "id": "DfyR-JIoYANX",
        "colab_type": "text"
      },
      "cell_type": "markdown",
      "source": [
        "### [도전] 10개의 입력을 받아서 두 개의 딥 레이어로 처리해서 두개의 최종 출력을 구하는 과정을 만드시오. \n",
        "> 입력:10, 첫번째 레이어: 5 뉴런, 두번째 레이어: 3 뉴런, 출력:2"
      ]
    },
    {
      "metadata": {
        "id": "yquDjgbmYANY",
        "colab_type": "code",
        "colab": {}
      },
      "cell_type": "code",
      "source": [
        "np.random.seed(0)\n",
        "N4 = Network([10,5,3,2])"
      ],
      "execution_count": 0,
      "outputs": []
    },
    {
      "metadata": {
        "id": "16sOaxZ1YANd",
        "colab_type": "code",
        "outputId": "d20bbc4c-72d3-4b3d-fbd1-1f989c5c30bb",
        "colab": {}
      },
      "cell_type": "code",
      "source": [
        "N4.sizes"
      ],
      "execution_count": 0,
      "outputs": [
        {
          "output_type": "execute_result",
          "data": {
            "text/plain": [
              "[10, 5, 3, 2]"
            ]
          },
          "metadata": {
            "tags": []
          },
          "execution_count": 532
        }
      ]
    },
    {
      "metadata": {
        "id": "pGL4QSkdYANj",
        "colab_type": "code",
        "outputId": "023d4da2-dfe8-4db8-9056-5a98fb14dd6f",
        "colab": {}
      },
      "cell_type": "code",
      "source": [
        "N4.biases  # "
      ],
      "execution_count": 0,
      "outputs": [
        {
          "output_type": "execute_result",
          "data": {
            "text/plain": [
              "[array([[1.76405235],\n",
              "        [0.40015721],\n",
              "        [0.97873798],\n",
              "        [2.2408932 ],\n",
              "        [1.86755799]]), array([[-0.97727788],\n",
              "        [ 0.95008842],\n",
              "        [-0.15135721]]), array([[-0.10321885],\n",
              "        [ 0.4105985 ]])]"
            ]
          },
          "metadata": {
            "tags": []
          },
          "execution_count": 533
        }
      ]
    },
    {
      "metadata": {
        "id": "zoUROV6SYANm",
        "colab_type": "code",
        "outputId": "53749f9e-70e1-4f3e-ea7c-f91b6ce451df",
        "colab": {}
      },
      "cell_type": "code",
      "source": [
        "N4.weights  # (10X5) , (5X3), (3X2)"
      ],
      "execution_count": 0,
      "outputs": [
        {
          "output_type": "execute_result",
          "data": {
            "text/plain": [
              "[array([[ 0.14404357,  1.45427351,  0.76103773,  0.12167502,  0.44386323,\n",
              "          0.33367433,  1.49407907, -0.20515826,  0.3130677 , -0.85409574],\n",
              "        [-2.55298982,  0.6536186 ,  0.8644362 , -0.74216502,  2.26975462,\n",
              "         -1.45436567,  0.04575852, -0.18718385,  1.53277921,  1.46935877],\n",
              "        [ 0.15494743,  0.37816252, -0.88778575, -1.98079647, -0.34791215,\n",
              "          0.15634897,  1.23029068,  1.20237985, -0.38732682, -0.30230275],\n",
              "        [-1.04855297, -1.42001794, -1.70627019,  1.9507754 , -0.50965218,\n",
              "         -0.4380743 , -1.25279536,  0.77749036, -1.61389785, -0.21274028],\n",
              "        [-0.89546656,  0.3869025 , -0.51080514, -1.18063218, -0.02818223,\n",
              "          0.42833187,  0.06651722,  0.3024719 , -0.63432209, -0.36274117]]),\n",
              " array([[-0.67246045, -0.35955316, -0.81314628, -1.7262826 ,  0.17742614],\n",
              "        [-0.40178094, -1.63019835,  0.46278226, -0.90729836,  0.0519454 ],\n",
              "        [ 0.72909056,  0.12898291,  1.13940068, -1.23482582,  0.40234164]]),\n",
              " array([[-0.68481009, -0.87079715, -0.57884966],\n",
              "        [-0.31155253,  0.05616534, -1.16514984]])]"
            ]
          },
          "metadata": {
            "tags": []
          },
          "execution_count": 534
        }
      ]
    },
    {
      "metadata": {
        "id": "RlnywsI2YANq",
        "colab_type": "code",
        "outputId": "46edef0e-9cb2-46fb-df13-07c74462098a",
        "colab": {}
      },
      "cell_type": "code",
      "source": [
        "N4.show_parameters()"
      ],
      "execution_count": 0,
      "outputs": [
        {
          "output_type": "stream",
          "text": [
            "biases: = [array([[1.76405235],\n",
            "       [0.40015721],\n",
            "       [0.97873798],\n",
            "       [2.2408932 ],\n",
            "       [1.86755799]]), array([[-0.97727788],\n",
            "       [ 0.95008842],\n",
            "       [-0.15135721]]), array([[-0.10321885],\n",
            "       [ 0.4105985 ]])]\n",
            "weights: = [array([[ 0.14404357,  1.45427351,  0.76103773,  0.12167502,  0.44386323,\n",
            "         0.33367433,  1.49407907, -0.20515826,  0.3130677 , -0.85409574],\n",
            "       [-2.55298982,  0.6536186 ,  0.8644362 , -0.74216502,  2.26975462,\n",
            "        -1.45436567,  0.04575852, -0.18718385,  1.53277921,  1.46935877],\n",
            "       [ 0.15494743,  0.37816252, -0.88778575, -1.98079647, -0.34791215,\n",
            "         0.15634897,  1.23029068,  1.20237985, -0.38732682, -0.30230275],\n",
            "       [-1.04855297, -1.42001794, -1.70627019,  1.9507754 , -0.50965218,\n",
            "        -0.4380743 , -1.25279536,  0.77749036, -1.61389785, -0.21274028],\n",
            "       [-0.89546656,  0.3869025 , -0.51080514, -1.18063218, -0.02818223,\n",
            "         0.42833187,  0.06651722,  0.3024719 , -0.63432209, -0.36274117]]), array([[-0.67246045, -0.35955316, -0.81314628, -1.7262826 ,  0.17742614],\n",
            "       [-0.40178094, -1.63019835,  0.46278226, -0.90729836,  0.0519454 ],\n",
            "       [ 0.72909056,  0.12898291,  1.13940068, -1.23482582,  0.40234164]]), array([[-0.68481009, -0.87079715, -0.57884966],\n",
            "       [-0.31155253,  0.05616534, -1.16514984]])]\n"
          ],
          "name": "stdout"
        }
      ]
    },
    {
      "metadata": {
        "id": "ln7zZtnmYANt",
        "colab_type": "text"
      },
      "cell_type": "markdown",
      "source": [
        "### Input data: X\n",
        "> X : (1,10) -> (10,5) -> (5,3) -> (3,2) -> (2,1)"
      ]
    },
    {
      "metadata": {
        "id": "3QsxMlfZYANw",
        "colab_type": "code",
        "outputId": "8de22e7d-6556-403f-8e3d-10e5aa95cd08",
        "colab": {}
      },
      "cell_type": "code",
      "source": [
        "# np.random.seed(0)\n",
        "xin1 = np.random.randn(10)\n",
        "xin2 = np.array([2.3,4.5,1.3,0.7,2.8,3.3,2.2,4.4,6.6,5.5])\n",
        "xin1,xin2"
      ],
      "execution_count": 0,
      "outputs": [
        {
          "output_type": "execute_result",
          "data": {
            "text/plain": [
              "(array([ 0.90082649,  0.46566244, -1.53624369,  1.48825219,  1.89588918,\n",
              "         1.17877957, -0.17992484, -1.07075262,  1.05445173, -0.40317695]),\n",
              " array([2.3, 4.5, 1.3, 0.7, 2.8, 3.3, 2.2, 4.4, 6.6, 5.5]))"
            ]
          },
          "metadata": {
            "tags": []
          },
          "execution_count": 536
        }
      ]
    },
    {
      "metadata": {
        "id": "1n9dSGUZYANy",
        "colab_type": "code",
        "outputId": "231d7634-2eca-44fe-a1dd-771692786528",
        "colab": {}
      },
      "cell_type": "code",
      "source": [
        "xin1.shape,xin2.shape"
      ],
      "execution_count": 0,
      "outputs": [
        {
          "output_type": "execute_result",
          "data": {
            "text/plain": [
              "((10,), (10,))"
            ]
          },
          "metadata": {
            "tags": []
          },
          "execution_count": 537
        }
      ]
    },
    {
      "metadata": {
        "id": "4fnk03_ZYAN0",
        "colab_type": "code",
        "outputId": "754a1186-f988-47c1-fbf3-a0f7de1dbb27",
        "colab": {}
      },
      "cell_type": "code",
      "source": [
        "N4.feedforward(xin1,heaviside)"
      ],
      "execution_count": 0,
      "outputs": [
        {
          "output_type": "stream",
          "text": [
            "[ 3.44311716 -0.22294009 -2.56030369  2.45383914 -0.13826867]\n",
            "[-3.37602093 -0.35899088 -0.65709247]\n",
            "[-0.10321885  0.4105985 ]\n",
            "[-0.10321885  0.4105985 ]\n",
            "[0. 1.]\n"
          ],
          "name": "stdout"
        },
        {
          "output_type": "execute_result",
          "data": {
            "text/plain": [
              "array([0., 1.])"
            ]
          },
          "metadata": {
            "tags": []
          },
          "execution_count": 538
        }
      ]
    },
    {
      "metadata": {
        "id": "9vCa5B-nYAN5",
        "colab_type": "code",
        "outputId": "78adb4a9-51bc-4e7b-f318-f16d49e7e475",
        "colab": {}
      },
      "cell_type": "code",
      "source": [
        "N4.feedforward(xin1,relu)"
      ],
      "execution_count": 0,
      "outputs": [
        {
          "output_type": "stream",
          "text": [
            "[ 3.44311716 -0.22294009 -2.56030369  2.45383914 -0.13826867]\n",
            "[-7.5286578  -2.65965466 -0.67107692]\n",
            "[-0.10321885  0.4105985 ]\n",
            "[-0.10321885  0.4105985 ]\n",
            "[0.        0.4105985]\n"
          ],
          "name": "stdout"
        },
        {
          "output_type": "execute_result",
          "data": {
            "text/plain": [
              "array([0.       , 0.4105985])"
            ]
          },
          "metadata": {
            "tags": []
          },
          "execution_count": 539
        }
      ]
    },
    {
      "metadata": {
        "id": "L2zX2xfoYAN7",
        "colab_type": "code",
        "outputId": "e867b1ca-7769-4202-f19f-958b071c6340",
        "colab": {}
      },
      "cell_type": "code",
      "source": [
        "N4.feedforward(xin1,sigmoid)"
      ],
      "execution_count": 0,
      "outputs": [
        {
          "output_type": "stream",
          "text": [
            "[ 3.44311716 -0.22294009 -2.56030369  2.45383914 -0.13826867]\n",
            "[-3.35410479 -0.94196144 -0.25557434]\n",
            "[-0.62324114 -0.09269711]\n",
            "[-0.62324114 -0.09269711]\n",
            "[0.34904466 0.4768423 ]\n"
          ],
          "name": "stdout"
        },
        {
          "output_type": "execute_result",
          "data": {
            "text/plain": [
              "array([0.34904466, 0.4768423 ])"
            ]
          },
          "metadata": {
            "tags": []
          },
          "execution_count": 540
        }
      ]
    },
    {
      "metadata": {
        "id": "9PCF_cJlYAN_",
        "colab_type": "code",
        "outputId": "0729f8ca-64e9-45cd-f0ce-3146cdec8842",
        "colab": {}
      },
      "cell_type": "code",
      "source": [
        "# xin2   # second input\n",
        "N4.feedforward(xin2,heaviside)"
      ],
      "execution_count": 0,
      "outputs": [
        {
          "output_type": "stream",
          "text": [
            "[ 11.81104509  17.10459792   3.81605569 -21.44312867  -3.31124613]\n",
            "[-2.82243777 -0.61910861  1.84611695]\n",
            "[-0.68206852 -0.75455134]\n",
            "[-0.68206852 -0.75455134]\n",
            "[0. 0.]\n"
          ],
          "name": "stdout"
        },
        {
          "output_type": "execute_result",
          "data": {
            "text/plain": [
              "array([0., 0.])"
            ]
          },
          "metadata": {
            "tags": []
          },
          "execution_count": 541
        }
      ]
    },
    {
      "metadata": {
        "id": "fZvh_Nd3YAOB",
        "colab_type": "code",
        "outputId": "5ac5337c-bc61-43a6-8ba6-2927f4a5ac39",
        "colab": {}
      },
      "cell_type": "code",
      "source": [
        "N4.feedforward(xin2,relu)"
      ],
      "execution_count": 0,
      "outputs": [
        {
          "output_type": "stream",
          "text": [
            "[ 11.81104509  17.10459792   3.81605569 -21.44312867  -3.31124613]\n",
            "[-18.17276231 -29.91324874  15.01418159]\n",
            "[ -8.79417283 -17.08317279]\n",
            "[ -8.79417283 -17.08317279]\n",
            "[0. 0.]\n"
          ],
          "name": "stdout"
        },
        {
          "output_type": "execute_result",
          "data": {
            "text/plain": [
              "array([0., 0.])"
            ]
          },
          "metadata": {
            "tags": []
          },
          "execution_count": 542
        }
      ]
    },
    {
      "metadata": {
        "id": "Cl3llox9YAOG",
        "colab_type": "code",
        "outputId": "bf450aeb-2da9-463a-b385-c93d7883e0fa",
        "colab": {}
      },
      "cell_type": "code",
      "source": [
        "N4.feedforward(xin2,sigmoid)"
      ],
      "execution_count": 0,
      "outputs": [
        {
          "output_type": "stream",
          "text": [
            "[ 11.81104509  17.10459792   3.81605569 -21.44312867  -3.31124613]\n",
            "[-2.79867422 -0.6272462   1.83572589]\n",
            "[-0.94490378 -0.59260485]\n",
            "[-0.94490378 -0.59260485]\n",
            "[0.27991087 0.3560374 ]\n"
          ],
          "name": "stdout"
        },
        {
          "output_type": "execute_result",
          "data": {
            "text/plain": [
              "array([0.27991087, 0.3560374 ])"
            ]
          },
          "metadata": {
            "tags": []
          },
          "execution_count": 543
        }
      ]
    },
    {
      "metadata": {
        "id": "1uaBEbEJYAOI",
        "colab_type": "text"
      },
      "cell_type": "markdown",
      "source": [
        "### [도전2] 764개의 입력을 받아서 4 개의 딥 레이어로 처리해서 두개의 최종 출력을 구하는 과정을 만드시오. \n",
        "> 입력:764, 첫번째 레이어: 100 뉴런, 두번째 레이어: 28 뉴런, 세번째 레이어: 28 뉴런,  네번째 레이어: 10 뉴런, 출력:1"
      ]
    },
    {
      "metadata": {
        "id": "V4HqCBKNYAOJ",
        "colab_type": "code",
        "outputId": "c7526855-bc9a-4105-a579-112541863a15",
        "colab": {}
      },
      "cell_type": "code",
      "source": [
        "28*28"
      ],
      "execution_count": 0,
      "outputs": [
        {
          "output_type": "execute_result",
          "data": {
            "text/plain": [
              "784"
            ]
          },
          "metadata": {
            "tags": []
          },
          "execution_count": 17
        }
      ]
    },
    {
      "metadata": {
        "id": "DOggICvhYAOL",
        "colab_type": "code",
        "colab": {}
      },
      "cell_type": "code",
      "source": [
        "np.random.seed(0)\n",
        "N5 = Network([784,100,28,28,10,1])"
      ],
      "execution_count": 0,
      "outputs": []
    },
    {
      "metadata": {
        "id": "IOxE0LUeYAOR",
        "colab_type": "code",
        "outputId": "49af0df7-e018-4bb3-b57b-11749cf5e544",
        "colab": {}
      },
      "cell_type": "code",
      "source": [
        "N5.sizes"
      ],
      "execution_count": 0,
      "outputs": [
        {
          "output_type": "execute_result",
          "data": {
            "text/plain": [
              "[784, 100, 28, 28, 10, 1]"
            ]
          },
          "metadata": {
            "tags": []
          },
          "execution_count": 19
        }
      ]
    },
    {
      "metadata": {
        "id": "f53OLYrMYAOU",
        "colab_type": "code",
        "colab": {}
      },
      "cell_type": "code",
      "source": [
        "N5.biases  # "
      ],
      "execution_count": 0,
      "outputs": []
    },
    {
      "metadata": {
        "id": "7PvV5VojYAOX",
        "colab_type": "code",
        "colab": {}
      },
      "cell_type": "code",
      "source": [
        "N5.weights  # "
      ],
      "execution_count": 0,
      "outputs": []
    },
    {
      "metadata": {
        "id": "8iEoIkCaYAOZ",
        "colab_type": "code",
        "colab": {}
      },
      "cell_type": "code",
      "source": [
        "N5.show_parameters()"
      ],
      "execution_count": 0,
      "outputs": []
    },
    {
      "metadata": {
        "id": "HUu9aQG6YAOc",
        "colab_type": "text"
      },
      "cell_type": "markdown",
      "source": [
        "### Input data: X\n",
        "> X : (1,768) -> (768,100) -> (100,28) -> (28,28) -> (28,10) -> (10,1) -> (1,1)"
      ]
    },
    {
      "metadata": {
        "id": "BzYuPKkXYAOc",
        "colab_type": "code",
        "colab": {}
      },
      "cell_type": "code",
      "source": [
        "np.random.seed(0)\n",
        "xin = np.random.randn(784)\n",
        "xin"
      ],
      "execution_count": 0,
      "outputs": []
    },
    {
      "metadata": {
        "id": "60k7idESYAOf",
        "colab_type": "code",
        "colab": {}
      },
      "cell_type": "code",
      "source": [
        "xin.shape"
      ],
      "execution_count": 0,
      "outputs": []
    },
    {
      "metadata": {
        "id": "hV4Ew6szYAOk",
        "colab_type": "code",
        "colab": {}
      },
      "cell_type": "code",
      "source": [
        "N5.feedforward(xin,heaviside)"
      ],
      "execution_count": 0,
      "outputs": []
    },
    {
      "metadata": {
        "id": "GHKVBfPuYAOm",
        "colab_type": "code",
        "colab": {}
      },
      "cell_type": "code",
      "source": [
        "N5.feedforward(xin,relu)"
      ],
      "execution_count": 0,
      "outputs": []
    },
    {
      "metadata": {
        "id": "SgYPBX7-YAOo",
        "colab_type": "code",
        "colab": {}
      },
      "cell_type": "code",
      "source": [
        "N5.feedforward(xin,sigmoid)"
      ],
      "execution_count": 0,
      "outputs": []
    },
    {
      "metadata": {
        "id": "VQghMdc_YAOq",
        "colab_type": "text"
      },
      "cell_type": "markdown",
      "source": [
        "***"
      ]
    },
    {
      "metadata": {
        "id": "TGzvsmbyYAOq",
        "colab_type": "text"
      },
      "cell_type": "markdown",
      "source": [
        "### Data Representation ((1,n) input, a layer with k neurons)\n",
        "> (1,n) -> (n,k) -> (1,k)"
      ]
    },
    {
      "metadata": {
        "id": "jJiHaIBQYAOq",
        "colab_type": "text"
      },
      "cell_type": "markdown",
      "source": [
        "We represent the input $\\mathbf{x}$ as a column vector. $\\mathbf{x} =\\begin{bmatrix}\n",
        "    x_1\\\\\n",
        "    x_2\\\\\n",
        "    \\vdots \\\\\n",
        "    x_n\n",
        "\\end{bmatrix}$"
      ]
    },
    {
      "metadata": {
        "id": "M7--ZIJ7YAOr",
        "colab_type": "text"
      },
      "cell_type": "markdown",
      "source": [
        "We represent each layer's weights as a matrix. $$\\mathbf{W}^\\top =  \\begin{bmatrix} { w }_{ 11 } & { w}_{ 12 } & \\dots & {w}_{1n}\\\\ { w }_{ 21 } & { w }_{ 22 } & \\dots &{w}_{2n} \\\\ \\vdots & \\vdots & \\dots & \\vdots \\\\ { w }_{ k1 } & { w }_{ k2 }& \\dots & {w}_{kn} \\end{bmatrix}$$"
      ]
    },
    {
      "metadata": {
        "id": "8NMdN46UYAOs",
        "colab_type": "text"
      },
      "cell_type": "markdown",
      "source": [
        "For k-neuron layer, we represent the biases $b$ as a column vector. $\\mathbf{b} =\\begin{bmatrix}\n",
        "    b_1\\\\\n",
        "    b_2\\\\\n",
        "    \\vdots \\\\\n",
        "    b_k\n",
        "\\end{bmatrix}$"
      ]
    },
    {
      "metadata": {
        "id": "MeUq6EzPYAOs",
        "colab_type": "text"
      },
      "cell_type": "markdown",
      "source": [
        "$ Z = \\begin{bmatrix} { w }_{ 11 } & { w}_{ 12 } & \\dots & {w}_{1n}\\\\ { w }_{ 21 } & { w }_{ 22 } & \\dots &{w}_{2n} \\\\ \\vdots & \\vdots & \\dots & \\vdots \\\\ { w }_{ k1 } & { w }_{ k2 }& \\dots & {w}_{kn} \\end{bmatrix}$ **DOT** $\\begin{bmatrix}\n",
        "    x_1\\\\\n",
        "    x_2\\\\\n",
        "    \\vdots \\\\\n",
        "    x_n\n",
        "\\end{bmatrix} + \\begin{bmatrix}\n",
        "    b_1\\\\\n",
        "    b_2\\\\\n",
        "    \\vdots \\\\\n",
        "    b_k\n",
        "\\end{bmatrix}$"
      ]
    },
    {
      "metadata": {
        "id": "3YG5-AeDYAOt",
        "colab_type": "text"
      },
      "cell_type": "markdown",
      "source": [
        "$$ a = \\phi (\\mathbf{W}^\\top \\cdot \\mathbf{X} + \\mathbf{B}) $$"
      ]
    },
    {
      "metadata": {
        "id": "klEtc1_LYAOt",
        "colab_type": "text"
      },
      "cell_type": "markdown",
      "source": [
        "## Data Representation ((1,n) input, deep layer with [k,s,t] neurons, and (1,r) output)\n",
        "> (1,n) -> (n,k) -> (k,s) -> (s,t) -> (t,r) -> (1,r)"
      ]
    },
    {
      "metadata": {
        "id": "PZdh_X3LYAOu",
        "colab_type": "code",
        "colab": {}
      },
      "cell_type": "code",
      "source": [
        ""
      ],
      "execution_count": 0,
      "outputs": []
    }
  ]
}