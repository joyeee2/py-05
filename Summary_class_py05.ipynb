{
  "nbformat": 4,
  "nbformat_minor": 0,
  "metadata": {
    "colab": {
      "name": "Summary_class_py05",
      "version": "0.3.2",
      "provenance": [],
      "collapsed_sections": [],
      "include_colab_link": true
    },
    "kernelspec": {
      "name": "python3",
      "display_name": "Python 3"
    }
  },
  "cells": [
    {
      "cell_type": "markdown",
      "metadata": {
        "id": "view-in-github",
        "colab_type": "text"
      },
      "source": [
        "<a href=\"https://colab.research.google.com/github/joyeee2/py-05/blob/master/Summary_class_py05.ipynb\" target=\"_parent\"><img src=\"https://colab.research.google.com/assets/colab-badge.svg\" alt=\"Open In Colab\"/></a>"
      ]
    },
    {
      "metadata": {
        "id": "XY5BGIES7SQ9",
        "colab_type": "toc"
      },
      "cell_type": "markdown",
      "source": [
        ">[Homework(class, exception, with)](#scrollTo=G-GDlaiu7Njd)\n",
        "\n",
        ">>[클래스(class)](#scrollTo=6at4ZBNiKP8m)\n",
        "\n",
        ">>[예외처리(exception)](#scrollTo=LzSUxN7voVS9)\n",
        "\n",
        ">>[with 구문](#scrollTo=dAVtZLVsqDWP)\n",
        "\n",
        ">>>>[파일 또는 세션을 사용하는 순서](#scrollTo=JIksFrfF5pIu)\n",
        "\n"
      ]
    },
    {
      "metadata": {
        "id": "G-GDlaiu7Njd",
        "colab_type": "text"
      },
      "cell_type": "markdown",
      "source": [
        "# Homework(class, exception, with)"
      ]
    },
    {
      "metadata": {
        "id": "6at4ZBNiKP8m",
        "colab_type": "text"
      },
      "cell_type": "markdown",
      "source": [
        "## 클래스(class)"
      ]
    },
    {
      "metadata": {
        "id": "git6Y22CJxnz",
        "colab_type": "code",
        "outputId": "41996d98-da58-4a78-f855-1e69ae0bb978",
        "colab": {
          "base_uri": "https://localhost:8080/",
          "height": 87
        }
      },
      "cell_type": "code",
      "source": [
        "class Person:\n",
        "  \n",
        "  def __init__(self, name):   # __init__메서드가 생성자 역할 수행, 인스턴스 만들어 질 떄 한번만 호출됨\n",
        "    self.name = name\n",
        "    print(self.name + \" is initialized\")\n",
        "    \n",
        "  def work(self, company):    # 클래스 메서드의 첫번째 인수로 self 반드시 기술할 것\n",
        "    print(self.name + \" is working in \" + company)\n",
        "    \n",
        "  def sleep(self):\n",
        "    print(self.name + \" is sleeping\")\n",
        "      \n",
        "# Person instance 2개 생성\n",
        "obj = Person(\"PARK\")\n",
        "\n",
        "# method call\n",
        "obj.work(\"ABCDEF\")\n",
        "obj.sleep()\n",
        "\n",
        "# 속성에 직접 접근, 기본적으로 python에서는 모두 public\n",
        "print(\"current person object is \", obj.name)"
      ],
      "execution_count": 24,
      "outputs": [
        {
          "output_type": "stream",
          "text": [
            "PARK is initialized\n",
            "PARK is working in ABCDEF\n",
            "PARK is sleeping\n",
            "current person object is  PARK\n"
          ],
          "name": "stdout"
        }
      ]
    },
    {
      "metadata": {
        "id": "b8xCaeOg1_wa",
        "colab_type": "code",
        "outputId": "f1bae99c-3d25-4652-9f51-af6fc6971b4f",
        "colab": {
          "base_uri": "https://localhost:8080/",
          "height": 140
        }
      },
      "cell_type": "code",
      "source": [
        "class Person:\n",
        "  \n",
        "  count = 0   # class variable, 해당클래스로 생성된 모든 인스턴스가 공통으로 사용하는 변수\n",
        "  \n",
        "  def __init__(self, name):   \n",
        "    self.name = name\n",
        "    Person.count += 1   # class 변수 count 증가\n",
        "    print(self.name + \" is initialized\")\n",
        "    \n",
        "  def work(self, company):  \n",
        "    print(self.name + \" is working in \" + company)\n",
        "    \n",
        "  def sleep(self):\n",
        "    print(self.name + \" is sleeping\")\n",
        "  \n",
        "  @classmethod          # class method\n",
        "  def getCount(cls):    # 클래스 메서드는 객체 인스턴스를 의미하는 self 대신 cls라는 클래스를 의미하는 파라미터를 인수로 전달받음\n",
        "    return cls.count\n",
        "      \n",
        "# Person instance 2개 생성\n",
        "obj1 = Person(\"PARK\")\n",
        "obj2 = Person(\"KIM\")\n",
        "\n",
        "# method call\n",
        "obj1.work(\"ABCDEF\")\n",
        "\n",
        "obj2.sleep()\n",
        "\n",
        "\n",
        "# 속성에 직접 접근, 기본적으로 python에서는 모두 public\n",
        "print(\"current person object is \", obj.name, \", \", obj2.name)\n",
        "\n",
        "# class method 호출\n",
        "print(\"Person count ==\", Person.getCount() )\n",
        "\n",
        "# class variable direct access\n",
        "print(Person.count)"
      ],
      "execution_count": 25,
      "outputs": [
        {
          "output_type": "stream",
          "text": [
            "PARK is initialized\n",
            "KIM is initialized\n",
            "PARK is working in ABCDEF\n",
            "KIM is sleeping\n",
            "current person object is  PARK ,  KIM\n",
            "Person count == 2\n",
            "2\n"
          ],
          "name": "stdout"
        }
      ]
    },
    {
      "metadata": {
        "id": "uQwoa_6lPIas",
        "colab_type": "code",
        "colab": {
          "base_uri": "https://localhost:8080/",
          "height": 292
        },
        "outputId": "a1d7b0b6-15e2-49b4-ea82-9df8cfad2df3"
      },
      "cell_type": "code",
      "source": [
        "# 파이썬은 기본적으로 모든 멤버가 public 이기 때문에 외부에서 직접 접근 가능\n",
        "class PrivateMemberTest:\n",
        "  \n",
        "  def __init__(self, name1, name2):\n",
        "    \n",
        "    self.name1 = name1\n",
        "    self.__name2 = name2   # private member variable, __멤버변수 형태로 선언하면 private\n",
        "    print(\"initalized with \" + name1 + \" ,\" + name2)\n",
        "    \n",
        "  def getNames(self):    # public method\n",
        "    self.__printNames()\n",
        "    return self.name1, self.__name2\n",
        "  \n",
        "  def __printNames(self):   # private member method, __멤버메서드 형태로 선언하면 private\n",
        "    print(self.name1, self.__name2)\n",
        "    \n",
        "# 인스턴스 생성\n",
        "obj  = PrivateMemberTest(\"PARK\", \"KIM\")\n",
        "\n",
        "print(obj.name1)\n",
        "print(obj.getNames())      \n",
        "print(obj.__printNames())   # error 발생, private 메서드이기 때문\n",
        "print(obj.__name2)          # error 발생, private 변수이기 때문"
      ],
      "execution_count": 26,
      "outputs": [
        {
          "output_type": "stream",
          "text": [
            "initalized with PARK ,KIM\n",
            "PARK\n",
            "PARK KIM\n",
            "('PARK', 'KIM')\n"
          ],
          "name": "stdout"
        },
        {
          "output_type": "error",
          "ename": "AttributeError",
          "evalue": "ignored",
          "traceback": [
            "\u001b[0;31m---------------------------------------------------------------------------\u001b[0m",
            "\u001b[0;31mAttributeError\u001b[0m                            Traceback (most recent call last)",
            "\u001b[0;32m<ipython-input-26-836c9c703691>\u001b[0m in \u001b[0;36m<module>\u001b[0;34m()\u001b[0m\n\u001b[1;32m     19\u001b[0m \u001b[0mprint\u001b[0m\u001b[0;34m(\u001b[0m\u001b[0mobj\u001b[0m\u001b[0;34m.\u001b[0m\u001b[0mname1\u001b[0m\u001b[0;34m)\u001b[0m\u001b[0;34m\u001b[0m\u001b[0m\n\u001b[1;32m     20\u001b[0m \u001b[0mprint\u001b[0m\u001b[0;34m(\u001b[0m\u001b[0mobj\u001b[0m\u001b[0;34m.\u001b[0m\u001b[0mgetNames\u001b[0m\u001b[0;34m(\u001b[0m\u001b[0;34m)\u001b[0m\u001b[0;34m)\u001b[0m\u001b[0;34m\u001b[0m\u001b[0m\n\u001b[0;32m---> 21\u001b[0;31m \u001b[0mprint\u001b[0m\u001b[0;34m(\u001b[0m\u001b[0mobj\u001b[0m\u001b[0;34m.\u001b[0m\u001b[0m__printNames\u001b[0m\u001b[0;34m(\u001b[0m\u001b[0;34m)\u001b[0m\u001b[0;34m)\u001b[0m   \u001b[0;31m# error 발생, private 메서드이기 때문\u001b[0m\u001b[0;34m\u001b[0m\u001b[0m\n\u001b[0m\u001b[1;32m     22\u001b[0m \u001b[0mprint\u001b[0m\u001b[0;34m(\u001b[0m\u001b[0mobj\u001b[0m\u001b[0;34m.\u001b[0m\u001b[0m__name2\u001b[0m\u001b[0;34m)\u001b[0m          \u001b[0;31m# error 발생, private 변수이기 때문\u001b[0m\u001b[0;34m\u001b[0m\u001b[0m\n",
            "\u001b[0;31mAttributeError\u001b[0m: 'PrivateMemberTest' object has no attribute '__printNames'"
          ]
        }
      ]
    },
    {
      "metadata": {
        "id": "P7U2KEHIjhCs",
        "colab_type": "code",
        "outputId": "dfb77ea2-fd25-4d0e-caea-0d698d4de4da",
        "colab": {
          "base_uri": "https://localhost:8080/",
          "height": 87
        }
      },
      "cell_type": "code",
      "source": [
        "def print_name(name):\n",
        "  print(\"[def] \", name)\n",
        "\n",
        "class SameTest:\n",
        "  \n",
        "  def __init__(self):\n",
        "    # 아무것도 안하기 때문에 pass\n",
        "    pass\n",
        "  \n",
        "  # 외부 함수와 동일한 이름으로 method 정의\n",
        "  def print_name(self, name):\n",
        "    print(\"[SameTest] \", name)\n",
        "  \n",
        "  def call_test(self):\n",
        "    \n",
        "    # 외부 함수 호출\n",
        "    print_name(\"KIM\")\n",
        "    \n",
        "    # 클래스 내부 method 호출(self라는 키워드 이용할것!)\n",
        "    # 외부함수와 클래스 method name이 같은경우, self를 붙이지 않으면 동일한 이름의 외부 함수 호출\n",
        "    self.print_name(\"KIM\")\n",
        "    \n",
        "# create SameTest object\n",
        "obj = SameTest()\n",
        "\n",
        "# call function print_name\n",
        "print_name(\"LEE\")\n",
        "\n",
        "# call method print_name\n",
        "obj.print_name(\"LEE\")\n",
        "\n",
        "# call method call_test\n",
        "obj.call_test()"
      ],
      "execution_count": 27,
      "outputs": [
        {
          "output_type": "stream",
          "text": [
            "[def]  LEE\n",
            "[SameTest]  LEE\n",
            "[def]  KIM\n",
            "[SameTest]  KIM\n"
          ],
          "name": "stdout"
        }
      ]
    },
    {
      "metadata": {
        "id": "LzSUxN7voVS9",
        "colab_type": "text"
      },
      "cell_type": "markdown",
      "source": [
        "## 예외처리(exception)"
      ]
    },
    {
      "metadata": {
        "id": "kzKuRH7ToktD",
        "colab_type": "code",
        "colab": {}
      },
      "cell_type": "code",
      "source": [
        "#파이썬 exception은 try...except문을 사용\n",
        "\n",
        "def calc(list_data):\n",
        "  \n",
        "  sum = 0\n",
        "  \n",
        "  try:\n",
        "    sum = list_data[0] + list_data[1] + list_data[2]\n",
        "    \n",
        "    if sum < 0:\n",
        "      raise Exception(\"Sum is minus\")\n",
        "      \n",
        "  except IndexError as err:\n",
        "    print(str(err))\n",
        "  except Exception as err:\n",
        "    print(str(err))\n",
        "  finally:         # 항상 마지막에 실행됨\n",
        "    print(sum)"
      ],
      "execution_count": 0,
      "outputs": []
    },
    {
      "metadata": {
        "id": "slhaWw_C5CK-",
        "colab_type": "code",
        "outputId": "c5ba862a-8916-46b3-9eee-8481d9e5761d",
        "colab": {
          "base_uri": "https://localhost:8080/",
          "height": 52
        }
      },
      "cell_type": "code",
      "source": [
        "calc([1,2])   # index error 발생"
      ],
      "execution_count": 29,
      "outputs": [
        {
          "output_type": "stream",
          "text": [
            "list index out of range\n",
            "0\n"
          ],
          "name": "stdout"
        }
      ]
    },
    {
      "metadata": {
        "id": "OxllhXE85F6s",
        "colab_type": "code",
        "outputId": "5dfb1d9c-d0a7-463a-996d-e158caf04c8b",
        "colab": {
          "base_uri": "https://localhost:8080/",
          "height": 52
        }
      },
      "cell_type": "code",
      "source": [
        "calc([1,2,-100])  # 인위적인 exception 발생"
      ],
      "execution_count": 30,
      "outputs": [
        {
          "output_type": "stream",
          "text": [
            "Sum is minus\n",
            "-97\n"
          ],
          "name": "stdout"
        }
      ]
    },
    {
      "metadata": {
        "id": "4H0XaFst5c1V",
        "colab_type": "code",
        "outputId": "c20b53b8-7e2d-4d5f-c385-bdbbaed3a46d",
        "colab": {
          "base_uri": "https://localhost:8080/",
          "height": 34
        }
      },
      "cell_type": "code",
      "source": [
        "calc([1,2,3,4])  # 4개 입력해도 3개만 더함.."
      ],
      "execution_count": 31,
      "outputs": [
        {
          "output_type": "stream",
          "text": [
            "6\n"
          ],
          "name": "stdout"
        }
      ]
    },
    {
      "metadata": {
        "id": "dAVtZLVsqDWP",
        "colab_type": "text"
      },
      "cell_type": "markdown",
      "source": [
        "## with 구문"
      ]
    },
    {
      "metadata": {
        "id": "JIksFrfF5pIu",
        "colab_type": "text"
      },
      "cell_type": "markdown",
      "source": [
        "#### 파일 또는 세션을 사용하는 순서\n",
        "- open() -> read()또는 write() -> close()"
      ]
    },
    {
      "metadata": {
        "id": "vDZ1e-j7q71m",
        "colab_type": "code",
        "colab": {}
      },
      "cell_type": "code",
      "source": [
        "# 일반적인 방법\n",
        "\n",
        "f = open(\"./file_test\", 'w')\n",
        "\n",
        "f.write(\"Hello, Python!\")\n",
        "\n",
        "f.close()"
      ],
      "execution_count": 0,
      "outputs": []
    },
    {
      "metadata": {
        "id": "SLZhLShjrKL1",
        "colab_type": "code",
        "colab": {}
      },
      "cell_type": "code",
      "source": [
        "# with 구문을 사용하는 방법\n",
        "# with 블록을 벗어나는 순간 파일 객체 f가 자동으로 close됨\n",
        "\n",
        "with open(\"./file_test\", 'w') as f:\n",
        "  f.write(\"Hello, Python!\")"
      ],
      "execution_count": 0,
      "outputs": []
    },
    {
      "metadata": {
        "id": "a0Cf9UZJ6X6J",
        "colab_type": "code",
        "colab": {}
      },
      "cell_type": "code",
      "source": [
        ""
      ],
      "execution_count": 0,
      "outputs": []
    }
  ]
}