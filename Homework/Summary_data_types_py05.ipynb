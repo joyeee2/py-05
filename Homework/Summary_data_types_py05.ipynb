{
  "nbformat": 4,
  "nbformat_minor": 0,
  "metadata": {
    "colab": {
      "name": "Summary_data types_py05",
      "version": "0.3.2",
      "provenance": [],
      "include_colab_link": true
    },
    "kernelspec": {
      "name": "python3",
      "display_name": "Python 3"
    }
  },
  "cells": [
    {
      "cell_type": "markdown",
      "metadata": {
        "id": "view-in-github",
        "colab_type": "text"
      },
      "source": [
        "<a href=\"https://colab.research.google.com/github/joyeee2/py-05/blob/master/Homework/Summary_data_types_py05.ipynb\" target=\"_parent\"><img src=\"https://colab.research.google.com/assets/colab-badge.svg\" alt=\"Open In Colab\"/></a>"
      ]
    },
    {
      "metadata": {
        "id": "mjCxShS76KO1",
        "colab_type": "text"
      },
      "cell_type": "markdown",
      "source": [
        "## Summary of datatypes in Python\n",
        "\n",
        "- list\n",
        "- dictionary\n",
        "- tuple\n",
        "- set\n",
        "- string"
      ]
    },
    {
      "metadata": {
        "id": "A5Tra4ys6a8l",
        "colab_type": "text"
      },
      "cell_type": "markdown",
      "source": [
        "### 리스트 생성 및 항목 추가"
      ]
    },
    {
      "metadata": {
        "id": "B8RRM-qJ7A-l",
        "colab_type": "code",
        "colab": {}
      },
      "cell_type": "code",
      "source": [
        "a = [10, 20, 30, 40, 50 ]"
      ],
      "execution_count": 0,
      "outputs": []
    },
    {
      "metadata": {
        "id": "fMVxNFLE54M5",
        "colab_type": "code",
        "outputId": "00eca268-c67d-4008-8df0-097fc3e5236e",
        "colab": {
          "base_uri": "https://localhost:8080/",
          "height": 52
        }
      },
      "cell_type": "code",
      "source": [
        "# 0, 1, 2... 인덱스는 리스트 처음부터 시작\n",
        "# -1, -2, ... 인덱스는 리스트 마지막부터 시작\n",
        "\n",
        "print(\"a[0] ==\", a[0], \",a[2] ==\", a[2], \", a[4] ==\", a[4])\n",
        "print(\"a[-1] ==\", a[-1], \",a[-2] ==\", a[-2], \",a[-5] ==\", a[-5])"
      ],
      "execution_count": 0,
      "outputs": [
        {
          "output_type": "stream",
          "text": [
            "a[0] == 10 ,a[2] == 30 , a[4] == 50\n",
            "a[-1] == 50 ,a[-2] == 40 ,a[-5] == 10\n"
          ],
          "name": "stdout"
        }
      ]
    },
    {
      "metadata": {
        "id": "XfMGCNlY7gZS",
        "colab_type": "code",
        "colab": {}
      },
      "cell_type": "code",
      "source": [
        "b = [10, 20, \"Hello\", [True, 3.14] ]"
      ],
      "execution_count": 0,
      "outputs": []
    },
    {
      "metadata": {
        "id": "wVcU9gGO7thg",
        "colab_type": "code",
        "outputId": "35e33b71-df31-45c1-b893-5af52cf9a6e3",
        "colab": {
          "base_uri": "https://localhost:8080/",
          "height": 52
        }
      },
      "cell_type": "code",
      "source": [
        "#b[3] 또는 b[-1]값은 [True, 3.14] 리스트 전체임\n",
        "\n",
        "print(\"b[0] == \" , b[0], \", b[2] ==\", b[2], \", b[3] ==\", b[3])\n",
        "print(\"b[-1] == \" , b[-1], \", b[-2] ==\", b[-2], \", b[-4] ==\", b[-4])"
      ],
      "execution_count": 0,
      "outputs": [
        {
          "output_type": "stream",
          "text": [
            "b[0] ==  10 , b[2] == Hello , b[3] == [True, 3.14]\n",
            "b[-1] ==  [True, 3.14] , b[-2] == Hello , b[-4] == 10\n"
          ],
          "name": "stdout"
        }
      ]
    },
    {
      "metadata": {
        "id": "g39UNLoR8F9a",
        "colab_type": "code",
        "outputId": "06bf7dbc-7a0d-4cf3-f9ac-1ae3eaaeb972",
        "colab": {
          "base_uri": "https://localhost:8080/",
          "height": 87
        }
      },
      "cell_type": "code",
      "source": [
        "print(\"b[3][0] == \", b[3][0], \", b[3][1] ==\", b[3][1])\n",
        "print(\"b[-1][-1] ==\", b[-1][-1], \", b[-1][-2] ==\", b[-1][-2])\n",
        "\n",
        "print(\"b[-2] ==\", b[-2])\n",
        "print(\"b[-2][-2] ==\", b[-2][-2])"
      ],
      "execution_count": 0,
      "outputs": [
        {
          "output_type": "stream",
          "text": [
            "b[3][0] ==  True , b[3][1] == 3.14\n",
            "b[-1][-1] == 3.14 , b[-1][-2] == True\n",
            "b[-2] == Hello\n",
            "b[-2][-2] == l\n"
          ],
          "name": "stdout"
        }
      ]
    },
    {
      "metadata": {
        "id": "Qi7gOq7l8ZTu",
        "colab_type": "code",
        "colab": {}
      },
      "cell_type": "code",
      "source": [
        "a = [10, 20, 30, 40, 50]"
      ],
      "execution_count": 0,
      "outputs": []
    },
    {
      "metadata": {
        "id": "iyoU77Ki9r-x",
        "colab_type": "code",
        "outputId": "303d0354-25a3-4835-e760-281b2d9f34e6",
        "colab": {
          "base_uri": "https://localhost:8080/",
          "height": 70
        }
      },
      "cell_type": "code",
      "source": [
        "## 슬라이싱\n",
        "# a[0:2] => 인덱스 0부터 2-1까지, a[1:] => 인덱스 1부터 끝까지\n",
        "# a[:3]  => 인덱스 처음부터 3-1까지, a[:-2] => 인덱스 처음부터 (-2)-(1) 까지\n",
        "# a[:]   => 인덱스 처음부터 끝까지\n",
        "\n",
        "print(\"a[0:2] ==\", a[0:2], \", a[1:] ==\", a[1:])\n",
        "print(\"a[:3] ==\", a[:3], \", a[:-2] ==\", a[:-2])\n",
        "print(\"a[:] ==\", a[:])"
      ],
      "execution_count": 0,
      "outputs": [
        {
          "output_type": "stream",
          "text": [
            "a[0:2] == [10, 20] , a[1:] == [20, 30, 40, 50]\n",
            "a[:3] == [10, 20, 30] , a[:-2] == [10, 20, 30]\n",
            "a[:] == [10, 20, 30, 40, 50]\n"
          ],
          "name": "stdout"
        }
      ]
    },
    {
      "metadata": {
        "id": "INxkXMIkCA6k",
        "colab_type": "text"
      },
      "cell_type": "markdown",
      "source": [
        "### 튜플"
      ]
    },
    {
      "metadata": {
        "id": "Nvp0F5pYCD-z",
        "colab_type": "code",
        "colab": {}
      },
      "cell_type": "code",
      "source": [
        "a = (10, 20, 30, 40, 50)"
      ],
      "execution_count": 0,
      "outputs": []
    },
    {
      "metadata": {
        "id": "lZv7D11LCB63",
        "colab_type": "code",
        "outputId": "d9792733-baec-45f7-f886-6b5d0f94d1b0",
        "colab": {
          "base_uri": "https://localhost:8080/",
          "height": 52
        }
      },
      "cell_type": "code",
      "source": [
        "print(\"a[0] ==\", a[0], \", a[-2] ==\", a[-2], \", a[:] ==\", a[:])\n",
        "print(\"a[0:2] ==\", a[0:2], \", a[1:0] ==\", a[1:])"
      ],
      "execution_count": 0,
      "outputs": [
        {
          "output_type": "stream",
          "text": [
            "a[0] == 10 , a[-2] == 40 , a[:] == (10, 20, 30, 40, 50)\n",
            "a[0:2] == (10, 20) , a[1:0] == (20, 30, 40, 50)\n"
          ],
          "name": "stdout"
        }
      ]
    },
    {
      "metadata": {
        "id": "RrXw1-OYCGPl",
        "colab_type": "code",
        "outputId": "0f702b68-038a-4b6e-b8c2-75c2c680148e",
        "colab": {
          "base_uri": "https://localhost:8080/",
          "height": 169
        }
      },
      "cell_type": "code",
      "source": [
        "a[0] = 100  # a[0]이 값을 100으로 변경하려하기 때문에 에러발생"
      ],
      "execution_count": 0,
      "outputs": [
        {
          "output_type": "error",
          "ename": "TypeError",
          "evalue": "ignored",
          "traceback": [
            "\u001b[0;31m---------------------------------------------------------------------------\u001b[0m",
            "\u001b[0;31mTypeError\u001b[0m                                 Traceback (most recent call last)",
            "\u001b[0;32m<ipython-input-19-b6d7a4db9a51>\u001b[0m in \u001b[0;36m<module>\u001b[0;34m()\u001b[0m\n\u001b[0;32m----> 1\u001b[0;31m \u001b[0ma\u001b[0m\u001b[0;34m[\u001b[0m\u001b[0;36m0\u001b[0m\u001b[0;34m]\u001b[0m \u001b[0;34m=\u001b[0m \u001b[0;36m100\u001b[0m\u001b[0;34m\u001b[0m\u001b[0m\n\u001b[0m",
            "\u001b[0;31mTypeError\u001b[0m: 'tuple' object does not support item assignment"
          ]
        }
      ]
    },
    {
      "metadata": {
        "id": "1GwoZQ9lCd1f",
        "colab_type": "code",
        "colab": {}
      },
      "cell_type": "code",
      "source": [
        ""
      ],
      "execution_count": 0,
      "outputs": []
    },
    {
      "metadata": {
        "id": "2eDNdsIRCyX7",
        "colab_type": "text"
      },
      "cell_type": "markdown",
      "source": [
        "### 딕셔너리"
      ]
    },
    {
      "metadata": {
        "id": "vXGLakWwCzuC",
        "colab_type": "code",
        "colab": {}
      },
      "cell_type": "code",
      "source": [
        "score = { \"KIM\":90, \"LEE\":85, \"JUN\":95}"
      ],
      "execution_count": 0,
      "outputs": []
    },
    {
      "metadata": {
        "id": "Pk07hDb2C9Zk",
        "colab_type": "code",
        "outputId": "f69dbe83-bf43-440c-a171-ce7952c787c6",
        "colab": {
          "base_uri": "https://localhost:8080/",
          "height": 34
        }
      },
      "cell_type": "code",
      "source": [
        "print(\"score['KIM'] ==\", score['KIM'])"
      ],
      "execution_count": 0,
      "outputs": [
        {
          "output_type": "stream",
          "text": [
            "score['KIM'] == 90\n"
          ],
          "name": "stdout"
        }
      ]
    },
    {
      "metadata": {
        "id": "7j-NOZyEDJXu",
        "colab_type": "code",
        "outputId": "ea04249f-3521-4166-e4e9-2ccb28ad9ea7",
        "colab": {
          "base_uri": "https://localhost:8080/",
          "height": 34
        }
      },
      "cell_type": "code",
      "source": [
        "score['HAN'] = 100   # 새 원소 추가\n",
        "\n",
        "# 딕셔너리는 입력한 순서대로 데이터가 들어가는 것이 아니므로 주의해야 함\n",
        "\n",
        "print(score)"
      ],
      "execution_count": 0,
      "outputs": [
        {
          "output_type": "stream",
          "text": [
            "{'KIM': 90, 'LEE': 85, 'JUN': 95, 'HAN': 100}\n"
          ],
          "name": "stdout"
        }
      ]
    },
    {
      "metadata": {
        "id": "9Nss4cTsDX-G",
        "colab_type": "code",
        "outputId": "f023f949-1d22-4aa7-e2a2-8458f5872375",
        "colab": {
          "base_uri": "https://localhost:8080/",
          "height": 70
        }
      },
      "cell_type": "code",
      "source": [
        "# 딕셔너리 key, value, (key, value)\n",
        "\n",
        "print(\"score key ==\", score.keys())\n",
        "print(\"score value ==\", score.values())\n",
        "print(\"score items ==\", score.items())"
      ],
      "execution_count": 0,
      "outputs": [
        {
          "output_type": "stream",
          "text": [
            "score key == dict_keys(['KIM', 'LEE', 'JUN', 'HAN'])\n",
            "score value == dict_values([90, 85, 95, 100])\n",
            "score items == dict_items([('KIM', 90), ('LEE', 85), ('JUN', 95), ('HAN', 100)])\n"
          ],
          "name": "stdout"
        }
      ]
    },
    {
      "metadata": {
        "id": "zB-PFOswEZ5T",
        "colab_type": "text"
      },
      "cell_type": "markdown",
      "source": [
        "### string"
      ]
    },
    {
      "metadata": {
        "id": "dRIotjbvDwtX",
        "colab_type": "code",
        "colab": {}
      },
      "cell_type": "code",
      "source": [
        "a = 'A73,CD'"
      ],
      "execution_count": 0,
      "outputs": []
    },
    {
      "metadata": {
        "id": "we31pXt3EeUI",
        "colab_type": "code",
        "outputId": "acaecac2-16c0-4ce8-efa4-c9a6d2a84bde",
        "colab": {
          "base_uri": "https://localhost:8080/",
          "height": 34
        }
      },
      "cell_type": "code",
      "source": [
        "a[1]   # a[1]은 숫자 7이 아닌 문자열 7"
      ],
      "execution_count": 0,
      "outputs": [
        {
          "output_type": "execute_result",
          "data": {
            "text/plain": [
              "'7'"
            ]
          },
          "metadata": {
            "tags": []
          },
          "execution_count": 65
        }
      ]
    },
    {
      "metadata": {
        "id": "h2uy5X4pEfVP",
        "colab_type": "code",
        "outputId": "a9aabab8-3a1f-410d-d728-55a7c0f072cf",
        "colab": {
          "base_uri": "https://localhost:8080/",
          "height": 34
        }
      },
      "cell_type": "code",
      "source": [
        "a = a + ', EFG'\n",
        "a"
      ],
      "execution_count": 0,
      "outputs": [
        {
          "output_type": "execute_result",
          "data": {
            "text/plain": [
              "'A73,CD, EFG'"
            ]
          },
          "metadata": {
            "tags": []
          },
          "execution_count": 66
        }
      ]
    },
    {
      "metadata": {
        "id": "qDNPWGEdEho9",
        "colab_type": "code",
        "outputId": "e9a24279-2a13-476a-a72a-bd5a6debf601",
        "colab": {
          "base_uri": "https://localhost:8080/",
          "height": 34
        }
      },
      "cell_type": "code",
      "source": [
        "# split() 메소드는 특정 separator를 기준으로 문자열을 분리하여 list 리턴\n",
        "\n",
        "b = a.split(',')\n",
        "print(b)"
      ],
      "execution_count": 0,
      "outputs": [
        {
          "output_type": "stream",
          "text": [
            "['A73', 'CD', ' EFG']\n"
          ],
          "name": "stdout"
        }
      ]
    },
    {
      "metadata": {
        "id": "SCBkxG7GEvVC",
        "colab_type": "code",
        "outputId": "b3f07db1-c5b1-4891-ca40-210dfc167e8f",
        "colab": {
          "base_uri": "https://localhost:8080/",
          "height": 34
        }
      },
      "cell_type": "code",
      "source": [
        "a[0:3]"
      ],
      "execution_count": 0,
      "outputs": [
        {
          "output_type": "execute_result",
          "data": {
            "text/plain": [
              "'A73'"
            ]
          },
          "metadata": {
            "tags": []
          },
          "execution_count": 73
        }
      ]
    },
    {
      "metadata": {
        "id": "ld0NVhyYFudI",
        "colab_type": "code",
        "outputId": "ae80a4dd-165a-4702-ee23-e857e4a0e0cb",
        "colab": {
          "base_uri": "https://localhost:8080/",
          "height": 34
        }
      },
      "cell_type": "code",
      "source": [
        "a[-12:-8]"
      ],
      "execution_count": 0,
      "outputs": [
        {
          "output_type": "execute_result",
          "data": {
            "text/plain": [
              "'A73'"
            ]
          },
          "metadata": {
            "tags": []
          },
          "execution_count": 74
        }
      ]
    },
    {
      "metadata": {
        "id": "gMaUDQSsGZ1t",
        "colab_type": "code",
        "colab": {}
      },
      "cell_type": "code",
      "source": [
        "a = [10, 20, 30, 40, 50]\n",
        "b = (10, 20, 30, 40, 50)\n",
        "c = {\"KIM\":90, \"LEE\":80}\n",
        "d = 'Seoul, Korea'\n",
        "e = [ [100, 200], [300,400], [500, 600]]"
      ],
      "execution_count": 0,
      "outputs": []
    },
    {
      "metadata": {
        "id": "OiNTBKjyHDvc",
        "colab_type": "code",
        "outputId": "6ead3374-048c-4e9c-80a1-2610efd70496",
        "colab": {
          "base_uri": "https://localhost:8080/",
          "height": 34
        }
      },
      "cell_type": "code",
      "source": [
        "print(type(a), type(b), type(c), type(d), type(e))"
      ],
      "execution_count": 0,
      "outputs": [
        {
          "output_type": "stream",
          "text": [
            "<class 'list'> <class 'tuple'> <class 'dict'> <class 'str'> <class 'list'>\n"
          ],
          "name": "stdout"
        }
      ]
    },
    {
      "metadata": {
        "id": "RmnTw3P5HMiV",
        "colab_type": "code",
        "outputId": "aa81137e-d811-418b-e09b-a31fb8dd85d9",
        "colab": {
          "base_uri": "https://localhost:8080/",
          "height": 34
        }
      },
      "cell_type": "code",
      "source": [
        "print(len(a), len(b), len(c), len(d), len(e))"
      ],
      "execution_count": 0,
      "outputs": [
        {
          "output_type": "stream",
          "text": [
            "5 5 2 12 3\n"
          ],
          "name": "stdout"
        }
      ]
    },
    {
      "metadata": {
        "id": "hy_7QtGdHQWm",
        "colab_type": "code",
        "outputId": "3257a7f0-7aac-4f94-8744-7f5c6daf11f4",
        "colab": {
          "base_uri": "https://localhost:8080/",
          "height": 169
        }
      },
      "cell_type": "code",
      "source": [
        "print(size(e))"
      ],
      "execution_count": 0,
      "outputs": [
        {
          "output_type": "error",
          "ename": "NameError",
          "evalue": "ignored",
          "traceback": [
            "\u001b[0;31m---------------------------------------------------------------------------\u001b[0m",
            "\u001b[0;31mNameError\u001b[0m                                 Traceback (most recent call last)",
            "\u001b[0;32m<ipython-input-57-034bf5a03726>\u001b[0m in \u001b[0;36m<module>\u001b[0;34m()\u001b[0m\n\u001b[0;32m----> 1\u001b[0;31m \u001b[0mprint\u001b[0m\u001b[0;34m(\u001b[0m\u001b[0msize\u001b[0m\u001b[0;34m(\u001b[0m\u001b[0me\u001b[0m\u001b[0;34m)\u001b[0m\u001b[0;34m)\u001b[0m\u001b[0;34m\u001b[0m\u001b[0m\n\u001b[0m",
            "\u001b[0;31mNameError\u001b[0m: name 'size' is not defined"
          ]
        }
      ]
    },
    {
      "metadata": {
        "id": "46PhqWcmHSDx",
        "colab_type": "code",
        "outputId": "b58317e2-9e04-4ed1-e8fb-5474cdf9a3bd",
        "colab": {
          "base_uri": "https://localhost:8080/",
          "height": 34
        }
      },
      "cell_type": "code",
      "source": [
        "a = 'Hello'\n",
        "b = { \"KIM\":90, \"LEE\":80}\n",
        "\n",
        "print(list(a), list(b.keys()), list(b.values()), list(b.items()))"
      ],
      "execution_count": 0,
      "outputs": [
        {
          "output_type": "stream",
          "text": [
            "['H', 'e', 'l', 'l', 'o'] ['KIM', 'LEE'] [90, 80] [('KIM', 90), ('LEE', 80)]\n"
          ],
          "name": "stdout"
        }
      ]
    },
    {
      "metadata": {
        "id": "Er-kgoxAH16c",
        "colab_type": "code",
        "colab": {}
      },
      "cell_type": "code",
      "source": [
        ""
      ],
      "execution_count": 0,
      "outputs": []
    }
  ]
}