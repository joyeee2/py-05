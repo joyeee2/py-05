{
  "nbformat": 4,
  "nbformat_minor": 0,
  "metadata": {
    "colab": {
      "name": "wk10_py_data_science_II",
      "version": "0.3.2",
      "provenance": [],
      "collapsed_sections": [],
      "include_colab_link": true
    },
    "kernelspec": {
      "display_name": "Python 3",
      "language": "python",
      "name": "python3"
    }
  },
  "cells": [
    {
      "cell_type": "markdown",
      "metadata": {
        "id": "view-in-github",
        "colab_type": "text"
      },
      "source": [
        "<a href=\"https://colab.research.google.com/github/joyeee2/py-05/blob/master/wk10_py_data_science_II.ipynb\" target=\"_parent\"><img src=\"https://colab.research.google.com/assets/colab-badge.svg\" alt=\"Open In Colab\"/></a>"
      ]
    },
    {
      "metadata": {
        "id": "C9ZS46F-TblK",
        "colab_type": "text"
      },
      "cell_type": "markdown",
      "source": [
        "### Python data science: pandas & graphics wokout"
      ]
    },
    {
      "metadata": {
        "id": "eETkBK09Tblb",
        "colab_type": "text"
      },
      "cell_type": "markdown",
      "source": [
        "## Using pandas"
      ]
    },
    {
      "metadata": {
        "id": "6-1VMGQvTblh",
        "colab_type": "text"
      },
      "cell_type": "markdown",
      "source": [
        "* [10 Minutes to pandas](https://pandas.pydata.org/pandas-docs/stable/10min.html)\n",
        "* [Pandas tutorial with interactive exercises](https://www.kaggle.com/pistak/pandas-tutorial-with-interactive-exercises)"
      ]
    },
    {
      "metadata": {
        "id": "MciysF94Tblo",
        "colab_type": "code",
        "colab": {}
      },
      "cell_type": "code",
      "source": [
        "import pandas as pd\n",
        "import numpy as np\n",
        "import matplotlib.pyplot as plt\n",
        "%matplotlib inline"
      ],
      "execution_count": 0,
      "outputs": []
    },
    {
      "metadata": {
        "id": "-UMBlZJ3Tbl4",
        "colab_type": "text"
      },
      "cell_type": "markdown",
      "source": [
        "### [1] Make data, Series, and DataFrame"
      ]
    },
    {
      "metadata": {
        "id": "myOZCSJcTbl8",
        "colab_type": "text"
      },
      "cell_type": "markdown",
      "source": [
        "### Series"
      ]
    },
    {
      "metadata": {
        "id": "XVsWa5XlTbl-",
        "colab_type": "code",
        "outputId": "875fe8f6-36ff-4c18-8a78-84702f96294b",
        "colab": {
          "base_uri": "https://localhost:8080/",
          "height": 140
        }
      },
      "cell_type": "code",
      "source": [
        "# Creating a Series by passing a list of values\n",
        "s = pd.Series([1,3,5,np.nan,6,8])  # Series는 벡터\n",
        "s"
      ],
      "execution_count": 3,
      "outputs": [
        {
          "output_type": "execute_result",
          "data": {
            "text/plain": [
              "0    1.0\n",
              "1    3.0\n",
              "2    5.0\n",
              "3    NaN\n",
              "4    6.0\n",
              "5    8.0\n",
              "dtype: float64"
            ]
          },
          "metadata": {
            "tags": []
          },
          "execution_count": 3
        }
      ]
    },
    {
      "metadata": {
        "id": "B63kQ2eHTbmH",
        "colab_type": "code",
        "outputId": "f71fe067-36b3-400c-bf14-86ad2c164446",
        "colab": {
          "base_uri": "https://localhost:8080/",
          "height": 70
        }
      },
      "cell_type": "code",
      "source": [
        "# Creating a DataFrame by passing a NumPy array, with a datetime index and labeled columns:\n",
        "dates = pd.date_range('20130101', periods=6)  # data = 인덱스 역할\n",
        "dates"
      ],
      "execution_count": 4,
      "outputs": [
        {
          "output_type": "execute_result",
          "data": {
            "text/plain": [
              "DatetimeIndex(['2013-01-01', '2013-01-02', '2013-01-03', '2013-01-04',\n",
              "               '2013-01-05', '2013-01-06'],\n",
              "              dtype='datetime64[ns]', freq='D')"
            ]
          },
          "metadata": {
            "tags": []
          },
          "execution_count": 4
        }
      ]
    },
    {
      "metadata": {
        "id": "EMp0zNMGTbmO",
        "colab_type": "code",
        "outputId": "795440ba-59f7-40b1-f670-60580daf5bc1",
        "colab": {
          "base_uri": "https://localhost:8080/",
          "height": 225
        }
      },
      "cell_type": "code",
      "source": [
        "# Make dataframe using an array with random numbers\n",
        "df = pd.DataFrame(np.random.randn(6,4), index=dates, columns=list('ABCD'))  \n",
        "df\n",
        "\n",
        "# np.random.randn(6,4) = 6*4의 random 숫자를 만듬"
      ],
      "execution_count": 5,
      "outputs": [
        {
          "output_type": "execute_result",
          "data": {
            "text/html": [
              "<div>\n",
              "<style scoped>\n",
              "    .dataframe tbody tr th:only-of-type {\n",
              "        vertical-align: middle;\n",
              "    }\n",
              "\n",
              "    .dataframe tbody tr th {\n",
              "        vertical-align: top;\n",
              "    }\n",
              "\n",
              "    .dataframe thead th {\n",
              "        text-align: right;\n",
              "    }\n",
              "</style>\n",
              "<table border=\"1\" class=\"dataframe\">\n",
              "  <thead>\n",
              "    <tr style=\"text-align: right;\">\n",
              "      <th></th>\n",
              "      <th>A</th>\n",
              "      <th>B</th>\n",
              "      <th>C</th>\n",
              "      <th>D</th>\n",
              "    </tr>\n",
              "  </thead>\n",
              "  <tbody>\n",
              "    <tr>\n",
              "      <th>2013-01-01</th>\n",
              "      <td>1.638734</td>\n",
              "      <td>0.404539</td>\n",
              "      <td>-0.083975</td>\n",
              "      <td>-1.133042</td>\n",
              "    </tr>\n",
              "    <tr>\n",
              "      <th>2013-01-02</th>\n",
              "      <td>1.678163</td>\n",
              "      <td>-0.107702</td>\n",
              "      <td>0.932354</td>\n",
              "      <td>0.774285</td>\n",
              "    </tr>\n",
              "    <tr>\n",
              "      <th>2013-01-03</th>\n",
              "      <td>1.761447</td>\n",
              "      <td>-0.496669</td>\n",
              "      <td>0.341071</td>\n",
              "      <td>1.761759</td>\n",
              "    </tr>\n",
              "    <tr>\n",
              "      <th>2013-01-04</th>\n",
              "      <td>-0.120899</td>\n",
              "      <td>1.132350</td>\n",
              "      <td>-0.477775</td>\n",
              "      <td>-0.926147</td>\n",
              "    </tr>\n",
              "    <tr>\n",
              "      <th>2013-01-05</th>\n",
              "      <td>0.349312</td>\n",
              "      <td>1.236795</td>\n",
              "      <td>0.748792</td>\n",
              "      <td>-0.274232</td>\n",
              "    </tr>\n",
              "    <tr>\n",
              "      <th>2013-01-06</th>\n",
              "      <td>0.680625</td>\n",
              "      <td>-0.176243</td>\n",
              "      <td>-2.137644</td>\n",
              "      <td>-1.047409</td>\n",
              "    </tr>\n",
              "  </tbody>\n",
              "</table>\n",
              "</div>"
            ],
            "text/plain": [
              "                   A         B         C         D\n",
              "2013-01-01  1.638734  0.404539 -0.083975 -1.133042\n",
              "2013-01-02  1.678163 -0.107702  0.932354  0.774285\n",
              "2013-01-03  1.761447 -0.496669  0.341071  1.761759\n",
              "2013-01-04 -0.120899  1.132350 -0.477775 -0.926147\n",
              "2013-01-05  0.349312  1.236795  0.748792 -0.274232\n",
              "2013-01-06  0.680625 -0.176243 -2.137644 -1.047409"
            ]
          },
          "metadata": {
            "tags": []
          },
          "execution_count": 5
        }
      ]
    },
    {
      "metadata": {
        "id": "vhQp7CLLTbmS",
        "colab_type": "code",
        "outputId": "9fab2f80-daca-491c-d068-5c3092ebbbd6",
        "colab": {
          "base_uri": "https://localhost:8080/",
          "height": 105
        }
      },
      "cell_type": "code",
      "source": [
        "# check types of df  --> same type\n",
        "df.dtypes # 데이터 프레임 구조로 바꿔서 처리"
      ],
      "execution_count": 6,
      "outputs": [
        {
          "output_type": "execute_result",
          "data": {
            "text/plain": [
              "A    float64\n",
              "B    float64\n",
              "C    float64\n",
              "D    float64\n",
              "dtype: object"
            ]
          },
          "metadata": {
            "tags": []
          },
          "execution_count": 6
        }
      ]
    },
    {
      "metadata": {
        "id": "I_9KKVowTbmY",
        "colab_type": "code",
        "colab": {}
      },
      "cell_type": "code",
      "source": [
        "# Creating a DataFrame by passing a dict of objects that can be converted to series-like.\n",
        "df2 = pd.DataFrame({ 'A' : 1., # 데이터 값 하나만 지정 -> 다른 항목들도 같은것으로 채움\n",
        "                    'B' : pd.Timestamp('20130102'),\n",
        "                    'C' : pd.Series(1,index=list(range(4)),dtype='float32'),\n",
        "                    'D' : np.array([3] * 4,dtype='int32'),\n",
        "                    'E' : pd.Categorical([\"test\",\"train\",\"test\",\"train\"]),\n",
        "                    'F' : 'foo' })"
      ],
      "execution_count": 0,
      "outputs": []
    },
    {
      "metadata": {
        "id": "FeFXdQrKTbme",
        "colab_type": "code",
        "outputId": "9be00fc8-aa87-4220-d9dc-9b99d664f9ad",
        "colab": {
          "base_uri": "https://localhost:8080/",
          "height": 166
        }
      },
      "cell_type": "code",
      "source": [
        "df2"
      ],
      "execution_count": 8,
      "outputs": [
        {
          "output_type": "execute_result",
          "data": {
            "text/html": [
              "<div>\n",
              "<style scoped>\n",
              "    .dataframe tbody tr th:only-of-type {\n",
              "        vertical-align: middle;\n",
              "    }\n",
              "\n",
              "    .dataframe tbody tr th {\n",
              "        vertical-align: top;\n",
              "    }\n",
              "\n",
              "    .dataframe thead th {\n",
              "        text-align: right;\n",
              "    }\n",
              "</style>\n",
              "<table border=\"1\" class=\"dataframe\">\n",
              "  <thead>\n",
              "    <tr style=\"text-align: right;\">\n",
              "      <th></th>\n",
              "      <th>A</th>\n",
              "      <th>B</th>\n",
              "      <th>C</th>\n",
              "      <th>D</th>\n",
              "      <th>E</th>\n",
              "      <th>F</th>\n",
              "    </tr>\n",
              "  </thead>\n",
              "  <tbody>\n",
              "    <tr>\n",
              "      <th>0</th>\n",
              "      <td>1.0</td>\n",
              "      <td>2013-01-02</td>\n",
              "      <td>1.0</td>\n",
              "      <td>3</td>\n",
              "      <td>test</td>\n",
              "      <td>foo</td>\n",
              "    </tr>\n",
              "    <tr>\n",
              "      <th>1</th>\n",
              "      <td>1.0</td>\n",
              "      <td>2013-01-02</td>\n",
              "      <td>1.0</td>\n",
              "      <td>3</td>\n",
              "      <td>train</td>\n",
              "      <td>foo</td>\n",
              "    </tr>\n",
              "    <tr>\n",
              "      <th>2</th>\n",
              "      <td>1.0</td>\n",
              "      <td>2013-01-02</td>\n",
              "      <td>1.0</td>\n",
              "      <td>3</td>\n",
              "      <td>test</td>\n",
              "      <td>foo</td>\n",
              "    </tr>\n",
              "    <tr>\n",
              "      <th>3</th>\n",
              "      <td>1.0</td>\n",
              "      <td>2013-01-02</td>\n",
              "      <td>1.0</td>\n",
              "      <td>3</td>\n",
              "      <td>train</td>\n",
              "      <td>foo</td>\n",
              "    </tr>\n",
              "  </tbody>\n",
              "</table>\n",
              "</div>"
            ],
            "text/plain": [
              "     A          B    C  D      E    F\n",
              "0  1.0 2013-01-02  1.0  3   test  foo\n",
              "1  1.0 2013-01-02  1.0  3  train  foo\n",
              "2  1.0 2013-01-02  1.0  3   test  foo\n",
              "3  1.0 2013-01-02  1.0  3  train  foo"
            ]
          },
          "metadata": {
            "tags": []
          },
          "execution_count": 8
        }
      ]
    },
    {
      "metadata": {
        "id": "eYD7GZVfTbmh",
        "colab_type": "code",
        "outputId": "6d5dbd48-3632-4b97-e2c4-4e8847e82f0c",
        "colab": {
          "base_uri": "https://localhost:8080/",
          "height": 140
        }
      },
      "cell_type": "code",
      "source": [
        "# check types of df2 --> different types\n",
        "df2.dtypes \n",
        "\n",
        "# pandas = 서로 다른 데이터타입을 다 담을 수 있느 효율적인 구조"
      ],
      "execution_count": 9,
      "outputs": [
        {
          "output_type": "execute_result",
          "data": {
            "text/plain": [
              "A           float64\n",
              "B    datetime64[ns]\n",
              "C           float32\n",
              "D             int32\n",
              "E          category\n",
              "F            object\n",
              "dtype: object"
            ]
          },
          "metadata": {
            "tags": []
          },
          "execution_count": 9
        }
      ]
    },
    {
      "metadata": {
        "id": "_VUeyAs0Tbmo",
        "colab_type": "text"
      },
      "cell_type": "markdown",
      "source": [
        "### [2] Handling data"
      ]
    },
    {
      "metadata": {
        "id": "V-aGNkj3Tbmp",
        "colab_type": "code",
        "outputId": "feceee1b-cbf7-4c18-b776-b728bc1abfe1",
        "colab": {
          "base_uri": "https://localhost:8080/",
          "height": 195
        }
      },
      "cell_type": "code",
      "source": [
        "# head()\n",
        "df.head()  # 상위 5개의 데이터 보여줌"
      ],
      "execution_count": 10,
      "outputs": [
        {
          "output_type": "execute_result",
          "data": {
            "text/html": [
              "<div>\n",
              "<style scoped>\n",
              "    .dataframe tbody tr th:only-of-type {\n",
              "        vertical-align: middle;\n",
              "    }\n",
              "\n",
              "    .dataframe tbody tr th {\n",
              "        vertical-align: top;\n",
              "    }\n",
              "\n",
              "    .dataframe thead th {\n",
              "        text-align: right;\n",
              "    }\n",
              "</style>\n",
              "<table border=\"1\" class=\"dataframe\">\n",
              "  <thead>\n",
              "    <tr style=\"text-align: right;\">\n",
              "      <th></th>\n",
              "      <th>A</th>\n",
              "      <th>B</th>\n",
              "      <th>C</th>\n",
              "      <th>D</th>\n",
              "    </tr>\n",
              "  </thead>\n",
              "  <tbody>\n",
              "    <tr>\n",
              "      <th>2013-01-01</th>\n",
              "      <td>1.638734</td>\n",
              "      <td>0.404539</td>\n",
              "      <td>-0.083975</td>\n",
              "      <td>-1.133042</td>\n",
              "    </tr>\n",
              "    <tr>\n",
              "      <th>2013-01-02</th>\n",
              "      <td>1.678163</td>\n",
              "      <td>-0.107702</td>\n",
              "      <td>0.932354</td>\n",
              "      <td>0.774285</td>\n",
              "    </tr>\n",
              "    <tr>\n",
              "      <th>2013-01-03</th>\n",
              "      <td>1.761447</td>\n",
              "      <td>-0.496669</td>\n",
              "      <td>0.341071</td>\n",
              "      <td>1.761759</td>\n",
              "    </tr>\n",
              "    <tr>\n",
              "      <th>2013-01-04</th>\n",
              "      <td>-0.120899</td>\n",
              "      <td>1.132350</td>\n",
              "      <td>-0.477775</td>\n",
              "      <td>-0.926147</td>\n",
              "    </tr>\n",
              "    <tr>\n",
              "      <th>2013-01-05</th>\n",
              "      <td>0.349312</td>\n",
              "      <td>1.236795</td>\n",
              "      <td>0.748792</td>\n",
              "      <td>-0.274232</td>\n",
              "    </tr>\n",
              "  </tbody>\n",
              "</table>\n",
              "</div>"
            ],
            "text/plain": [
              "                   A         B         C         D\n",
              "2013-01-01  1.638734  0.404539 -0.083975 -1.133042\n",
              "2013-01-02  1.678163 -0.107702  0.932354  0.774285\n",
              "2013-01-03  1.761447 -0.496669  0.341071  1.761759\n",
              "2013-01-04 -0.120899  1.132350 -0.477775 -0.926147\n",
              "2013-01-05  0.349312  1.236795  0.748792 -0.274232"
            ]
          },
          "metadata": {
            "tags": []
          },
          "execution_count": 10
        }
      ]
    },
    {
      "metadata": {
        "id": "wgyA45W9Tbmt",
        "colab_type": "code",
        "outputId": "fe5bc8b8-28be-4e48-9df0-a4252c4695c7",
        "colab": {
          "base_uri": "https://localhost:8080/",
          "height": 136
        }
      },
      "cell_type": "code",
      "source": [
        "df.tail(3)  # 하위 3개 데이터 보여줌"
      ],
      "execution_count": 11,
      "outputs": [
        {
          "output_type": "execute_result",
          "data": {
            "text/html": [
              "<div>\n",
              "<style scoped>\n",
              "    .dataframe tbody tr th:only-of-type {\n",
              "        vertical-align: middle;\n",
              "    }\n",
              "\n",
              "    .dataframe tbody tr th {\n",
              "        vertical-align: top;\n",
              "    }\n",
              "\n",
              "    .dataframe thead th {\n",
              "        text-align: right;\n",
              "    }\n",
              "</style>\n",
              "<table border=\"1\" class=\"dataframe\">\n",
              "  <thead>\n",
              "    <tr style=\"text-align: right;\">\n",
              "      <th></th>\n",
              "      <th>A</th>\n",
              "      <th>B</th>\n",
              "      <th>C</th>\n",
              "      <th>D</th>\n",
              "    </tr>\n",
              "  </thead>\n",
              "  <tbody>\n",
              "    <tr>\n",
              "      <th>2013-01-04</th>\n",
              "      <td>-0.120899</td>\n",
              "      <td>1.132350</td>\n",
              "      <td>-0.477775</td>\n",
              "      <td>-0.926147</td>\n",
              "    </tr>\n",
              "    <tr>\n",
              "      <th>2013-01-05</th>\n",
              "      <td>0.349312</td>\n",
              "      <td>1.236795</td>\n",
              "      <td>0.748792</td>\n",
              "      <td>-0.274232</td>\n",
              "    </tr>\n",
              "    <tr>\n",
              "      <th>2013-01-06</th>\n",
              "      <td>0.680625</td>\n",
              "      <td>-0.176243</td>\n",
              "      <td>-2.137644</td>\n",
              "      <td>-1.047409</td>\n",
              "    </tr>\n",
              "  </tbody>\n",
              "</table>\n",
              "</div>"
            ],
            "text/plain": [
              "                   A         B         C         D\n",
              "2013-01-04 -0.120899  1.132350 -0.477775 -0.926147\n",
              "2013-01-05  0.349312  1.236795  0.748792 -0.274232\n",
              "2013-01-06  0.680625 -0.176243 -2.137644 -1.047409"
            ]
          },
          "metadata": {
            "tags": []
          },
          "execution_count": 11
        }
      ]
    },
    {
      "metadata": {
        "id": "z8tiMtmJTbmz",
        "colab_type": "code",
        "outputId": "eb32324e-5649-4149-8a91-fbf78f7fb038",
        "colab": {
          "base_uri": "https://localhost:8080/",
          "height": 70
        }
      },
      "cell_type": "code",
      "source": [
        "# Display the index, columns, and the underlying NumPy data:\n",
        "df.index"
      ],
      "execution_count": 12,
      "outputs": [
        {
          "output_type": "execute_result",
          "data": {
            "text/plain": [
              "DatetimeIndex(['2013-01-01', '2013-01-02', '2013-01-03', '2013-01-04',\n",
              "               '2013-01-05', '2013-01-06'],\n",
              "              dtype='datetime64[ns]', freq='D')"
            ]
          },
          "metadata": {
            "tags": []
          },
          "execution_count": 12
        }
      ]
    },
    {
      "metadata": {
        "id": "a_no0vqLTbnE",
        "colab_type": "code",
        "outputId": "1887d06a-eba6-471c-bf2d-a3b7acf3b19a",
        "colab": {
          "base_uri": "https://localhost:8080/",
          "height": 34
        }
      },
      "cell_type": "code",
      "source": [
        "df.columns  # 제목 보여줌, 데이터타입 문자객체"
      ],
      "execution_count": 13,
      "outputs": [
        {
          "output_type": "execute_result",
          "data": {
            "text/plain": [
              "Index(['A', 'B', 'C', 'D'], dtype='object')"
            ]
          },
          "metadata": {
            "tags": []
          },
          "execution_count": 13
        }
      ]
    },
    {
      "metadata": {
        "id": "O0LvUx7ATboV",
        "colab_type": "code",
        "outputId": "5a56c0d0-69b0-4d83-c03c-376be1a119eb",
        "colab": {
          "base_uri": "https://localhost:8080/",
          "height": 284
        }
      },
      "cell_type": "code",
      "source": [
        "# describe() shows a quick statistic summary of your data:\n",
        "df.describe()\n",
        "\n",
        "# df.describe()-> 데이터의 각열의 통계적인(평균, 표준편차등의) 분포를 보여줌\n",
        "# describe는 숫자형 항목만 처리한다"
      ],
      "execution_count": 14,
      "outputs": [
        {
          "output_type": "execute_result",
          "data": {
            "text/html": [
              "<div>\n",
              "<style scoped>\n",
              "    .dataframe tbody tr th:only-of-type {\n",
              "        vertical-align: middle;\n",
              "    }\n",
              "\n",
              "    .dataframe tbody tr th {\n",
              "        vertical-align: top;\n",
              "    }\n",
              "\n",
              "    .dataframe thead th {\n",
              "        text-align: right;\n",
              "    }\n",
              "</style>\n",
              "<table border=\"1\" class=\"dataframe\">\n",
              "  <thead>\n",
              "    <tr style=\"text-align: right;\">\n",
              "      <th></th>\n",
              "      <th>A</th>\n",
              "      <th>B</th>\n",
              "      <th>C</th>\n",
              "      <th>D</th>\n",
              "    </tr>\n",
              "  </thead>\n",
              "  <tbody>\n",
              "    <tr>\n",
              "      <th>count</th>\n",
              "      <td>6.000000</td>\n",
              "      <td>6.000000</td>\n",
              "      <td>6.000000</td>\n",
              "      <td>6.000000</td>\n",
              "    </tr>\n",
              "    <tr>\n",
              "      <th>mean</th>\n",
              "      <td>0.997897</td>\n",
              "      <td>0.332178</td>\n",
              "      <td>-0.112863</td>\n",
              "      <td>-0.140798</td>\n",
              "    </tr>\n",
              "    <tr>\n",
              "      <th>std</th>\n",
              "      <td>0.803675</td>\n",
              "      <td>0.721501</td>\n",
              "      <td>1.120242</td>\n",
              "      <td>1.174578</td>\n",
              "    </tr>\n",
              "    <tr>\n",
              "      <th>min</th>\n",
              "      <td>-0.120899</td>\n",
              "      <td>-0.496669</td>\n",
              "      <td>-2.137644</td>\n",
              "      <td>-1.133042</td>\n",
              "    </tr>\n",
              "    <tr>\n",
              "      <th>25%</th>\n",
              "      <td>0.432140</td>\n",
              "      <td>-0.159108</td>\n",
              "      <td>-0.379325</td>\n",
              "      <td>-1.017094</td>\n",
              "    </tr>\n",
              "    <tr>\n",
              "      <th>50%</th>\n",
              "      <td>1.159680</td>\n",
              "      <td>0.148419</td>\n",
              "      <td>0.128548</td>\n",
              "      <td>-0.600189</td>\n",
              "    </tr>\n",
              "    <tr>\n",
              "      <th>75%</th>\n",
              "      <td>1.668306</td>\n",
              "      <td>0.950398</td>\n",
              "      <td>0.646862</td>\n",
              "      <td>0.512156</td>\n",
              "    </tr>\n",
              "    <tr>\n",
              "      <th>max</th>\n",
              "      <td>1.761447</td>\n",
              "      <td>1.236795</td>\n",
              "      <td>0.932354</td>\n",
              "      <td>1.761759</td>\n",
              "    </tr>\n",
              "  </tbody>\n",
              "</table>\n",
              "</div>"
            ],
            "text/plain": [
              "              A         B         C         D\n",
              "count  6.000000  6.000000  6.000000  6.000000\n",
              "mean   0.997897  0.332178 -0.112863 -0.140798\n",
              "std    0.803675  0.721501  1.120242  1.174578\n",
              "min   -0.120899 -0.496669 -2.137644 -1.133042\n",
              "25%    0.432140 -0.159108 -0.379325 -1.017094\n",
              "50%    1.159680  0.148419  0.128548 -0.600189\n",
              "75%    1.668306  0.950398  0.646862  0.512156\n",
              "max    1.761447  1.236795  0.932354  1.761759"
            ]
          },
          "metadata": {
            "tags": []
          },
          "execution_count": 14
        }
      ]
    },
    {
      "metadata": {
        "id": "TxiS5RjHTbog",
        "colab_type": "code",
        "outputId": "9a9c3151-ca25-412c-8768-f4afe73df80d",
        "colab": {
          "base_uri": "https://localhost:8080/",
          "height": 284
        }
      },
      "cell_type": "code",
      "source": [
        "df2.describe()"
      ],
      "execution_count": 15,
      "outputs": [
        {
          "output_type": "execute_result",
          "data": {
            "text/html": [
              "<div>\n",
              "<style scoped>\n",
              "    .dataframe tbody tr th:only-of-type {\n",
              "        vertical-align: middle;\n",
              "    }\n",
              "\n",
              "    .dataframe tbody tr th {\n",
              "        vertical-align: top;\n",
              "    }\n",
              "\n",
              "    .dataframe thead th {\n",
              "        text-align: right;\n",
              "    }\n",
              "</style>\n",
              "<table border=\"1\" class=\"dataframe\">\n",
              "  <thead>\n",
              "    <tr style=\"text-align: right;\">\n",
              "      <th></th>\n",
              "      <th>A</th>\n",
              "      <th>C</th>\n",
              "      <th>D</th>\n",
              "    </tr>\n",
              "  </thead>\n",
              "  <tbody>\n",
              "    <tr>\n",
              "      <th>count</th>\n",
              "      <td>4.0</td>\n",
              "      <td>4.0</td>\n",
              "      <td>4.0</td>\n",
              "    </tr>\n",
              "    <tr>\n",
              "      <th>mean</th>\n",
              "      <td>1.0</td>\n",
              "      <td>1.0</td>\n",
              "      <td>3.0</td>\n",
              "    </tr>\n",
              "    <tr>\n",
              "      <th>std</th>\n",
              "      <td>0.0</td>\n",
              "      <td>0.0</td>\n",
              "      <td>0.0</td>\n",
              "    </tr>\n",
              "    <tr>\n",
              "      <th>min</th>\n",
              "      <td>1.0</td>\n",
              "      <td>1.0</td>\n",
              "      <td>3.0</td>\n",
              "    </tr>\n",
              "    <tr>\n",
              "      <th>25%</th>\n",
              "      <td>1.0</td>\n",
              "      <td>1.0</td>\n",
              "      <td>3.0</td>\n",
              "    </tr>\n",
              "    <tr>\n",
              "      <th>50%</th>\n",
              "      <td>1.0</td>\n",
              "      <td>1.0</td>\n",
              "      <td>3.0</td>\n",
              "    </tr>\n",
              "    <tr>\n",
              "      <th>75%</th>\n",
              "      <td>1.0</td>\n",
              "      <td>1.0</td>\n",
              "      <td>3.0</td>\n",
              "    </tr>\n",
              "    <tr>\n",
              "      <th>max</th>\n",
              "      <td>1.0</td>\n",
              "      <td>1.0</td>\n",
              "      <td>3.0</td>\n",
              "    </tr>\n",
              "  </tbody>\n",
              "</table>\n",
              "</div>"
            ],
            "text/plain": [
              "         A    C    D\n",
              "count  4.0  4.0  4.0\n",
              "mean   1.0  1.0  3.0\n",
              "std    0.0  0.0  0.0\n",
              "min    1.0  1.0  3.0\n",
              "25%    1.0  1.0  3.0\n",
              "50%    1.0  1.0  3.0\n",
              "75%    1.0  1.0  3.0\n",
              "max    1.0  1.0  3.0"
            ]
          },
          "metadata": {
            "tags": []
          },
          "execution_count": 15
        }
      ]
    },
    {
      "metadata": {
        "id": "8ad8BGlhTbow",
        "colab_type": "code",
        "outputId": "d9e815ec-9e52-43de-c5ab-6ff8e0e5c24a",
        "colab": {
          "base_uri": "https://localhost:8080/",
          "height": 182
        }
      },
      "cell_type": "code",
      "source": [
        "# Transposing your dataframe:\n",
        "df.T  # 전치"
      ],
      "execution_count": 16,
      "outputs": [
        {
          "output_type": "execute_result",
          "data": {
            "text/html": [
              "<div>\n",
              "<style scoped>\n",
              "    .dataframe tbody tr th:only-of-type {\n",
              "        vertical-align: middle;\n",
              "    }\n",
              "\n",
              "    .dataframe tbody tr th {\n",
              "        vertical-align: top;\n",
              "    }\n",
              "\n",
              "    .dataframe thead th {\n",
              "        text-align: right;\n",
              "    }\n",
              "</style>\n",
              "<table border=\"1\" class=\"dataframe\">\n",
              "  <thead>\n",
              "    <tr style=\"text-align: right;\">\n",
              "      <th></th>\n",
              "      <th>2013-01-01 00:00:00</th>\n",
              "      <th>2013-01-02 00:00:00</th>\n",
              "      <th>2013-01-03 00:00:00</th>\n",
              "      <th>2013-01-04 00:00:00</th>\n",
              "      <th>2013-01-05 00:00:00</th>\n",
              "      <th>2013-01-06 00:00:00</th>\n",
              "    </tr>\n",
              "  </thead>\n",
              "  <tbody>\n",
              "    <tr>\n",
              "      <th>A</th>\n",
              "      <td>1.638734</td>\n",
              "      <td>1.678163</td>\n",
              "      <td>1.761447</td>\n",
              "      <td>-0.120899</td>\n",
              "      <td>0.349312</td>\n",
              "      <td>0.680625</td>\n",
              "    </tr>\n",
              "    <tr>\n",
              "      <th>B</th>\n",
              "      <td>0.404539</td>\n",
              "      <td>-0.107702</td>\n",
              "      <td>-0.496669</td>\n",
              "      <td>1.132350</td>\n",
              "      <td>1.236795</td>\n",
              "      <td>-0.176243</td>\n",
              "    </tr>\n",
              "    <tr>\n",
              "      <th>C</th>\n",
              "      <td>-0.083975</td>\n",
              "      <td>0.932354</td>\n",
              "      <td>0.341071</td>\n",
              "      <td>-0.477775</td>\n",
              "      <td>0.748792</td>\n",
              "      <td>-2.137644</td>\n",
              "    </tr>\n",
              "    <tr>\n",
              "      <th>D</th>\n",
              "      <td>-1.133042</td>\n",
              "      <td>0.774285</td>\n",
              "      <td>1.761759</td>\n",
              "      <td>-0.926147</td>\n",
              "      <td>-0.274232</td>\n",
              "      <td>-1.047409</td>\n",
              "    </tr>\n",
              "  </tbody>\n",
              "</table>\n",
              "</div>"
            ],
            "text/plain": [
              "   2013-01-01  2013-01-02  2013-01-03  2013-01-04  2013-01-05  2013-01-06\n",
              "A    1.638734    1.678163    1.761447   -0.120899    0.349312    0.680625\n",
              "B    0.404539   -0.107702   -0.496669    1.132350    1.236795   -0.176243\n",
              "C   -0.083975    0.932354    0.341071   -0.477775    0.748792   -2.137644\n",
              "D   -1.133042    0.774285    1.761759   -0.926147   -0.274232   -1.047409"
            ]
          },
          "metadata": {
            "tags": []
          },
          "execution_count": 16
        }
      ]
    },
    {
      "metadata": {
        "id": "FiqFnPgeTbo4",
        "colab_type": "text"
      },
      "cell_type": "markdown",
      "source": [
        "#### Sorting"
      ]
    },
    {
      "metadata": {
        "id": "ntnl2W3VTbpC",
        "colab_type": "code",
        "outputId": "edd01bc7-5aed-47ea-a7f6-4b7bc5bfb93b",
        "colab": {
          "base_uri": "https://localhost:8080/",
          "height": 225
        }
      },
      "cell_type": "code",
      "source": [
        "# Sorting by an axis:\n",
        "df.sort_index(axis=0, ascending=False) # axis = 0  ==> 행 기준, ascending=False ==> 최근날짜가 맨 위"
      ],
      "execution_count": 17,
      "outputs": [
        {
          "output_type": "execute_result",
          "data": {
            "text/html": [
              "<div>\n",
              "<style scoped>\n",
              "    .dataframe tbody tr th:only-of-type {\n",
              "        vertical-align: middle;\n",
              "    }\n",
              "\n",
              "    .dataframe tbody tr th {\n",
              "        vertical-align: top;\n",
              "    }\n",
              "\n",
              "    .dataframe thead th {\n",
              "        text-align: right;\n",
              "    }\n",
              "</style>\n",
              "<table border=\"1\" class=\"dataframe\">\n",
              "  <thead>\n",
              "    <tr style=\"text-align: right;\">\n",
              "      <th></th>\n",
              "      <th>A</th>\n",
              "      <th>B</th>\n",
              "      <th>C</th>\n",
              "      <th>D</th>\n",
              "    </tr>\n",
              "  </thead>\n",
              "  <tbody>\n",
              "    <tr>\n",
              "      <th>2013-01-06</th>\n",
              "      <td>0.680625</td>\n",
              "      <td>-0.176243</td>\n",
              "      <td>-2.137644</td>\n",
              "      <td>-1.047409</td>\n",
              "    </tr>\n",
              "    <tr>\n",
              "      <th>2013-01-05</th>\n",
              "      <td>0.349312</td>\n",
              "      <td>1.236795</td>\n",
              "      <td>0.748792</td>\n",
              "      <td>-0.274232</td>\n",
              "    </tr>\n",
              "    <tr>\n",
              "      <th>2013-01-04</th>\n",
              "      <td>-0.120899</td>\n",
              "      <td>1.132350</td>\n",
              "      <td>-0.477775</td>\n",
              "      <td>-0.926147</td>\n",
              "    </tr>\n",
              "    <tr>\n",
              "      <th>2013-01-03</th>\n",
              "      <td>1.761447</td>\n",
              "      <td>-0.496669</td>\n",
              "      <td>0.341071</td>\n",
              "      <td>1.761759</td>\n",
              "    </tr>\n",
              "    <tr>\n",
              "      <th>2013-01-02</th>\n",
              "      <td>1.678163</td>\n",
              "      <td>-0.107702</td>\n",
              "      <td>0.932354</td>\n",
              "      <td>0.774285</td>\n",
              "    </tr>\n",
              "    <tr>\n",
              "      <th>2013-01-01</th>\n",
              "      <td>1.638734</td>\n",
              "      <td>0.404539</td>\n",
              "      <td>-0.083975</td>\n",
              "      <td>-1.133042</td>\n",
              "    </tr>\n",
              "  </tbody>\n",
              "</table>\n",
              "</div>"
            ],
            "text/plain": [
              "                   A         B         C         D\n",
              "2013-01-06  0.680625 -0.176243 -2.137644 -1.047409\n",
              "2013-01-05  0.349312  1.236795  0.748792 -0.274232\n",
              "2013-01-04 -0.120899  1.132350 -0.477775 -0.926147\n",
              "2013-01-03  1.761447 -0.496669  0.341071  1.761759\n",
              "2013-01-02  1.678163 -0.107702  0.932354  0.774285\n",
              "2013-01-01  1.638734  0.404539 -0.083975 -1.133042"
            ]
          },
          "metadata": {
            "tags": []
          },
          "execution_count": 17
        }
      ]
    },
    {
      "metadata": {
        "id": "wcIupqVXIQlL",
        "colab_type": "code",
        "colab": {
          "base_uri": "https://localhost:8080/",
          "height": 225
        },
        "outputId": "954ed8c0-fed5-4812-e31e-9657a0391d7d"
      },
      "cell_type": "code",
      "source": [
        "# Sorting by an axis:\n",
        "df.sort_index(axis=0, ascending=True) # ascending=True ==> 옛날 날짜부터 출력"
      ],
      "execution_count": 18,
      "outputs": [
        {
          "output_type": "execute_result",
          "data": {
            "text/html": [
              "<div>\n",
              "<style scoped>\n",
              "    .dataframe tbody tr th:only-of-type {\n",
              "        vertical-align: middle;\n",
              "    }\n",
              "\n",
              "    .dataframe tbody tr th {\n",
              "        vertical-align: top;\n",
              "    }\n",
              "\n",
              "    .dataframe thead th {\n",
              "        text-align: right;\n",
              "    }\n",
              "</style>\n",
              "<table border=\"1\" class=\"dataframe\">\n",
              "  <thead>\n",
              "    <tr style=\"text-align: right;\">\n",
              "      <th></th>\n",
              "      <th>A</th>\n",
              "      <th>B</th>\n",
              "      <th>C</th>\n",
              "      <th>D</th>\n",
              "    </tr>\n",
              "  </thead>\n",
              "  <tbody>\n",
              "    <tr>\n",
              "      <th>2013-01-01</th>\n",
              "      <td>1.638734</td>\n",
              "      <td>0.404539</td>\n",
              "      <td>-0.083975</td>\n",
              "      <td>-1.133042</td>\n",
              "    </tr>\n",
              "    <tr>\n",
              "      <th>2013-01-02</th>\n",
              "      <td>1.678163</td>\n",
              "      <td>-0.107702</td>\n",
              "      <td>0.932354</td>\n",
              "      <td>0.774285</td>\n",
              "    </tr>\n",
              "    <tr>\n",
              "      <th>2013-01-03</th>\n",
              "      <td>1.761447</td>\n",
              "      <td>-0.496669</td>\n",
              "      <td>0.341071</td>\n",
              "      <td>1.761759</td>\n",
              "    </tr>\n",
              "    <tr>\n",
              "      <th>2013-01-04</th>\n",
              "      <td>-0.120899</td>\n",
              "      <td>1.132350</td>\n",
              "      <td>-0.477775</td>\n",
              "      <td>-0.926147</td>\n",
              "    </tr>\n",
              "    <tr>\n",
              "      <th>2013-01-05</th>\n",
              "      <td>0.349312</td>\n",
              "      <td>1.236795</td>\n",
              "      <td>0.748792</td>\n",
              "      <td>-0.274232</td>\n",
              "    </tr>\n",
              "    <tr>\n",
              "      <th>2013-01-06</th>\n",
              "      <td>0.680625</td>\n",
              "      <td>-0.176243</td>\n",
              "      <td>-2.137644</td>\n",
              "      <td>-1.047409</td>\n",
              "    </tr>\n",
              "  </tbody>\n",
              "</table>\n",
              "</div>"
            ],
            "text/plain": [
              "                   A         B         C         D\n",
              "2013-01-01  1.638734  0.404539 -0.083975 -1.133042\n",
              "2013-01-02  1.678163 -0.107702  0.932354  0.774285\n",
              "2013-01-03  1.761447 -0.496669  0.341071  1.761759\n",
              "2013-01-04 -0.120899  1.132350 -0.477775 -0.926147\n",
              "2013-01-05  0.349312  1.236795  0.748792 -0.274232\n",
              "2013-01-06  0.680625 -0.176243 -2.137644 -1.047409"
            ]
          },
          "metadata": {
            "tags": []
          },
          "execution_count": 18
        }
      ]
    },
    {
      "metadata": {
        "id": "ZbHYRWyfTbpU",
        "colab_type": "code",
        "outputId": "1bf7b25e-1aee-4bba-ffd5-8ea7e5cc1788",
        "colab": {
          "base_uri": "https://localhost:8080/",
          "height": 225
        }
      },
      "cell_type": "code",
      "source": [
        "df.sort_index(axis=1, ascending=False)  # axis = 1 ==> 열 기준"
      ],
      "execution_count": 19,
      "outputs": [
        {
          "output_type": "execute_result",
          "data": {
            "text/html": [
              "<div>\n",
              "<style scoped>\n",
              "    .dataframe tbody tr th:only-of-type {\n",
              "        vertical-align: middle;\n",
              "    }\n",
              "\n",
              "    .dataframe tbody tr th {\n",
              "        vertical-align: top;\n",
              "    }\n",
              "\n",
              "    .dataframe thead th {\n",
              "        text-align: right;\n",
              "    }\n",
              "</style>\n",
              "<table border=\"1\" class=\"dataframe\">\n",
              "  <thead>\n",
              "    <tr style=\"text-align: right;\">\n",
              "      <th></th>\n",
              "      <th>D</th>\n",
              "      <th>C</th>\n",
              "      <th>B</th>\n",
              "      <th>A</th>\n",
              "    </tr>\n",
              "  </thead>\n",
              "  <tbody>\n",
              "    <tr>\n",
              "      <th>2013-01-01</th>\n",
              "      <td>-1.133042</td>\n",
              "      <td>-0.083975</td>\n",
              "      <td>0.404539</td>\n",
              "      <td>1.638734</td>\n",
              "    </tr>\n",
              "    <tr>\n",
              "      <th>2013-01-02</th>\n",
              "      <td>0.774285</td>\n",
              "      <td>0.932354</td>\n",
              "      <td>-0.107702</td>\n",
              "      <td>1.678163</td>\n",
              "    </tr>\n",
              "    <tr>\n",
              "      <th>2013-01-03</th>\n",
              "      <td>1.761759</td>\n",
              "      <td>0.341071</td>\n",
              "      <td>-0.496669</td>\n",
              "      <td>1.761447</td>\n",
              "    </tr>\n",
              "    <tr>\n",
              "      <th>2013-01-04</th>\n",
              "      <td>-0.926147</td>\n",
              "      <td>-0.477775</td>\n",
              "      <td>1.132350</td>\n",
              "      <td>-0.120899</td>\n",
              "    </tr>\n",
              "    <tr>\n",
              "      <th>2013-01-05</th>\n",
              "      <td>-0.274232</td>\n",
              "      <td>0.748792</td>\n",
              "      <td>1.236795</td>\n",
              "      <td>0.349312</td>\n",
              "    </tr>\n",
              "    <tr>\n",
              "      <th>2013-01-06</th>\n",
              "      <td>-1.047409</td>\n",
              "      <td>-2.137644</td>\n",
              "      <td>-0.176243</td>\n",
              "      <td>0.680625</td>\n",
              "    </tr>\n",
              "  </tbody>\n",
              "</table>\n",
              "</div>"
            ],
            "text/plain": [
              "                   D         C         B         A\n",
              "2013-01-01 -1.133042 -0.083975  0.404539  1.638734\n",
              "2013-01-02  0.774285  0.932354 -0.107702  1.678163\n",
              "2013-01-03  1.761759  0.341071 -0.496669  1.761447\n",
              "2013-01-04 -0.926147 -0.477775  1.132350 -0.120899\n",
              "2013-01-05 -0.274232  0.748792  1.236795  0.349312\n",
              "2013-01-06 -1.047409 -2.137644 -0.176243  0.680625"
            ]
          },
          "metadata": {
            "tags": []
          },
          "execution_count": 19
        }
      ]
    },
    {
      "metadata": {
        "id": "MJ1vGjUiTbpg",
        "colab_type": "code",
        "outputId": "094c691e-4bb5-40d4-e3f8-1e895156789c",
        "colab": {
          "base_uri": "https://localhost:8080/",
          "height": 225
        }
      },
      "cell_type": "code",
      "source": [
        "# Sorting by values:\n",
        "df.sort_values(by='B') #, ascending=False)\n",
        "\n",
        "# df.sort_values(by='B') ==> B열을 기준으로 정렬"
      ],
      "execution_count": 20,
      "outputs": [
        {
          "output_type": "execute_result",
          "data": {
            "text/html": [
              "<div>\n",
              "<style scoped>\n",
              "    .dataframe tbody tr th:only-of-type {\n",
              "        vertical-align: middle;\n",
              "    }\n",
              "\n",
              "    .dataframe tbody tr th {\n",
              "        vertical-align: top;\n",
              "    }\n",
              "\n",
              "    .dataframe thead th {\n",
              "        text-align: right;\n",
              "    }\n",
              "</style>\n",
              "<table border=\"1\" class=\"dataframe\">\n",
              "  <thead>\n",
              "    <tr style=\"text-align: right;\">\n",
              "      <th></th>\n",
              "      <th>A</th>\n",
              "      <th>B</th>\n",
              "      <th>C</th>\n",
              "      <th>D</th>\n",
              "    </tr>\n",
              "  </thead>\n",
              "  <tbody>\n",
              "    <tr>\n",
              "      <th>2013-01-03</th>\n",
              "      <td>1.761447</td>\n",
              "      <td>-0.496669</td>\n",
              "      <td>0.341071</td>\n",
              "      <td>1.761759</td>\n",
              "    </tr>\n",
              "    <tr>\n",
              "      <th>2013-01-06</th>\n",
              "      <td>0.680625</td>\n",
              "      <td>-0.176243</td>\n",
              "      <td>-2.137644</td>\n",
              "      <td>-1.047409</td>\n",
              "    </tr>\n",
              "    <tr>\n",
              "      <th>2013-01-02</th>\n",
              "      <td>1.678163</td>\n",
              "      <td>-0.107702</td>\n",
              "      <td>0.932354</td>\n",
              "      <td>0.774285</td>\n",
              "    </tr>\n",
              "    <tr>\n",
              "      <th>2013-01-01</th>\n",
              "      <td>1.638734</td>\n",
              "      <td>0.404539</td>\n",
              "      <td>-0.083975</td>\n",
              "      <td>-1.133042</td>\n",
              "    </tr>\n",
              "    <tr>\n",
              "      <th>2013-01-04</th>\n",
              "      <td>-0.120899</td>\n",
              "      <td>1.132350</td>\n",
              "      <td>-0.477775</td>\n",
              "      <td>-0.926147</td>\n",
              "    </tr>\n",
              "    <tr>\n",
              "      <th>2013-01-05</th>\n",
              "      <td>0.349312</td>\n",
              "      <td>1.236795</td>\n",
              "      <td>0.748792</td>\n",
              "      <td>-0.274232</td>\n",
              "    </tr>\n",
              "  </tbody>\n",
              "</table>\n",
              "</div>"
            ],
            "text/plain": [
              "                   A         B         C         D\n",
              "2013-01-03  1.761447 -0.496669  0.341071  1.761759\n",
              "2013-01-06  0.680625 -0.176243 -2.137644 -1.047409\n",
              "2013-01-02  1.678163 -0.107702  0.932354  0.774285\n",
              "2013-01-01  1.638734  0.404539 -0.083975 -1.133042\n",
              "2013-01-04 -0.120899  1.132350 -0.477775 -0.926147\n",
              "2013-01-05  0.349312  1.236795  0.748792 -0.274232"
            ]
          },
          "metadata": {
            "tags": []
          },
          "execution_count": 20
        }
      ]
    },
    {
      "metadata": {
        "id": "LkmM8reCTbpl",
        "colab_type": "text"
      },
      "cell_type": "markdown",
      "source": [
        "#### Selecting data by indexing and slicing\n",
        "\n",
        "> **at, iat, loc, iloc**\n",
        "- loc : 로케이션\n",
        "- iloc : 로케이션의 인덱스(i = 인덱스 의미)"
      ]
    },
    {
      "metadata": {
        "id": "ThmyUZMjTbpl",
        "colab_type": "code",
        "outputId": "dde92f94-623d-415b-8720-6ff8bb262de3",
        "colab": {
          "base_uri": "https://localhost:8080/",
          "height": 140
        }
      },
      "cell_type": "code",
      "source": [
        "# Selecting a single column, which yields a Series\n",
        "df['A']"
      ],
      "execution_count": 21,
      "outputs": [
        {
          "output_type": "execute_result",
          "data": {
            "text/plain": [
              "2013-01-01    1.638734\n",
              "2013-01-02    1.678163\n",
              "2013-01-03    1.761447\n",
              "2013-01-04   -0.120899\n",
              "2013-01-05    0.349312\n",
              "2013-01-06    0.680625\n",
              "Freq: D, Name: A, dtype: float64"
            ]
          },
          "metadata": {
            "tags": []
          },
          "execution_count": 21
        }
      ]
    },
    {
      "metadata": {
        "id": "hDgrzoxtTbpp",
        "colab_type": "code",
        "outputId": "30a6793c-bf8b-4b39-9a1c-bb40ee5bb0be",
        "colab": {
          "base_uri": "https://localhost:8080/",
          "height": 136
        }
      },
      "cell_type": "code",
      "source": [
        "# Selecting via [], which slices the rows.\n",
        "df[0:3]  # 행"
      ],
      "execution_count": 22,
      "outputs": [
        {
          "output_type": "execute_result",
          "data": {
            "text/html": [
              "<div>\n",
              "<style scoped>\n",
              "    .dataframe tbody tr th:only-of-type {\n",
              "        vertical-align: middle;\n",
              "    }\n",
              "\n",
              "    .dataframe tbody tr th {\n",
              "        vertical-align: top;\n",
              "    }\n",
              "\n",
              "    .dataframe thead th {\n",
              "        text-align: right;\n",
              "    }\n",
              "</style>\n",
              "<table border=\"1\" class=\"dataframe\">\n",
              "  <thead>\n",
              "    <tr style=\"text-align: right;\">\n",
              "      <th></th>\n",
              "      <th>A</th>\n",
              "      <th>B</th>\n",
              "      <th>C</th>\n",
              "      <th>D</th>\n",
              "    </tr>\n",
              "  </thead>\n",
              "  <tbody>\n",
              "    <tr>\n",
              "      <th>2013-01-01</th>\n",
              "      <td>1.638734</td>\n",
              "      <td>0.404539</td>\n",
              "      <td>-0.083975</td>\n",
              "      <td>-1.133042</td>\n",
              "    </tr>\n",
              "    <tr>\n",
              "      <th>2013-01-02</th>\n",
              "      <td>1.678163</td>\n",
              "      <td>-0.107702</td>\n",
              "      <td>0.932354</td>\n",
              "      <td>0.774285</td>\n",
              "    </tr>\n",
              "    <tr>\n",
              "      <th>2013-01-03</th>\n",
              "      <td>1.761447</td>\n",
              "      <td>-0.496669</td>\n",
              "      <td>0.341071</td>\n",
              "      <td>1.761759</td>\n",
              "    </tr>\n",
              "  </tbody>\n",
              "</table>\n",
              "</div>"
            ],
            "text/plain": [
              "                   A         B         C         D\n",
              "2013-01-01  1.638734  0.404539 -0.083975 -1.133042\n",
              "2013-01-02  1.678163 -0.107702  0.932354  0.774285\n",
              "2013-01-03  1.761447 -0.496669  0.341071  1.761759"
            ]
          },
          "metadata": {
            "tags": []
          },
          "execution_count": 22
        }
      ]
    },
    {
      "metadata": {
        "id": "MFTzUnm9Tbpt",
        "colab_type": "code",
        "outputId": "f39f3767-7de3-445a-869f-a2daf810e6d3",
        "colab": {
          "base_uri": "https://localhost:8080/",
          "height": 136
        }
      },
      "cell_type": "code",
      "source": [
        "df['20130102':'20130104'] # 인덱스가 아닌 값인 경우는 지정된 범위가 다 선택된다.\n",
        "# 제목으로 접근하면 범위 다 포함"
      ],
      "execution_count": 23,
      "outputs": [
        {
          "output_type": "execute_result",
          "data": {
            "text/html": [
              "<div>\n",
              "<style scoped>\n",
              "    .dataframe tbody tr th:only-of-type {\n",
              "        vertical-align: middle;\n",
              "    }\n",
              "\n",
              "    .dataframe tbody tr th {\n",
              "        vertical-align: top;\n",
              "    }\n",
              "\n",
              "    .dataframe thead th {\n",
              "        text-align: right;\n",
              "    }\n",
              "</style>\n",
              "<table border=\"1\" class=\"dataframe\">\n",
              "  <thead>\n",
              "    <tr style=\"text-align: right;\">\n",
              "      <th></th>\n",
              "      <th>A</th>\n",
              "      <th>B</th>\n",
              "      <th>C</th>\n",
              "      <th>D</th>\n",
              "    </tr>\n",
              "  </thead>\n",
              "  <tbody>\n",
              "    <tr>\n",
              "      <th>2013-01-02</th>\n",
              "      <td>1.678163</td>\n",
              "      <td>-0.107702</td>\n",
              "      <td>0.932354</td>\n",
              "      <td>0.774285</td>\n",
              "    </tr>\n",
              "    <tr>\n",
              "      <th>2013-01-03</th>\n",
              "      <td>1.761447</td>\n",
              "      <td>-0.496669</td>\n",
              "      <td>0.341071</td>\n",
              "      <td>1.761759</td>\n",
              "    </tr>\n",
              "    <tr>\n",
              "      <th>2013-01-04</th>\n",
              "      <td>-0.120899</td>\n",
              "      <td>1.132350</td>\n",
              "      <td>-0.477775</td>\n",
              "      <td>-0.926147</td>\n",
              "    </tr>\n",
              "  </tbody>\n",
              "</table>\n",
              "</div>"
            ],
            "text/plain": [
              "                   A         B         C         D\n",
              "2013-01-02  1.678163 -0.107702  0.932354  0.774285\n",
              "2013-01-03  1.761447 -0.496669  0.341071  1.761759\n",
              "2013-01-04 -0.120899  1.132350 -0.477775 -0.926147"
            ]
          },
          "metadata": {
            "tags": []
          },
          "execution_count": 23
        }
      ]
    },
    {
      "metadata": {
        "id": "nLFNr7JuTbp1",
        "colab_type": "text"
      },
      "cell_type": "markdown",
      "source": [
        "#### Selecting data by label"
      ]
    },
    {
      "metadata": {
        "id": "MQ3ortK1Tbp2",
        "colab_type": "code",
        "outputId": "055b99e1-9291-4012-9b97-acb1ea268afd",
        "colab": {
          "base_uri": "https://localhost:8080/",
          "height": 225
        }
      },
      "cell_type": "code",
      "source": [
        "df"
      ],
      "execution_count": 24,
      "outputs": [
        {
          "output_type": "execute_result",
          "data": {
            "text/html": [
              "<div>\n",
              "<style scoped>\n",
              "    .dataframe tbody tr th:only-of-type {\n",
              "        vertical-align: middle;\n",
              "    }\n",
              "\n",
              "    .dataframe tbody tr th {\n",
              "        vertical-align: top;\n",
              "    }\n",
              "\n",
              "    .dataframe thead th {\n",
              "        text-align: right;\n",
              "    }\n",
              "</style>\n",
              "<table border=\"1\" class=\"dataframe\">\n",
              "  <thead>\n",
              "    <tr style=\"text-align: right;\">\n",
              "      <th></th>\n",
              "      <th>A</th>\n",
              "      <th>B</th>\n",
              "      <th>C</th>\n",
              "      <th>D</th>\n",
              "    </tr>\n",
              "  </thead>\n",
              "  <tbody>\n",
              "    <tr>\n",
              "      <th>2013-01-01</th>\n",
              "      <td>1.638734</td>\n",
              "      <td>0.404539</td>\n",
              "      <td>-0.083975</td>\n",
              "      <td>-1.133042</td>\n",
              "    </tr>\n",
              "    <tr>\n",
              "      <th>2013-01-02</th>\n",
              "      <td>1.678163</td>\n",
              "      <td>-0.107702</td>\n",
              "      <td>0.932354</td>\n",
              "      <td>0.774285</td>\n",
              "    </tr>\n",
              "    <tr>\n",
              "      <th>2013-01-03</th>\n",
              "      <td>1.761447</td>\n",
              "      <td>-0.496669</td>\n",
              "      <td>0.341071</td>\n",
              "      <td>1.761759</td>\n",
              "    </tr>\n",
              "    <tr>\n",
              "      <th>2013-01-04</th>\n",
              "      <td>-0.120899</td>\n",
              "      <td>1.132350</td>\n",
              "      <td>-0.477775</td>\n",
              "      <td>-0.926147</td>\n",
              "    </tr>\n",
              "    <tr>\n",
              "      <th>2013-01-05</th>\n",
              "      <td>0.349312</td>\n",
              "      <td>1.236795</td>\n",
              "      <td>0.748792</td>\n",
              "      <td>-0.274232</td>\n",
              "    </tr>\n",
              "    <tr>\n",
              "      <th>2013-01-06</th>\n",
              "      <td>0.680625</td>\n",
              "      <td>-0.176243</td>\n",
              "      <td>-2.137644</td>\n",
              "      <td>-1.047409</td>\n",
              "    </tr>\n",
              "  </tbody>\n",
              "</table>\n",
              "</div>"
            ],
            "text/plain": [
              "                   A         B         C         D\n",
              "2013-01-01  1.638734  0.404539 -0.083975 -1.133042\n",
              "2013-01-02  1.678163 -0.107702  0.932354  0.774285\n",
              "2013-01-03  1.761447 -0.496669  0.341071  1.761759\n",
              "2013-01-04 -0.120899  1.132350 -0.477775 -0.926147\n",
              "2013-01-05  0.349312  1.236795  0.748792 -0.274232\n",
              "2013-01-06  0.680625 -0.176243 -2.137644 -1.047409"
            ]
          },
          "metadata": {
            "tags": []
          },
          "execution_count": 24
        }
      ]
    },
    {
      "metadata": {
        "id": "yyxyFY7eTbp6",
        "colab_type": "code",
        "outputId": "b693721e-c609-4e28-f13a-fa77f5106b10",
        "colab": {
          "base_uri": "https://localhost:8080/",
          "height": 105
        }
      },
      "cell_type": "code",
      "source": [
        "df.loc[dates[0]]   # loc() # loc[dates[0]] => 0번째 데이터 인덱스에 해당하는 값 가져와라"
      ],
      "execution_count": 25,
      "outputs": [
        {
          "output_type": "execute_result",
          "data": {
            "text/plain": [
              "A    1.638734\n",
              "B    0.404539\n",
              "C   -0.083975\n",
              "D   -1.133042\n",
              "Name: 2013-01-01 00:00:00, dtype: float64"
            ]
          },
          "metadata": {
            "tags": []
          },
          "execution_count": 25
        }
      ]
    },
    {
      "metadata": {
        "id": "3UilRN2pTbqF",
        "colab_type": "code",
        "outputId": "9c6ea8fd-e3da-4cb2-eddd-520771fd7760",
        "colab": {
          "base_uri": "https://localhost:8080/",
          "height": 225
        }
      },
      "cell_type": "code",
      "source": [
        "# Selecting on a multi-axis by label:\n",
        "df.loc[:,['A','B']]  # loc[행, 열] => 행 : 전체범위, 열 : A,B"
      ],
      "execution_count": 26,
      "outputs": [
        {
          "output_type": "execute_result",
          "data": {
            "text/html": [
              "<div>\n",
              "<style scoped>\n",
              "    .dataframe tbody tr th:only-of-type {\n",
              "        vertical-align: middle;\n",
              "    }\n",
              "\n",
              "    .dataframe tbody tr th {\n",
              "        vertical-align: top;\n",
              "    }\n",
              "\n",
              "    .dataframe thead th {\n",
              "        text-align: right;\n",
              "    }\n",
              "</style>\n",
              "<table border=\"1\" class=\"dataframe\">\n",
              "  <thead>\n",
              "    <tr style=\"text-align: right;\">\n",
              "      <th></th>\n",
              "      <th>A</th>\n",
              "      <th>B</th>\n",
              "    </tr>\n",
              "  </thead>\n",
              "  <tbody>\n",
              "    <tr>\n",
              "      <th>2013-01-01</th>\n",
              "      <td>1.638734</td>\n",
              "      <td>0.404539</td>\n",
              "    </tr>\n",
              "    <tr>\n",
              "      <th>2013-01-02</th>\n",
              "      <td>1.678163</td>\n",
              "      <td>-0.107702</td>\n",
              "    </tr>\n",
              "    <tr>\n",
              "      <th>2013-01-03</th>\n",
              "      <td>1.761447</td>\n",
              "      <td>-0.496669</td>\n",
              "    </tr>\n",
              "    <tr>\n",
              "      <th>2013-01-04</th>\n",
              "      <td>-0.120899</td>\n",
              "      <td>1.132350</td>\n",
              "    </tr>\n",
              "    <tr>\n",
              "      <th>2013-01-05</th>\n",
              "      <td>0.349312</td>\n",
              "      <td>1.236795</td>\n",
              "    </tr>\n",
              "    <tr>\n",
              "      <th>2013-01-06</th>\n",
              "      <td>0.680625</td>\n",
              "      <td>-0.176243</td>\n",
              "    </tr>\n",
              "  </tbody>\n",
              "</table>\n",
              "</div>"
            ],
            "text/plain": [
              "                   A         B\n",
              "2013-01-01  1.638734  0.404539\n",
              "2013-01-02  1.678163 -0.107702\n",
              "2013-01-03  1.761447 -0.496669\n",
              "2013-01-04 -0.120899  1.132350\n",
              "2013-01-05  0.349312  1.236795\n",
              "2013-01-06  0.680625 -0.176243"
            ]
          },
          "metadata": {
            "tags": []
          },
          "execution_count": 26
        }
      ]
    },
    {
      "metadata": {
        "id": "viB1VxMbTbqO",
        "colab_type": "text"
      },
      "cell_type": "markdown",
      "source": [
        "#### [도전코딩]\n",
        "\n",
        "> Select data for first two days AND comumn 3,4 from df."
      ]
    },
    {
      "metadata": {
        "id": "iKmTs526L5UR",
        "colab_type": "code",
        "colab": {}
      },
      "cell_type": "code",
      "source": [
        "# error\n",
        "df.loc[1:3,['C','D']]  # loc 사용할 때는 인덱스 사용 X"
      ],
      "execution_count": 0,
      "outputs": []
    },
    {
      "metadata": {
        "id": "sFywfe0lTbqR",
        "colab_type": "code",
        "colab": {
          "base_uri": "https://localhost:8080/",
          "height": 106
        },
        "outputId": "10c85080-ed1c-4a82-eba6-7c28699d35e0"
      },
      "cell_type": "code",
      "source": [
        "df.loc['20130101':'20130102',['C','D']]"
      ],
      "execution_count": 28,
      "outputs": [
        {
          "output_type": "execute_result",
          "data": {
            "text/html": [
              "<div>\n",
              "<style scoped>\n",
              "    .dataframe tbody tr th:only-of-type {\n",
              "        vertical-align: middle;\n",
              "    }\n",
              "\n",
              "    .dataframe tbody tr th {\n",
              "        vertical-align: top;\n",
              "    }\n",
              "\n",
              "    .dataframe thead th {\n",
              "        text-align: right;\n",
              "    }\n",
              "</style>\n",
              "<table border=\"1\" class=\"dataframe\">\n",
              "  <thead>\n",
              "    <tr style=\"text-align: right;\">\n",
              "      <th></th>\n",
              "      <th>C</th>\n",
              "      <th>D</th>\n",
              "    </tr>\n",
              "  </thead>\n",
              "  <tbody>\n",
              "    <tr>\n",
              "      <th>2013-01-01</th>\n",
              "      <td>-0.083975</td>\n",
              "      <td>-1.133042</td>\n",
              "    </tr>\n",
              "    <tr>\n",
              "      <th>2013-01-02</th>\n",
              "      <td>0.932354</td>\n",
              "      <td>0.774285</td>\n",
              "    </tr>\n",
              "  </tbody>\n",
              "</table>\n",
              "</div>"
            ],
            "text/plain": [
              "                   C         D\n",
              "2013-01-01 -0.083975 -1.133042\n",
              "2013-01-02  0.932354  0.774285"
            ]
          },
          "metadata": {
            "tags": []
          },
          "execution_count": 28
        }
      ]
    },
    {
      "metadata": {
        "id": "30FFCSVLL1a8",
        "colab_type": "code",
        "colab": {
          "base_uri": "https://localhost:8080/",
          "height": 106
        },
        "outputId": "042a3e36-983f-4325-93e7-11fa8ee14aa6"
      },
      "cell_type": "code",
      "source": [
        "df.loc[dates[:2],['C','D']]"
      ],
      "execution_count": 29,
      "outputs": [
        {
          "output_type": "execute_result",
          "data": {
            "text/html": [
              "<div>\n",
              "<style scoped>\n",
              "    .dataframe tbody tr th:only-of-type {\n",
              "        vertical-align: middle;\n",
              "    }\n",
              "\n",
              "    .dataframe tbody tr th {\n",
              "        vertical-align: top;\n",
              "    }\n",
              "\n",
              "    .dataframe thead th {\n",
              "        text-align: right;\n",
              "    }\n",
              "</style>\n",
              "<table border=\"1\" class=\"dataframe\">\n",
              "  <thead>\n",
              "    <tr style=\"text-align: right;\">\n",
              "      <th></th>\n",
              "      <th>C</th>\n",
              "      <th>D</th>\n",
              "    </tr>\n",
              "  </thead>\n",
              "  <tbody>\n",
              "    <tr>\n",
              "      <th>2013-01-01</th>\n",
              "      <td>-0.083975</td>\n",
              "      <td>-1.133042</td>\n",
              "    </tr>\n",
              "    <tr>\n",
              "      <th>2013-01-02</th>\n",
              "      <td>0.932354</td>\n",
              "      <td>0.774285</td>\n",
              "    </tr>\n",
              "  </tbody>\n",
              "</table>\n",
              "</div>"
            ],
            "text/plain": [
              "                   C         D\n",
              "2013-01-01 -0.083975 -1.133042\n",
              "2013-01-02  0.932354  0.774285"
            ]
          },
          "metadata": {
            "tags": []
          },
          "execution_count": 29
        }
      ]
    },
    {
      "metadata": {
        "id": "cYwHT38eTbqU",
        "colab_type": "text"
      },
      "cell_type": "markdown",
      "source": [
        "#### Selecting data by position  (iloc())"
      ]
    },
    {
      "metadata": {
        "id": "H18zOGMjTbqW",
        "colab_type": "code",
        "outputId": "9756be74-79bd-45a6-b5a6-72bed05ac56e",
        "colab": {
          "base_uri": "https://localhost:8080/",
          "height": 225
        }
      },
      "cell_type": "code",
      "source": [
        "df"
      ],
      "execution_count": 30,
      "outputs": [
        {
          "output_type": "execute_result",
          "data": {
            "text/html": [
              "<div>\n",
              "<style scoped>\n",
              "    .dataframe tbody tr th:only-of-type {\n",
              "        vertical-align: middle;\n",
              "    }\n",
              "\n",
              "    .dataframe tbody tr th {\n",
              "        vertical-align: top;\n",
              "    }\n",
              "\n",
              "    .dataframe thead th {\n",
              "        text-align: right;\n",
              "    }\n",
              "</style>\n",
              "<table border=\"1\" class=\"dataframe\">\n",
              "  <thead>\n",
              "    <tr style=\"text-align: right;\">\n",
              "      <th></th>\n",
              "      <th>A</th>\n",
              "      <th>B</th>\n",
              "      <th>C</th>\n",
              "      <th>D</th>\n",
              "    </tr>\n",
              "  </thead>\n",
              "  <tbody>\n",
              "    <tr>\n",
              "      <th>2013-01-01</th>\n",
              "      <td>1.638734</td>\n",
              "      <td>0.404539</td>\n",
              "      <td>-0.083975</td>\n",
              "      <td>-1.133042</td>\n",
              "    </tr>\n",
              "    <tr>\n",
              "      <th>2013-01-02</th>\n",
              "      <td>1.678163</td>\n",
              "      <td>-0.107702</td>\n",
              "      <td>0.932354</td>\n",
              "      <td>0.774285</td>\n",
              "    </tr>\n",
              "    <tr>\n",
              "      <th>2013-01-03</th>\n",
              "      <td>1.761447</td>\n",
              "      <td>-0.496669</td>\n",
              "      <td>0.341071</td>\n",
              "      <td>1.761759</td>\n",
              "    </tr>\n",
              "    <tr>\n",
              "      <th>2013-01-04</th>\n",
              "      <td>-0.120899</td>\n",
              "      <td>1.132350</td>\n",
              "      <td>-0.477775</td>\n",
              "      <td>-0.926147</td>\n",
              "    </tr>\n",
              "    <tr>\n",
              "      <th>2013-01-05</th>\n",
              "      <td>0.349312</td>\n",
              "      <td>1.236795</td>\n",
              "      <td>0.748792</td>\n",
              "      <td>-0.274232</td>\n",
              "    </tr>\n",
              "    <tr>\n",
              "      <th>2013-01-06</th>\n",
              "      <td>0.680625</td>\n",
              "      <td>-0.176243</td>\n",
              "      <td>-2.137644</td>\n",
              "      <td>-1.047409</td>\n",
              "    </tr>\n",
              "  </tbody>\n",
              "</table>\n",
              "</div>"
            ],
            "text/plain": [
              "                   A         B         C         D\n",
              "2013-01-01  1.638734  0.404539 -0.083975 -1.133042\n",
              "2013-01-02  1.678163 -0.107702  0.932354  0.774285\n",
              "2013-01-03  1.761447 -0.496669  0.341071  1.761759\n",
              "2013-01-04 -0.120899  1.132350 -0.477775 -0.926147\n",
              "2013-01-05  0.349312  1.236795  0.748792 -0.274232\n",
              "2013-01-06  0.680625 -0.176243 -2.137644 -1.047409"
            ]
          },
          "metadata": {
            "tags": []
          },
          "execution_count": 30
        }
      ]
    },
    {
      "metadata": {
        "id": "HUuqFliPTbql",
        "colab_type": "code",
        "outputId": "1044ad95-032a-4529-d8d4-5d436a284dc0",
        "colab": {
          "base_uri": "https://localhost:8080/",
          "height": 105
        }
      },
      "cell_type": "code",
      "source": [
        "df.iloc[3]  # 결과는 차원축소형으로 표현됨.\n",
        "# iloc[3] => 행 3번 인덱스(2013-01-04)의 값들 출력됨"
      ],
      "execution_count": 30,
      "outputs": [
        {
          "output_type": "execute_result",
          "data": {
            "text/plain": [
              "A   -1.266165\n",
              "B    0.193704\n",
              "C   -0.081283\n",
              "D    0.460923\n",
              "Name: 2013-01-04 00:00:00, dtype: float64"
            ]
          },
          "metadata": {
            "tags": []
          },
          "execution_count": 30
        }
      ]
    },
    {
      "metadata": {
        "id": "wU87apvMTbqz",
        "colab_type": "code",
        "outputId": "89974ec2-18c5-4f73-db95-145e2edb3313",
        "colab": {
          "base_uri": "https://localhost:8080/",
          "height": 106
        }
      },
      "cell_type": "code",
      "source": [
        "# [다시 도전]\n",
        "# Select data for first two days AND comumn 3,4 from df.\n",
        "df.iloc[:2,2:4]  # 행 : 처음부터 1번 인덱스까지, 열 : 2번 인덱스부터 3번 인덱스까지"
      ],
      "execution_count": 31,
      "outputs": [
        {
          "output_type": "execute_result",
          "data": {
            "text/html": [
              "<div>\n",
              "<style scoped>\n",
              "    .dataframe tbody tr th:only-of-type {\n",
              "        vertical-align: middle;\n",
              "    }\n",
              "\n",
              "    .dataframe tbody tr th {\n",
              "        vertical-align: top;\n",
              "    }\n",
              "\n",
              "    .dataframe thead th {\n",
              "        text-align: right;\n",
              "    }\n",
              "</style>\n",
              "<table border=\"1\" class=\"dataframe\">\n",
              "  <thead>\n",
              "    <tr style=\"text-align: right;\">\n",
              "      <th></th>\n",
              "      <th>C</th>\n",
              "      <th>D</th>\n",
              "    </tr>\n",
              "  </thead>\n",
              "  <tbody>\n",
              "    <tr>\n",
              "      <th>2013-01-01</th>\n",
              "      <td>-0.083975</td>\n",
              "      <td>-1.133042</td>\n",
              "    </tr>\n",
              "    <tr>\n",
              "      <th>2013-01-02</th>\n",
              "      <td>0.932354</td>\n",
              "      <td>0.774285</td>\n",
              "    </tr>\n",
              "  </tbody>\n",
              "</table>\n",
              "</div>"
            ],
            "text/plain": [
              "                   C         D\n",
              "2013-01-01 -0.083975 -1.133042\n",
              "2013-01-02  0.932354  0.774285"
            ]
          },
          "metadata": {
            "tags": []
          },
          "execution_count": 31
        }
      ]
    },
    {
      "metadata": {
        "id": "MawaPiRQTbq_",
        "colab_type": "code",
        "outputId": "41fe7ca6-98f6-408f-c728-8ea24d7ba290",
        "colab": {
          "base_uri": "https://localhost:8080/",
          "height": 34
        }
      },
      "cell_type": "code",
      "source": [
        "# Select one item\n",
        "df.iloc[1,1]  # 2013-01-02의 B의 값 출력됨"
      ],
      "execution_count": 32,
      "outputs": [
        {
          "output_type": "execute_result",
          "data": {
            "text/plain": [
              "-0.10770182416912936"
            ]
          },
          "metadata": {
            "tags": []
          },
          "execution_count": 32
        }
      ]
    },
    {
      "metadata": {
        "id": "ktVM-cfHTbrF",
        "colab_type": "text"
      },
      "cell_type": "markdown",
      "source": [
        "#### Selecting data by Boolean indexing"
      ]
    },
    {
      "metadata": {
        "id": "pGx601o5TbrG",
        "colab_type": "code",
        "outputId": "dbe76747-27c4-4ec1-9341-a149db7ecd33",
        "colab": {
          "base_uri": "https://localhost:8080/",
          "height": 225
        }
      },
      "cell_type": "code",
      "source": [
        "df  # 무작위 수라서 언제든지 달라질 수 있음"
      ],
      "execution_count": 33,
      "outputs": [
        {
          "output_type": "execute_result",
          "data": {
            "text/html": [
              "<div>\n",
              "<style scoped>\n",
              "    .dataframe tbody tr th:only-of-type {\n",
              "        vertical-align: middle;\n",
              "    }\n",
              "\n",
              "    .dataframe tbody tr th {\n",
              "        vertical-align: top;\n",
              "    }\n",
              "\n",
              "    .dataframe thead th {\n",
              "        text-align: right;\n",
              "    }\n",
              "</style>\n",
              "<table border=\"1\" class=\"dataframe\">\n",
              "  <thead>\n",
              "    <tr style=\"text-align: right;\">\n",
              "      <th></th>\n",
              "      <th>A</th>\n",
              "      <th>B</th>\n",
              "      <th>C</th>\n",
              "      <th>D</th>\n",
              "    </tr>\n",
              "  </thead>\n",
              "  <tbody>\n",
              "    <tr>\n",
              "      <th>2013-01-01</th>\n",
              "      <td>1.638734</td>\n",
              "      <td>0.404539</td>\n",
              "      <td>-0.083975</td>\n",
              "      <td>-1.133042</td>\n",
              "    </tr>\n",
              "    <tr>\n",
              "      <th>2013-01-02</th>\n",
              "      <td>1.678163</td>\n",
              "      <td>-0.107702</td>\n",
              "      <td>0.932354</td>\n",
              "      <td>0.774285</td>\n",
              "    </tr>\n",
              "    <tr>\n",
              "      <th>2013-01-03</th>\n",
              "      <td>1.761447</td>\n",
              "      <td>-0.496669</td>\n",
              "      <td>0.341071</td>\n",
              "      <td>1.761759</td>\n",
              "    </tr>\n",
              "    <tr>\n",
              "      <th>2013-01-04</th>\n",
              "      <td>-0.120899</td>\n",
              "      <td>1.132350</td>\n",
              "      <td>-0.477775</td>\n",
              "      <td>-0.926147</td>\n",
              "    </tr>\n",
              "    <tr>\n",
              "      <th>2013-01-05</th>\n",
              "      <td>0.349312</td>\n",
              "      <td>1.236795</td>\n",
              "      <td>0.748792</td>\n",
              "      <td>-0.274232</td>\n",
              "    </tr>\n",
              "    <tr>\n",
              "      <th>2013-01-06</th>\n",
              "      <td>0.680625</td>\n",
              "      <td>-0.176243</td>\n",
              "      <td>-2.137644</td>\n",
              "      <td>-1.047409</td>\n",
              "    </tr>\n",
              "  </tbody>\n",
              "</table>\n",
              "</div>"
            ],
            "text/plain": [
              "                   A         B         C         D\n",
              "2013-01-01  1.638734  0.404539 -0.083975 -1.133042\n",
              "2013-01-02  1.678163 -0.107702  0.932354  0.774285\n",
              "2013-01-03  1.761447 -0.496669  0.341071  1.761759\n",
              "2013-01-04 -0.120899  1.132350 -0.477775 -0.926147\n",
              "2013-01-05  0.349312  1.236795  0.748792 -0.274232\n",
              "2013-01-06  0.680625 -0.176243 -2.137644 -1.047409"
            ]
          },
          "metadata": {
            "tags": []
          },
          "execution_count": 33
        }
      ]
    },
    {
      "metadata": {
        "id": "iUnpFmMTTbrK",
        "colab_type": "code",
        "outputId": "468421e3-3964-46bc-be8e-e8050d018dc5",
        "colab": {
          "base_uri": "https://localhost:8080/",
          "height": 195
        }
      },
      "cell_type": "code",
      "source": [
        "df[df.A > 0]  # A열에서 0보다 큰 값 추출"
      ],
      "execution_count": 34,
      "outputs": [
        {
          "output_type": "execute_result",
          "data": {
            "text/html": [
              "<div>\n",
              "<style scoped>\n",
              "    .dataframe tbody tr th:only-of-type {\n",
              "        vertical-align: middle;\n",
              "    }\n",
              "\n",
              "    .dataframe tbody tr th {\n",
              "        vertical-align: top;\n",
              "    }\n",
              "\n",
              "    .dataframe thead th {\n",
              "        text-align: right;\n",
              "    }\n",
              "</style>\n",
              "<table border=\"1\" class=\"dataframe\">\n",
              "  <thead>\n",
              "    <tr style=\"text-align: right;\">\n",
              "      <th></th>\n",
              "      <th>A</th>\n",
              "      <th>B</th>\n",
              "      <th>C</th>\n",
              "      <th>D</th>\n",
              "    </tr>\n",
              "  </thead>\n",
              "  <tbody>\n",
              "    <tr>\n",
              "      <th>2013-01-01</th>\n",
              "      <td>1.638734</td>\n",
              "      <td>0.404539</td>\n",
              "      <td>-0.083975</td>\n",
              "      <td>-1.133042</td>\n",
              "    </tr>\n",
              "    <tr>\n",
              "      <th>2013-01-02</th>\n",
              "      <td>1.678163</td>\n",
              "      <td>-0.107702</td>\n",
              "      <td>0.932354</td>\n",
              "      <td>0.774285</td>\n",
              "    </tr>\n",
              "    <tr>\n",
              "      <th>2013-01-03</th>\n",
              "      <td>1.761447</td>\n",
              "      <td>-0.496669</td>\n",
              "      <td>0.341071</td>\n",
              "      <td>1.761759</td>\n",
              "    </tr>\n",
              "    <tr>\n",
              "      <th>2013-01-05</th>\n",
              "      <td>0.349312</td>\n",
              "      <td>1.236795</td>\n",
              "      <td>0.748792</td>\n",
              "      <td>-0.274232</td>\n",
              "    </tr>\n",
              "    <tr>\n",
              "      <th>2013-01-06</th>\n",
              "      <td>0.680625</td>\n",
              "      <td>-0.176243</td>\n",
              "      <td>-2.137644</td>\n",
              "      <td>-1.047409</td>\n",
              "    </tr>\n",
              "  </tbody>\n",
              "</table>\n",
              "</div>"
            ],
            "text/plain": [
              "                   A         B         C         D\n",
              "2013-01-01  1.638734  0.404539 -0.083975 -1.133042\n",
              "2013-01-02  1.678163 -0.107702  0.932354  0.774285\n",
              "2013-01-03  1.761447 -0.496669  0.341071  1.761759\n",
              "2013-01-05  0.349312  1.236795  0.748792 -0.274232\n",
              "2013-01-06  0.680625 -0.176243 -2.137644 -1.047409"
            ]
          },
          "metadata": {
            "tags": []
          },
          "execution_count": 34
        }
      ]
    },
    {
      "metadata": {
        "id": "83Csp32XTbrX",
        "colab_type": "code",
        "outputId": "9d9da843-428a-492d-ad57-f186700124ab",
        "colab": {
          "base_uri": "https://localhost:8080/",
          "height": 225
        }
      },
      "cell_type": "code",
      "source": [
        "df[df > 0]  # df의 값들 중에서 0보다 큰 값 추출, 조건 만족하지 못할 시 NaN 출력"
      ],
      "execution_count": 36,
      "outputs": [
        {
          "output_type": "execute_result",
          "data": {
            "text/html": [
              "<div>\n",
              "<style scoped>\n",
              "    .dataframe tbody tr th:only-of-type {\n",
              "        vertical-align: middle;\n",
              "    }\n",
              "\n",
              "    .dataframe tbody tr th {\n",
              "        vertical-align: top;\n",
              "    }\n",
              "\n",
              "    .dataframe thead th {\n",
              "        text-align: right;\n",
              "    }\n",
              "</style>\n",
              "<table border=\"1\" class=\"dataframe\">\n",
              "  <thead>\n",
              "    <tr style=\"text-align: right;\">\n",
              "      <th></th>\n",
              "      <th>A</th>\n",
              "      <th>B</th>\n",
              "      <th>C</th>\n",
              "      <th>D</th>\n",
              "    </tr>\n",
              "  </thead>\n",
              "  <tbody>\n",
              "    <tr>\n",
              "      <th>2013-01-01</th>\n",
              "      <td>1.638734</td>\n",
              "      <td>0.404539</td>\n",
              "      <td>NaN</td>\n",
              "      <td>NaN</td>\n",
              "    </tr>\n",
              "    <tr>\n",
              "      <th>2013-01-02</th>\n",
              "      <td>1.678163</td>\n",
              "      <td>NaN</td>\n",
              "      <td>0.932354</td>\n",
              "      <td>0.774285</td>\n",
              "    </tr>\n",
              "    <tr>\n",
              "      <th>2013-01-03</th>\n",
              "      <td>1.761447</td>\n",
              "      <td>NaN</td>\n",
              "      <td>0.341071</td>\n",
              "      <td>1.761759</td>\n",
              "    </tr>\n",
              "    <tr>\n",
              "      <th>2013-01-04</th>\n",
              "      <td>NaN</td>\n",
              "      <td>1.132350</td>\n",
              "      <td>NaN</td>\n",
              "      <td>NaN</td>\n",
              "    </tr>\n",
              "    <tr>\n",
              "      <th>2013-01-05</th>\n",
              "      <td>0.349312</td>\n",
              "      <td>1.236795</td>\n",
              "      <td>0.748792</td>\n",
              "      <td>NaN</td>\n",
              "    </tr>\n",
              "    <tr>\n",
              "      <th>2013-01-06</th>\n",
              "      <td>0.680625</td>\n",
              "      <td>NaN</td>\n",
              "      <td>NaN</td>\n",
              "      <td>NaN</td>\n",
              "    </tr>\n",
              "  </tbody>\n",
              "</table>\n",
              "</div>"
            ],
            "text/plain": [
              "                   A         B         C         D\n",
              "2013-01-01  1.638734  0.404539       NaN       NaN\n",
              "2013-01-02  1.678163       NaN  0.932354  0.774285\n",
              "2013-01-03  1.761447       NaN  0.341071  1.761759\n",
              "2013-01-04       NaN  1.132350       NaN       NaN\n",
              "2013-01-05  0.349312  1.236795  0.748792       NaN\n",
              "2013-01-06  0.680625       NaN       NaN       NaN"
            ]
          },
          "metadata": {
            "tags": []
          },
          "execution_count": 36
        }
      ]
    },
    {
      "metadata": {
        "id": "fksK4iVyTbrd",
        "colab_type": "text"
      },
      "cell_type": "markdown",
      "source": [
        "### Setting (데이터 재구성 또는 확장)"
      ]
    },
    {
      "metadata": {
        "id": "OlubifHSTbrf",
        "colab_type": "code",
        "outputId": "0482d57e-ed67-4f68-cc93-deaea6f9dfa0",
        "colab": {
          "base_uri": "https://localhost:8080/",
          "height": 140
        }
      },
      "cell_type": "code",
      "source": [
        "# Setting a new column automatically aligns the data by the indexes.\n",
        "s1 = pd.Series([1,2,3,4,5,6], index=pd.date_range('20130102', periods=6))\n",
        "s1"
      ],
      "execution_count": 37,
      "outputs": [
        {
          "output_type": "execute_result",
          "data": {
            "text/plain": [
              "2013-01-02    1\n",
              "2013-01-03    2\n",
              "2013-01-04    3\n",
              "2013-01-05    4\n",
              "2013-01-06    5\n",
              "2013-01-07    6\n",
              "Freq: D, dtype: int64"
            ]
          },
          "metadata": {
            "tags": []
          },
          "execution_count": 37
        }
      ]
    },
    {
      "metadata": {
        "id": "gMEaWv_hTbrm",
        "colab_type": "code",
        "colab": {}
      },
      "cell_type": "code",
      "source": [
        "# 'F'라는 이름을 가진 열을 추가하고 s1의 값을 넣어줌\n",
        "# F는 2013-01-01dl 없으므로 NaN 출력\n",
        "df['F'] = s1 "
      ],
      "execution_count": 0,
      "outputs": []
    },
    {
      "metadata": {
        "id": "D7a4TdEjTbrq",
        "colab_type": "code",
        "outputId": "19da37f6-a00d-4c58-cf51-2b5a77e865d7",
        "colab": {
          "base_uri": "https://localhost:8080/",
          "height": 225
        }
      },
      "cell_type": "code",
      "source": [
        "df  # 기존 df의 구조에 맞춰서 재구성됨."
      ],
      "execution_count": 46,
      "outputs": [
        {
          "output_type": "execute_result",
          "data": {
            "text/html": [
              "<div>\n",
              "<style scoped>\n",
              "    .dataframe tbody tr th:only-of-type {\n",
              "        vertical-align: middle;\n",
              "    }\n",
              "\n",
              "    .dataframe tbody tr th {\n",
              "        vertical-align: top;\n",
              "    }\n",
              "\n",
              "    .dataframe thead th {\n",
              "        text-align: right;\n",
              "    }\n",
              "</style>\n",
              "<table border=\"1\" class=\"dataframe\">\n",
              "  <thead>\n",
              "    <tr style=\"text-align: right;\">\n",
              "      <th></th>\n",
              "      <th>A</th>\n",
              "      <th>B</th>\n",
              "      <th>C</th>\n",
              "      <th>D</th>\n",
              "      <th>F</th>\n",
              "    </tr>\n",
              "  </thead>\n",
              "  <tbody>\n",
              "    <tr>\n",
              "      <th>2013-01-01</th>\n",
              "      <td>0.000000</td>\n",
              "      <td>0.000000</td>\n",
              "      <td>-0.083975</td>\n",
              "      <td>5</td>\n",
              "      <td>NaN</td>\n",
              "    </tr>\n",
              "    <tr>\n",
              "      <th>2013-01-02</th>\n",
              "      <td>1.678163</td>\n",
              "      <td>-0.107702</td>\n",
              "      <td>0.932354</td>\n",
              "      <td>5</td>\n",
              "      <td>1.0</td>\n",
              "    </tr>\n",
              "    <tr>\n",
              "      <th>2013-01-03</th>\n",
              "      <td>1.761447</td>\n",
              "      <td>-0.496669</td>\n",
              "      <td>0.341071</td>\n",
              "      <td>5</td>\n",
              "      <td>2.0</td>\n",
              "    </tr>\n",
              "    <tr>\n",
              "      <th>2013-01-04</th>\n",
              "      <td>-0.120899</td>\n",
              "      <td>1.132350</td>\n",
              "      <td>-0.477775</td>\n",
              "      <td>5</td>\n",
              "      <td>3.0</td>\n",
              "    </tr>\n",
              "    <tr>\n",
              "      <th>2013-01-05</th>\n",
              "      <td>0.349312</td>\n",
              "      <td>1.236795</td>\n",
              "      <td>0.748792</td>\n",
              "      <td>5</td>\n",
              "      <td>4.0</td>\n",
              "    </tr>\n",
              "    <tr>\n",
              "      <th>2013-01-06</th>\n",
              "      <td>0.680625</td>\n",
              "      <td>-0.176243</td>\n",
              "      <td>-2.137644</td>\n",
              "      <td>5</td>\n",
              "      <td>5.0</td>\n",
              "    </tr>\n",
              "  </tbody>\n",
              "</table>\n",
              "</div>"
            ],
            "text/plain": [
              "                   A         B         C  D    F\n",
              "2013-01-01  0.000000  0.000000 -0.083975  5  NaN\n",
              "2013-01-02  1.678163 -0.107702  0.932354  5  1.0\n",
              "2013-01-03  1.761447 -0.496669  0.341071  5  2.0\n",
              "2013-01-04 -0.120899  1.132350 -0.477775  5  3.0\n",
              "2013-01-05  0.349312  1.236795  0.748792  5  4.0\n",
              "2013-01-06  0.680625 -0.176243 -2.137644  5  5.0"
            ]
          },
          "metadata": {
            "tags": []
          },
          "execution_count": 46
        }
      ]
    },
    {
      "metadata": {
        "id": "YV_cx2nhTbrv",
        "colab_type": "code",
        "outputId": "575a9f54-a26d-43f4-cde8-394bf436c843",
        "colab": {
          "base_uri": "https://localhost:8080/",
          "height": 225
        }
      },
      "cell_type": "code",
      "source": [
        "# Setting values by label:\n",
        "df.at[dates[0],'A'] = 0  # (행 : dates의 0번 인덱스(=2013-01-01), 열 : 'A')의 값을 0으로 변경\n",
        "df"
      ],
      "execution_count": 41,
      "outputs": [
        {
          "output_type": "execute_result",
          "data": {
            "text/html": [
              "<div>\n",
              "<style scoped>\n",
              "    .dataframe tbody tr th:only-of-type {\n",
              "        vertical-align: middle;\n",
              "    }\n",
              "\n",
              "    .dataframe tbody tr th {\n",
              "        vertical-align: top;\n",
              "    }\n",
              "\n",
              "    .dataframe thead th {\n",
              "        text-align: right;\n",
              "    }\n",
              "</style>\n",
              "<table border=\"1\" class=\"dataframe\">\n",
              "  <thead>\n",
              "    <tr style=\"text-align: right;\">\n",
              "      <th></th>\n",
              "      <th>A</th>\n",
              "      <th>B</th>\n",
              "      <th>C</th>\n",
              "      <th>D</th>\n",
              "      <th>F</th>\n",
              "    </tr>\n",
              "  </thead>\n",
              "  <tbody>\n",
              "    <tr>\n",
              "      <th>2013-01-01</th>\n",
              "      <td>0.000000</td>\n",
              "      <td>0.404539</td>\n",
              "      <td>-0.083975</td>\n",
              "      <td>-1.133042</td>\n",
              "      <td>NaN</td>\n",
              "    </tr>\n",
              "    <tr>\n",
              "      <th>2013-01-02</th>\n",
              "      <td>1.678163</td>\n",
              "      <td>-0.107702</td>\n",
              "      <td>0.932354</td>\n",
              "      <td>0.774285</td>\n",
              "      <td>1.0</td>\n",
              "    </tr>\n",
              "    <tr>\n",
              "      <th>2013-01-03</th>\n",
              "      <td>1.761447</td>\n",
              "      <td>-0.496669</td>\n",
              "      <td>0.341071</td>\n",
              "      <td>1.761759</td>\n",
              "      <td>2.0</td>\n",
              "    </tr>\n",
              "    <tr>\n",
              "      <th>2013-01-04</th>\n",
              "      <td>-0.120899</td>\n",
              "      <td>1.132350</td>\n",
              "      <td>-0.477775</td>\n",
              "      <td>-0.926147</td>\n",
              "      <td>3.0</td>\n",
              "    </tr>\n",
              "    <tr>\n",
              "      <th>2013-01-05</th>\n",
              "      <td>0.349312</td>\n",
              "      <td>1.236795</td>\n",
              "      <td>0.748792</td>\n",
              "      <td>-0.274232</td>\n",
              "      <td>4.0</td>\n",
              "    </tr>\n",
              "    <tr>\n",
              "      <th>2013-01-06</th>\n",
              "      <td>0.680625</td>\n",
              "      <td>-0.176243</td>\n",
              "      <td>-2.137644</td>\n",
              "      <td>-1.047409</td>\n",
              "      <td>5.0</td>\n",
              "    </tr>\n",
              "  </tbody>\n",
              "</table>\n",
              "</div>"
            ],
            "text/plain": [
              "                   A         B         C         D    F\n",
              "2013-01-01  0.000000  0.404539 -0.083975 -1.133042  NaN\n",
              "2013-01-02  1.678163 -0.107702  0.932354  0.774285  1.0\n",
              "2013-01-03  1.761447 -0.496669  0.341071  1.761759  2.0\n",
              "2013-01-04 -0.120899  1.132350 -0.477775 -0.926147  3.0\n",
              "2013-01-05  0.349312  1.236795  0.748792 -0.274232  4.0\n",
              "2013-01-06  0.680625 -0.176243 -2.137644 -1.047409  5.0"
            ]
          },
          "metadata": {
            "tags": []
          },
          "execution_count": 41
        }
      ]
    },
    {
      "metadata": {
        "id": "Wl8W6KkMTbrx",
        "colab_type": "code",
        "outputId": "32a95d87-60f2-4281-ee8a-fdd00f2fdbd2",
        "colab": {
          "base_uri": "https://localhost:8080/",
          "height": 225
        }
      },
      "cell_type": "code",
      "source": [
        "# Setting values by position (index):\n",
        "df.iat[0,1] = 0    # iat[행,열] = 인덱스를 나타냄 \n",
        "df"
      ],
      "execution_count": 42,
      "outputs": [
        {
          "output_type": "execute_result",
          "data": {
            "text/html": [
              "<div>\n",
              "<style scoped>\n",
              "    .dataframe tbody tr th:only-of-type {\n",
              "        vertical-align: middle;\n",
              "    }\n",
              "\n",
              "    .dataframe tbody tr th {\n",
              "        vertical-align: top;\n",
              "    }\n",
              "\n",
              "    .dataframe thead th {\n",
              "        text-align: right;\n",
              "    }\n",
              "</style>\n",
              "<table border=\"1\" class=\"dataframe\">\n",
              "  <thead>\n",
              "    <tr style=\"text-align: right;\">\n",
              "      <th></th>\n",
              "      <th>A</th>\n",
              "      <th>B</th>\n",
              "      <th>C</th>\n",
              "      <th>D</th>\n",
              "      <th>F</th>\n",
              "    </tr>\n",
              "  </thead>\n",
              "  <tbody>\n",
              "    <tr>\n",
              "      <th>2013-01-01</th>\n",
              "      <td>0.000000</td>\n",
              "      <td>0.000000</td>\n",
              "      <td>-0.083975</td>\n",
              "      <td>-1.133042</td>\n",
              "      <td>NaN</td>\n",
              "    </tr>\n",
              "    <tr>\n",
              "      <th>2013-01-02</th>\n",
              "      <td>1.678163</td>\n",
              "      <td>-0.107702</td>\n",
              "      <td>0.932354</td>\n",
              "      <td>0.774285</td>\n",
              "      <td>1.0</td>\n",
              "    </tr>\n",
              "    <tr>\n",
              "      <th>2013-01-03</th>\n",
              "      <td>1.761447</td>\n",
              "      <td>-0.496669</td>\n",
              "      <td>0.341071</td>\n",
              "      <td>1.761759</td>\n",
              "      <td>2.0</td>\n",
              "    </tr>\n",
              "    <tr>\n",
              "      <th>2013-01-04</th>\n",
              "      <td>-0.120899</td>\n",
              "      <td>1.132350</td>\n",
              "      <td>-0.477775</td>\n",
              "      <td>-0.926147</td>\n",
              "      <td>3.0</td>\n",
              "    </tr>\n",
              "    <tr>\n",
              "      <th>2013-01-05</th>\n",
              "      <td>0.349312</td>\n",
              "      <td>1.236795</td>\n",
              "      <td>0.748792</td>\n",
              "      <td>-0.274232</td>\n",
              "      <td>4.0</td>\n",
              "    </tr>\n",
              "    <tr>\n",
              "      <th>2013-01-06</th>\n",
              "      <td>0.680625</td>\n",
              "      <td>-0.176243</td>\n",
              "      <td>-2.137644</td>\n",
              "      <td>-1.047409</td>\n",
              "      <td>5.0</td>\n",
              "    </tr>\n",
              "  </tbody>\n",
              "</table>\n",
              "</div>"
            ],
            "text/plain": [
              "                   A         B         C         D    F\n",
              "2013-01-01  0.000000  0.000000 -0.083975 -1.133042  NaN\n",
              "2013-01-02  1.678163 -0.107702  0.932354  0.774285  1.0\n",
              "2013-01-03  1.761447 -0.496669  0.341071  1.761759  2.0\n",
              "2013-01-04 -0.120899  1.132350 -0.477775 -0.926147  3.0\n",
              "2013-01-05  0.349312  1.236795  0.748792 -0.274232  4.0\n",
              "2013-01-06  0.680625 -0.176243 -2.137644 -1.047409  5.0"
            ]
          },
          "metadata": {
            "tags": []
          },
          "execution_count": 42
        }
      ]
    },
    {
      "metadata": {
        "id": "Sa5Qtps5QOJN",
        "colab_type": "code",
        "colab": {
          "base_uri": "https://localhost:8080/",
          "height": 34
        },
        "outputId": "c333f1ec-f06d-461e-83df-c32ea2a617e3"
      },
      "cell_type": "code",
      "source": [
        "len(df)"
      ],
      "execution_count": 44,
      "outputs": [
        {
          "output_type": "execute_result",
          "data": {
            "text/plain": [
              "6"
            ]
          },
          "metadata": {
            "tags": []
          },
          "execution_count": 44
        }
      ]
    },
    {
      "metadata": {
        "id": "rYEJqojETbr0",
        "colab_type": "code",
        "outputId": "1442337b-b8f6-4b16-c423-a3b34d466bf2",
        "colab": {
          "base_uri": "https://localhost:8080/",
          "height": 225
        }
      },
      "cell_type": "code",
      "source": [
        "# Setting by assigning with a NumPy array:\n",
        "df.loc[:,'D'] = np.array([5] * len(df))  # D열에 5를 6(=len(df))개 추가\n",
        "df"
      ],
      "execution_count": 47,
      "outputs": [
        {
          "output_type": "execute_result",
          "data": {
            "text/html": [
              "<div>\n",
              "<style scoped>\n",
              "    .dataframe tbody tr th:only-of-type {\n",
              "        vertical-align: middle;\n",
              "    }\n",
              "\n",
              "    .dataframe tbody tr th {\n",
              "        vertical-align: top;\n",
              "    }\n",
              "\n",
              "    .dataframe thead th {\n",
              "        text-align: right;\n",
              "    }\n",
              "</style>\n",
              "<table border=\"1\" class=\"dataframe\">\n",
              "  <thead>\n",
              "    <tr style=\"text-align: right;\">\n",
              "      <th></th>\n",
              "      <th>A</th>\n",
              "      <th>B</th>\n",
              "      <th>C</th>\n",
              "      <th>D</th>\n",
              "      <th>F</th>\n",
              "    </tr>\n",
              "  </thead>\n",
              "  <tbody>\n",
              "    <tr>\n",
              "      <th>2013-01-01</th>\n",
              "      <td>0.000000</td>\n",
              "      <td>0.000000</td>\n",
              "      <td>-0.083975</td>\n",
              "      <td>5</td>\n",
              "      <td>NaN</td>\n",
              "    </tr>\n",
              "    <tr>\n",
              "      <th>2013-01-02</th>\n",
              "      <td>1.678163</td>\n",
              "      <td>-0.107702</td>\n",
              "      <td>0.932354</td>\n",
              "      <td>5</td>\n",
              "      <td>1.0</td>\n",
              "    </tr>\n",
              "    <tr>\n",
              "      <th>2013-01-03</th>\n",
              "      <td>1.761447</td>\n",
              "      <td>-0.496669</td>\n",
              "      <td>0.341071</td>\n",
              "      <td>5</td>\n",
              "      <td>2.0</td>\n",
              "    </tr>\n",
              "    <tr>\n",
              "      <th>2013-01-04</th>\n",
              "      <td>-0.120899</td>\n",
              "      <td>1.132350</td>\n",
              "      <td>-0.477775</td>\n",
              "      <td>5</td>\n",
              "      <td>3.0</td>\n",
              "    </tr>\n",
              "    <tr>\n",
              "      <th>2013-01-05</th>\n",
              "      <td>0.349312</td>\n",
              "      <td>1.236795</td>\n",
              "      <td>0.748792</td>\n",
              "      <td>5</td>\n",
              "      <td>4.0</td>\n",
              "    </tr>\n",
              "    <tr>\n",
              "      <th>2013-01-06</th>\n",
              "      <td>0.680625</td>\n",
              "      <td>-0.176243</td>\n",
              "      <td>-2.137644</td>\n",
              "      <td>5</td>\n",
              "      <td>5.0</td>\n",
              "    </tr>\n",
              "  </tbody>\n",
              "</table>\n",
              "</div>"
            ],
            "text/plain": [
              "                   A         B         C  D    F\n",
              "2013-01-01  0.000000  0.000000 -0.083975  5  NaN\n",
              "2013-01-02  1.678163 -0.107702  0.932354  5  1.0\n",
              "2013-01-03  1.761447 -0.496669  0.341071  5  2.0\n",
              "2013-01-04 -0.120899  1.132350 -0.477775  5  3.0\n",
              "2013-01-05  0.349312  1.236795  0.748792  5  4.0\n",
              "2013-01-06  0.680625 -0.176243 -2.137644  5  5.0"
            ]
          },
          "metadata": {
            "tags": []
          },
          "execution_count": 47
        }
      ]
    },
    {
      "metadata": {
        "id": "M0BVKKd3Tbr4",
        "colab_type": "text"
      },
      "cell_type": "markdown",
      "source": [
        "### Missing data\n",
        "\n",
        "- pandas primarily uses the value np.nan to represent missing data. "
      ]
    },
    {
      "metadata": {
        "id": "djKOcMq1Tbr6",
        "colab_type": "code",
        "outputId": "02258077-bc3e-479e-ad79-d24788c370f3",
        "colab": {
          "base_uri": "https://localhost:8080/",
          "height": 166
        }
      },
      "cell_type": "code",
      "source": [
        "# Reindexing allows you to change/add/delete the index on a specified axis.\n",
        "# E열은 값이 존재하지 않으므로 NaN으로 출력됨\n",
        "\n",
        "df1 = df.reindex(index=dates[0:4], columns=list(df.columns) + ['E'])\n",
        "df1"
      ],
      "execution_count": 59,
      "outputs": [
        {
          "output_type": "execute_result",
          "data": {
            "text/html": [
              "<div>\n",
              "<style scoped>\n",
              "    .dataframe tbody tr th:only-of-type {\n",
              "        vertical-align: middle;\n",
              "    }\n",
              "\n",
              "    .dataframe tbody tr th {\n",
              "        vertical-align: top;\n",
              "    }\n",
              "\n",
              "    .dataframe thead th {\n",
              "        text-align: right;\n",
              "    }\n",
              "</style>\n",
              "<table border=\"1\" class=\"dataframe\">\n",
              "  <thead>\n",
              "    <tr style=\"text-align: right;\">\n",
              "      <th></th>\n",
              "      <th>A</th>\n",
              "      <th>B</th>\n",
              "      <th>C</th>\n",
              "      <th>D</th>\n",
              "      <th>F</th>\n",
              "      <th>E</th>\n",
              "    </tr>\n",
              "  </thead>\n",
              "  <tbody>\n",
              "    <tr>\n",
              "      <th>2013-01-01</th>\n",
              "      <td>0.000000</td>\n",
              "      <td>0.000000</td>\n",
              "      <td>-0.083975</td>\n",
              "      <td>5</td>\n",
              "      <td>NaN</td>\n",
              "      <td>NaN</td>\n",
              "    </tr>\n",
              "    <tr>\n",
              "      <th>2013-01-02</th>\n",
              "      <td>1.678163</td>\n",
              "      <td>-0.107702</td>\n",
              "      <td>0.932354</td>\n",
              "      <td>5</td>\n",
              "      <td>1.0</td>\n",
              "      <td>NaN</td>\n",
              "    </tr>\n",
              "    <tr>\n",
              "      <th>2013-01-03</th>\n",
              "      <td>1.761447</td>\n",
              "      <td>-0.496669</td>\n",
              "      <td>0.341071</td>\n",
              "      <td>5</td>\n",
              "      <td>2.0</td>\n",
              "      <td>NaN</td>\n",
              "    </tr>\n",
              "    <tr>\n",
              "      <th>2013-01-04</th>\n",
              "      <td>-0.120899</td>\n",
              "      <td>1.132350</td>\n",
              "      <td>-0.477775</td>\n",
              "      <td>5</td>\n",
              "      <td>3.0</td>\n",
              "      <td>NaN</td>\n",
              "    </tr>\n",
              "  </tbody>\n",
              "</table>\n",
              "</div>"
            ],
            "text/plain": [
              "                   A         B         C  D    F   E\n",
              "2013-01-01  0.000000  0.000000 -0.083975  5  NaN NaN\n",
              "2013-01-02  1.678163 -0.107702  0.932354  5  1.0 NaN\n",
              "2013-01-03  1.761447 -0.496669  0.341071  5  2.0 NaN\n",
              "2013-01-04 -0.120899  1.132350 -0.477775  5  3.0 NaN"
            ]
          },
          "metadata": {
            "tags": []
          },
          "execution_count": 59
        }
      ]
    },
    {
      "metadata": {
        "id": "Sm6yx1mBTbr-",
        "colab_type": "code",
        "outputId": "b0582140-8287-4930-da4d-74778ba21712",
        "colab": {
          "base_uri": "https://localhost:8080/",
          "height": 166
        }
      },
      "cell_type": "code",
      "source": [
        "df1.loc[dates[0]:dates[1],'E'] = 1  # E열 1,2행만 값을 1로 넣어줌\n",
        "df1"
      ],
      "execution_count": 60,
      "outputs": [
        {
          "output_type": "execute_result",
          "data": {
            "text/html": [
              "<div>\n",
              "<style scoped>\n",
              "    .dataframe tbody tr th:only-of-type {\n",
              "        vertical-align: middle;\n",
              "    }\n",
              "\n",
              "    .dataframe tbody tr th {\n",
              "        vertical-align: top;\n",
              "    }\n",
              "\n",
              "    .dataframe thead th {\n",
              "        text-align: right;\n",
              "    }\n",
              "</style>\n",
              "<table border=\"1\" class=\"dataframe\">\n",
              "  <thead>\n",
              "    <tr style=\"text-align: right;\">\n",
              "      <th></th>\n",
              "      <th>A</th>\n",
              "      <th>B</th>\n",
              "      <th>C</th>\n",
              "      <th>D</th>\n",
              "      <th>F</th>\n",
              "      <th>E</th>\n",
              "    </tr>\n",
              "  </thead>\n",
              "  <tbody>\n",
              "    <tr>\n",
              "      <th>2013-01-01</th>\n",
              "      <td>0.000000</td>\n",
              "      <td>0.000000</td>\n",
              "      <td>-0.083975</td>\n",
              "      <td>5</td>\n",
              "      <td>NaN</td>\n",
              "      <td>1.0</td>\n",
              "    </tr>\n",
              "    <tr>\n",
              "      <th>2013-01-02</th>\n",
              "      <td>1.678163</td>\n",
              "      <td>-0.107702</td>\n",
              "      <td>0.932354</td>\n",
              "      <td>5</td>\n",
              "      <td>1.0</td>\n",
              "      <td>1.0</td>\n",
              "    </tr>\n",
              "    <tr>\n",
              "      <th>2013-01-03</th>\n",
              "      <td>1.761447</td>\n",
              "      <td>-0.496669</td>\n",
              "      <td>0.341071</td>\n",
              "      <td>5</td>\n",
              "      <td>2.0</td>\n",
              "      <td>NaN</td>\n",
              "    </tr>\n",
              "    <tr>\n",
              "      <th>2013-01-04</th>\n",
              "      <td>-0.120899</td>\n",
              "      <td>1.132350</td>\n",
              "      <td>-0.477775</td>\n",
              "      <td>5</td>\n",
              "      <td>3.0</td>\n",
              "      <td>NaN</td>\n",
              "    </tr>\n",
              "  </tbody>\n",
              "</table>\n",
              "</div>"
            ],
            "text/plain": [
              "                   A         B         C  D    F    E\n",
              "2013-01-01  0.000000  0.000000 -0.083975  5  NaN  1.0\n",
              "2013-01-02  1.678163 -0.107702  0.932354  5  1.0  1.0\n",
              "2013-01-03  1.761447 -0.496669  0.341071  5  2.0  NaN\n",
              "2013-01-04 -0.120899  1.132350 -0.477775  5  3.0  NaN"
            ]
          },
          "metadata": {
            "tags": []
          },
          "execution_count": 60
        }
      ]
    },
    {
      "metadata": {
        "id": "tZNaj64aTbsC",
        "colab_type": "code",
        "outputId": "1c1fbd3a-38f6-4bde-afee-cc7a97307494",
        "colab": {
          "base_uri": "https://localhost:8080/",
          "height": 77
        }
      },
      "cell_type": "code",
      "source": [
        "# To drop any rows that have missing data.\n",
        "# 숫자가 아닌것들 다 drop함\n",
        "\n",
        "df1.dropna(how='any')"
      ],
      "execution_count": 61,
      "outputs": [
        {
          "output_type": "execute_result",
          "data": {
            "text/html": [
              "<div>\n",
              "<style scoped>\n",
              "    .dataframe tbody tr th:only-of-type {\n",
              "        vertical-align: middle;\n",
              "    }\n",
              "\n",
              "    .dataframe tbody tr th {\n",
              "        vertical-align: top;\n",
              "    }\n",
              "\n",
              "    .dataframe thead th {\n",
              "        text-align: right;\n",
              "    }\n",
              "</style>\n",
              "<table border=\"1\" class=\"dataframe\">\n",
              "  <thead>\n",
              "    <tr style=\"text-align: right;\">\n",
              "      <th></th>\n",
              "      <th>A</th>\n",
              "      <th>B</th>\n",
              "      <th>C</th>\n",
              "      <th>D</th>\n",
              "      <th>F</th>\n",
              "      <th>E</th>\n",
              "    </tr>\n",
              "  </thead>\n",
              "  <tbody>\n",
              "    <tr>\n",
              "      <th>2013-01-02</th>\n",
              "      <td>1.678163</td>\n",
              "      <td>-0.107702</td>\n",
              "      <td>0.932354</td>\n",
              "      <td>5</td>\n",
              "      <td>1.0</td>\n",
              "      <td>1.0</td>\n",
              "    </tr>\n",
              "  </tbody>\n",
              "</table>\n",
              "</div>"
            ],
            "text/plain": [
              "                   A         B         C  D    F    E\n",
              "2013-01-02  1.678163 -0.107702  0.932354  5  1.0  1.0"
            ]
          },
          "metadata": {
            "tags": []
          },
          "execution_count": 61
        }
      ]
    },
    {
      "metadata": {
        "id": "bdES49PWTbsF",
        "colab_type": "code",
        "outputId": "d2f6ce3a-662a-429f-b919-8872413d455e",
        "colab": {
          "base_uri": "https://localhost:8080/",
          "height": 166
        }
      },
      "cell_type": "code",
      "source": [
        "# Filling missing data.\n",
        "df1.fillna(value=5)  # 이건 저장이 안되는건가? 다음 코드에서 왜 True 값이 나오는거지?"
      ],
      "execution_count": 62,
      "outputs": [
        {
          "output_type": "execute_result",
          "data": {
            "text/html": [
              "<div>\n",
              "<style scoped>\n",
              "    .dataframe tbody tr th:only-of-type {\n",
              "        vertical-align: middle;\n",
              "    }\n",
              "\n",
              "    .dataframe tbody tr th {\n",
              "        vertical-align: top;\n",
              "    }\n",
              "\n",
              "    .dataframe thead th {\n",
              "        text-align: right;\n",
              "    }\n",
              "</style>\n",
              "<table border=\"1\" class=\"dataframe\">\n",
              "  <thead>\n",
              "    <tr style=\"text-align: right;\">\n",
              "      <th></th>\n",
              "      <th>A</th>\n",
              "      <th>B</th>\n",
              "      <th>C</th>\n",
              "      <th>D</th>\n",
              "      <th>F</th>\n",
              "      <th>E</th>\n",
              "    </tr>\n",
              "  </thead>\n",
              "  <tbody>\n",
              "    <tr>\n",
              "      <th>2013-01-01</th>\n",
              "      <td>0.000000</td>\n",
              "      <td>0.000000</td>\n",
              "      <td>-0.083975</td>\n",
              "      <td>5</td>\n",
              "      <td>5.0</td>\n",
              "      <td>1.0</td>\n",
              "    </tr>\n",
              "    <tr>\n",
              "      <th>2013-01-02</th>\n",
              "      <td>1.678163</td>\n",
              "      <td>-0.107702</td>\n",
              "      <td>0.932354</td>\n",
              "      <td>5</td>\n",
              "      <td>1.0</td>\n",
              "      <td>1.0</td>\n",
              "    </tr>\n",
              "    <tr>\n",
              "      <th>2013-01-03</th>\n",
              "      <td>1.761447</td>\n",
              "      <td>-0.496669</td>\n",
              "      <td>0.341071</td>\n",
              "      <td>5</td>\n",
              "      <td>2.0</td>\n",
              "      <td>5.0</td>\n",
              "    </tr>\n",
              "    <tr>\n",
              "      <th>2013-01-04</th>\n",
              "      <td>-0.120899</td>\n",
              "      <td>1.132350</td>\n",
              "      <td>-0.477775</td>\n",
              "      <td>5</td>\n",
              "      <td>3.0</td>\n",
              "      <td>5.0</td>\n",
              "    </tr>\n",
              "  </tbody>\n",
              "</table>\n",
              "</div>"
            ],
            "text/plain": [
              "                   A         B         C  D    F    E\n",
              "2013-01-01  0.000000  0.000000 -0.083975  5  5.0  1.0\n",
              "2013-01-02  1.678163 -0.107702  0.932354  5  1.0  1.0\n",
              "2013-01-03  1.761447 -0.496669  0.341071  5  2.0  5.0\n",
              "2013-01-04 -0.120899  1.132350 -0.477775  5  3.0  5.0"
            ]
          },
          "metadata": {
            "tags": []
          },
          "execution_count": 62
        }
      ]
    },
    {
      "metadata": {
        "id": "QkgnS1M1TbsI",
        "colab_type": "code",
        "outputId": "febafba2-908f-4a89-f5c8-a3ed5cd06729",
        "colab": {
          "base_uri": "https://localhost:8080/",
          "height": 166
        }
      },
      "cell_type": "code",
      "source": [
        "# Get the boolean mask where values are nan.\n",
        "pd.isna(df1)   # NaN가 있는 항목만 True로 반환"
      ],
      "execution_count": 63,
      "outputs": [
        {
          "output_type": "execute_result",
          "data": {
            "text/html": [
              "<div>\n",
              "<style scoped>\n",
              "    .dataframe tbody tr th:only-of-type {\n",
              "        vertical-align: middle;\n",
              "    }\n",
              "\n",
              "    .dataframe tbody tr th {\n",
              "        vertical-align: top;\n",
              "    }\n",
              "\n",
              "    .dataframe thead th {\n",
              "        text-align: right;\n",
              "    }\n",
              "</style>\n",
              "<table border=\"1\" class=\"dataframe\">\n",
              "  <thead>\n",
              "    <tr style=\"text-align: right;\">\n",
              "      <th></th>\n",
              "      <th>A</th>\n",
              "      <th>B</th>\n",
              "      <th>C</th>\n",
              "      <th>D</th>\n",
              "      <th>F</th>\n",
              "      <th>E</th>\n",
              "    </tr>\n",
              "  </thead>\n",
              "  <tbody>\n",
              "    <tr>\n",
              "      <th>2013-01-01</th>\n",
              "      <td>False</td>\n",
              "      <td>False</td>\n",
              "      <td>False</td>\n",
              "      <td>False</td>\n",
              "      <td>True</td>\n",
              "      <td>False</td>\n",
              "    </tr>\n",
              "    <tr>\n",
              "      <th>2013-01-02</th>\n",
              "      <td>False</td>\n",
              "      <td>False</td>\n",
              "      <td>False</td>\n",
              "      <td>False</td>\n",
              "      <td>False</td>\n",
              "      <td>False</td>\n",
              "    </tr>\n",
              "    <tr>\n",
              "      <th>2013-01-03</th>\n",
              "      <td>False</td>\n",
              "      <td>False</td>\n",
              "      <td>False</td>\n",
              "      <td>False</td>\n",
              "      <td>False</td>\n",
              "      <td>True</td>\n",
              "    </tr>\n",
              "    <tr>\n",
              "      <th>2013-01-04</th>\n",
              "      <td>False</td>\n",
              "      <td>False</td>\n",
              "      <td>False</td>\n",
              "      <td>False</td>\n",
              "      <td>False</td>\n",
              "      <td>True</td>\n",
              "    </tr>\n",
              "  </tbody>\n",
              "</table>\n",
              "</div>"
            ],
            "text/plain": [
              "                A      B      C      D      F      E\n",
              "2013-01-01  False  False  False  False   True  False\n",
              "2013-01-02  False  False  False  False  False  False\n",
              "2013-01-03  False  False  False  False  False   True\n",
              "2013-01-04  False  False  False  False  False   True"
            ]
          },
          "metadata": {
            "tags": []
          },
          "execution_count": 63
        }
      ]
    },
    {
      "metadata": {
        "id": "orPXM846TbsL",
        "colab_type": "text"
      },
      "cell_type": "markdown",
      "source": [
        "### Stats"
      ]
    },
    {
      "metadata": {
        "id": "yGordvMcTbsM",
        "colab_type": "code",
        "outputId": "990b395d-5b4e-47e4-bd6e-75978102b118",
        "colab": {
          "base_uri": "https://localhost:8080/",
          "height": 225
        }
      },
      "cell_type": "code",
      "source": [
        "df"
      ],
      "execution_count": 65,
      "outputs": [
        {
          "output_type": "execute_result",
          "data": {
            "text/html": [
              "<div>\n",
              "<style scoped>\n",
              "    .dataframe tbody tr th:only-of-type {\n",
              "        vertical-align: middle;\n",
              "    }\n",
              "\n",
              "    .dataframe tbody tr th {\n",
              "        vertical-align: top;\n",
              "    }\n",
              "\n",
              "    .dataframe thead th {\n",
              "        text-align: right;\n",
              "    }\n",
              "</style>\n",
              "<table border=\"1\" class=\"dataframe\">\n",
              "  <thead>\n",
              "    <tr style=\"text-align: right;\">\n",
              "      <th></th>\n",
              "      <th>A</th>\n",
              "      <th>B</th>\n",
              "      <th>C</th>\n",
              "      <th>D</th>\n",
              "      <th>F</th>\n",
              "    </tr>\n",
              "  </thead>\n",
              "  <tbody>\n",
              "    <tr>\n",
              "      <th>2013-01-01</th>\n",
              "      <td>0.000000</td>\n",
              "      <td>0.000000</td>\n",
              "      <td>-0.083975</td>\n",
              "      <td>5</td>\n",
              "      <td>NaN</td>\n",
              "    </tr>\n",
              "    <tr>\n",
              "      <th>2013-01-02</th>\n",
              "      <td>1.678163</td>\n",
              "      <td>-0.107702</td>\n",
              "      <td>0.932354</td>\n",
              "      <td>5</td>\n",
              "      <td>1.0</td>\n",
              "    </tr>\n",
              "    <tr>\n",
              "      <th>2013-01-03</th>\n",
              "      <td>1.761447</td>\n",
              "      <td>-0.496669</td>\n",
              "      <td>0.341071</td>\n",
              "      <td>5</td>\n",
              "      <td>2.0</td>\n",
              "    </tr>\n",
              "    <tr>\n",
              "      <th>2013-01-04</th>\n",
              "      <td>-0.120899</td>\n",
              "      <td>1.132350</td>\n",
              "      <td>-0.477775</td>\n",
              "      <td>5</td>\n",
              "      <td>3.0</td>\n",
              "    </tr>\n",
              "    <tr>\n",
              "      <th>2013-01-05</th>\n",
              "      <td>0.349312</td>\n",
              "      <td>1.236795</td>\n",
              "      <td>0.748792</td>\n",
              "      <td>5</td>\n",
              "      <td>4.0</td>\n",
              "    </tr>\n",
              "    <tr>\n",
              "      <th>2013-01-06</th>\n",
              "      <td>0.680625</td>\n",
              "      <td>-0.176243</td>\n",
              "      <td>-2.137644</td>\n",
              "      <td>5</td>\n",
              "      <td>5.0</td>\n",
              "    </tr>\n",
              "  </tbody>\n",
              "</table>\n",
              "</div>"
            ],
            "text/plain": [
              "                   A         B         C  D    F\n",
              "2013-01-01  0.000000  0.000000 -0.083975  5  NaN\n",
              "2013-01-02  1.678163 -0.107702  0.932354  5  1.0\n",
              "2013-01-03  1.761447 -0.496669  0.341071  5  2.0\n",
              "2013-01-04 -0.120899  1.132350 -0.477775  5  3.0\n",
              "2013-01-05  0.349312  1.236795  0.748792  5  4.0\n",
              "2013-01-06  0.680625 -0.176243 -2.137644  5  5.0"
            ]
          },
          "metadata": {
            "tags": []
          },
          "execution_count": 65
        }
      ]
    },
    {
      "metadata": {
        "id": "uYtq7VjxTbsO",
        "colab_type": "code",
        "outputId": "18e485c8-02a4-4dec-b6cf-3afcb14bd709",
        "colab": {
          "base_uri": "https://localhost:8080/",
          "height": 122
        }
      },
      "cell_type": "code",
      "source": [
        "df.mean()  # NaN값은 제외하고 계산"
      ],
      "execution_count": 66,
      "outputs": [
        {
          "output_type": "execute_result",
          "data": {
            "text/plain": [
              "A    0.724775\n",
              "B    0.264755\n",
              "C   -0.112863\n",
              "D    5.000000\n",
              "F    3.000000\n",
              "dtype: float64"
            ]
          },
          "metadata": {
            "tags": []
          },
          "execution_count": 66
        }
      ]
    },
    {
      "metadata": {
        "id": "8XuetbzbTbsS",
        "colab_type": "code",
        "outputId": "d8008479-e2d4-4a8f-84d6-6dfadb8d1b55",
        "colab": {
          "base_uri": "https://localhost:8080/",
          "height": 122
        }
      },
      "cell_type": "code",
      "source": [
        "df.mean(0)  # 열 평균"
      ],
      "execution_count": 67,
      "outputs": [
        {
          "output_type": "execute_result",
          "data": {
            "text/plain": [
              "A    0.724775\n",
              "B    0.264755\n",
              "C   -0.112863\n",
              "D    5.000000\n",
              "F    3.000000\n",
              "dtype: float64"
            ]
          },
          "metadata": {
            "tags": []
          },
          "execution_count": 67
        }
      ]
    },
    {
      "metadata": {
        "id": "9zzmtJ-UTbsT",
        "colab_type": "code",
        "outputId": "a3512a95-83f2-4cf8-9b2e-0c51214b903a",
        "colab": {
          "base_uri": "https://localhost:8080/",
          "height": 140
        }
      },
      "cell_type": "code",
      "source": [
        "df.mean(1)  # 행 평균"
      ],
      "execution_count": 68,
      "outputs": [
        {
          "output_type": "execute_result",
          "data": {
            "text/plain": [
              "2013-01-01    1.229006\n",
              "2013-01-02    1.700563\n",
              "2013-01-03    1.721170\n",
              "2013-01-04    1.706735\n",
              "2013-01-05    2.266980\n",
              "2013-01-06    1.673348\n",
              "Freq: D, dtype: float64"
            ]
          },
          "metadata": {
            "tags": []
          },
          "execution_count": 68
        }
      ]
    },
    {
      "metadata": {
        "id": "N2JbKmqyTbsX",
        "colab_type": "text"
      },
      "cell_type": "markdown",
      "source": [
        "***"
      ]
    },
    {
      "metadata": {
        "id": "tETvsbyqTbsX",
        "colab_type": "text"
      },
      "cell_type": "markdown",
      "source": [
        "# Chapter 12-03\n",
        "## matplotlib을 사용한다"
      ]
    },
    {
      "metadata": {
        "id": "5Wg2sytvTbsX",
        "colab_type": "text"
      },
      "cell_type": "markdown",
      "source": [
        "### plot( )로 그래프를 그린다"
      ]
    },
    {
      "metadata": {
        "id": "xl-kOAGPTbsZ",
        "colab_type": "code",
        "outputId": "dae38445-36d3-483d-c48f-6a32d3795be0",
        "colab": {
          "base_uri": "https://localhost:8080/",
          "height": 265
        }
      },
      "cell_type": "code",
      "source": [
        "# sin그래프를 그린다\n",
        "%matplotlib inline\n",
        "import numpy as np\n",
        "import matplotlib.pyplot as plt\n",
        "\n",
        "s = np.sin(np.pi*np.arange(0.0, 2.0, 0.01)) # 0부터 2까지 0.01 간격으로\n",
        "t = plt.plot(s)    # sin의 그래프를 그림"
      ],
      "execution_count": 69,
      "outputs": [
        {
          "output_type": "display_data",
          "data": {
            "image/png": "[encoded data removed]",
            "text/plain": [
              "<matplotlib.figure.Figure at 0x7f75b4f95a90>"
            ]
          },
          "metadata": {
            "tags": []
          }
        }
      ]
    },
    {
      "metadata": {
        "id": "wQH6VDl9Tbsc",
        "colab_type": "code",
        "colab": {
          "base_uri": "https://localhost:8080/",
          "height": 282
        },
        "outputId": "36dee27f-2ee5-4796-9d70-31f47dc0eeb7"
      },
      "cell_type": "code",
      "source": [
        "plt.plot(np.arange(0.0, 2.0, 0.01),s) "
      ],
      "execution_count": 70,
      "outputs": [
        {
          "output_type": "execute_result",
          "data": {
            "text/plain": [
              "[<matplotlib.lines.Line2D at 0x7f75b24dfdd8>]"
            ]
          },
          "metadata": {
            "tags": []
          },
          "execution_count": 70
        },
        {
          "output_type": "display_data",
          "data": {
            "image/png": "[encoded data removed]",
            "text/plain": [
              "<matplotlib.figure.Figure at 0x7f75b4d9c9e8>"
            ]
          },
          "metadata": {
            "tags": []
          }
        }
      ]
    },
    {
      "metadata": {
        "id": "7-NGVul7Tbse",
        "colab_type": "code",
        "outputId": "aa4042c1-08da-4e5c-8cb9-c3e7b46be4b4",
        "colab": {
          "base_uri": "https://localhost:8080/",
          "height": 265
        }
      },
      "cell_type": "code",
      "source": [
        "# 산포도(scatter plot)를 그린다\n",
        "# 인수 마커를 사용하여 산포도를 작성\n",
        "x = np.random.randn(5000)    # 표준 정규 분포에 따라 난수 생성\n",
        "y = np.random.randn(5000)\n",
        "t = plt.plot(x, y, 'o', alpha=0.1)"
      ],
      "execution_count": 71,
      "outputs": [
        {
          "output_type": "display_data",
          "data": {
            "image/png": "[encoded data removed]",
            "text/plain": [
              "<matplotlib.figure.Figure at 0x7f75b4dadd30>"
            ]
          },
          "metadata": {
            "tags": []
          }
        }
      ]
    },
    {
      "metadata": {
        "id": "y1qeWMk8Tbsk",
        "colab_type": "code",
        "outputId": "7bae5011-84f9-49fa-c42f-fc948cf5995a",
        "colab": {
          "base_uri": "https://localhost:8080/",
          "height": 338
        }
      },
      "cell_type": "code",
      "source": [
        "# 그래프를 중복해 그림\n",
        "x = np.array([1.628, 3.363, 5.145, 7.683, 9.855])\n",
        "y = np.array([1.257, 3.672, 5.841, 7.951, 9.775])\n",
        "# 최소 자승법(least square method)으로 데이터를 근사하는 직선을 구함\n",
        "a = np.array([x, np.ones(x.size)])\n",
        "a = a.T\n",
        "m, c = np.linalg.lstsq(a, y)[0]\n",
        "t = plt.plot(x, y, 'o', ms=12)   # 데이터를 그림\n",
        "t = plt.plot(x, (m*x+c))  # 근사직선을 그림, m:기울기,c:bias(절편)"
      ],
      "execution_count": 72,
      "outputs": [
        {
          "output_type": "stream",
          "text": [
            "/usr/local/lib/python3.6/dist-packages/ipykernel_launcher.py:6: FutureWarning: `rcond` parameter will change to the default of machine precision times ``max(M, N)`` where M and N are the input matrix dimensions.\n",
            "To use the future default and silence this warning we advise to pass `rcond=None`, to keep using the old, explicitly pass `rcond=-1`.\n",
            "  \n"
          ],
          "name": "stderr"
        },
        {
          "output_type": "display_data",
          "data": {
            "image/png": "[encoded data removed]",
            "text/plain": [
              "<matplotlib.figure.Figure at 0x7f75b24b9550>"
            ]
          },
          "metadata": {
            "tags": []
          }
        }
      ]
    },
    {
      "metadata": {
        "id": "idsHjeEoTbsl",
        "colab_type": "text"
      },
      "cell_type": "markdown",
      "source": [
        "### plot( )로 그림을 제어"
      ]
    },
    {
      "metadata": {
        "id": "sjO8rlUkTbsm",
        "colab_type": "code",
        "outputId": "b9439a80-b5c0-4cea-f943-a7ecaca1e4cf",
        "colab": {
          "base_uri": "https://localhost:8080/",
          "height": 265
        }
      },
      "cell_type": "code",
      "source": [
        "# 선 스타일 변경\n",
        "s = np.sin(np.pi*np.arange(0.0, 2.0, 0.01))\n",
        "t = plt.plot(s, linestyle='--', linewidth=6)  # linewidth = 선 두께"
      ],
      "execution_count": 74,
      "outputs": [
        {
          "output_type": "display_data",
          "data": {
            "image/png": "[encoded data removed]",
            "text/plain": [
              "<matplotlib.figure.Figure at 0x7f75b0b565f8>"
            ]
          },
          "metadata": {
            "tags": []
          }
        }
      ]
    },
    {
      "metadata": {
        "id": "EjtssiMwTbss",
        "colab_type": "text"
      },
      "cell_type": "markdown",
      "source": [
        "### 문자를 삽입한다"
      ]
    },
    {
      "metadata": {
        "id": "KCylhidATbst",
        "colab_type": "code",
        "colab": {}
      },
      "cell_type": "code",
      "source": [
        "# 표시용 폰트 지정\n",
        "import matplotlib.pyplot as plt\n",
        "# plt.rcParams['font.family'] = 'AppleGothic'"
      ],
      "execution_count": 0,
      "outputs": []
    },
    {
      "metadata": {
        "id": "jCTH5K7VTbsw",
        "colab_type": "code",
        "colab": {}
      },
      "cell_type": "code",
      "source": [
        "# 시스템에서 사용 가능한 글꼴 목록을 표시\n",
        "import matplotlib.font_manager as fm\n",
        "fontsfamily = fm.findSystemFonts()"
      ],
      "execution_count": 0,
      "outputs": []
    },
    {
      "metadata": {
        "id": "Mqr_bZL1Tbs0",
        "colab_type": "code",
        "outputId": "2cd72cf5-eccf-4419-b793-fbdb81ea2e10",
        "colab": {
          "base_uri": "https://localhost:8080/",
          "height": 105
        }
      },
      "cell_type": "code",
      "source": [
        "fontsfamily[:5]"
      ],
      "execution_count": 77,
      "outputs": [
        {
          "output_type": "execute_result",
          "data": {
            "text/plain": [
              "['/usr/share/fonts/truetype/liberation/LiberationMono-Regular.ttf',\n",
              " '/usr/share/fonts/truetype/liberation/LiberationMono-Bold.ttf',\n",
              " '/usr/share/fonts/truetype/liberation/LiberationMono-BoldItalic.ttf',\n",
              " '/usr/share/fonts/truetype/liberation/LiberationSerif-Italic.ttf',\n",
              " '/usr/share/fonts/truetype/liberation/LiberationSansNarrow-BoldItalic.ttf']"
            ]
          },
          "metadata": {
            "tags": []
          },
          "execution_count": 77
        }
      ]
    },
    {
      "metadata": {
        "id": "1jgufrjUTbs6",
        "colab_type": "text"
      },
      "cell_type": "markdown",
      "source": [
        "***"
      ]
    },
    {
      "metadata": {
        "id": "qPgFVb0LTbs_",
        "colab_type": "text"
      },
      "cell_type": "markdown",
      "source": [
        "# Chapter 12-04\n",
        "## 일본 인구를 시각화한다"
      ]
    },
    {
      "metadata": {
        "id": "ISYY-vpHTbtA",
        "colab_type": "text"
      },
      "cell_type": "markdown",
      "source": [
        "### 인구 데이터를 읽어 들임"
      ]
    },
    {
      "metadata": {
        "id": "qsmAumWyTDTC",
        "colab_type": "code",
        "colab": {
          "resources": {
            "http://localhost:8080/nbextensions/google.colab/files.js": {
              "data": "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",
              "ok": true,
              "headers": [
                [
                  "content-type",
                  "application/javascript"
                ]
              ],
              "status": 200,
              "status_text": ""
            }
          },
          "base_uri": "https://localhost:8080/",
          "height": 248
        },
        "outputId": "bae23501-f88b-40a1-c910-23ec69b24a25"
      },
      "cell_type": "code",
      "source": [
        "from google.colab import files\n",
        "\n",
        "uploaded = files.upload()\n",
        "\n",
        "for fn in uploaded.keys():\n",
        "  print('User uploaded file \"{name}\" with length {length} bytes'.format(\n",
        "      name=fn, length=len(uploaded[fn])))"
      ],
      "execution_count": 80,
      "outputs": [
        {
          "output_type": "display_data",
          "data": {
            "text/html": [
              "\n",
              "     <input type=\"file\" id=\"files-b18c6e5e-23ea-4ed7-96a4-002e9efa172d\" name=\"files[]\" multiple disabled />\n",
              "     <output id=\"result-b18c6e5e-23ea-4ed7-96a4-002e9efa172d\">\n",
              "      Upload widget is only available when the cell has been executed in the\n",
              "      current browser session. Please rerun this cell to enable.\n",
              "      </output>\n",
              "      <script src=\"/nbextensions/google.colab/files.js\"></script> "
            ],
            "text/plain": [
              "<IPython.core.display.HTML object>"
            ]
          },
          "metadata": {
            "tags": []
          }
        },
        {
          "output_type": "stream",
          "text": [
            "Saving female_1944_2014.csv to female_1944_2014.csv\n",
            "Saving male_1944_2014.csv to male_1944_2014.csv\n",
            "Saving total_fertility_rate.csv to total_fertility_rate.csv\n",
            "User uploaded file \"female_1944_2014.csv\" with length 7323 bytes\n",
            "User uploaded file \"male_1944_2014.csv\" with length 7218 bytes\n",
            "User uploaded file \"total_fertility_rate.csv\" with length 550 bytes\n"
          ],
          "name": "stdout"
        }
      ]
    },
    {
      "metadata": {
        "id": "4j7tSvhbTbtA",
        "colab_type": "code",
        "colab": {}
      },
      "cell_type": "code",
      "source": [
        "# 1944년부터 2014년까지의 5계층 단계별로 인구를 남녀별로 읽어 들임\n",
        "import numpy as np\n",
        "\n",
        "p_male = np.loadtxt('male_1944_2014.csv', delimiter=\",\",\n",
        "                      skiprows=1, usecols=range(1, 22))\n",
        "p_female = np.loadtxt('female_1944_2014.csv', delimiter=\",\",\n",
        "                      skiprows=1, usecols=range(1, 22))"
      ],
      "execution_count": 0,
      "outputs": []
    },
    {
      "metadata": {
        "id": "KgywjgcnTbtD",
        "colab_type": "code",
        "outputId": "a1107c46-85e0-4150-a1eb-df7f06865169",
        "colab": {
          "base_uri": "https://localhost:8080/",
          "height": 334
        }
      },
      "cell_type": "code",
      "source": [
        "# 계급별과 연도별로 인구를 계산한다.\n",
        "# 남녀 5세씩의 단계별로 인구를 합계\n",
        "p_total = p_male+p_female\n",
        "print(p_total)\n",
        "# 연도별 인구로 수정\n",
        "p_yearly = p_total.sum(axis=1)\n",
        "p_yearly"
      ],
      "execution_count": 82,
      "outputs": [
        {
          "output_type": "stream",
          "text": [
            "[[8712. 8803. 8684. ...    0.    0.    0.]\n",
            " [9251. 8581. 8645. ...    0.    0.    0.]\n",
            " [7858. 8734. 8692. ...    0.    0.    0.]\n",
            " ...\n",
            " [5272. 5407. 5868. ... 1146.  331.   51.]\n",
            " [5239. 5361. 5790. ... 1215.  343.   55.]\n",
            " [5213. 5307. 5713. ... 1305.  352.   60.]]\n"
          ],
          "name": "stdout"
        },
        {
          "output_type": "execute_result",
          "data": {
            "text/plain": [
              "array([ 73063.,  71999.,  73115.,  78101.,  80003.,  81771.,  83199.,\n",
              "        84571.,  85854.,  87034.,  88294.,  89277.,  90258.,  91086.,\n",
              "        92010.,  92971.,  93420.,  94285.,  95179.,  96157.,  97187.,\n",
              "        98275.,  99054., 100244., 101410., 102649., 103719., 105013.,\n",
              "       107334., 108709., 110050., 111940., 113086., 114153., 115174.,\n",
              "       116131., 117061., 117879., 118693., 119485., 120237., 121046.,\n",
              "       121672., 122264., 122784., 123254., 123611., 124044., 124452.,\n",
              "       124765., 125033., 125568., 125865., 126169., 126485., 126685.,\n",
              "       126923., 127289., 127433., 127618., 127687., 127766., 127769.,\n",
              "       127767., 127690., 127509., 128057., 127799., 127513., 127295.,\n",
              "       127082.])"
            ]
          },
          "metadata": {
            "tags": []
          },
          "execution_count": 82
        }
      ]
    },
    {
      "metadata": {
        "id": "zgT6Uai4TbtJ",
        "colab_type": "code",
        "outputId": "b9300c12-e2ed-45f4-dd33-33e56fe6f122",
        "colab": {
          "base_uri": "https://localhost:8080/",
          "height": 265
        }
      },
      "cell_type": "code",
      "source": [
        "# 연도별 인구를 그래프화 한다\n",
        "%matplotlib inline\n",
        "import matplotlib.pyplot as plt\n",
        "\n",
        "t = plt.plot(range(1944, 2015), p_yearly, '^')\n",
        "plt.ylim((0, 130000))\n",
        "plt.grid(True)"
      ],
      "execution_count": 83,
      "outputs": [
        {
          "output_type": "display_data",
          "data": {
            "image/png": "[encoded data removed]",
            "text/plain": [
              "<matplotlib.figure.Figure at 0x7f75dba5a320>"
            ]
          },
          "metadata": {
            "tags": []
          }
        }
      ]
    },
    {
      "metadata": {
        "id": "SWdr3wwSTbtR",
        "colab_type": "code",
        "outputId": "f59c0f06-490a-4228-fdc3-ce1509d53ef1",
        "colab": {
          "base_uri": "https://localhost:8080/",
          "height": 265
        }
      },
      "cell_type": "code",
      "source": [
        "# 출생률(합계 특수 출생률) 그래프를 그린다\n",
        "# 1960년에서 2014년을 읽어 들임\n",
        "tfr = np.loadtxt('total_fertility_rate.csv', delimiter=\",\", skiprows=1)\n",
        "# 출산율 그래프를 그린다\n",
        "t = plt.plot(range(1960, 2015), tfr, ls=\":\")\n",
        "# 인구 치환 경계선을 2.07로 하여 선을 그림\n",
        "t = plt.plot([1960, 2015], [2.07, 2.07])"
      ],
      "execution_count": 84,
      "outputs": [
        {
          "output_type": "display_data",
          "data": {
            "image/png": "[encoded data removed]",
            "text/plain": [
              "<matplotlib.figure.Figure at 0x7f75b4ef8828>"
            ]
          },
          "metadata": {
            "tags": []
          }
        }
      ]
    },
    {
      "metadata": {
        "id": "KzJ5B6CITbtU",
        "colab_type": "text"
      },
      "cell_type": "markdown",
      "source": [
        "### 인구 피라미드를 그린다"
      ]
    },
    {
      "metadata": {
        "id": "XVaCOtvlTbtV",
        "colab_type": "code",
        "colab": {}
      },
      "cell_type": "code",
      "source": [
        "# show_pgraph( ) 함수의 정의\n",
        "from matplotlib import gridspec\n",
        "\n",
        "def show_pgraph(year, arr1, arr2, arr3,\n",
        "                ymin, ymax, ydim=1):\n",
        "#     fig = plt.figure(figsize=(10,9))\n",
        "    # 인구 피라미드를 표시\n",
        "    # 표시하는 인구의 인덱스를 가져옴 (1년 간격)\n",
        "    idx = int((year-ymin)/ydim)\n",
        "    # 인구 피라미드와 인구 그래프의 그리드를 생성\n",
        "    gs = gridspec.GridSpec(2, 2, height_ratios=(3, 2))\n",
        "    # 그래프의 배치를 결정\n",
        "    ax = [plt.subplot(gs[0, 0]),plt.subplot(gs[0, 1]),\n",
        "          plt.subplot(gs[1, :])]\n",
        "    # 남성 인구 피라미드를 그림\n",
        "    ax[0].barh(range(0, 101, 5), arr1[idx], height=3)\n",
        "    ax[0].set(ylim=(0, 100), xlim=(0, 6000))\n",
        "    ax[0].invert_xaxis()\n",
        "    ax[0].yaxis.tick_right()\n",
        "    # 여성 인구 피라미드를 그림\n",
        "    ax[1].barh(range(0, 101, 5), arr2[idx], height=4)\n",
        "    ax[1].tick_params(labelleft='off')\n",
        "    ax[1].set(ylim=(0, 100), xlim=(0, 6000))\n",
        "    # 인구 그래프를 그림\n",
        "    ax[2].plot(range(ymin, ymax+1, ydim), arr3, ls=\":\")\n",
        "    ax[2].plot([year, year], [0, 140000])"
      ],
      "execution_count": 0,
      "outputs": []
    },
    {
      "metadata": {
        "id": "TwLKaAxITbtZ",
        "colab_type": "code",
        "outputId": "a80dfb35-f338-443f-b27e-4fc514a6d86f",
        "colab": {
          "base_uri": "https://localhost:8080/",
          "height": 269
        }
      },
      "cell_type": "code",
      "source": [
        "# 인구 피라미드의 그래프를 그린다\n",
        "show_pgraph(1950, p_male, p_female, p_yearly,\n",
        "            1944, 2014)"
      ],
      "execution_count": 86,
      "outputs": [
        {
          "output_type": "display_data",
          "data": {
            "image/png": "[encoded data removed]",
            "text/plain": [
              "<matplotlib.figure.Figure at 0x7f75b4d6a160>"
            ]
          },
          "metadata": {
            "tags": []
          }
        }
      ]
    },
    {
      "metadata": {
        "id": "mp_CsjOKTbtb",
        "colab_type": "text"
      },
      "cell_type": "markdown",
      "source": [
        "> year를 변경해서 그래프를 그려보시오."
      ]
    },
    {
      "metadata": {
        "id": "sTctPmwwXcfa",
        "colab_type": "code",
        "colab": {
          "base_uri": "https://localhost:8080/",
          "height": 269
        },
        "outputId": "7934f58d-b613-4fc3-915b-9f44938e4eaf"
      },
      "cell_type": "code",
      "source": [
        "show_pgraph(1998, p_male, p_female, p_yearly,\n",
        "            1944, 2014)"
      ],
      "execution_count": 87,
      "outputs": [
        {
          "output_type": "display_data",
          "data": {
            "image/png": "[encoded data removed]",
            "text/plain": [
              "<matplotlib.figure.Figure at 0x7f75b4f39be0>"
            ]
          },
          "metadata": {
            "tags": []
          }
        }
      ]
    },
    {
      "metadata": {
        "id": "zMEBE8TfTbtb",
        "colab_type": "text"
      },
      "cell_type": "markdown",
      "source": [
        "***"
      ]
    },
    {
      "metadata": {
        "id": "QAmS59TZTbtc",
        "colab_type": "text"
      },
      "cell_type": "markdown",
      "source": [
        "## 특강안내\n",
        "\n",
        "### VR 응용과 전망 (HC 관련 내용 포함)\n",
        "\n",
        "### 11월8일(목) 4시~6시, 신어관 101호 강당"
      ]
    },
    {
      "metadata": {
        "id": "UpcGlp26Tbtd",
        "colab_type": "text"
      },
      "cell_type": "markdown",
      "source": [
        "***"
      ]
    },
    {
      "metadata": {
        "id": "8m7z8ECcTbte",
        "colab_type": "text"
      },
      "cell_type": "markdown",
      "source": [
        "### [wk10] homework\n",
        "\n",
        "#### 다음 파이썬 노트북 [tips_reshape](https://github.com/Redwoods/Py/blob/master/py-basic/tips/Tips_py_reshape.ipynb) 을 colab에서 실행하고 설명을 추가해서 github에 올리시오.(마감: 2018.11.11(일). 24:00)\n",
        "\n",
        "> 제출 파일명: Summary_reshape.ipynb"
      ]
    },
    {
      "metadata": {
        "id": "HQeQsUHITbtf",
        "colab_type": "text"
      },
      "cell_type": "markdown",
      "source": [
        "***"
      ]
    },
    {
      "metadata": {
        "id": "GQDGFVpsTbtg",
        "colab_type": "code",
        "colab": {}
      },
      "cell_type": "code",
      "source": [
        ""
      ],
      "execution_count": 0,
      "outputs": []
    }
  ]
}