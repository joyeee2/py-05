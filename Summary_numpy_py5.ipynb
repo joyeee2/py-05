{
  "nbformat": 4,
  "nbformat_minor": 0,
  "metadata": {
    "colab": {
      "name": "Summary_numpy_py5",
      "version": "0.3.2",
      "provenance": [],
      "collapsed_sections": [],
      "include_colab_link": true
    },
    "kernelspec": {
      "name": "python3",
      "display_name": "Python 3"
    }
  },
  "cells": [
    {
      "cell_type": "markdown",
      "metadata": {
        "id": "view-in-github",
        "colab_type": "text"
      },
      "source": [
        "<a href=\"https://colab.research.google.com/github/joyeee2/py-05/blob/master/Summary_numpy_py5.ipynb\" target=\"_parent\"><img src=\"https://colab.research.google.com/assets/colab-badge.svg\" alt=\"Open In Colab\"/></a>"
      ]
    },
    {
      "metadata": {
        "id": "bwAH_Nia3UDP",
        "colab_type": "toc"
      },
      "cell_type": "markdown",
      "source": [
        ">>[라이브러리-overview](#scrollTo=W-zP7IysFaau)\n",
        "\n",
        ">>>[파이썬 코드에서 라이브러리 사용법](#scrollTo=07PHYQGNFtRW)\n",
        "\n",
        ">>[라이브러리-numpy](#scrollTo=72WBxcW0HCyt)\n",
        "\n",
        ">>>[numpy](#scrollTo=S-HFCnJqHGrd)\n",
        "\n",
        ">>>[numpy vs list](#scrollTo=LsOiN438LzNs)\n",
        "\n",
        ">>[라이브러리 - numpy vector(1차원 배열)](#scrollTo=RezQclzPIhRq)\n",
        "\n",
        ">>>[벡터(vector) 생성](#scrollTo=cFZCphkZInsc)\n",
        "\n",
        ">>>[벡터(vector)산술연산](#scrollTo=hXnETshRMBOE)\n",
        "\n",
        ">>[라이브러리- numpy matrix(행렬)](#scrollTo=zG12mvheLIFQ)\n",
        "\n",
        ">>>[행렬(matrix)생성](#scrollTo=fZtfV2xuLMpB)\n",
        "\n",
        ">>>[형 변환(reshape)](#scrollTo=LTrYsrxBMw0o)\n",
        "\n",
        ">>[라이브러리-numpy 행렬 곱(dot product)(1)](#scrollTo=JMmN6jwgNjFI)\n",
        "\n",
        ">>>[행렬 곱(dot product)](#scrollTo=iip47T-yNqmH)\n",
        "\n",
        ">>[라이브러리-numpy 행렬 곱(dot product)(2)](#scrollTo=N2SXRf-xPQ0f)\n",
        "\n",
        ">>>[행렬 곱(dot product)](#scrollTo=U6ReyZXPPZ4R)\n",
        "\n",
        ">>[라이브러리 - numpy broadcast](#scrollTo=tHcL3gb1Qdfc)\n",
        "\n",
        ">>[라이브러리-numpy 전치행렬(transpose)](#scrollTo=O5SjyxayRcOi)\n",
        "\n",
        ">>>[전치행렬(transpose)](#scrollTo=CUwufUUuRsAB)\n",
        "\n",
        ">>[라이브러리 - numpy 행렬 indexing / slicing](#scrollTo=PopFpNw-Ti9H)\n",
        "\n",
        ">>>[행렬 원소 접근(1)](#scrollTo=onapnMKwTowo)\n",
        "\n",
        ">>[라이브러리-numpy 행렬 iterator](#scrollTo=Y8eZ0E7LWJIX)\n",
        "\n",
        ">>>[행렬 원소 접근(2)](#scrollTo=bEsChNPTWOqY)\n",
        "\n"
      ]
    },
    {
      "metadata": {
        "id": "6ESxTMCKp7Ji",
        "colab_type": "code",
        "colab": {
          "base_uri": "https://localhost:8080/",
          "height": 319
        },
        "outputId": "e598996e-b861-4f34-eb47-e09bffe2f641"
      },
      "cell_type": "code",
      "source": [
        "from IPython.lib.display import YouTubeVideo\n",
        "YouTubeVideo('ku9-AxaznSA')  # numpy 기초 I"
      ],
      "execution_count": 7,
      "outputs": [
        {
          "output_type": "execute_result",
          "data": {
            "text/html": [
              "\n",
              "        <iframe\n",
              "            width=\"400\"\n",
              "            height=\"300\"\n",
              "            src=\"https://www.youtube.com/embed/ku9-AxaznSA\"\n",
              "            frameborder=\"0\"\n",
              "            allowfullscreen\n",
              "        ></iframe>\n",
              "        "
            ],
            "text/plain": [
              "<IPython.lib.display.YouTubeVideo at 0x7f9b21228208>"
            ],
            "image/jpeg": "[encoded data removed]"
          },
          "metadata": {
            "tags": []
          },
          "execution_count": 7
        }
      ]
    },
    {
      "metadata": {
        "id": "W-zP7IysFaau",
        "colab_type": "text"
      },
      "cell_type": "markdown",
      "source": [
        "##라이브러리-overview"
      ]
    },
    {
      "metadata": {
        "id": "07PHYQGNFtRW",
        "colab_type": "text"
      },
      "cell_type": "markdown",
      "source": [
        "### 파이썬 코드에서 라이브러리 사용법"
      ]
    },
    {
      "metadata": {
        "id": "DoaBTxPJFH7N",
        "colab_type": "code",
        "outputId": "84c05688-b467-4236-be4e-f3aa12f4222b",
        "colab": {
          "base_uri": "https://localhost:8080/",
          "height": 34
        }
      },
      "cell_type": "code",
      "source": [
        "import numpy\n",
        "\n",
        "A=numpy.array([1,2])\n",
        "\n",
        "print(\"A ==\",A, \", type ==\", type(A))"
      ],
      "execution_count": 8,
      "outputs": [
        {
          "output_type": "stream",
          "text": [
            "A == [1 2] , type == <class 'numpy.ndarray'>\n"
          ],
          "name": "stdout"
        }
      ]
    },
    {
      "metadata": {
        "id": "EAtzwggLGBtn",
        "colab_type": "code",
        "outputId": "23e23a06-aa2a-4854-8ea2-9647c4e2ec5d",
        "colab": {
          "base_uri": "https://localhost:8080/",
          "height": 34
        }
      },
      "cell_type": "code",
      "source": [
        "import numpy as np\n",
        "\n",
        "A=np.array([1,2])\n",
        "\n",
        "print(\"A ==\",A, \", type ==\", type(A))"
      ],
      "execution_count": 9,
      "outputs": [
        {
          "output_type": "stream",
          "text": [
            "A == [1 2] , type == <class 'numpy.ndarray'>\n"
          ],
          "name": "stdout"
        }
      ]
    },
    {
      "metadata": {
        "id": "4qkgqt5LGR3v",
        "colab_type": "code",
        "outputId": "4e99cc66-d3e7-4f3f-91ad-ae62affa121b",
        "colab": {
          "base_uri": "https://localhost:8080/",
          "height": 34
        }
      },
      "cell_type": "code",
      "source": [
        "from numpy import exp\n",
        "\n",
        "result = exp(1)\n",
        "\n",
        "print(\"result ==\",result, \", type ==\", type(result))"
      ],
      "execution_count": 10,
      "outputs": [
        {
          "output_type": "stream",
          "text": [
            "result == 2.718281828459045 , type == <class 'numpy.float64'>\n"
          ],
          "name": "stdout"
        }
      ]
    },
    {
      "metadata": {
        "id": "2K5iyM9UGjFK",
        "colab_type": "code",
        "outputId": "b2d38f70-eff4-4aac-a265-8a19709b8541",
        "colab": {
          "base_uri": "https://localhost:8080/",
          "height": 34
        }
      },
      "cell_type": "code",
      "source": [
        "from numpy import *\n",
        "\n",
        "result = exp(1) + log(1.7) + sqrt(2)\n",
        "\n",
        "print(\"result ==\", result, \", type ==\", type(result))"
      ],
      "execution_count": 11,
      "outputs": [
        {
          "output_type": "stream",
          "text": [
            "result == 4.663123641894311 , type == <class 'numpy.float64'>\n"
          ],
          "name": "stdout"
        }
      ]
    },
    {
      "metadata": {
        "id": "72WBxcW0HCyt",
        "colab_type": "text"
      },
      "cell_type": "markdown",
      "source": [
        "##라이브러리-numpy"
      ]
    },
    {
      "metadata": {
        "id": "5X9HryPOr4N3",
        "colab_type": "text"
      },
      "cell_type": "markdown",
      "source": [
        "- vector / matrix 생성\n",
        "- 행렬 곱(dot product)\n",
        "- broadcast\n",
        "- index / slice / iterator\n",
        "- concatenate\n",
        "- useful function(loadtxt(), rand(), argmax(), ...)"
      ]
    },
    {
      "metadata": {
        "id": "S-HFCnJqHGrd",
        "colab_type": "text"
      },
      "cell_type": "markdown",
      "source": [
        "###numpy"
      ]
    },
    {
      "metadata": {
        "id": "R7g4udMNHNI5",
        "colab_type": "text"
      },
      "cell_type": "markdown",
      "source": [
        "- numpy는 머신러닝 코드 개발 할 경우 자주 사용되는 벡터, 행렬 등을 표현하고 연산할때 반드시 필요한 라이브러리"
      ]
    },
    {
      "metadata": {
        "id": "LsOiN438LzNs",
        "colab_type": "text"
      },
      "cell_type": "markdown",
      "source": [
        "###numpy vs list"
      ]
    },
    {
      "metadata": {
        "id": "QDCHP4J5Ht4r",
        "colab_type": "text"
      },
      "cell_type": "markdown",
      "source": [
        "- 머신러닝에서 숫자, 사람, 동물 등의 인식을 하기 위해서는 이미지(image)데이터를 행렬(matrix)로 변환하는 것이 중요함.\n",
        "\n",
        "- 행렬(matrix)을 나타내기 위해서는 리스트(list)를 사용할 수도 있지만 행렬 연산이 직관적이지 않고 오류 가능성이 높기 때문에,  **행렬 연산을 위해서는 numpy사용이 필수임.**"
      ]
    },
    {
      "metadata": {
        "id": "pMhZMRfaG2Dw",
        "colab_type": "code",
        "colab": {}
      },
      "cell_type": "code",
      "source": [
        "import numpy as np"
      ],
      "execution_count": 0,
      "outputs": []
    },
    {
      "metadata": {
        "id": "qQRlCEJ5IB5t",
        "colab_type": "code",
        "outputId": "a89bb177-d32e-497a-8be3-a78badd8ad4d",
        "colab": {
          "base_uri": "https://localhost:8080/",
          "height": 34
        }
      },
      "cell_type": "code",
      "source": [
        "#리스트로 행렬 표현\n",
        "\n",
        "A=[ [1,0], [0,1] ]\n",
        "B=[ [1,1], [1,1] ]\n",
        "\n",
        "A+B  #행렬 연산이 아닌 리스트 연산"
      ],
      "execution_count": 13,
      "outputs": [
        {
          "output_type": "execute_result",
          "data": {
            "text/plain": [
              "[[1, 0], [0, 1], [1, 1], [1, 1]]"
            ]
          },
          "metadata": {
            "tags": []
          },
          "execution_count": 13
        }
      ]
    },
    {
      "metadata": {
        "id": "aOV5cwJcINe1",
        "colab_type": "code",
        "outputId": "2e57c283-acdc-4f4d-f9ff-1be67c42776c",
        "colab": {
          "base_uri": "https://localhost:8080/",
          "height": 52
        }
      },
      "cell_type": "code",
      "source": [
        "#numpy matrix, 직관적임\n",
        "\n",
        "A=np.array([[1,0],[0,1]])\n",
        "B=np.array([[1,1],[1,1]])\n",
        "\n",
        "A+B  #행렬 연산"
      ],
      "execution_count": 14,
      "outputs": [
        {
          "output_type": "execute_result",
          "data": {
            "text/plain": [
              "array([[2, 1],\n",
              "       [1, 2]])"
            ]
          },
          "metadata": {
            "tags": []
          },
          "execution_count": 14
        }
      ]
    },
    {
      "metadata": {
        "id": "RezQclzPIhRq",
        "colab_type": "text"
      },
      "cell_type": "markdown",
      "source": [
        "##라이브러리 - numpy vector(1차원 배열)"
      ]
    },
    {
      "metadata": {
        "id": "cFZCphkZInsc",
        "colab_type": "text"
      },
      "cell_type": "markdown",
      "source": [
        "###벡터(vector) 생성"
      ]
    },
    {
      "metadata": {
        "id": "Zksu-8qBIsE3",
        "colab_type": "text"
      },
      "cell_type": "markdown",
      "source": [
        "- vector는 np.array([...])를 사용하여 생성함(import numpy as np)\n",
        "\n",
        "- 머신러닝 코드 구현시, 연산을 위해서 vector, matrix 등의 형상(shape),차원(dimension)을 확인하는 것이 필요함"
      ]
    },
    {
      "metadata": {
        "id": "NOGyrc0QIdOu",
        "colab_type": "code",
        "colab": {
          "base_uri": "https://localhost:8080/",
          "height": 70
        },
        "outputId": "047afeb3-77ca-48b5-f840-38542a48d0bd"
      },
      "cell_type": "code",
      "source": [
        "A=np.array([1,2,3])\n",
        "B=np.array([4,5,6])\n",
        "\n",
        "#vector A,B 출력\n",
        "print(\"A ==\", A, \", B ==\", B)\n",
        "\n",
        "#vector A,B 형상 출력=>shape\n",
        "print(\"A.shape ==\", A.shape, \", B.shape ==\",B.shape)\n",
        "\n",
        "#vector A,B 차원 출력=>ndim\n",
        "print(\"A.ndim ==\", A.ndim, \", B.ndim ==\",B.ndim)"
      ],
      "execution_count": 18,
      "outputs": [
        {
          "output_type": "stream",
          "text": [
            "A == [1 2 3] , B == [4 5 6]\n",
            "A.shape == (3,) , B.shape == (3,)\n",
            "A.ndim == 1 , B.ndim == 1\n"
          ],
          "name": "stdout"
        }
      ]
    },
    {
      "metadata": {
        "id": "hXnETshRMBOE",
        "colab_type": "text"
      },
      "cell_type": "markdown",
      "source": [
        "###벡터(vector)산술연산"
      ]
    },
    {
      "metadata": {
        "id": "LOTUx18BMADT",
        "colab_type": "text"
      },
      "cell_type": "markdown",
      "source": [
        "- 벡터(vector)산술 연산\n",
        "    vector간 산술연산(+,-,X,/)은 벡터의 각각의 원소에 대해서 행해짐"
      ]
    },
    {
      "metadata": {
        "id": "wGp3Ir48KyGD",
        "colab_type": "code",
        "outputId": "854e115a-f8d6-4b7b-b6dd-be36ded3045b",
        "colab": {
          "base_uri": "https://localhost:8080/",
          "height": 87
        }
      },
      "cell_type": "code",
      "source": [
        "#vector 산술 연산\n",
        "\n",
        "print(\"A + B ==\", A+B)\n",
        "print(\"A - B ==\", A-B)\n",
        "print(\"A * B ==\", A*B)\n",
        "print(\"A / B ==\", A/B)"
      ],
      "execution_count": 19,
      "outputs": [
        {
          "output_type": "stream",
          "text": [
            "A + B == [5 7 9]\n",
            "A - B == [-3 -3 -3]\n",
            "A * B == [ 4 10 18]\n",
            "A / B == [0.25 0.4  0.5 ]\n"
          ],
          "name": "stdout"
        }
      ]
    },
    {
      "metadata": {
        "id": "zG12mvheLIFQ",
        "colab_type": "text"
      },
      "cell_type": "markdown",
      "source": [
        "##라이브러리- numpy matrix(행렬)"
      ]
    },
    {
      "metadata": {
        "id": "fZtfV2xuLMpB",
        "colab_type": "text"
      },
      "cell_type": "markdown",
      "source": [
        "###행렬(matrix)생성"
      ]
    },
    {
      "metadata": {
        "id": "LQ9wxkNoLQBp",
        "colab_type": "text"
      },
      "cell_type": "markdown",
      "source": [
        "- matrix는 vector와 마찬가지로 np.array([ [...], [...], ...])를 사용하여 생성함(import numpy as np)"
      ]
    },
    {
      "metadata": {
        "id": "1dVi9iCBLBzT",
        "colab_type": "code",
        "colab": {
          "base_uri": "https://localhost:8080/",
          "height": 52
        },
        "outputId": "fd66bef4-c5e8-4a5e-e7f3-fbb120ae8750"
      },
      "cell_type": "code",
      "source": [
        "A=np.array([[1,2,3],[4,5,6]])\n",
        "B=np.array([[-1,-2,-3],[-4,-5,-6]])\n",
        "\n",
        "#matrix A,B 형상 출력=>shape\n",
        "print(\"A.shape ==\", A.shape, \", B.shape ==\", B.shape)\n",
        "\n",
        "#matrix A,B차원 출력=>ndim\n",
        "print(\"A.ndim ==\",A.ndim, \", B.ndim ==\", B.ndim)"
      ],
      "execution_count": 21,
      "outputs": [
        {
          "output_type": "stream",
          "text": [
            "A.shape == (2, 3) , B.shape == (2, 3)\n",
            "A.ndim == 2 , B.ndim == 2\n"
          ],
          "name": "stdout"
        }
      ]
    },
    {
      "metadata": {
        "id": "LTrYsrxBMw0o",
        "colab_type": "text"
      },
      "cell_type": "markdown",
      "source": [
        "###형 변환(reshape)"
      ]
    },
    {
      "metadata": {
        "id": "yBRA_i30M1W4",
        "colab_type": "text"
      },
      "cell_type": "markdown",
      "source": [
        "- vector를 matrix로 변경하거나 matrix를 다른 형상의 matrix로 변경하기 위해서는 reshape() 사용하여 행렬의 shape을 변경하여야 함"
      ]
    },
    {
      "metadata": {
        "id": "YkkQ3hNQMvSF",
        "colab_type": "code",
        "colab": {
          "base_uri": "https://localhost:8080/",
          "height": 52
        },
        "outputId": "6b242d57-0a56-4d51-fbae-bbbd227b727b"
      },
      "cell_type": "code",
      "source": [
        "#vector 생성\n",
        "C=np.array([1,2,3])\n",
        "\n",
        "#vector C형상 출력=>shape\n",
        "print(\"C.shape ==\", C.shape)\n",
        "\n",
        "#vector를 (1,3) 행렬로 형 변환\n",
        "C=C.reshape(1,3)\n",
        "\n",
        "print(\"C.shape ==\", C.shape)"
      ],
      "execution_count": 22,
      "outputs": [
        {
          "output_type": "stream",
          "text": [
            "C.shape == (3,)\n",
            "C.shape == (1, 3)\n"
          ],
          "name": "stdout"
        }
      ]
    },
    {
      "metadata": {
        "id": "e5x_sY3p0wff",
        "colab_type": "code",
        "colab": {
          "base_uri": "https://localhost:8080/",
          "height": 319
        },
        "outputId": "c60db359-cbff-45b6-8b67-212df6d2f5fc"
      },
      "cell_type": "code",
      "source": [
        "YouTubeVideo('dnJ3JESmBkE')  # numpy 기초 II"
      ],
      "execution_count": 23,
      "outputs": [
        {
          "output_type": "execute_result",
          "data": {
            "text/html": [
              "\n",
              "        <iframe\n",
              "            width=\"400\"\n",
              "            height=\"300\"\n",
              "            src=\"https://www.youtube.com/embed/dnJ3JESmBkE\"\n",
              "            frameborder=\"0\"\n",
              "            allowfullscreen\n",
              "        ></iframe>\n",
              "        "
            ],
            "text/plain": [
              "<IPython.lib.display.YouTubeVideo at 0x7f9b212282b0>"
            ],
            "image/jpeg": "[encoded data removed]"
          },
          "metadata": {
            "tags": []
          },
          "execution_count": 23
        }
      ]
    },
    {
      "metadata": {
        "id": "JMmN6jwgNjFI",
        "colab_type": "text"
      },
      "cell_type": "markdown",
      "source": [
        "##라이브러리-numpy 행렬 곱(dot product)(1)"
      ]
    },
    {
      "metadata": {
        "id": "iip47T-yNqmH",
        "colab_type": "text"
      },
      "cell_type": "markdown",
      "source": [
        "###행렬 곱(dot product)"
      ]
    },
    {
      "metadata": {
        "id": "DwOCDeDFNueg",
        "colab_type": "text"
      },
      "cell_type": "markdown",
      "source": [
        "- A행렬과 B행렬의 행렬 곱(dot product)는 np.dot(A,B)나타내며, 행렬 A의 열 벡터와 B행렬의 행 벡터가 같아야 함. 만약 같지 않다면 **reshape 또는 전치행렬(transpose)등을 사용하여 형 변환을 한 후에 행렬 곱을 실행해야함.**"
      ]
    },
    {
      "metadata": {
        "id": "JBGDP2w4NdOa",
        "colab_type": "code",
        "colab": {
          "base_uri": "https://localhost:8080/",
          "height": 87
        },
        "outputId": "455fd633-3636-41bf-c32c-93c50ad4dab0"
      },
      "cell_type": "code",
      "source": [
        "A=np.array([[1,2,3,],[4,5,6]]) #2X3 행렬\n",
        "B=np.array([[-1,-2],[-3,-4],[-5,-6]]) #3X2 행렬\n",
        "\n",
        "#(2X3) dot product(3X2) == (2X2)행렬\n",
        "C=np.dot(A,B) #행렬 곱 수행\n",
        "\n",
        "#matrix A,B 형상 출력=>shape\n",
        "print(\"A.shape ==\", A.shape, \", B.shape ==\", B.shape)\n",
        "print(\"C.shape ==\", C.shape)\n",
        "print(C)"
      ],
      "execution_count": 25,
      "outputs": [
        {
          "output_type": "stream",
          "text": [
            "A.shape == (2, 3) , B.shape == (3, 2)\n",
            "C.shape == (2, 2)\n",
            "[[-22 -28]\n",
            " [-49 -64]]\n"
          ],
          "name": "stdout"
        }
      ]
    },
    {
      "metadata": {
        "id": "N2SXRf-xPQ0f",
        "colab_type": "text"
      },
      "cell_type": "markdown",
      "source": [
        "##라이브러리-numpy 행렬 곱(dot product)(2)"
      ]
    },
    {
      "metadata": {
        "id": "U6ReyZXPPZ4R",
        "colab_type": "text"
      },
      "cell_type": "markdown",
      "source": [
        "###행렬 곱(dot product)"
      ]
    },
    {
      "metadata": {
        "id": "QYVsn3JEPcbT",
        "colab_type": "text"
      },
      "cell_type": "markdown",
      "source": [
        "- 행렬곱은 행렬의 원소 개수가 같아야만 계산할수 있는 사칙연산의 한계를 벗어나\n",
        "\n",
        "  1) **행렬곱 조건을 만족하는 다양한 크기의 행렬을 연속적으로 만들고**\n",
        "2) **행렬 곱을 연속으로 계산하면서**\n",
        "3) **결과값을 만들 수 있기 때문에 머신러닝과 이미지 프로세싱 분야에서 자주 사용됨**"
      ]
    },
    {
      "metadata": {
        "id": "q-3Qg4m91eWo",
        "colab_type": "text"
      },
      "cell_type": "markdown",
      "source": [
        "- 행렬 곱을 사용하지 않고 기술연산만 가능하다면, 입력 행렬의 64X64 크기를 가지는 특성 값 만을 사용해야 하기 때문에 다양한 특성을 갖는 필터 개발이 불가능함."
      ]
    },
    {
      "metadata": {
        "id": "tHcL3gb1Qdfc",
        "colab_type": "text"
      },
      "cell_type": "markdown",
      "source": [
        "##라이브러리 - numpy broadcast"
      ]
    },
    {
      "metadata": {
        "id": "UyfCgCTSQhsB",
        "colab_type": "text"
      },
      "cell_type": "markdown",
      "source": [
        "- 행렬의 사칙연산은 기본적으로 두개의 행렬 크기가 같은 경우에만 수행할 수 있음. 그러나 ** numpy에서는 크기가 다른 두 행렬간에도 사칙연산(+,-,*,/)을 할 수 있는데 이를 브로드캐스트(broadcast)라고 지칭함**\n",
        "\n",
        "- **차원이  작은 쪽이 큰 쪽의 행 단위로 반복적으로 크기를 맞춘 후에 계산**"
      ]
    },
    {
      "metadata": {
        "id": "xwaEM2oPPDzR",
        "colab_type": "code",
        "outputId": "e2ba63ae-7cda-4390-bc3a-d4a8bf11cf02",
        "colab": {
          "base_uri": "https://localhost:8080/",
          "height": 52
        }
      },
      "cell_type": "code",
      "source": [
        "A=np.array([[1,2],[3,4]])\n",
        "b=5\n",
        "\n",
        "print(A+b)"
      ],
      "execution_count": 26,
      "outputs": [
        {
          "output_type": "stream",
          "text": [
            "[[6 7]\n",
            " [8 9]]\n"
          ],
          "name": "stdout"
        }
      ]
    },
    {
      "metadata": {
        "id": "ijxaQq32RMa6",
        "colab_type": "code",
        "outputId": "d6dd8f39-c903-4616-86a9-3972b14a1437",
        "colab": {
          "base_uri": "https://localhost:8080/",
          "height": 52
        }
      },
      "cell_type": "code",
      "source": [
        "C=np.array([[1,2],[3,4]])\n",
        "D=np.array([4,5])\n",
        "\n",
        "print(C+D)"
      ],
      "execution_count": 27,
      "outputs": [
        {
          "output_type": "stream",
          "text": [
            "[[5 7]\n",
            " [7 9]]\n"
          ],
          "name": "stdout"
        }
      ]
    },
    {
      "metadata": {
        "id": "O5SjyxayRcOi",
        "colab_type": "text"
      },
      "cell_type": "markdown",
      "source": [
        "##라이브러리-numpy 전치행렬(transpose)"
      ]
    },
    {
      "metadata": {
        "id": "CUwufUUuRsAB",
        "colab_type": "text"
      },
      "cell_type": "markdown",
      "source": [
        "###전치행렬(transpose)"
      ]
    },
    {
      "metadata": {
        "id": "qMipFmmxRvRw",
        "colab_type": "text"
      },
      "cell_type": "markdown",
      "source": [
        "- 어떤 행렬의 전치행렬(transposed matrix)은 원본 행렬의 열은 행으로, 행은 열로 바꾼 것으로서, 원본 행렬을 A라고 하면 전치행렬은 A^T로 나타냄."
      ]
    },
    {
      "metadata": {
        "id": "-KQ1_sE5RYib",
        "colab_type": "code",
        "outputId": "97a8a210-c8f3-4326-b4dd-578304142a2a",
        "colab": {
          "base_uri": "https://localhost:8080/",
          "height": 122
        }
      },
      "cell_type": "code",
      "source": [
        "A=np.array([[1,2],[3,4],[5,6]])    #3X2 행렬\n",
        "B=A.T     #A의 전치행렬, 2X3 행렬\n",
        "\n",
        "print(\"A.shape ==\", A.shape, \"B.shape ==\", B.shape)\n",
        "print(A)\n",
        "print(B)"
      ],
      "execution_count": 28,
      "outputs": [
        {
          "output_type": "stream",
          "text": [
            "A.shape == (3, 2) B.shape == (2, 3)\n",
            "[[1 2]\n",
            " [3 4]\n",
            " [5 6]]\n",
            "[[1 3 5]\n",
            " [2 4 6]]\n"
          ],
          "name": "stdout"
        }
      ]
    },
    {
      "metadata": {
        "id": "Q9n5LzPESv-6",
        "colab_type": "code",
        "outputId": "e2adeeea-b80c-42bb-ae62-54bdb6197b38",
        "colab": {
          "base_uri": "https://localhost:8080/",
          "height": 140
        }
      },
      "cell_type": "code",
      "source": [
        "#vector 전치행렬\n",
        "\n",
        "C=np.array([1,2,3,4,5])   #vector,matrix 아님\n",
        "D=C.T    #C는 vector 이므로 transpose 않됨\n",
        "\n",
        "E=C.reshape(1,5)   #1X5 matrix\n",
        "F=E.T    #E의 전치행렬\n",
        "\n",
        "print(\"C.shape ==\", C.shape, \"D.shape ==\", D.shape)\n",
        "print(\"E.shape ==\", E.shape, \"F.shape ==\", F.shape)\n",
        "print(F)"
      ],
      "execution_count": 30,
      "outputs": [
        {
          "output_type": "stream",
          "text": [
            "C.shape == (5,) D.shape == (5,)\n",
            "E.shape == (1, 5) F.shape == (5, 1)\n",
            "[[1]\n",
            " [2]\n",
            " [3]\n",
            " [4]\n",
            " [5]]\n"
          ],
          "name": "stdout"
        }
      ]
    },
    {
      "metadata": {
        "id": "PopFpNw-Ti9H",
        "colab_type": "text"
      },
      "cell_type": "markdown",
      "source": [
        "##라이브러리 - numpy 행렬 indexing / slicing"
      ]
    },
    {
      "metadata": {
        "id": "onapnMKwTowo",
        "colab_type": "text"
      },
      "cell_type": "markdown",
      "source": [
        "###행렬 원소 접근(1)"
      ]
    },
    {
      "metadata": {
        "id": "raZgrdpTTreP",
        "colab_type": "text"
      },
      "cell_type": "markdown",
      "source": [
        "- 행렬 원소를 명시적(explicit)으로 접근하기 위해서는 리스트(list)에서처럼, 인덱싱/슬라이싱 모두 사용 가능함."
      ]
    },
    {
      "metadata": {
        "id": "aN_jPyrmTX0c",
        "colab_type": "code",
        "outputId": "a82a42a6-7740-4e53-ddca-f1891906fc7a",
        "colab": {
          "base_uri": "https://localhost:8080/",
          "height": 87
        }
      },
      "cell_type": "code",
      "source": [
        "A = np.array([10,20,30,40,50,60]).reshape(3,2) \n",
        "\n",
        "print(\"A.shape ==\", A.shape)\n",
        "print(A)"
      ],
      "execution_count": 31,
      "outputs": [
        {
          "output_type": "stream",
          "text": [
            "A.shape == (3, 2)\n",
            "[[10 20]\n",
            " [30 40]\n",
            " [50 60]]\n"
          ],
          "name": "stdout"
        }
      ]
    },
    {
      "metadata": {
        "id": "KWn-8K5NUDih",
        "colab_type": "code",
        "outputId": "f3fe6735-62e5-4b3e-e2c0-f1befc25d161",
        "colab": {
          "base_uri": "https://localhost:8080/",
          "height": 52
        }
      },
      "cell_type": "code",
      "source": [
        "print(\"A[0,0] ==\", A[0,0],\"A[0][0] ==\", A[0][0])#A[0,0]또는 A[0][0]은 1행 1열\n",
        "print(\"A[2,1] ==\", A[2,1],\"A[2][1] ==\", A[2][1])#A[2,1]또는 A[2][1]은 3행 2열"
      ],
      "execution_count": 32,
      "outputs": [
        {
          "output_type": "stream",
          "text": [
            "A[0,0] == 10 A[0][0] == 10\n",
            "A[2,1] == 60 A[2][1] == 60\n"
          ],
          "name": "stdout"
        }
      ]
    },
    {
      "metadata": {
        "id": "V0xTEwslUrpV",
        "colab_type": "code",
        "outputId": "e682b743-e7e2-4e4a-e110-665ad35eedf8",
        "colab": {
          "base_uri": "https://localhost:8080/",
          "height": 52
        }
      },
      "cell_type": "code",
      "source": [
        "print(\"A[0:-1, 1:2] ==\", A[0:-1, 1:2])\n",
        "# 0:- -> 인덱스 0부터, 인덱스 -1-1=-2까지의 모든 데이터\n",
        "# 1:2 -> 인덱스 1부터 인덱스 2-1=1까지의 모든 데이터"
      ],
      "execution_count": 34,
      "outputs": [
        {
          "output_type": "stream",
          "text": [
            "A[0:-1, 1:2] == [[20]\n",
            " [40]]\n"
          ],
          "name": "stdout"
        }
      ]
    },
    {
      "metadata": {
        "id": "YZP0jraiU1Yn",
        "colab_type": "code",
        "outputId": "bc164856-531c-46b0-86da-ac610c97ec7b",
        "colab": {
          "base_uri": "https://localhost:8080/",
          "height": 87
        }
      },
      "cell_type": "code",
      "source": [
        "print(\"A[:, 0] ==\", A[:, 0])  #A[:, 0]은 모든 행 1열을 나타냄\n",
        "print(\"A[:, :] ==\", A[:, :])  #A[:, :]은 모든 행, 모든 열"
      ],
      "execution_count": 35,
      "outputs": [
        {
          "output_type": "stream",
          "text": [
            "A[:, 0] == [10 30 50]\n",
            "A[:, :] == [[10 20]\n",
            " [30 40]\n",
            " [50 60]]\n"
          ],
          "name": "stdout"
        }
      ]
    },
    {
      "metadata": {
        "id": "Y8eZ0E7LWJIX",
        "colab_type": "text"
      },
      "cell_type": "markdown",
      "source": [
        "##라이브러리-numpy 행렬 iterator"
      ]
    },
    {
      "metadata": {
        "id": "bEsChNPTWOqY",
        "colab_type": "text"
      },
      "cell_type": "markdown",
      "source": [
        "###행렬 원소 접근(2)"
      ]
    },
    {
      "metadata": {
        "id": "oYhDkvAwWTyg",
        "colab_type": "text"
      },
      "cell_type": "markdown",
      "source": [
        "- 명시적(explicit)인덱싱/슬라이싱 이외에, 행렬 모든 원소를 access하는 경우에는 iterator 사용가능\n",
        "\n",
        "- numpy iterator는 C++,java iterator처럼 next()메서드를 통해 데이터 값을 처음부터 끝까지 순차적으로 읽어 들이는 방법을 제공"
      ]
    },
    {
      "metadata": {
        "id": "2P-qO7l9VA_3",
        "colab_type": "code",
        "outputId": "13bb5f0e-bea5-4e12-ba5d-29aadf7d8bac",
        "colab": {
          "base_uri": "https://localhost:8080/",
          "height": 246
        }
      },
      "cell_type": "code",
      "source": [
        "import numpy as np\n",
        "\n",
        "A=np.array([[10,20,30,40],[50,60,70,80]])\n",
        "\n",
        "print(A, \"\\n\")\n",
        "print(\"A.shape ==\", A.shape, \"\\n\")\n",
        "\n",
        "#행렬 A의 iterator생성\n",
        "\n",
        "it = np.nditer(A, flags=[\"multi_index\"],op_flags=[\"readwrite\"])\n",
        "\n",
        "while not it.finished:\n",
        "  \n",
        "  idx=it.multi_index\n",
        "  \n",
        "  print(\"current value => \",A[idx])\n",
        "  \n",
        "  it.iternext()\n",
        "  \n",
        "# 2X4 행렬인 경우\n",
        "# (0,0) -> (0,1) -> (0,2) -> (0,3) -> (1,0) -> (1,1) -> (1,2) -> (1,3) 순서로 access"
      ],
      "execution_count": 37,
      "outputs": [
        {
          "output_type": "stream",
          "text": [
            "[[10 20 30 40]\n",
            " [50 60 70 80]] \n",
            "\n",
            "A.shape == (2, 4) \n",
            "\n",
            "current value =>  10\n",
            "current value =>  20\n",
            "current value =>  30\n",
            "current value =>  40\n",
            "current value =>  50\n",
            "current value =>  60\n",
            "current value =>  70\n",
            "current value =>  80\n"
          ],
          "name": "stdout"
        }
      ]
    }
  ]
}