{
  "nbformat": 4,
  "nbformat_minor": 0,
  "metadata": {
    "colab": {
      "name": "wk07_class_oop",
      "version": "0.3.2",
      "provenance": [],
      "collapsed_sections": [
        "4Wsll5K2Fh98",
        "-GJt7ScsFh-W",
        "pgRd9uujFh-W",
        "oo0PUq9tFh-Z",
        "OKh883wwFh-c",
        "RWhk18zIFh-j",
        "M8VUahFwFh-x",
        "U4sViC8jFh-2",
        "UBzDjMxYFh-3"
      ],
      "include_colab_link": true
    },
    "kernelspec": {
      "display_name": "Python 3",
      "language": "python",
      "name": "python3"
    }
  },
  "cells": [
    {
      "cell_type": "markdown",
      "metadata": {
        "id": "view-in-github",
        "colab_type": "text"
      },
      "source": [
        "<a href=\"https://colab.research.google.com/github/joyeee2/py-05/blob/master/wk07_class_oop.ipynb\" target=\"_parent\"><img src=\"https://colab.research.google.com/assets/colab-badge.svg\" alt=\"Open In Colab\"/></a>"
      ]
    },
    {
      "metadata": {
        "id": "ACmOhyh_Frqv",
        "colab_type": "text"
      },
      "cell_type": "markdown",
      "source": [
        ""
      ]
    },
    {
      "metadata": {
        "id": "Ye263ENZFsVf",
        "colab_type": "toc"
      },
      "cell_type": "markdown",
      "source": [
        ">[Chapter 06-01](#scrollTo=bzlHkOadFh8e)\n",
        "\n",
        ">>[클래스와 객체 지향 개발](#scrollTo=bzlHkOadFh8e)\n",
        "\n",
        ">>[파이썬에서 클래스 사용하기](#scrollTo=Syne8diPFh8h)\n",
        "\n",
        ">>>[클래스로 객체(인스턴스) 만들기](#scrollTo=d9f8nyCJFh8j)\n",
        "\n",
        ">>>[인스턴스 이용하기](#scrollTo=g6I42Rj0Fh8s)\n",
        "\n",
        ">[Chapter06-02](#scrollTo=i1_9FHxqFh89)\n",
        "\n",
        ">>[클래스 만들기](#scrollTo=i1_9FHxqFh89)\n",
        "\n",
        ">>>[클래스 정의하기](#scrollTo=v861_sIGFh8_)\n",
        "\n",
        ">>>[인스턴스의 속성](#scrollTo=db6gOZxgFh9C)\n",
        "\n",
        ">>>[메쏘드의 정의와 초기화 메쏘드 ‘init( )’](#scrollTo=6y7lauubFh9S)\n",
        "\n",
        ">>>[메쏘드와 제1인수 ‘self’](#scrollTo=ltKn2mR8Fh9Z)\n",
        "\n",
        ">>>[속성의 은폐](#scrollTo=sF_ofwNAFh9k)\n",
        "\n",
        ">>>[다음 변수들의 차이점을 이해!](#scrollTo=4Wsll5K2Fh98)\n",
        "\n",
        ">[Chapter07-01](#scrollTo=FMz2xfQeFh9-)\n",
        "\n",
        ">>[클래스 상속과 고급 객체 지향 기능](#scrollTo=FMz2xfQeFh9-)\n",
        "\n",
        ">>[클래스를 상속한다](#scrollTo=ex9F09nmFh9_)\n",
        "\n",
        ">>>[초기화 메쏘드의 오버라이드](#scrollTo=9T4bh1EBFh-G)\n",
        "\n",
        ">>>[Solution to the above error](#scrollTo=-GJt7ScsFh-W)\n",
        "\n",
        ">>>[super( )를 사용한 슈퍼클래스의 취득](#scrollTo=pgRd9uujFh-W)\n",
        "\n",
        ">>>[슬롯(Slot)](#scrollTo=oo0PUq9tFh-Z)\n",
        "\n",
        ">>>[프로퍼티(property)](#scrollTo=OKh883wwFh-c)\n",
        "\n",
        ">>>[더미 데코레이터를 사용하면 보다 간편하게 속성을 정의 할 수 있다](#scrollTo=RWhk18zIFh-j)\n",
        "\n",
        ">[Chapter 07-03](#scrollTo=27I4o3AaFh-o)\n",
        "\n",
        ">>[내장형을 상속하다](#scrollTo=27I4o3AaFh-o)\n",
        "\n",
        ">>[딕셔너리형을 상속한다](#scrollTo=qtxID64YFh-o)\n",
        "\n",
        ">[Chapter08-01](#scrollTo=mYW6QeESFh-x)\n",
        "\n",
        ">>[모듈 파일 만들기](#scrollTo=mYW6QeESFh-x)\n",
        "\n",
        ">>>[모듈을 import하는 과정](#scrollTo=M8VUahFwFh-x)\n",
        "\n",
        ">>>[파일을 실행할 때만 실행하는 블록](#scrollTo=U4sViC8jFh-2)\n",
        "\n",
        ">>>[클래스와 모듈](#scrollTo=UBzDjMxYFh-3)\n",
        "\n",
        ">>[[wk09] homework](#scrollTo=IPpFoapzFh_A)\n",
        "\n",
        ">>>>[제출 파일명: Summary_class.ipynb](#scrollTo=IPpFoapzFh_A)\n",
        "\n"
      ]
    },
    {
      "metadata": {
        "id": "bzlHkOadFh8e",
        "colab_type": "text"
      },
      "cell_type": "markdown",
      "source": [
        "# Chapter 06-01\n",
        "## 클래스와 객체 지향 개발"
      ]
    },
    {
      "metadata": {
        "id": "Syne8diPFh8h",
        "colab_type": "text"
      },
      "cell_type": "markdown",
      "source": [
        "## 파이썬에서 클래스 사용하기"
      ]
    },
    {
      "metadata": {
        "id": "d9f8nyCJFh8j",
        "colab_type": "text"
      },
      "cell_type": "markdown",
      "source": [
        "### 클래스로 객체(인스턴스) 만들기"
      ]
    },
    {
      "metadata": {
        "id": "j-y3DrdRFh8l",
        "colab_type": "code",
        "colab": {}
      },
      "cell_type": "code",
      "source": [
        "# Decimal 클래스를 사용할 준비\n",
        "from decimal import Decimal"
      ],
      "execution_count": 0,
      "outputs": []
    },
    {
      "metadata": {
        "id": "tUahlXJGFh8p",
        "colab_type": "code",
        "colab": {
          "base_uri": "https://localhost:8080/",
          "height": 34
        },
        "outputId": "5d0ffda4-3fe4-4fe1-e8f0-47d6ca8e843c"
      },
      "cell_type": "code",
      "source": [
        "# Deciaml 클래스 사용하기\n",
        "d = Decimal(10)    # Deciaml 클래스의 인스턴스 만들기\n",
        "print(d)"
      ],
      "execution_count": 6,
      "outputs": [
        {
          "output_type": "stream",
          "text": [
            "10\n"
          ],
          "name": "stdout"
        }
      ]
    },
    {
      "metadata": {
        "id": "g6I42Rj0Fh8s",
        "colab_type": "text"
      },
      "cell_type": "markdown",
      "source": [
        "### 인스턴스 이용하기"
      ]
    },
    {
      "metadata": {
        "id": "KiBqGodnFh8t",
        "colab_type": "code",
        "colab": {
          "base_uri": "https://localhost:8080/",
          "height": 34
        },
        "outputId": "7735afad-18e1-44ea-c323-0694656c4d09"
      },
      "cell_type": "code",
      "source": [
        "# 인스턴스를 사용한 연산\n",
        "print(d+20)        # Decimal 클래스 인스턴스에 수치 20 더하기"
      ],
      "execution_count": 7,
      "outputs": [
        {
          "output_type": "stream",
          "text": [
            "30\n"
          ],
          "name": "stdout"
        }
      ]
    },
    {
      "metadata": {
        "id": "P9Cnze8AFh8x",
        "colab_type": "code",
        "colab": {
          "base_uri": "https://localhost:8080/",
          "height": 34
        },
        "outputId": "129c8895-f2ec-4320-ed45-0bfee8e82ecd"
      },
      "cell_type": "code",
      "source": [
        "# Decimal형을 사용한 비교\n",
        "0.1*3 == 0.3    # 0.1에 3을 곱해서 0.3과 비교 (실수 연산이 파이썬의 기본 연산 방법)"
      ],
      "execution_count": 8,
      "outputs": [
        {
          "output_type": "execute_result",
          "data": {
            "text/plain": [
              "False"
            ]
          },
          "metadata": {
            "tags": []
          },
          "execution_count": 8
        }
      ]
    },
    {
      "metadata": {
        "id": "WBHYKP3_Fh80",
        "colab_type": "code",
        "colab": {
          "base_uri": "https://localhost:8080/",
          "height": 34
        },
        "outputId": "569b4a1c-6757-4268-c55f-7ffe32f15583"
      },
      "cell_type": "code",
      "source": [
        "0.1*3 #,Decimal(\"0.1\")*3"
      ],
      "execution_count": 9,
      "outputs": [
        {
          "output_type": "execute_result",
          "data": {
            "text/plain": [
              "0.30000000000000004"
            ]
          },
          "metadata": {
            "tags": []
          },
          "execution_count": 9
        }
      ]
    },
    {
      "metadata": {
        "id": "UXBKd7ZMFh82",
        "colab_type": "code",
        "colab": {
          "base_uri": "https://localhost:8080/",
          "height": 34
        },
        "outputId": "5a248969-baba-497e-d344-b090455f2bff"
      },
      "cell_type": "code",
      "source": [
        "# Decimal형을 사용해야 예상대로 비교\n",
        "Decimal(\"0.1\")*3 == Decimal(\"0.3\") #, Decimal(\"0.1\")*3 == 0.3"
      ],
      "execution_count": 10,
      "outputs": [
        {
          "output_type": "execute_result",
          "data": {
            "text/plain": [
              "True"
            ]
          },
          "metadata": {
            "tags": []
          },
          "execution_count": 10
        }
      ]
    },
    {
      "metadata": {
        "id": "uyH1Ps4aFh85",
        "colab_type": "code",
        "colab": {
          "base_uri": "https://localhost:8080/",
          "height": 34
        },
        "outputId": "1d03d48d-f997-4437-e60d-bbe0916c5f17"
      },
      "cell_type": "code",
      "source": [
        "# 제곱근 계산하기 d(10)\n",
        "print(d.sqrt())    # 인스턴스 d에 sqrt() 메쏘드를 사용함 (Decimal class에 내장된 sqrt() 사용)"
      ],
      "execution_count": 7,
      "outputs": [
        {
          "output_type": "stream",
          "text": [
            "3.162277660168379331998893544\n"
          ],
          "name": "stdout"
        }
      ]
    },
    {
      "metadata": {
        "id": "2K94ltHWFh87",
        "colab_type": "code",
        "colab": {}
      },
      "cell_type": "code",
      "source": [
        "# error\n",
        "sqrt(10)"
      ],
      "execution_count": 0,
      "outputs": []
    },
    {
      "metadata": {
        "id": "i1_9FHxqFh89",
        "colab_type": "text"
      },
      "cell_type": "markdown",
      "source": [
        "# Chapter06-02\n",
        "## 클래스 만들기"
      ]
    },
    {
      "metadata": {
        "id": "v861_sIGFh8_",
        "colab_type": "text"
      },
      "cell_type": "markdown",
      "source": [
        "### 클래스 정의하기"
      ]
    },
    {
      "metadata": {
        "id": "vytSeMIOFh8_",
        "colab_type": "code",
        "colab": {}
      },
      "cell_type": "code",
      "source": [
        "# MyClass 클래스를 정의한다\n",
        "class MyClass:     # 클래스 정의\n",
        "    pass           # 처리 내용을 기술함"
      ],
      "execution_count": 0,
      "outputs": []
    },
    {
      "metadata": {
        "id": "TtVeTDesFh9B",
        "colab_type": "text"
      },
      "cell_type": "markdown",
      "source": [
        "> pass 문은 아무것도 하지 않습니다. 최소한의 클래스를 만들 때 흔히 사용된다:"
      ]
    },
    {
      "metadata": {
        "id": "db6gOZxgFh9C",
        "colab_type": "text"
      },
      "cell_type": "markdown",
      "source": [
        "### 인스턴스의 속성"
      ]
    },
    {
      "metadata": {
        "id": "sNiDMU4vFh9D",
        "colab_type": "code",
        "colab": {}
      },
      "cell_type": "code",
      "source": [
        "# MyClass 인스턴스 만들기\n",
        "i = MyClass()   # 변수에 인스턴스를 대입함"
      ],
      "execution_count": 0,
      "outputs": []
    },
    {
      "metadata": {
        "id": "ICNgawnfFh9F",
        "colab_type": "code",
        "colab": {
          "base_uri": "https://localhost:8080/",
          "height": 34
        },
        "outputId": "d3f4d5cf-0077-474c-a51a-d73962af7bae"
      },
      "cell_type": "code",
      "source": [
        "# 속성을 이용한다\n",
        "i.value = 5     # value라는 이름의 속성에 수치를 대입\n",
        "i.value         # 속성 값을 표시"
      ],
      "execution_count": 14,
      "outputs": [
        {
          "output_type": "execute_result",
          "data": {
            "text/plain": [
              "5"
            ]
          },
          "metadata": {
            "tags": []
          },
          "execution_count": 14
        }
      ]
    },
    {
      "metadata": {
        "id": "-sDsV5J2Fh9H",
        "colab_type": "code",
        "colab": {
          "base_uri": "https://localhost:8080/",
          "height": 169
        },
        "outputId": "d5cb8b12-eba6-4b97-ec56-5f1e27cb628b"
      },
      "cell_type": "code",
      "source": [
        "# error\n",
        "# 미정의(정의되지 않은) 속성 참조\n",
        "i.undefined"
      ],
      "execution_count": 15,
      "outputs": [
        {
          "output_type": "error",
          "ename": "AttributeError",
          "evalue": "ignored",
          "traceback": [
            "\u001b[0;31m---------------------------------------------------------------------------\u001b[0m",
            "\u001b[0;31mAttributeError\u001b[0m                            Traceback (most recent call last)",
            "\u001b[0;32m<ipython-input-15-6ad2d893d2a4>\u001b[0m in \u001b[0;36m<module>\u001b[0;34m()\u001b[0m\n\u001b[0;32m----> 1\u001b[0;31m \u001b[0mi\u001b[0m\u001b[0;34m.\u001b[0m\u001b[0mundefined\u001b[0m\u001b[0;34m\u001b[0m\u001b[0m\n\u001b[0m",
            "\u001b[0;31mAttributeError\u001b[0m: 'MyClass' object has no attribute 'undefined'"
          ]
        }
      ]
    },
    {
      "metadata": {
        "id": "hCePcaRaFh9J",
        "colab_type": "code",
        "colab": {
          "base_uri": "https://localhost:8080/",
          "height": 134
        },
        "outputId": "4fb396c6-6f8d-4f2b-90cb-81a4e8146ab8"
      },
      "cell_type": "code",
      "source": [
        "# error\n",
        "# 속성은 인스턴스마다 존재한다\n",
        "i2 = MyClass()   # MyClass의 인스턴스를 별도로 정의\n",
        "i2.value         # value 속성을 참조하려고 하면 정의되지 않았으므로 오류가 발생"
      ],
      "execution_count": 16,
      "outputs": [
        {
          "output_type": "error",
          "ename": "SyntaxError",
          "evalue": "ignored",
          "traceback": [
            "\u001b[0;36m  File \u001b[0;32m\"<ipython-input-16-aa4a34ddac93>\"\u001b[0;36m, line \u001b[0;32m3\u001b[0m\n\u001b[0;31m    # 정의되지 않았으므로 오류가 발생\u001b[0m\n\u001b[0m    ^\u001b[0m\n\u001b[0;31mSyntaxError\u001b[0m\u001b[0;31m:\u001b[0m invalid character in identifier\n"
          ]
        }
      ]
    },
    {
      "metadata": {
        "id": "uRfhiyE0Fh9L",
        "colab_type": "code",
        "colab": {
          "base_uri": "https://localhost:8080/",
          "height": 34
        },
        "outputId": "e2eec7eb-6989-41a9-dc38-0a47dff56abd"
      },
      "cell_type": "code",
      "source": [
        "i.value"
      ],
      "execution_count": 17,
      "outputs": [
        {
          "output_type": "execute_result",
          "data": {
            "text/plain": [
              "5"
            ]
          },
          "metadata": {
            "tags": []
          },
          "execution_count": 17
        }
      ]
    },
    {
      "metadata": {
        "id": "pG4Uzn0DFh9O",
        "colab_type": "code",
        "colab": {
          "base_uri": "https://localhost:8080/",
          "height": 34
        },
        "outputId": "b601ed94-0f4c-4da6-adba-e173001c797f"
      },
      "cell_type": "code",
      "source": [
        "type(i)"
      ],
      "execution_count": 18,
      "outputs": [
        {
          "output_type": "execute_result",
          "data": {
            "text/plain": [
              "__main__.MyClass"
            ]
          },
          "metadata": {
            "tags": []
          },
          "execution_count": 18
        }
      ]
    },
    {
      "metadata": {
        "id": "yjLyCyPHFh9R",
        "colab_type": "code",
        "colab": {
          "base_uri": "https://localhost:8080/",
          "height": 950
        },
        "outputId": "ca69e4d0-1df1-4731-dbd1-32183340ee07"
      },
      "cell_type": "code",
      "source": [
        "dir(MyClass),dir(i)"
      ],
      "execution_count": 19,
      "outputs": [
        {
          "output_type": "execute_result",
          "data": {
            "text/plain": [
              "(['__class__',\n",
              "  '__delattr__',\n",
              "  '__dict__',\n",
              "  '__dir__',\n",
              "  '__doc__',\n",
              "  '__eq__',\n",
              "  '__format__',\n",
              "  '__ge__',\n",
              "  '__getattribute__',\n",
              "  '__gt__',\n",
              "  '__hash__',\n",
              "  '__init__',\n",
              "  '__init_subclass__',\n",
              "  '__le__',\n",
              "  '__lt__',\n",
              "  '__module__',\n",
              "  '__ne__',\n",
              "  '__new__',\n",
              "  '__reduce__',\n",
              "  '__reduce_ex__',\n",
              "  '__repr__',\n",
              "  '__setattr__',\n",
              "  '__sizeof__',\n",
              "  '__str__',\n",
              "  '__subclasshook__',\n",
              "  '__weakref__'],\n",
              " ['__class__',\n",
              "  '__delattr__',\n",
              "  '__dict__',\n",
              "  '__dir__',\n",
              "  '__doc__',\n",
              "  '__eq__',\n",
              "  '__format__',\n",
              "  '__ge__',\n",
              "  '__getattribute__',\n",
              "  '__gt__',\n",
              "  '__hash__',\n",
              "  '__init__',\n",
              "  '__init_subclass__',\n",
              "  '__le__',\n",
              "  '__lt__',\n",
              "  '__module__',\n",
              "  '__ne__',\n",
              "  '__new__',\n",
              "  '__reduce__',\n",
              "  '__reduce_ex__',\n",
              "  '__repr__',\n",
              "  '__setattr__',\n",
              "  '__sizeof__',\n",
              "  '__str__',\n",
              "  '__subclasshook__',\n",
              "  '__weakref__',\n",
              "  'value'])"
            ]
          },
          "metadata": {
            "tags": []
          },
          "execution_count": 19
        }
      ]
    },
    {
      "metadata": {
        "id": "6y7lauubFh9S",
        "colab_type": "text"
      },
      "cell_type": "markdown",
      "source": [
        "### 메쏘드의 정의와 초기화 메쏘드 ‘__init__( )’"
      ]
    },
    {
      "metadata": {
        "id": "_99g7K8tFh9S",
        "colab_type": "code",
        "colab": {}
      },
      "cell_type": "code",
      "source": [
        "# 초기화 메쏘드를 가진 클래스 정의\n",
        "class MyClass2:\n",
        "    def __init__(self):   # 초기화 메쏘드를 정의, 인수로 self 지정\n",
        "        self.value = 0    # 인스턴스에 속성을 추가\n",
        "        print(\"This is __init__() method !\")"
      ],
      "execution_count": 0,
      "outputs": []
    },
    {
      "metadata": {
        "id": "Nz3B5GVjFh9V",
        "colab_type": "code",
        "colab": {
          "base_uri": "https://localhost:8080/",
          "height": 34
        },
        "outputId": "4f618e9a-465a-40aa-d0fb-aa279940bc49"
      },
      "cell_type": "code",
      "source": [
        "# MyClass2 클래스 사용하기\n",
        "i3 = MyClass2()           # 인스턴스를 만듦"
      ],
      "execution_count": 21,
      "outputs": [
        {
          "output_type": "stream",
          "text": [
            "This is __init__() method !\n"
          ],
          "name": "stdout"
        }
      ]
    },
    {
      "metadata": {
        "id": "9WY6HSGsFh9W",
        "colab_type": "code",
        "colab": {
          "base_uri": "https://localhost:8080/",
          "height": 34
        },
        "outputId": "e96acc1f-141a-4299-dc31-c3dad66d9850"
      },
      "cell_type": "code",
      "source": [
        "i3.value                  # 인스턴스의 속성을 표시함"
      ],
      "execution_count": 22,
      "outputs": [
        {
          "output_type": "execute_result",
          "data": {
            "text/plain": [
              "0"
            ]
          },
          "metadata": {
            "tags": []
          },
          "execution_count": 22
        }
      ]
    },
    {
      "metadata": {
        "id": "0wB2o2s4Fh9Y",
        "colab_type": "code",
        "colab": {
          "base_uri": "https://localhost:8080/",
          "height": 492
        },
        "outputId": "b2d1d632-66c8-477d-a182-58a2f7e336dd"
      },
      "cell_type": "code",
      "source": [
        "dir(i3)"
      ],
      "execution_count": 20,
      "outputs": [
        {
          "output_type": "execute_result",
          "data": {
            "text/plain": [
              "['__class__',\n",
              " '__delattr__',\n",
              " '__dict__',\n",
              " '__dir__',\n",
              " '__doc__',\n",
              " '__eq__',\n",
              " '__format__',\n",
              " '__ge__',\n",
              " '__getattribute__',\n",
              " '__gt__',\n",
              " '__hash__',\n",
              " '__init__',\n",
              " '__init_subclass__',\n",
              " '__le__',\n",
              " '__lt__',\n",
              " '__module__',\n",
              " '__ne__',\n",
              " '__new__',\n",
              " '__reduce__',\n",
              " '__reduce_ex__',\n",
              " '__repr__',\n",
              " '__setattr__',\n",
              " '__sizeof__',\n",
              " '__str__',\n",
              " '__subclasshook__',\n",
              " '__weakref__',\n",
              " 'value']"
            ]
          },
          "metadata": {
            "tags": []
          },
          "execution_count": 20
        }
      ]
    },
    {
      "metadata": {
        "id": "ltKn2mR8Fh9Z",
        "colab_type": "text"
      },
      "cell_type": "markdown",
      "source": [
        "### 메쏘드와 제1인수 ‘self’"
      ]
    },
    {
      "metadata": {
        "id": "ypqzTN6kFh9Z",
        "colab_type": "code",
        "colab": {}
      },
      "cell_type": "code",
      "source": [
        "# Prism클래스의 정의\n",
        "class Prism:\n",
        "    def __init__(self, width, height, depth):\n",
        "        # 초기화 메쏘드를 정의\n",
        "        self.width = width    # 인수를 속성에 할당\n",
        "        self.height = height\n",
        "        self.depth = depth\n",
        "\n",
        "    def content(self):\n",
        "        # 부피를 계산함\n",
        "        return self.width*self.height*self.depth"
      ],
      "execution_count": 0,
      "outputs": []
    },
    {
      "metadata": {
        "id": "8uFT5AV8Fh9c",
        "colab_type": "code",
        "colab": {
          "base_uri": "https://localhost:8080/",
          "height": 34
        },
        "outputId": "c3828906-a73a-4e41-dac0-ac265b0d7732"
      },
      "cell_type": "code",
      "source": [
        "# Prism 클래스 사용하기\n",
        "p1 = Prism(10, 20, 30)  # self는 안써줘도됨\n",
        "print(p1.content())"
      ],
      "execution_count": 24,
      "outputs": [
        {
          "output_type": "stream",
          "text": [
            "6000\n"
          ],
          "name": "stdout"
        }
      ]
    },
    {
      "metadata": {
        "id": "926jKgP2Fh9c",
        "colab_type": "code",
        "colab": {
          "base_uri": "https://localhost:8080/",
          "height": 34
        },
        "outputId": "fdacc5a3-4b3e-4938-8b21-454feae922e6"
      },
      "cell_type": "code",
      "source": [
        "# 다른 수치를 지정해서 인스턴스 만들기\n",
        "p2 = Prism(50, 60, 70)   # 인수를 바꿈\n",
        "print(p2.content())      # 변경한 인수로 부피를 계산함"
      ],
      "execution_count": 26,
      "outputs": [
        {
          "output_type": "stream",
          "text": [
            "210000\n"
          ],
          "name": "stdout"
        }
      ]
    },
    {
      "metadata": {
        "id": "JKJv4H7aFh9e",
        "colab_type": "code",
        "colab": {
          "base_uri": "https://localhost:8080/",
          "height": 34
        },
        "outputId": "f77fabbf-4c22-4f35-94f7-7f904d380d28"
      },
      "cell_type": "code",
      "source": [
        "# 인스턴스로부터 속성을 읽어 내기\n",
        "p1.height"
      ],
      "execution_count": 27,
      "outputs": [
        {
          "output_type": "execute_result",
          "data": {
            "text/plain": [
              "20"
            ]
          },
          "metadata": {
            "tags": []
          },
          "execution_count": 27
        }
      ]
    },
    {
      "metadata": {
        "id": "GuH6XrA5Fh9f",
        "colab_type": "code",
        "colab": {
          "base_uri": "https://localhost:8080/",
          "height": 34
        },
        "outputId": "e0e224dc-7f6e-4209-d446-268767cb8d9f"
      },
      "cell_type": "code",
      "source": [
        "# 다른 인스턴스의 속성에는 다른 값이 들어있음\n",
        "p2.height"
      ],
      "execution_count": 28,
      "outputs": [
        {
          "output_type": "execute_result",
          "data": {
            "text/plain": [
              "60"
            ]
          },
          "metadata": {
            "tags": []
          },
          "execution_count": 28
        }
      ]
    },
    {
      "metadata": {
        "id": "mkoPZl-uFh9h",
        "colab_type": "code",
        "colab": {
          "base_uri": "https://localhost:8080/",
          "height": 34
        },
        "outputId": "7a863490-fabd-408a-9d9c-919d2383efbd"
      },
      "cell_type": "code",
      "source": [
        "# 속성 바꾸기\n",
        "p1.height = 50\n",
        "print(p1.content())    # 부피를 계산함"
      ],
      "execution_count": 29,
      "outputs": [
        {
          "output_type": "stream",
          "text": [
            "15000\n"
          ],
          "name": "stdout"
        }
      ]
    },
    {
      "metadata": {
        "id": "-PjIMv8NFh9j",
        "colab_type": "code",
        "colab": {
          "base_uri": "https://localhost:8080/",
          "height": 545
        },
        "outputId": "864233d4-711e-4ece-d651-46193b7b3e04"
      },
      "cell_type": "code",
      "source": [
        "dir(p1)"
      ],
      "execution_count": 28,
      "outputs": [
        {
          "output_type": "execute_result",
          "data": {
            "text/plain": [
              "['__class__',\n",
              " '__delattr__',\n",
              " '__dict__',\n",
              " '__dir__',\n",
              " '__doc__',\n",
              " '__eq__',\n",
              " '__format__',\n",
              " '__ge__',\n",
              " '__getattribute__',\n",
              " '__gt__',\n",
              " '__hash__',\n",
              " '__init__',\n",
              " '__init_subclass__',\n",
              " '__le__',\n",
              " '__lt__',\n",
              " '__module__',\n",
              " '__ne__',\n",
              " '__new__',\n",
              " '__reduce__',\n",
              " '__reduce_ex__',\n",
              " '__repr__',\n",
              " '__setattr__',\n",
              " '__sizeof__',\n",
              " '__str__',\n",
              " '__subclasshook__',\n",
              " '__weakref__',\n",
              " 'content',\n",
              " 'depth',\n",
              " 'height',\n",
              " 'width']"
            ]
          },
          "metadata": {
            "tags": []
          },
          "execution_count": 28
        }
      ]
    },
    {
      "metadata": {
        "id": "sF_ofwNAFh9k",
        "colab_type": "text"
      },
      "cell_type": "markdown",
      "source": [
        "### 속성의 은폐"
      ]
    },
    {
      "metadata": {
        "id": "9Ld1v8PMFh9k",
        "colab_type": "code",
        "colab": {
          "base_uri": "https://localhost:8080/",
          "height": 34
        },
        "outputId": "55efc762-ba3a-4ad8-b983-248bc8169e97"
      },
      "cell_type": "code",
      "source": [
        "# 다른 자료형을 대입해 본다\n",
        "p = Prism(10, 20, 30)\n",
        "p.width               # 가로폭을 표시"
      ],
      "execution_count": 29,
      "outputs": [
        {
          "output_type": "execute_result",
          "data": {
            "text/plain": [
              "10"
            ]
          },
          "metadata": {
            "tags": []
          },
          "execution_count": 29
        }
      ]
    },
    {
      "metadata": {
        "id": "zVmD1hHjFh9l",
        "colab_type": "code",
        "colab": {
          "base_uri": "https://localhost:8080/",
          "height": 54
        },
        "outputId": "656780de-d12b-44a3-c13b-6a9c191fc24a"
      },
      "cell_type": "code",
      "source": [
        "p.depth = \"30\"        # 속성으로 수치가 아니라 문자열을 대입 \n",
        "p.content()           # 부피를 계산함"
      ],
      "execution_count": 30,
      "outputs": [
        {
          "output_type": "execute_result",
          "data": {
            "text/plain": [
              "'3030303030303030303030303030303030303030303030303030303030303030303030303030303030303030303030303030303030303030303030303030303030303030303030303030303030303030303030303030303030303030303030303030303030303030303030303030303030303030303030303030303030303030303030303030303030303030303030303030303030303030303030303030303030303030303030303030303030303030303030303030303030303030303030303030303030303030'"
            ]
          },
          "metadata": {
            "tags": []
          },
          "execution_count": 30
        }
      ]
    },
    {
      "metadata": {
        "id": "GRWqJrvXFh9p",
        "colab_type": "code",
        "colab": {
          "base_uri": "https://localhost:8080/",
          "height": 34
        },
        "outputId": "bfe8f975-9b2e-42de-f8a9-897f810da127"
      },
      "cell_type": "code",
      "source": [
        "print(5*'A')#,print(5*A)  "
      ],
      "execution_count": 30,
      "outputs": [
        {
          "output_type": "stream",
          "text": [
            "AAAAA\n"
          ],
          "name": "stdout"
        }
      ]
    },
    {
      "metadata": {
        "id": "PwiMu7HTFh9q",
        "colab_type": "code",
        "colab": {
          "base_uri": "https://localhost:8080/",
          "height": 54
        },
        "outputId": "e49f187e-2fcd-4150-e64e-fe6c63a7850c"
      },
      "cell_type": "code",
      "source": [
        "p.depth = \"A\"        # 속성으로 수치가 아니라 문자열을 대입 \n",
        "p.content()          # A가 200개 출력"
      ],
      "execution_count": 32,
      "outputs": [
        {
          "output_type": "execute_result",
          "data": {
            "text/plain": [
              "'AAAAAAAAAAAAAAAAAAAAAAAAAAAAAAAAAAAAAAAAAAAAAAAAAAAAAAAAAAAAAAAAAAAAAAAAAAAAAAAAAAAAAAAAAAAAAAAAAAAAAAAAAAAAAAAAAAAAAAAAAAAAAAAAAAAAAAAAAAAAAAAAAAAAAAAAAAAAAAAAAAAAAAAAAAAAAAAAAAAAAAAAAAAAAAAAAAAAAAAA'"
            ]
          },
          "metadata": {
            "tags": []
          },
          "execution_count": 32
        }
      ]
    },
    {
      "metadata": {
        "id": "lBvXjVlgFh9t",
        "colab_type": "code",
        "colab": {}
      },
      "cell_type": "code",
      "source": [
        "# \"__\"으로 속성을 은폐한 Prism 클래스를 정의 (width -> _width, or __width) \n",
        "class PrismC: \n",
        "    def __init__(self, width, height, depth):\n",
        "        # 초기화 메쏘드를 정의\n",
        "        self.__width = width    # 인수를 속성에 할당\n",
        "        self.__height = height\n",
        "        self.__depth = depth\n",
        "\n",
        "    def content(self):\n",
        "        # 부피를 계산함\n",
        "        return self.__width*self.__height*self.__depth"
      ],
      "execution_count": 0,
      "outputs": []
    },
    {
      "metadata": {
        "id": "c3nA0iKcFh9w",
        "colab_type": "code",
        "colab": {
          "base_uri": "https://localhost:8080/",
          "height": 34
        },
        "outputId": "a0d34860-ffdf-4725-c3b9-0848a1ee4dc8"
      },
      "cell_type": "code",
      "source": [
        "p4 = PrismC(10, 20, 30)\n",
        "print(p4.content())"
      ],
      "execution_count": 33,
      "outputs": [
        {
          "output_type": "stream",
          "text": [
            "6000\n"
          ],
          "name": "stdout"
        }
      ]
    },
    {
      "metadata": {
        "id": "LEaA026mFh9x",
        "colab_type": "code",
        "colab": {
          "base_uri": "https://localhost:8080/",
          "height": 34
        },
        "outputId": "95de9f77-0334-4d07-c3a9-31268942bc45"
      },
      "cell_type": "code",
      "source": [
        "p4.__width = 200    # 속성을 외부에서 다시 대입\n",
        "p4.content()        # 결과는 변하지 않는다 --> 무엇을 의미하는가? "
      ],
      "execution_count": 34,
      "outputs": [
        {
          "output_type": "execute_result",
          "data": {
            "text/plain": [
              "6000"
            ]
          },
          "metadata": {
            "tags": []
          },
          "execution_count": 34
        }
      ]
    },
    {
      "metadata": {
        "id": "lLDIlfnbFh9y",
        "colab_type": "code",
        "colab": {
          "base_uri": "https://localhost:8080/",
          "height": 34
        },
        "outputId": "cebbe49e-3893-4449-867d-a0814953da7c"
      },
      "cell_type": "code",
      "source": [
        "# 그러나 이름을 바꾸는 규칙을 알고 있다면 변경된다\n",
        "p4._PrismC__width = 300\n",
        "p4._PrismC__depth = 500\n",
        "p4.content()"
      ],
      "execution_count": 35,
      "outputs": [
        {
          "output_type": "execute_result",
          "data": {
            "text/plain": [
              "3000000"
            ]
          },
          "metadata": {
            "tags": []
          },
          "execution_count": 35
        }
      ]
    },
    {
      "metadata": {
        "id": "SrFy-WViFh90",
        "colab_type": "code",
        "colab": {
          "base_uri": "https://localhost:8080/",
          "height": 169
        },
        "outputId": "fd9d6d62-2de0-4e00-dd3e-b63b8cc97ee5"
      },
      "cell_type": "code",
      "source": [
        "p4.__width, p4.__height, p4.__depth # ?????"
      ],
      "execution_count": 47,
      "outputs": [
        {
          "output_type": "error",
          "ename": "AttributeError",
          "evalue": "ignored",
          "traceback": [
            "\u001b[0;31m---------------------------------------------------------------------------\u001b[0m",
            "\u001b[0;31mAttributeError\u001b[0m                            Traceback (most recent call last)",
            "\u001b[0;32m<ipython-input-47-8674d7355dc4>\u001b[0m in \u001b[0;36m<module>\u001b[0;34m()\u001b[0m\n\u001b[0;32m----> 1\u001b[0;31m \u001b[0mp4\u001b[0m\u001b[0;34m.\u001b[0m\u001b[0m__width\u001b[0m\u001b[0;34m,\u001b[0m \u001b[0mp4\u001b[0m\u001b[0;34m.\u001b[0m\u001b[0m__height\u001b[0m\u001b[0;34m,\u001b[0m \u001b[0mp4\u001b[0m\u001b[0;34m.\u001b[0m\u001b[0m__depth\u001b[0m \u001b[0;31m# ?????\u001b[0m\u001b[0;34m\u001b[0m\u001b[0m\n\u001b[0m",
            "\u001b[0;31mAttributeError\u001b[0m: 'PrismC' object has no attribute '__height'"
          ]
        }
      ]
    },
    {
      "metadata": {
        "id": "2fK0cZ6pFh91",
        "colab_type": "code",
        "colab": {
          "base_uri": "https://localhost:8080/",
          "height": 169
        },
        "outputId": "e119125d-66c9-4bfb-f155-14e80595f11c"
      },
      "cell_type": "code",
      "source": [
        "p4.__height"
      ],
      "execution_count": 49,
      "outputs": [
        {
          "output_type": "error",
          "ename": "AttributeError",
          "evalue": "ignored",
          "traceback": [
            "\u001b[0;31m---------------------------------------------------------------------------\u001b[0m",
            "\u001b[0;31mAttributeError\u001b[0m                            Traceback (most recent call last)",
            "\u001b[0;32m<ipython-input-49-da5e51a9dd6b>\u001b[0m in \u001b[0;36m<module>\u001b[0;34m()\u001b[0m\n\u001b[0;32m----> 1\u001b[0;31m \u001b[0mp4\u001b[0m\u001b[0;34m.\u001b[0m\u001b[0m__height\u001b[0m\u001b[0;34m\u001b[0m\u001b[0m\n\u001b[0m",
            "\u001b[0;31mAttributeError\u001b[0m: 'PrismC' object has no attribute '__height'"
          ]
        }
      ]
    },
    {
      "metadata": {
        "id": "OgO7o9rOFh94",
        "colab_type": "code",
        "colab": {}
      },
      "cell_type": "code",
      "source": [
        "p4._height=1"
      ],
      "execution_count": 0,
      "outputs": []
    },
    {
      "metadata": {
        "id": "H_fEVtznFh96",
        "colab_type": "code",
        "colab": {
          "base_uri": "https://localhost:8080/",
          "height": 34
        },
        "outputId": "dd021639-79fb-434d-b94a-c3964ba863be"
      },
      "cell_type": "code",
      "source": [
        "p4._height"
      ],
      "execution_count": 51,
      "outputs": [
        {
          "output_type": "execute_result",
          "data": {
            "text/plain": [
              "1"
            ]
          },
          "metadata": {
            "tags": []
          },
          "execution_count": 51
        }
      ]
    },
    {
      "metadata": {
        "id": "oIfsr9LrOaDS",
        "colab_type": "code",
        "colab": {
          "base_uri": "https://localhost:8080/",
          "height": 34
        },
        "outputId": "2109976a-bf63-4fd0-d8bc-eaa6a0c9f6ed"
      },
      "cell_type": "code",
      "source": [
        "p4._PrismC__depth"
      ],
      "execution_count": 53,
      "outputs": [
        {
          "output_type": "execute_result",
          "data": {
            "text/plain": [
              "30"
            ]
          },
          "metadata": {
            "tags": []
          },
          "execution_count": 53
        }
      ]
    },
    {
      "metadata": {
        "id": "mDTj8MaKFh97",
        "colab_type": "code",
        "colab": {
          "base_uri": "https://localhost:8080/",
          "height": 580
        },
        "outputId": "ff4cc91a-e1a9-4f2d-a244-7164b25496cc"
      },
      "cell_type": "code",
      "source": [
        "dir(p4)"
      ],
      "execution_count": 52,
      "outputs": [
        {
          "output_type": "execute_result",
          "data": {
            "text/plain": [
              "['_PrismC__depth',\n",
              " '_PrismC__height',\n",
              " '_PrismC__width',\n",
              " '__class__',\n",
              " '__delattr__',\n",
              " '__dict__',\n",
              " '__dir__',\n",
              " '__doc__',\n",
              " '__eq__',\n",
              " '__format__',\n",
              " '__ge__',\n",
              " '__getattribute__',\n",
              " '__gt__',\n",
              " '__hash__',\n",
              " '__init__',\n",
              " '__init_subclass__',\n",
              " '__le__',\n",
              " '__lt__',\n",
              " '__module__',\n",
              " '__ne__',\n",
              " '__new__',\n",
              " '__reduce__',\n",
              " '__reduce_ex__',\n",
              " '__repr__',\n",
              " '__setattr__',\n",
              " '__sizeof__',\n",
              " '__str__',\n",
              " '__subclasshook__',\n",
              " '__weakref__',\n",
              " '__width',\n",
              " '_height',\n",
              " 'content']"
            ]
          },
          "metadata": {
            "tags": []
          },
          "execution_count": 52
        }
      ]
    },
    {
      "metadata": {
        "id": "4Wsll5K2Fh98",
        "colab_type": "text"
      },
      "cell_type": "markdown",
      "source": [
        "### 다음 변수들의 차이점을 이해!\n",
        "\n",
        "<pre> _PrismC__depth,  _PrismC__height, _PrismC__width   vs.   __width, _height </pre>\n",
        "\n",
        "> <pre> _PrismC__depth,  _PrismC__height, _PrismC__width 는 class 에 은닉된 변수,\n",
        "         __width, _height 는 클래스의 인스턴스에 추가된 변수</pre>"
      ]
    },
    {
      "metadata": {
        "id": "xVVBP-l3Fh9-",
        "colab_type": "text"
      },
      "cell_type": "markdown",
      "source": [
        "***"
      ]
    },
    {
      "metadata": {
        "id": "FMz2xfQeFh9-",
        "colab_type": "text"
      },
      "cell_type": "markdown",
      "source": [
        "# Chapter07-01\n",
        "## 클래스 상속과 고급 객체 지향 기능"
      ]
    },
    {
      "metadata": {
        "id": "ex9F09nmFh9_",
        "colab_type": "text"
      },
      "cell_type": "markdown",
      "source": [
        "## 클래스를 상속한다"
      ]
    },
    {
      "metadata": {
        "id": "AHNpXfjsFh-A",
        "colab_type": "code",
        "colab": {}
      },
      "cell_type": "code",
      "source": [
        "# Prism 클래스를 다시 정의\n",
        "class Prism:\n",
        "    def __init__(self, width, height, depth):\n",
        "        # 초기화 메쏘드를 정의\n",
        "        self.width = width    # 인수를 속성에 할당\n",
        "        self.height = height\n",
        "        self.depth = depth\n",
        "\n",
        "    def content(self):\n",
        "        # 부피를 계산\n",
        "        return self.width*self.height*self.depth"
      ],
      "execution_count": 0,
      "outputs": []
    },
    {
      "metadata": {
        "id": "PaLabwYvFh-D",
        "colab_type": "code",
        "colab": {}
      },
      "cell_type": "code",
      "source": [
        "# Cube 클래스의 정의\n",
        "# 슈퍼클래스 Prism을 상속한 Cube 클래스를 정의\n",
        "class Cube(Prism):    # Prism 클래스를 상속함\n",
        "    def __init__(self, length):    # __init__() 메쏘드를 오버라이드\n",
        "        # 초기화 메쏘드를 오버라이드(override)\n",
        "        self.width = self.height = self.depth = length    # 속성을 length로 초기화"
      ],
      "execution_count": 0,
      "outputs": []
    },
    {
      "metadata": {
        "id": "Uzqvwr5CFh-E",
        "colab_type": "code",
        "colab": {
          "base_uri": "https://localhost:8080/",
          "height": 34
        },
        "outputId": "6fff4336-6fa4-454b-89a9-44ecf28a1422"
      },
      "cell_type": "code",
      "source": [
        "# Cube 클래스를 사용한다\n",
        "c = Cube(20)     # length로 ‘20’을 넘김\n",
        "c.content()      # Prism 클래스의 메쏘드를 호출함"
      ],
      "execution_count": 58,
      "outputs": [
        {
          "output_type": "execute_result",
          "data": {
            "text/plain": [
              "8000"
            ]
          },
          "metadata": {
            "tags": []
          },
          "execution_count": 58
        }
      ]
    },
    {
      "metadata": {
        "id": "9T4bh1EBFh-G",
        "colab_type": "text"
      },
      "cell_type": "markdown",
      "source": [
        "### 초기화 메쏘드의 오버라이드(override, 재정의)"
      ]
    },
    {
      "metadata": {
        "id": "0-VoH6MjFh-G",
        "colab_type": "code",
        "colab": {}
      },
      "cell_type": "code",
      "source": [
        "# Prism 클래스의 새로운 정의\n",
        "# 초기화 메소드에 인수(단위)를 추가하여 Prism 클래스를 재정의\n",
        "class Prism:\n",
        "    def __init__(self, width, height, depth, unit=\"cm\"):    # 인수를 추가\n",
        "        self.width = width\n",
        "        self.height = height\n",
        "        self.depth = depth\n",
        "        self.unit = unit             # 속성을 추가\n",
        "        print(\"Unit: \", unit)\n",
        "\n",
        "    def content(self):\n",
        "        # 부피 계산\n",
        "        return self.width*self.height*self.depth        \n",
        "\n",
        "    def unit_content(self):         # 메쏘드를 추가\n",
        "        # 체적을 구하고, 단위를 연결하여 문자열을 반환\n",
        "        return str(self.content())+ \" \" +3*self.unit  # 계산 결과에 단위를 더함          "
      ],
      "execution_count": 0,
      "outputs": []
    },
    {
      "metadata": {
        "id": "qj7f2kJwFh-I",
        "colab_type": "code",
        "colab": {
          "base_uri": "https://localhost:8080/",
          "height": 52
        },
        "outputId": "8760d277-b208-4e1e-a767-a12aa48922c3"
      },
      "cell_type": "code",
      "source": [
        "Prism(10,20,30)"
      ],
      "execution_count": 61,
      "outputs": [
        {
          "output_type": "stream",
          "text": [
            "Unit:  cm\n"
          ],
          "name": "stdout"
        },
        {
          "output_type": "execute_result",
          "data": {
            "text/plain": [
              "<__main__.Prism at 0x7fbbb6e21198>"
            ]
          },
          "metadata": {
            "tags": []
          },
          "execution_count": 61
        }
      ]
    },
    {
      "metadata": {
        "id": "FN-NcIggFh-J",
        "colab_type": "code",
        "colab": {
          "base_uri": "https://localhost:8080/",
          "height": 52
        },
        "outputId": "f7de738e-1ff3-4bfb-a7ca-17d8592b29f7"
      },
      "cell_type": "code",
      "source": [
        "Prism(10,20,30).content()"
      ],
      "execution_count": 62,
      "outputs": [
        {
          "output_type": "stream",
          "text": [
            "Unit:  cm\n"
          ],
          "name": "stdout"
        },
        {
          "output_type": "execute_result",
          "data": {
            "text/plain": [
              "6000"
            ]
          },
          "metadata": {
            "tags": []
          },
          "execution_count": 62
        }
      ]
    },
    {
      "metadata": {
        "id": "25pCnlYpFh-N",
        "colab_type": "code",
        "colab": {
          "base_uri": "https://localhost:8080/",
          "height": 52
        },
        "outputId": "96a79cda-1ed8-4fbd-8c8f-a44f7d211426"
      },
      "cell_type": "code",
      "source": [
        "Prism(10,20,30).unit_content()"
      ],
      "execution_count": 63,
      "outputs": [
        {
          "output_type": "stream",
          "text": [
            "Unit:  cm\n"
          ],
          "name": "stdout"
        },
        {
          "output_type": "execute_result",
          "data": {
            "text/plain": [
              "'6000 cmcmcm'"
            ]
          },
          "metadata": {
            "tags": []
          },
          "execution_count": 63
        }
      ]
    },
    {
      "metadata": {
        "id": "0ohkN2hEFh-O",
        "colab_type": "code",
        "colab": {}
      },
      "cell_type": "code",
      "source": [
        "# Prism을 상속한 Cube 클래스를 정의하고 초기화 메소드 __init__() 를 재정의\n",
        "class Cube(Prism):\n",
        "    def __init__(self, length):\n",
        "        # 초기화 메쏘드를 오버라이드(override)\n",
        "        self.width = self.height = self.depth = length"
      ],
      "execution_count": 0,
      "outputs": []
    },
    {
      "metadata": {
        "id": "dSZVqnZ8Fh-Q",
        "colab_type": "code",
        "colab": {
          "base_uri": "https://localhost:8080/",
          "height": 34
        },
        "outputId": "8ee51353-d069-4d00-b510-698c3365b467"
      },
      "cell_type": "code",
      "source": [
        "Cube(10)"
      ],
      "execution_count": 67,
      "outputs": [
        {
          "output_type": "execute_result",
          "data": {
            "text/plain": [
              "<__main__.Cube at 0x7fbbb6e29828>"
            ]
          },
          "metadata": {
            "tags": []
          },
          "execution_count": 67
        }
      ]
    },
    {
      "metadata": {
        "scrolled": true,
        "id": "9Lmnzu3tFh-S",
        "colab_type": "code",
        "colab": {
          "base_uri": "https://localhost:8080/",
          "height": 34
        },
        "outputId": "a5d138c5-20c5-4acb-d204-235b2f52cacd"
      },
      "cell_type": "code",
      "source": [
        "# 추가한 속성을 호출한다\n",
        "# Prism 클래스를 상속한 Cube 클래스에 추가한 메쏘드를 호출\n",
        "c = Cube(10)\n",
        "c"
      ],
      "execution_count": 68,
      "outputs": [
        {
          "output_type": "execute_result",
          "data": {
            "text/plain": [
              "<__main__.Cube at 0x7fbbb6e29978>"
            ]
          },
          "metadata": {
            "tags": []
          },
          "execution_count": 68
        }
      ]
    },
    {
      "metadata": {
        "id": "iQQQbacyFh-U",
        "colab_type": "code",
        "colab": {
          "base_uri": "https://localhost:8080/",
          "height": 34
        },
        "outputId": "2279f058-a08b-4ac4-91cd-be1570d645b6"
      },
      "cell_type": "code",
      "source": [
        "c.content()"
      ],
      "execution_count": 69,
      "outputs": [
        {
          "output_type": "execute_result",
          "data": {
            "text/plain": [
              "1000"
            ]
          },
          "metadata": {
            "tags": []
          },
          "execution_count": 69
        }
      ]
    },
    {
      "metadata": {
        "scrolled": true,
        "id": "pysrrwumFh-U",
        "colab_type": "code",
        "colab": {
          "base_uri": "https://localhost:8080/",
          "height": 257
        },
        "outputId": "5b4df662-5a81-41a6-93c6-208742e801de"
      },
      "cell_type": "code",
      "source": [
        "c.unit_content()"
      ],
      "execution_count": 70,
      "outputs": [
        {
          "output_type": "error",
          "ename": "AttributeError",
          "evalue": "ignored",
          "traceback": [
            "\u001b[0;31m---------------------------------------------------------------------------\u001b[0m",
            "\u001b[0;31mAttributeError\u001b[0m                            Traceback (most recent call last)",
            "\u001b[0;32m<ipython-input-70-d476ca5a2737>\u001b[0m in \u001b[0;36m<module>\u001b[0;34m()\u001b[0m\n\u001b[0;32m----> 1\u001b[0;31m \u001b[0mc\u001b[0m\u001b[0;34m.\u001b[0m\u001b[0munit_content\u001b[0m\u001b[0;34m(\u001b[0m\u001b[0;34m)\u001b[0m\u001b[0;34m\u001b[0m\u001b[0m\n\u001b[0m",
            "\u001b[0;32m<ipython-input-60-0cd9fb9f630b>\u001b[0m in \u001b[0;36munit_content\u001b[0;34m(self)\u001b[0m\n\u001b[1;32m     13\u001b[0m     \u001b[0;32mdef\u001b[0m \u001b[0munit_content\u001b[0m\u001b[0;34m(\u001b[0m\u001b[0mself\u001b[0m\u001b[0;34m)\u001b[0m\u001b[0;34m:\u001b[0m         \u001b[0;31m# 메쏘드를 추가\u001b[0m\u001b[0;34m\u001b[0m\u001b[0m\n\u001b[1;32m     14\u001b[0m         \u001b[0;31m# 체적을 구하고, 단위를 연결하여 문자열을 반환\u001b[0m\u001b[0;34m\u001b[0m\u001b[0;34m\u001b[0m\u001b[0m\n\u001b[0;32m---> 15\u001b[0;31m         \u001b[0;32mreturn\u001b[0m \u001b[0mstr\u001b[0m\u001b[0;34m(\u001b[0m\u001b[0mself\u001b[0m\u001b[0;34m.\u001b[0m\u001b[0mcontent\u001b[0m\u001b[0;34m(\u001b[0m\u001b[0;34m)\u001b[0m\u001b[0;34m)\u001b[0m\u001b[0;34m+\u001b[0m \u001b[0;34m\" \"\u001b[0m \u001b[0;34m+\u001b[0m\u001b[0;36m3\u001b[0m\u001b[0;34m*\u001b[0m\u001b[0mself\u001b[0m\u001b[0;34m.\u001b[0m\u001b[0munit\u001b[0m  \u001b[0;31m# 계산 결과에 단위를 더함\u001b[0m\u001b[0;34m\u001b[0m\u001b[0m\n\u001b[0m",
            "\u001b[0;31mAttributeError\u001b[0m: 'Cube' object has no attribute 'unit'"
          ]
        }
      ]
    },
    {
      "metadata": {
        "id": "-GJt7ScsFh-W",
        "colab_type": "text"
      },
      "cell_type": "markdown",
      "source": [
        "### Solution to the above error"
      ]
    },
    {
      "metadata": {
        "id": "pgRd9uujFh-W",
        "colab_type": "text"
      },
      "cell_type": "markdown",
      "source": [
        "### super( )를 사용한 슈퍼클래스의 취득(부모클래스 사용할 때)"
      ]
    },
    {
      "metadata": {
        "id": "wrtA5rjVFh-W",
        "colab_type": "code",
        "colab": {}
      },
      "cell_type": "code",
      "source": [
        "# Cube 클래스에서 super()함수를 사용한다.\n",
        "# super()를 사용하여 Cube 클래스를 재정의\n",
        "class Cube(Prism):\n",
        "    def __init__(self, length):\n",
        "        super().__init__(length, length, length) # Cube는 세 모서리 길이가 동일. unit는 default로 지정됨.\n"
      ],
      "execution_count": 0,
      "outputs": []
    },
    {
      "metadata": {
        "id": "EVZoALN6Fh-X",
        "colab_type": "code",
        "colab": {}
      },
      "cell_type": "code",
      "source": [
        "# 추가한 속성을 호출한다\n",
        "c2 = Cube(20)\n",
        "c2.unit_content()"
      ],
      "execution_count": 0,
      "outputs": []
    },
    {
      "metadata": {
        "id": "-O_eKi3JFh-Y",
        "colab_type": "text"
      },
      "cell_type": "markdown",
      "source": [
        "***"
      ]
    },
    {
      "metadata": {
        "id": "oo0PUq9tFh-Z",
        "colab_type": "text"
      },
      "cell_type": "markdown",
      "source": [
        "### 슬롯(Slot)"
      ]
    },
    {
      "metadata": {
        "id": "KJxjt3SlFh-Z",
        "colab_type": "code",
        "colab": {
          "base_uri": "https://localhost:8080/",
          "height": 34
        },
        "outputId": "ca22949f-b0b4-4ef1-e9f7-945e64f0f964"
      },
      "cell_type": "code",
      "source": [
        "# 슬롯에 의한 속성 제한\n",
        "# 슬롯을 가지는 클래스를 정의한다\n",
        "class Klass:                # 클래스를 정의\n",
        "    __slots__ = ['a', 'b']  # 속성을 제한\n",
        "    def __init__(self):\n",
        "        self.a = 1          # a라는 속성을 작성\n",
        "\n",
        "i = Klass()      # 인스턴스를 만듦\n",
        "i.a              # a라는 속성을 확인"
      ],
      "execution_count": 87,
      "outputs": [
        {
          "output_type": "execute_result",
          "data": {
            "text/plain": [
              "1"
            ]
          },
          "metadata": {
            "tags": []
          },
          "execution_count": 87
        }
      ]
    },
    {
      "metadata": {
        "id": "yInzlCRzR_Iv",
        "colab_type": "code",
        "colab": {
          "base_uri": "https://localhost:8080/",
          "height": 169
        },
        "outputId": "98e70f36-aa87-4243-b010-c83e06359fcc"
      },
      "cell_type": "code",
      "source": [
        "i.b"
      ],
      "execution_count": 88,
      "outputs": [
        {
          "output_type": "error",
          "ename": "AttributeError",
          "evalue": "ignored",
          "traceback": [
            "\u001b[0;31m---------------------------------------------------------------------------\u001b[0m",
            "\u001b[0;31mAttributeError\u001b[0m                            Traceback (most recent call last)",
            "\u001b[0;32m<ipython-input-88-1fbc99b3f1c8>\u001b[0m in \u001b[0;36m<module>\u001b[0;34m()\u001b[0m\n\u001b[0;32m----> 1\u001b[0;31m \u001b[0mi\u001b[0m\u001b[0;34m.\u001b[0m\u001b[0mb\u001b[0m\u001b[0;34m\u001b[0m\u001b[0m\n\u001b[0m",
            "\u001b[0;31mAttributeError\u001b[0m: b"
          ]
        }
      ]
    },
    {
      "metadata": {
        "id": "OWf194jEFh-Z",
        "colab_type": "code",
        "colab": {
          "base_uri": "https://localhost:8080/",
          "height": 34
        },
        "outputId": "02cc4a02-07e9-4fe0-d47a-661ea6defe99"
      },
      "cell_type": "code",
      "source": [
        "i.b = 2          # b라는 속성을 추가\n",
        "i.b              # b라는 속성을 확인"
      ],
      "execution_count": 89,
      "outputs": [
        {
          "output_type": "execute_result",
          "data": {
            "text/plain": [
              "2"
            ]
          },
          "metadata": {
            "tags": []
          },
          "execution_count": 89
        }
      ]
    },
    {
      "metadata": {
        "id": "OZ8ANvvSFh-a",
        "colab_type": "code",
        "colab": {
          "base_uri": "https://localhost:8080/",
          "height": 169
        },
        "outputId": "398ea648-645a-40e8-8598-19b7f79ef5fa"
      },
      "cell_type": "code",
      "source": [
        "i.c = 3          # c라는 속성은 추가할 수 없음"
      ],
      "execution_count": 90,
      "outputs": [
        {
          "output_type": "error",
          "ename": "AttributeError",
          "evalue": "ignored",
          "traceback": [
            "\u001b[0;31m---------------------------------------------------------------------------\u001b[0m",
            "\u001b[0;31mAttributeError\u001b[0m                            Traceback (most recent call last)",
            "\u001b[0;32m<ipython-input-90-c11014e15c8d>\u001b[0m in \u001b[0;36m<module>\u001b[0;34m()\u001b[0m\n\u001b[0;32m----> 1\u001b[0;31m \u001b[0mi\u001b[0m\u001b[0;34m.\u001b[0m\u001b[0mc\u001b[0m \u001b[0;34m=\u001b[0m \u001b[0;36m3\u001b[0m          \u001b[0;31m# c라는 속성은 추가할 수 없음\u001b[0m\u001b[0;34m\u001b[0m\u001b[0m\n\u001b[0m",
            "\u001b[0;31mAttributeError\u001b[0m: 'Klass' object has no attribute 'c'"
          ]
        }
      ]
    },
    {
      "metadata": {
        "id": "x70RvH5JFh-b",
        "colab_type": "code",
        "colab": {
          "base_uri": "https://localhost:8080/",
          "height": 492
        },
        "outputId": "35469506-150c-458a-8583-e98112d2f09a"
      },
      "cell_type": "code",
      "source": [
        "dir(i)"
      ],
      "execution_count": 91,
      "outputs": [
        {
          "output_type": "execute_result",
          "data": {
            "text/plain": [
              "['__class__',\n",
              " '__delattr__',\n",
              " '__dir__',\n",
              " '__doc__',\n",
              " '__eq__',\n",
              " '__format__',\n",
              " '__ge__',\n",
              " '__getattribute__',\n",
              " '__gt__',\n",
              " '__hash__',\n",
              " '__init__',\n",
              " '__init_subclass__',\n",
              " '__le__',\n",
              " '__lt__',\n",
              " '__module__',\n",
              " '__ne__',\n",
              " '__new__',\n",
              " '__reduce__',\n",
              " '__reduce_ex__',\n",
              " '__repr__',\n",
              " '__setattr__',\n",
              " '__sizeof__',\n",
              " '__slots__',\n",
              " '__str__',\n",
              " '__subclasshook__',\n",
              " 'a',\n",
              " 'b']"
            ]
          },
          "metadata": {
            "tags": []
          },
          "execution_count": 91
        }
      ]
    },
    {
      "metadata": {
        "id": "OKh883wwFh-c",
        "colab_type": "text"
      },
      "cell_type": "markdown",
      "source": [
        "### 프로퍼티(property) - 변수의 다른 이름"
      ]
    },
    {
      "metadata": {
        "id": "2i1CI7pDFh-c",
        "colab_type": "code",
        "colab": {}
      },
      "cell_type": "code",
      "source": [
        "# 프로퍼티의 정의\n",
        "# 프로퍼티를 정의하는 클래스를 정의한다\n",
        "class Prop:\n",
        "    def __init__(self):\n",
        "        self.__x = 0    # 속성을 만듦\n",
        "\n",
        "    def getx(self):     # 게터\n",
        "        return self.__x # 속성을 돌려줌\n",
        "\n",
        "    def setx(self, x):  # 세터\n",
        "        self.__x = x    # 속성으로 값을 넣음\n",
        "    \n",
        "    x = property(getx, setx) # 프로퍼티를 설정함\n",
        "    "
      ],
      "execution_count": 0,
      "outputs": []
    },
    {
      "metadata": {
        "id": "1MXVlHIfFh-e",
        "colab_type": "code",
        "colab": {
          "base_uri": "https://localhost:8080/",
          "height": 34
        },
        "outputId": "ea9e3fd4-75bb-4589-f5fe-239439e38b19"
      },
      "cell_type": "code",
      "source": [
        "# 프로퍼티를 사용한다\n",
        "i = Prop()     # 인스턴스를 만듦\n",
        "i.x            # 속성을 참조"
      ],
      "execution_count": 93,
      "outputs": [
        {
          "output_type": "execute_result",
          "data": {
            "text/plain": [
              "0"
            ]
          },
          "metadata": {
            "tags": []
          },
          "execution_count": 93
        }
      ]
    },
    {
      "metadata": {
        "id": "BLG2PhNBFh-e",
        "colab_type": "code",
        "colab": {
          "base_uri": "https://localhost:8080/",
          "height": 34
        },
        "outputId": "0d216c56-73b8-4798-8d18-7ee5715d51aa"
      },
      "cell_type": "code",
      "source": [
        "# set함수가 돈다\n",
        "i.x = 10       # x에 대입\n",
        "i.x            # 속성 x를 참조"
      ],
      "execution_count": 98,
      "outputs": [
        {
          "output_type": "execute_result",
          "data": {
            "text/plain": [
              "10"
            ]
          },
          "metadata": {
            "tags": []
          },
          "execution_count": 98
        }
      ]
    },
    {
      "metadata": {
        "id": "Kv3vQh85Fh-f",
        "colab_type": "code",
        "colab": {
          "base_uri": "https://localhost:8080/",
          "height": 34
        },
        "outputId": "ea42f87a-d795-432c-8a7f-3540d0cd6a01"
      },
      "cell_type": "code",
      "source": [
        "i._Prop__x     # __x에 억지로 접근"
      ],
      "execution_count": 99,
      "outputs": [
        {
          "output_type": "execute_result",
          "data": {
            "text/plain": [
              "10"
            ]
          },
          "metadata": {
            "tags": []
          },
          "execution_count": 99
        }
      ]
    },
    {
      "metadata": {
        "id": "Bvr_HBFtFh-g",
        "colab_type": "code",
        "colab": {
          "base_uri": "https://localhost:8080/",
          "height": 545
        },
        "outputId": "a0cabcf9-2123-4a85-bb7b-60dd8318b838"
      },
      "cell_type": "code",
      "source": [
        "dir(i)"
      ],
      "execution_count": 100,
      "outputs": [
        {
          "output_type": "execute_result",
          "data": {
            "text/plain": [
              "['_Prop__x',\n",
              " '__class__',\n",
              " '__delattr__',\n",
              " '__dict__',\n",
              " '__dir__',\n",
              " '__doc__',\n",
              " '__eq__',\n",
              " '__format__',\n",
              " '__ge__',\n",
              " '__getattribute__',\n",
              " '__gt__',\n",
              " '__hash__',\n",
              " '__init__',\n",
              " '__init_subclass__',\n",
              " '__le__',\n",
              " '__lt__',\n",
              " '__module__',\n",
              " '__ne__',\n",
              " '__new__',\n",
              " '__reduce__',\n",
              " '__reduce_ex__',\n",
              " '__repr__',\n",
              " '__setattr__',\n",
              " '__sizeof__',\n",
              " '__str__',\n",
              " '__subclasshook__',\n",
              " '__weakref__',\n",
              " 'getx',\n",
              " 'setx',\n",
              " 'x']"
            ]
          },
          "metadata": {
            "tags": []
          },
          "execution_count": 100
        }
      ]
    },
    {
      "metadata": {
        "id": "4t0VEAuOFh-h",
        "colab_type": "code",
        "colab": {
          "base_uri": "https://localhost:8080/",
          "height": 34
        },
        "outputId": "fbb3aae4-df71-47e6-bb4d-46e71552dbcc"
      },
      "cell_type": "code",
      "source": [
        "i.getx()"
      ],
      "execution_count": 101,
      "outputs": [
        {
          "output_type": "execute_result",
          "data": {
            "text/plain": [
              "10"
            ]
          },
          "metadata": {
            "tags": []
          },
          "execution_count": 101
        }
      ]
    },
    {
      "metadata": {
        "id": "NTzsErxiFh-i",
        "colab_type": "code",
        "colab": {
          "base_uri": "https://localhost:8080/",
          "height": 34
        },
        "outputId": "6d6db1e2-fe48-497d-9afe-3c66cdf3f20d"
      },
      "cell_type": "code",
      "source": [
        "i.setx(100)\n",
        "i.x"
      ],
      "execution_count": 80,
      "outputs": [
        {
          "output_type": "execute_result",
          "data": {
            "text/plain": [
              "100"
            ]
          },
          "metadata": {
            "tags": []
          },
          "execution_count": 80
        }
      ]
    },
    {
      "metadata": {
        "id": "RWhk18zIFh-j",
        "colab_type": "text"
      },
      "cell_type": "markdown",
      "source": [
        "### 더미 데코레이터를 사용하면 보다 간편하게 속성을 정의 할 수 있다"
      ]
    },
    {
      "metadata": {
        "id": "CyUABLb_Fh-j",
        "colab_type": "code",
        "colab": {}
      },
      "cell_type": "code",
      "source": [
        "# 데코레이터를 사용하여 프로퍼티를 정의하는 클래스를 정의\n",
        "\n",
        "class DecoProp:\n",
        "    def __init__(self):\n",
        "        self.__x = 0\n",
        "\n",
        "    @property\n",
        "    def x(self):\n",
        "        # x = property(x.getter(x), x.setter(x)) \n",
        "        return None\n",
        "    \n",
        "    # getter 정의\n",
        "    @x.getter\n",
        "    def x(self):\n",
        "        print('this is getter, value is', self.__x)\n",
        "        return(self.__x)\n",
        "\n",
        "    # setter 정의\n",
        "    @x.setter\n",
        "    def x(self, value):\n",
        "        print('this is setter, value is', value)\n",
        "        self.__x = value\n"
      ],
      "execution_count": 0,
      "outputs": []
    },
    {
      "metadata": {
        "id": "-d5c53NuFh-k",
        "colab_type": "code",
        "colab": {
          "base_uri": "https://localhost:8080/",
          "height": 52
        },
        "outputId": "df9d9c0e-7f61-4490-8c7f-f8a1538b418c"
      },
      "cell_type": "code",
      "source": [
        "dp = DecoProp()   # 데코레이터를 사용한 속성을 가진 인스턴스를 생성\n",
        "dp.x             # __init __ ()에 정의된 초기값을 표시, getter가 호출됨"
      ],
      "execution_count": 82,
      "outputs": [
        {
          "output_type": "stream",
          "text": [
            "this is getter, value is 0\n"
          ],
          "name": "stdout"
        },
        {
          "output_type": "execute_result",
          "data": {
            "text/plain": [
              "0"
            ]
          },
          "metadata": {
            "tags": []
          },
          "execution_count": 82
        }
      ]
    },
    {
      "metadata": {
        "id": "TWX3A0jjFh-l",
        "colab_type": "code",
        "colab": {
          "base_uri": "https://localhost:8080/",
          "height": 34
        },
        "outputId": "927b16bd-eebd-44df-9c32-9632da21dd3c"
      },
      "cell_type": "code",
      "source": [
        "dp.x = 1          # setter를 호출하여 값을 변경"
      ],
      "execution_count": 83,
      "outputs": [
        {
          "output_type": "stream",
          "text": [
            "this is setter, value is 1\n"
          ],
          "name": "stdout"
        }
      ]
    },
    {
      "metadata": {
        "id": "yvKNHClEFh-m",
        "colab_type": "code",
        "colab": {
          "base_uri": "https://localhost:8080/",
          "height": 52
        },
        "outputId": "27fd6ec5-4c26-4fec-bd70-6f67c7e56d85"
      },
      "cell_type": "code",
      "source": [
        "dp.x              # 값이 변경되어 있는지 확인"
      ],
      "execution_count": 84,
      "outputs": [
        {
          "output_type": "stream",
          "text": [
            "this is getter, value is 1\n"
          ],
          "name": "stdout"
        },
        {
          "output_type": "execute_result",
          "data": {
            "text/plain": [
              "1"
            ]
          },
          "metadata": {
            "tags": []
          },
          "execution_count": 84
        }
      ]
    },
    {
      "metadata": {
        "id": "krX83GT_Fh-n",
        "colab_type": "code",
        "colab": {}
      },
      "cell_type": "code",
      "source": [
        ""
      ],
      "execution_count": 0,
      "outputs": []
    },
    {
      "metadata": {
        "id": "27I4o3AaFh-o",
        "colab_type": "text"
      },
      "cell_type": "markdown",
      "source": [
        "# Chapter 07-03\n",
        "## 내장형을 상속하다"
      ]
    },
    {
      "metadata": {
        "id": "qtxID64YFh-o",
        "colab_type": "text"
      },
      "cell_type": "markdown",
      "source": [
        "## 딕셔너리형을 상속한다"
      ]
    },
    {
      "metadata": {
        "id": "X7rEWDZOFh-o",
        "colab_type": "code",
        "colab": {}
      },
      "cell_type": "code",
      "source": [
        "class StrDict(dict):\n",
        "    \"\"\" 딕셔너리형을 상속해서 클래스를 만든다\n",
        "    \"\"\"\n",
        "    def __init__(self):\n",
        "        pass\n",
        "\n",
        "    def __setitem__(self, key, value):\n",
        "        \"\"\" 특수 메쏘드를 재정의(오버라이드)\n",
        "            key가 문자열이 아니면 예외를 발생\n",
        "        \"\"\"\n",
        "        if not isinstance(key, str):\n",
        "            # 키가 문자열이 아닌 경우에는 예외를 발생\n",
        "            raise ValueError(\"Key must be string.\")\n",
        "            # 슈퍼클래스의 특수 메쏘드를 호출해서 키와 값을 설정, 문자열 키값을 넣을 때만 딕셔너리에 저장\n",
        "        dict.__setitem__(self, key, value)"
      ],
      "execution_count": 0,
      "outputs": []
    },
    {
      "metadata": {
        "id": "4-SX5uNiFh-p",
        "colab_type": "text"
      },
      "cell_type": "markdown",
      "source": [
        "> 딕셔너리형(dict)을 상속했으므로 딕셔너리의 모든 속성과 메소드가 사용 가능하다."
      ]
    },
    {
      "metadata": {
        "id": "6_x58Ia5Fh-r",
        "colab_type": "code",
        "colab": {
          "base_uri": "https://localhost:8080/",
          "height": 34
        },
        "outputId": "7893234c-4d31-4fce-8326-c465f07b90f4"
      },
      "cell_type": "code",
      "source": [
        "# 딕셔너리형을 상속한 클래스를 사용한다\n",
        "d = StrDict()   # 인스턴스를 작성\n",
        "d[\"spam\"] = 1   # 딕셔너리와 같이 키를 사용해서 요소를 추가\n",
        "d[\"spam\"]       # 추가된 요소 확인"
      ],
      "execution_count": 103,
      "outputs": [
        {
          "output_type": "execute_result",
          "data": {
            "text/plain": [
              "1"
            ]
          },
          "metadata": {
            "tags": []
          },
          "execution_count": 103
        }
      ]
    },
    {
      "metadata": {
        "id": "Ho-VQcw4Fh-s",
        "colab_type": "code",
        "colab": {
          "base_uri": "https://localhost:8080/",
          "height": 292
        },
        "outputId": "8d6afd03-8bb8-461f-cf24-405fa9717217"
      },
      "cell_type": "code",
      "source": [
        "# error\n",
        "d[1] = 1        # 수치 키로 요소를 추가하면 오류"
      ],
      "execution_count": 104,
      "outputs": [
        {
          "output_type": "error",
          "ename": "ValueError",
          "evalue": "ignored",
          "traceback": [
            "\u001b[0;31m---------------------------------------------------------------------------\u001b[0m",
            "\u001b[0;31mValueError\u001b[0m                                Traceback (most recent call last)",
            "\u001b[0;32m<ipython-input-104-19602c131551>\u001b[0m in \u001b[0;36m<module>\u001b[0;34m()\u001b[0m\n\u001b[0;32m----> 1\u001b[0;31m \u001b[0md\u001b[0m\u001b[0;34m[\u001b[0m\u001b[0;36m1\u001b[0m\u001b[0;34m]\u001b[0m \u001b[0;34m=\u001b[0m \u001b[0;36m1\u001b[0m        \u001b[0;31m# 수치 키로 요소를 추가하면 오류\u001b[0m\u001b[0;34m\u001b[0m\u001b[0m\n\u001b[0m",
            "\u001b[0;32m<ipython-input-102-93f0bc373563>\u001b[0m in \u001b[0;36m__setitem__\u001b[0;34m(self, key, value)\u001b[0m\n\u001b[1;32m     11\u001b[0m         \u001b[0;32mif\u001b[0m \u001b[0;32mnot\u001b[0m \u001b[0misinstance\u001b[0m\u001b[0;34m(\u001b[0m\u001b[0mkey\u001b[0m\u001b[0;34m,\u001b[0m \u001b[0mstr\u001b[0m\u001b[0;34m)\u001b[0m\u001b[0;34m:\u001b[0m\u001b[0;34m\u001b[0m\u001b[0m\n\u001b[1;32m     12\u001b[0m             \u001b[0;31m# 키가 문자열이 아닌 경우에는 예외를 발생\u001b[0m\u001b[0;34m\u001b[0m\u001b[0;34m\u001b[0m\u001b[0m\n\u001b[0;32m---> 13\u001b[0;31m             \u001b[0;32mraise\u001b[0m \u001b[0mValueError\u001b[0m\u001b[0;34m(\u001b[0m\u001b[0;34m\"Key must be string.\"\u001b[0m\u001b[0;34m)\u001b[0m\u001b[0;34m\u001b[0m\u001b[0m\n\u001b[0m\u001b[1;32m     14\u001b[0m             \u001b[0;31m# 슈퍼클래스의 특수 메쏘드를 호출해서 키와 값을 설정, 문자열 키값을 넣을 때만 딕셔너리에 저장\u001b[0m\u001b[0;34m\u001b[0m\u001b[0;34m\u001b[0m\u001b[0m\n\u001b[1;32m     15\u001b[0m         \u001b[0mdict\u001b[0m\u001b[0;34m.\u001b[0m\u001b[0m__setitem__\u001b[0m\u001b[0;34m(\u001b[0m\u001b[0mself\u001b[0m\u001b[0;34m,\u001b[0m \u001b[0mkey\u001b[0m\u001b[0;34m,\u001b[0m \u001b[0mvalue\u001b[0m\u001b[0;34m)\u001b[0m\u001b[0;34m\u001b[0m\u001b[0m\n",
            "\u001b[0;31mValueError\u001b[0m: Key must be string."
          ]
        }
      ]
    },
    {
      "metadata": {
        "id": "_zV8eXmwFh-t",
        "colab_type": "code",
        "colab": {
          "base_uri": "https://localhost:8080/",
          "height": 34
        },
        "outputId": "22a1a7df-9d2d-4a2f-8a45-b438b4d9dc33"
      },
      "cell_type": "code",
      "source": [
        "d.keys()       # 딕셔너리 메쏘드도 이용할 수 있음"
      ],
      "execution_count": 105,
      "outputs": [
        {
          "output_type": "execute_result",
          "data": {
            "text/plain": [
              "dict_keys(['spam'])"
            ]
          },
          "metadata": {
            "tags": []
          },
          "execution_count": 105
        }
      ]
    },
    {
      "metadata": {
        "id": "3c_xvi6QFh-t",
        "colab_type": "code",
        "colab": {
          "base_uri": "https://localhost:8080/",
          "height": 34
        },
        "outputId": "35c0b745-39f9-4cde-a02f-5363fe10796e"
      },
      "cell_type": "code",
      "source": [
        "d[\"normal\"]=30\n",
        "d[\"normal\"]"
      ],
      "execution_count": 106,
      "outputs": [
        {
          "output_type": "execute_result",
          "data": {
            "text/plain": [
              "30"
            ]
          },
          "metadata": {
            "tags": []
          },
          "execution_count": 106
        }
      ]
    },
    {
      "metadata": {
        "id": "7QtA6f7tFh-u",
        "colab_type": "code",
        "colab": {
          "base_uri": "https://localhost:8080/",
          "height": 34
        },
        "outputId": "ef0f62ae-e01f-454b-a163-6c9b35b2af2e"
      },
      "cell_type": "code",
      "source": [
        "d.keys()"
      ],
      "execution_count": 107,
      "outputs": [
        {
          "output_type": "execute_result",
          "data": {
            "text/plain": [
              "dict_keys(['spam', 'normal'])"
            ]
          },
          "metadata": {
            "tags": []
          },
          "execution_count": 107
        }
      ]
    },
    {
      "metadata": {
        "id": "Cw2vHdG0Fh-v",
        "colab_type": "code",
        "colab": {
          "base_uri": "https://localhost:8080/",
          "height": 34
        },
        "outputId": "ddd2c927-ad85-42a2-cf14-adc9ed37cb78"
      },
      "cell_type": "code",
      "source": [
        "d.items()"
      ],
      "execution_count": 108,
      "outputs": [
        {
          "output_type": "execute_result",
          "data": {
            "text/plain": [
              "dict_items([('spam', 1), ('normal', 30)])"
            ]
          },
          "metadata": {
            "tags": []
          },
          "execution_count": 108
        }
      ]
    },
    {
      "metadata": {
        "id": "mYW6QeESFh-x",
        "colab_type": "text"
      },
      "cell_type": "markdown",
      "source": [
        "# Chapter08-01\n",
        "## 모듈 파일 만들기(다음쥬)"
      ]
    },
    {
      "metadata": {
        "id": "M8VUahFwFh-x",
        "colab_type": "text"
      },
      "cell_type": "markdown",
      "source": [
        "### 모듈을 import하는 과정"
      ]
    },
    {
      "metadata": {
        "id": "YVgETtpuFh-x",
        "colab_type": "code",
        "colab": {}
      },
      "cell_type": "code",
      "source": [
        "# 모듈을 import해서 사용한다\n",
        "import testmodule    # testmodule 모듈을 임포트"
      ],
      "execution_count": 0,
      "outputs": []
    },
    {
      "metadata": {
        "id": "NYb-Z2YMFh-y",
        "colab_type": "text"
      },
      "cell_type": "markdown",
      "source": [
        "<pre>\n",
        "# testmodule.py\n",
        "    \n",
        "import sys                # 표준 라이브러리를 임포트\n",
        "\n",
        "a = 1                     # 변수를 정의함\n",
        "b = \"some string\"\n",
        "\n",
        "def foo():                # 함수를 정의함\n",
        "    print(\"This is the function 'foo'\")\n",
        "\n",
        "print(\"this is the top level\") # 문자열을 표시함\n",
        "\n",
        "if __name__ == '__main__':\n",
        "    print(\"this is the code block\")\n",
        "\n",
        "</pre>"
      ]
    },
    {
      "metadata": {
        "id": "LMFNSf1zFh-z",
        "colab_type": "code",
        "colab": {}
      },
      "cell_type": "code",
      "source": [
        "testmodule.a         # 변수를 표시함"
      ],
      "execution_count": 0,
      "outputs": []
    },
    {
      "metadata": {
        "id": "f6xnFsNUFh-z",
        "colab_type": "code",
        "colab": {}
      },
      "cell_type": "code",
      "source": [
        "testmodule.b"
      ],
      "execution_count": 0,
      "outputs": []
    },
    {
      "metadata": {
        "id": "yGlep8fCFh-0",
        "colab_type": "code",
        "colab": {}
      },
      "cell_type": "code",
      "source": [
        "testmodule.foo()     # 함수를 호출함"
      ],
      "execution_count": 0,
      "outputs": []
    },
    {
      "metadata": {
        "id": "zmep58S4Fh-0",
        "colab_type": "code",
        "colab": {}
      },
      "cell_type": "code",
      "source": [
        "testmodule.sys.argv  # 모듈 속에서 import한 모듈을 사용함"
      ],
      "execution_count": 0,
      "outputs": []
    },
    {
      "metadata": {
        "id": "U4sViC8jFh-2",
        "colab_type": "text"
      },
      "cell_type": "markdown",
      "source": [
        "### 파일을 실행할 때만 실행하는 블록"
      ]
    },
    {
      "metadata": {
        "id": "zA1Hc24UFh-2",
        "colab_type": "code",
        "colab": {}
      },
      "cell_type": "code",
      "source": [
        "%run testmodule.py  # %run을 사용하여 모듈을 실행"
      ],
      "execution_count": 0,
      "outputs": []
    },
    {
      "metadata": {
        "id": "UBzDjMxYFh-3",
        "colab_type": "text"
      },
      "cell_type": "markdown",
      "source": [
        "### 클래스와 모듈"
      ]
    },
    {
      "metadata": {
        "id": "B1_-hm3nFh-3",
        "colab_type": "code",
        "colab": {}
      },
      "cell_type": "code",
      "source": [
        "# bookmark 모듈을 임포트 함\n",
        "import bookmark     # bookmark 모듈을 임포트 함\n",
        "# Bookmark 클래스에서 인스턴스를 만듦\n",
        "b = bookmark.Bookmark(\"타이틀\", \"http://path.to/site\")"
      ],
      "execution_count": 0,
      "outputs": []
    },
    {
      "metadata": {
        "id": "ZHPQ0GhzFh-4",
        "colab_type": "code",
        "colab": {}
      },
      "cell_type": "code",
      "source": [
        "b"
      ],
      "execution_count": 0,
      "outputs": []
    },
    {
      "metadata": {
        "id": "zF1PNWPmFh-5",
        "colab_type": "code",
        "colab": {}
      },
      "cell_type": "code",
      "source": [
        "# from문을 사용하여 Bookmark 클래스를 임포트 함\n",
        "from bookmark import Bookmark # bookmark 모듈을 임포트 함\n",
        "b2 = Bookmark(\"타이틀\", \"http://path.to/site\")"
      ],
      "execution_count": 0,
      "outputs": []
    },
    {
      "metadata": {
        "id": "wqlkvteSFh-6",
        "colab_type": "code",
        "colab": {}
      },
      "cell_type": "code",
      "source": [
        "b2"
      ],
      "execution_count": 0,
      "outputs": []
    },
    {
      "metadata": {
        "id": "KuoPoydxFh-7",
        "colab_type": "code",
        "colab": {}
      },
      "cell_type": "code",
      "source": [
        "dir(b2)"
      ],
      "execution_count": 0,
      "outputs": []
    },
    {
      "metadata": {
        "id": "O4EtWR1qFh-8",
        "colab_type": "code",
        "colab": {}
      },
      "cell_type": "code",
      "source": [
        "b2.title, b2.url"
      ],
      "execution_count": 0,
      "outputs": []
    },
    {
      "metadata": {
        "id": "333EIjwTFh--",
        "colab_type": "code",
        "colab": {}
      },
      "cell_type": "code",
      "source": [
        "# bookmark.Bookmark 클래스의 상속\n",
        "import bookmark # bookmark 모듈을 임포트 함\n",
        "\n",
        "class Blogmark(bookmark.Bookmark):\n",
        "    pass"
      ],
      "execution_count": 0,
      "outputs": []
    },
    {
      "metadata": {
        "id": "QtjKItpxFh-_",
        "colab_type": "code",
        "colab": {}
      },
      "cell_type": "code",
      "source": [
        "# from 문장을 사용하여 Bookmark 클래스를 임포트해서 상속함\n",
        "from bookmark import Bookmark # bookmark 모듈을 임포트 함\n",
        "class Blogmark(Bookmark):\n",
        "    pass"
      ],
      "execution_count": 0,
      "outputs": []
    },
    {
      "metadata": {
        "id": "cuFv_CmPFh-_",
        "colab_type": "text"
      },
      "cell_type": "markdown",
      "source": [
        "***"
      ]
    },
    {
      "metadata": {
        "id": "IPpFoapzFh_A",
        "colab_type": "text"
      },
      "cell_type": "markdown",
      "source": [
        "## [wk09] homework\n",
        "\n",
        "> 다음 Youtube 강의를 들으면서 파이썬 노트북을 만들어서 각자의 github에 올리시오.(마감: 2018.10.28. 24:00)\n",
        "\n",
        "#### 제출 파일명: Summary_class.ipynb\n"
      ]
    },
    {
      "metadata": {
        "id": "v5nrhPyTFh_A",
        "colab_type": "code",
        "colab": {}
      },
      "cell_type": "code",
      "source": [
        "from IPython.lib.display import YouTubeVideo\n",
        "YouTubeVideo('5Xy5Ju7hYo4')  # 파이썬 클래스, 예외처리, with"
      ],
      "execution_count": 0,
      "outputs": []
    },
    {
      "metadata": {
        "id": "oWPZKg9QFh_E",
        "colab_type": "text"
      },
      "cell_type": "markdown",
      "source": [
        "***"
      ]
    },
    {
      "metadata": {
        "id": "EkMKgwvDFh_E",
        "colab_type": "code",
        "colab": {}
      },
      "cell_type": "code",
      "source": [
        ""
      ],
      "execution_count": 0,
      "outputs": []
    }
  ]
}